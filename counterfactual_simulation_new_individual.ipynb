{
  "cells": [
    {
      "cell_type": "code",
      "execution_count": 1,
      "outputs": [],
      "source": [
        "#import libraries\n",
        "import torch\n",
        "import pandas as pd\n",
        "import numpy as np\n",
        "\n",
        "# Import dataset utils\n",
        "from torch.utils.data import Dataset, DataLoader\n",
        "from sklearn.model_selection import train_test_split\n",
        "\n",
        "import torch.nn as nn\n",
        "import torch.nn.functional as F\n",
        "\n",
        "import matplotlib.pyplot as plt\n",
        "\n",
        "import importlib\n",
        "if importlib.util.find_spec('ipywidgets') is not None:\n",
        "    from tqdm.auto import tqdm\n",
        "else:\n",
        "    from tqdm import tqdm\n",
        "\n",
        "import networkx as nx\n",
        "\n",
        "from typing import Union"
      ],
      "metadata": {
        "ExecuteTime": {
          "end_time": "2023-10-21T17:42:01.212958800Z",
          "start_time": "2023-10-21T17:41:48.090060400Z"
        },
        "id": "y5oHtJxwC9wG"
      }
    },
    {
      "cell_type": "code",
      "source": [
        "dataframe = pd.read_csv('/content/data.csv', sep=';')\n",
        "\n",
        "dataframe = dataframe.fillna(-1)\n",
        "dataframe['Anos educacao formal'] = dataframe['Anos educacao formal'].replace(-5, -1)\n",
        "dataframe['sexo'].replace({'M': 0, 'F': 1}, inplace=True)\n",
        "df_suic = dataframe.copy()\n",
        "df_suic = df_suic.astype(float)\n",
        "df_suic['Chave'] = df_suic.index\n",
        "df_suic.shape"
      ],
      "metadata": {
        "colab": {
          "base_uri": "https://localhost:8080/"
        },
        "id": "VI7I5bJv_2_q",
        "outputId": "45e2545c-3fa8-4ce0-fa04-53b133c6e191"
      },
      "execution_count": 2,
      "outputs": [
        {
          "output_type": "execute_result",
          "data": {
            "text/plain": [
              "(3953, 69)"
            ]
          },
          "metadata": {},
          "execution_count": 2
        }
      ]
    },
    {
      "cell_type": "code",
      "source": [
        "notears_selected = [\n",
        "    \"Suic_familia\",\n",
        "    \"Drog_familia\",\n",
        "    \"Capaz de tomar decisões importantes\",\n",
        "    \"Estudante\",\n",
        "    \"Hipocondriase\",\n",
        "    \"Sentimentos_culpa\",\n",
        "    \"Trabalho e interesses\",\n",
        "    \"Energia\",\n",
        "    \"Suicidio\",\n",
        "    \"Ansiedade\"]"
      ],
      "metadata": {
        "id": "CYXJO99bCpcb"
      },
      "execution_count": 3,
      "outputs": []
    },
    {
      "cell_type": "markdown",
      "source": [
        "# Read dataset"
      ],
      "metadata": {
        "id": "a2xJfxFDiEC1"
      }
    },
    {
      "cell_type": "code",
      "source": [
        " df_novo = pd.DataFrame(columns = [\"Suic_familia\",\n",
        "    \"Drog_familia\",\n",
        "    \"Capaz de tomar decisões importantes\",\n",
        "    \"Estudante\",\n",
        "    \"Hipocondriase\",\n",
        "    \"Sentimentos_culpa\",\n",
        "    \"Trabalho e interesses\",\n",
        "    \"Energia\",\n",
        "    \"Suicidio\",\n",
        "    \"Ansiedade\"])"
      ],
      "metadata": {
        "id": "nPY1t7HCHUeU"
      },
      "execution_count": 4,
      "outputs": []
    },
    {
      "cell_type": "markdown",
      "source": [
        "# Reading features new individual"
      ],
      "metadata": {
        "id": "fkHj-sWUiBe0"
      }
    },
    {
      "cell_type": "code",
      "source": [
        "Suic_familia = int(input(\"Suicide in the family: Enter 1 for Yes and 0 for No.\") )\n",
        "Drog_familia = int(input(\"Drugs in the family: Enter 1 for Yes and 0 for No.\") )\n",
        "Capaz_tomar_decisoes = int(input(\"CAble to make important decisions: Enter a number from 1 to 5, with 1 being low capacity and 5 being high capacity.\") )\n",
        "Estudante = int(input(\"Student: Enter 1 for Yes and 0 for No.\") )\n",
        "Hipocondriase = int(input(\"Hypochondriasis: Enter a number from 0 to 4, with 0 being no and 4 being a high level.\") )\n",
        "Sentimento_culpa = int(input(\"Feelings of guilt: Enter a number from 0 to 4, with 0 being no and 4 being high.\") )\n",
        "Trabalho_interesses = int(input(\"Work and interests: Enter a number from 0 to 4, with 0 being no and 4 being high level.\") )\n",
        "Energia = int(input(\"Energy: Enter a number from 0 to 2, with 0 being no and 2 being high level.\") )\n",
        "Suicidio = int(input(\"Suicide: Enter a number from 0 to 4, where 0 has no ideation and 4 has already made an attempt.\") )\n",
        "Ansiedade = int(input(\"Anxiety: Enter a number from 0 to 4, with 0 being no and 4 being high level.\") )"
      ],
      "metadata": {
        "id": "l0Hhc8vCHoXc",
        "colab": {
          "base_uri": "https://localhost:8080/"
        },
        "outputId": "59e36ea5-82dd-43a8-cf5c-3fd89fc81957"
      },
      "execution_count": 23,
      "outputs": [
        {
          "name": "stdout",
          "output_type": "stream",
          "text": [
            "Suicide in the family: Enter 1 for Yes and 0 for No.0\n",
            "Drugs in the family: Enter 1 for Yes and 0 for No.1\n",
            "CAble to make important decisions: Enter a number from 1 to 5, with 1 being low capacity and 5 being high capacity.2\n",
            "Student: Enter 1 for Yes and 0 for No.1\n",
            "Hypochondriasis: Enter a number from 0 to 4, with 0 being no and 4 being a high level.3\n",
            "Feelings of guilt: Enter a number from 0 to 4, with 0 being no and 4 being high.2\n",
            "Work and interests: Enter a number from 0 to 4, with 0 being no and 4 being high level.4\n",
            "Energy: Enter a number from 0 to 2, with 0 being no and 2 being high level.1\n",
            "Suicide: Enter a number from 0 to 4, where 0 has no ideation and 4 has already made an attempt.2\n",
            "Anxiety: Enter a number from 0 to 4, with 0 being no and 4 being high level.3\n"
          ]
        }
      ]
    },
    {
      "cell_type": "code",
      "source": [
        "df_novo=df_novo.append({'Suic_familia' : float(Suic_familia), 'Drog_familia' : float(Drog_familia), 'Capaz de tomar decisões importantes' : float(Capaz_tomar_decisoes), 'Estudante' : float(Estudante),\n",
        "                        'Hipocondriase' : float(Hipocondriase), 'Sentimentos_culpa' : float(Sentimento_culpa), 'Trabalho e interesses' : float(Trabalho_interesses), 'Energia' : float(Energia),\n",
        "                        'Suicidio' : float(Suicidio), 'Ansiedade': float(Ansiedade)}, ignore_index = True)"
      ],
      "metadata": {
        "id": "VtWpRYACJNW9",
        "colab": {
          "base_uri": "https://localhost:8080/"
        },
        "outputId": "49cace14-a2c9-4a93-c315-c5ffe1f39fc7"
      },
      "execution_count": 24,
      "outputs": [
        {
          "output_type": "stream",
          "name": "stderr",
          "text": [
            "<ipython-input-24-a47f35c673b8>:1: FutureWarning: The frame.append method is deprecated and will be removed from pandas in a future version. Use pandas.concat instead.\n",
            "  df_novo=df_novo.append({'Suic_familia' : float(Suic_familia), 'Drog_familia' : float(Drog_familia), 'Capaz de tomar decisões importantes' : float(Capaz_tomar_decisoes), 'Estudante' : float(Estudante),\n"
          ]
        }
      ]
    },
    {
      "cell_type": "code",
      "source": [
        "df_novo['Suic_familia'] = df_novo['Suic_familia'].astype(float)\n",
        "df_novo['Drog_familia'] = df_novo['Drog_familia'].astype(float)\n",
        "df_novo['Capaz de tomar decisões importantes'] = df_novo['Capaz de tomar decisões importantes'].astype(float)\n",
        "df_novo['Estudante'] = df_novo['Estudante'].astype(float)\n",
        "df_novo['Hipocondriase'] = df_novo['Hipocondriase'].astype(float)\n",
        "df_novo['Sentimentos_culpa'] = df_novo['Sentimentos_culpa'].astype(float)\n",
        "df_novo['Trabalho e interesses'] = df_novo['Trabalho e interesses'].astype(float)\n",
        "df_novo['Energia'] = df_novo['Energia'].astype(float)\n",
        "df_novo['Suicidio'] = df_novo['Suicidio'].astype(float)\n",
        "df_novo['Ansiedade'] = df_novo['Ansiedade'].astype(float)"
      ],
      "metadata": {
        "id": "FwjXAJ3LhWb0"
      },
      "execution_count": 25,
      "outputs": []
    },
    {
      "cell_type": "markdown",
      "source": [
        "# Create causal datasets"
      ],
      "metadata": {
        "id": "A9jdXI0dBXKb"
      }
    },
    {
      "cell_type": "code",
      "source": [
        "# Dataset from X\n",
        "class CausalDataset(Dataset):\n",
        "    def __init__(self, X, target:Union[list, int]):\n",
        "        self.X = torch.tensor(X, dtype=torch.double)\n",
        "        self.target = target\n",
        "        if isinstance(target, int):\n",
        "            self.target = [target]\n",
        "\n",
        "\n",
        "        # X is every variable except the target list\n",
        "        dims = list(range(self.X.shape[1]))\n",
        "        self.x = self.X[:, [i for i in dims if i not in self.target]]\n",
        "        self.y = self.X[:, self.target]\n",
        "\n",
        "    def __len__(self):\n",
        "        return len(self.x)\n",
        "\n",
        "    def __getitem__(self, idx):\n",
        "        return self.x[idx].double(), self.y[idx].double()"
      ],
      "metadata": {
        "id": "N_O7r6rcBUMa"
      },
      "execution_count": 26,
      "outputs": []
    },
    {
      "cell_type": "code",
      "execution_count": 27,
      "metadata": {
        "ExecuteTime": {
          "end_time": "2023-10-21T17:42:02.441242400Z",
          "start_time": "2023-10-21T17:42:02.241586800Z"
        },
        "id": "l6ndJJD9C9we"
      },
      "outputs": [],
      "source": [
        "class MLP(torch.nn.Module):\n",
        "    def __init__(self, dim_list:list, add_dropout:bool=False):\n",
        "        super(MLP, self).__init__()\n",
        "        torch.manual_seed(3)\n",
        "        self.layers = torch.nn.ModuleList()\n",
        "        for i in range(len(dim_list) - 2):\n",
        "            self.layers.append(torch.nn.Linear(dim_list[i], dim_list[i+1]))\n",
        "            self.layers.append(torch.nn.ReLU())\n",
        "            if add_dropout:\n",
        "                self.layers.append(torch.nn.Dropout(0.3))\n",
        "\n",
        "        self.layers.append(torch.nn.Linear(dim_list[-2], dim_list[-1]))\n",
        "        self.double()\n",
        "\n",
        "    def forward(self, x):\n",
        "        for layer in self.layers:\n",
        "            x = layer(x)\n",
        "        return x"
      ]
    },
    {
      "cell_type": "markdown",
      "metadata": {
        "id": "nPZsZblZC9wf"
      },
      "source": [
        "# Out train pipeline"
      ]
    },
    {
      "cell_type": "code",
      "execution_count": 28,
      "metadata": {
        "ExecuteTime": {
          "end_time": "2023-10-21T17:42:02.443249500Z",
          "start_time": "2023-10-21T17:42:02.288585100Z"
        },
        "id": "TEll4p13C9wf"
      },
      "outputs": [],
      "source": [
        "def trainPipeline(dataset, model, batch_size=64, train_split=0.8, verbose=True, max_epochs=100, patience=10, lr=0.001, weight_decay=0.0, loss_fn=nn.MSELoss()):\n",
        "    train_size = int(train_split * len(dataset))\n",
        "    test_size = len(dataset) - train_size\n",
        "    torch.manual_seed(3)\n",
        "    train_dataset, test_dataset = torch.utils.data.random_split(dataset, [train_size, test_size])\n",
        "\n",
        "    train_loader = DataLoader(train_dataset, batch_size=batch_size, shuffle=True)\n",
        "    test_loader = DataLoader(test_dataset, batch_size=batch_size, shuffle=True)\n",
        "\n",
        "    criterion = loss_fn\n",
        "    optimizer = torch.optim.Adam(model.parameters(), lr=lr, weight_decay=weight_decay)\n",
        "\n",
        "    patience = patience\n",
        "\n",
        "    train_losses = []\n",
        "    test_losses = []\n",
        "    for epoch in tqdm(range(max_epochs)):\n",
        "        train_loss = 0\n",
        "        model.train()\n",
        "        for data, target in train_loader:\n",
        "            optimizer.zero_grad()\n",
        "            output = model(data)\n",
        "            loss = criterion(output, target)\n",
        "            loss.backward()\n",
        "            optimizer.step()\n",
        "            train_loss += loss.item()\n",
        "        train_loss /= len(train_loader)\n",
        "        train_losses.append(train_loss)\n",
        "\n",
        "        test_loss = 0\n",
        "        model.eval()\n",
        "        with torch.no_grad():\n",
        "            for data, target in test_loader:\n",
        "                output = model(data)\n",
        "                loss = criterion(output, target)\n",
        "                test_loss += loss.item()\n",
        "        test_loss /= len(test_loader)\n",
        "        test_losses.append(test_loss)\n",
        "\n",
        "        if verbose:\n",
        "            print(f\"Epoch {epoch} - Train loss: {train_loss} - Test loss: {test_loss}\")\n",
        "\n",
        "        # add early stopping with patience variable\n",
        "        if epoch > 10:\n",
        "            all_patience = test_losses[-patience:]\n",
        "            test_loss = test_losses[-1]\n",
        "            if all([test_loss > x for x in all_patience]):\n",
        "                print(\"Early stopping\")\n",
        "                break\n",
        "\n",
        "    # test model on test set and calculate accuracy\n",
        "    model.eval()\n",
        "    with torch.no_grad():\n",
        "        y_pred_test = []\n",
        "        y_true_test = []\n",
        "        y_pred_train = []\n",
        "        y_true_train = []\n",
        "\n",
        "        for data, target in train_loader:\n",
        "            output = model(data)\n",
        "            y_pred_train.append(output)\n",
        "            y_true_train.append(target)\n",
        "        for data, target in test_loader:\n",
        "            output = model(data)\n",
        "            y_pred_test.append(output)\n",
        "            y_true_test.append(target)\n",
        "\n",
        "        y_pred_test = torch.cat(y_pred_test, dim=0)\n",
        "        y_true_test = torch.cat(y_true_test, dim=0)\n",
        "        y_pred_train = torch.cat(y_pred_train, dim=0)\n",
        "        y_true_train = torch.cat(y_true_train, dim=0)\n",
        "\n",
        "        train_error = torch.abs(y_pred_train - y_true_train)\n",
        "        test_error = torch.abs(y_pred_test - y_true_test)\n",
        "\n",
        "        # calculate accuracy for each target\n",
        "        test_accuracy = []\n",
        "        train_accuracy = []\n",
        "        for i in range(len(y_true_test[0])):\n",
        "            test_accuracy.append(torch.sum(test_error[:, i] < 0.5) / len(test_error))\n",
        "            train_accuracy.append(torch.sum(train_error[:, i] < 0.5) / len(train_error))\n",
        "\n",
        "        print(f\"Final Train accuracy: {train_accuracy}\")\n",
        "        print(f\"Final Test accuracy: {test_accuracy}\")\n",
        "\n",
        "    metrics = {\n",
        "        \"train_loss\": train_losses,\n",
        "        \"test_loss\": test_losses,\n",
        "        \"train_error\": train_error,\n",
        "        \"test_error\": test_error,\n",
        "        \"test_accuracy\": test_accuracy\n",
        "    }\n",
        "\n",
        "    return model, metrics\n"
      ]
    },
    {
      "cell_type": "markdown",
      "metadata": {
        "id": "HlcTn2J5C9wh"
      },
      "source": [
        "## First train one model for each target and get errors value"
      ]
    },
    {
      "cell_type": "markdown",
      "metadata": {
        "id": "Tb9OD5fIC9wi"
      },
      "source": [
        "## Now add the errors to the dataset and train the counterfactual model"
      ]
    },
    {
      "cell_type": "code",
      "execution_count": 29,
      "metadata": {
        "ExecuteTime": {
          "end_time": "2023-10-21T18:06:50.493294500Z",
          "start_time": "2023-10-21T18:06:50.317633200Z"
        },
        "id": "RBij2m5SC9wj"
      },
      "outputs": [],
      "source": [
        "# Create the counterfactual model\n",
        "\n",
        "class CounterfactualModel(torch.nn.Module):\n",
        "    def __init__(self, input_size, hidden_size, output_size):\n",
        "        super(CounterfactualModel, self).__init__()\n",
        "        self.individuality_model = MLP([input_size, hidden_size, hidden_size, hidden_size, 1], add_dropout=True)\n",
        "        self.counterfactual_model = MLP([input_size+1, hidden_size, hidden_size, hidden_size, output_size], add_dropout=True)\n",
        "\n",
        "    def individuality(self, x):\n",
        "        return self.individuality_model(x)\n",
        "\n",
        "    def counterfactual(self, x, i):\n",
        "        x = torch.cat([x, i], dim=1)\n",
        "        return self.counterfactual_model(x)\n",
        "\n",
        "    def forward(self, x):\n",
        "        i = self.individuality(x)\n",
        "        y = self.counterfactual(x, i)\n",
        "        return y"
      ]
    },
    {
      "cell_type": "markdown",
      "metadata": {
        "id": "hlbIwDzvC9wm"
      },
      "source": [
        "# Now we are going to redo everything, but with the NOTEAR features"
      ]
    },
    {
      "cell_type": "code",
      "execution_count": 30,
      "metadata": {
        "ExecuteTime": {
          "end_time": "2023-10-21T19:45:42.670133Z",
          "start_time": "2023-10-21T18:35:14.037112600Z"
        },
        "id": "G3KfWv0WC9wm",
        "colab": {
          "base_uri": "https://localhost:8080/",
          "height": 150,
          "referenced_widgets": [
            "a4abb75398094393bd945b38155b2ab9",
            "4ebeab1214c544b78659e8d54a7f0dff",
            "266bee1c40b64d33b6f4df433d77362e",
            "ea65b9e6de2c4fe2b07f1a5b4323a336",
            "dde230566e9340e88a75d9a55d186eb9",
            "ae5865c85c8e4d2c9fea8c9f12e9f376",
            "63ddbcd8bcb4455f8d27c5dbc58fc06f",
            "583a9bdf1fce46138200e8b6bbc164ba",
            "896e3cea462e4f48a85e608ba588d5d6",
            "2f49937bedf44f4f956967314739eaa2",
            "59ba29ceabc74896b04de4845f9e89ff",
            "9ddf4e9c497841dcbaad7d720892a3e4",
            "0224d9fa6eec4c1a9bff6222859c2dad",
            "81750c43b0524e2b8bc431f867b12fdd",
            "0430caf7ad7a40148672f754a0be3e1f",
            "06fdad529cc0415aac910949e8d4adc4",
            "a8fdeba5d0e544ff89c6fb8720379859",
            "1af29a386d7a482da4d908aad39c3934",
            "3ce0affcfd1d40a9851ffafa725d35dc",
            "89bcd99e0598488dac012aa5603a6ea2",
            "4548f015618d49688189ef4fe77c4827",
            "10640b77ae4a4e89b89f99f867daa6ae"
          ]
        },
        "outputId": "eec62e4d-17ee-4533-aed7-476312e237b4"
      },
      "outputs": [
        {
          "output_type": "display_data",
          "data": {
            "text/plain": [
              "  0%|          | 0/1000 [00:00<?, ?it/s]"
            ],
            "application/vnd.jupyter.widget-view+json": {
              "version_major": 2,
              "version_minor": 0,
              "model_id": "a4abb75398094393bd945b38155b2ab9"
            }
          },
          "metadata": {}
        },
        {
          "output_type": "stream",
          "name": "stdout",
          "text": [
            "Final Train accuracy: [tensor(0.5057)]\n",
            "Final Test accuracy: [tensor(0.4134)]\n"
          ]
        },
        {
          "output_type": "display_data",
          "data": {
            "text/plain": [
              "  0%|          | 0/1000 [00:00<?, ?it/s]"
            ],
            "application/vnd.jupyter.widget-view+json": {
              "version_major": 2,
              "version_minor": 0,
              "model_id": "9ddf4e9c497841dcbaad7d720892a3e4"
            }
          },
          "metadata": {}
        },
        {
          "output_type": "stream",
          "name": "stdout",
          "text": [
            "Final Train accuracy: [tensor(0.5307)]\n",
            "Final Test accuracy: [tensor(0.4804)]\n"
          ]
        }
      ],
      "source": [
        "df_suic_notears = df_suic.copy()\n",
        "df_suic_notears = df_suic_notears[notears_selected]\n",
        "df_suic_notears=pd.concat([df_suic_notears,df_novo], ignore_index=True)\n",
        "\n",
        "# Create models for each target\n",
        "targets = [\"Suicidio\", \"Ansiedade\"]\n",
        "targets_idx = [df_suic_notears.columns.get_loc(c) for c in targets]\n",
        "\n",
        "# Create the dataset\n",
        "notears_suic_dataset = CausalDataset(df_suic_notears.values, targets_idx[0])\n",
        "notears_anx_dataset = CausalDataset(df_suic_notears.values, targets_idx[1])\n",
        "sample_x, sample_y = notears_suic_dataset[0]\n",
        "\n",
        "# Now we predict the targets with a MLP\n",
        "suic_causal_model = MLP([sample_x.shape[0], 64, 64, 64, 1], add_dropout=True)\n",
        "anx_causal_model = MLP([sample_x.shape[0], 64, 64, 64, 1], add_dropout=True)\n",
        "\n",
        "suic_causal_model, suic_causal_metrics = trainPipeline(notears_suic_dataset, suic_causal_model, verbose=False, max_epochs=1000, weight_decay=1e-5)\n",
        "anx_causal_model, anx_causal_metrics = trainPipeline(notears_anx_dataset, anx_causal_model, verbose=False, max_epochs=1000, weight_decay=1e-5)\n",
        "\n"
      ]
    },
    {
      "cell_type": "code",
      "execution_count": 31,
      "metadata": {
        "ExecuteTime": {
          "end_time": "2023-10-21T20:49:41.814498400Z",
          "start_time": "2023-10-21T19:45:42.701133300Z"
        },
        "id": "-hEM_RE-C9wn",
        "colab": {
          "base_uri": "https://localhost:8080/",
          "height": 84,
          "referenced_widgets": [
            "515532855a6f45239e81e7d9b291e5ac",
            "615a4b4cdbcb4e88bf2bd2f7d46adfc2",
            "2315616677e341a18e9e177099532204",
            "d81085af7458475f9f34783abb18f805",
            "031819be65094f88961bf42532c40c2f",
            "2963f78ac58c406687bce440883dc047",
            "963c174e090644ebb9a836f1d3457e09",
            "baa222389fc04d7a8e95aa2e80341ac3",
            "4cd0c12b4ac54c7b9bf15df065024abe",
            "6629d562c5f04bd7829ca2c3c847be0f",
            "6792f057335f4fd8bab3b32e22c8363d"
          ]
        },
        "outputId": "06766129-2cd0-4698-c2c0-87d49c2a84f9"
      },
      "outputs": [
        {
          "output_type": "display_data",
          "data": {
            "text/plain": [
              "  0%|          | 0/1000 [00:00<?, ?it/s]"
            ],
            "application/vnd.jupyter.widget-view+json": {
              "version_major": 2,
              "version_minor": 0,
              "model_id": "515532855a6f45239e81e7d9b291e5ac"
            }
          },
          "metadata": {}
        },
        {
          "output_type": "stream",
          "name": "stdout",
          "text": [
            "Final Train accuracy: [tensor(0.8227), tensor(0.7453)]\n",
            "Final Test accuracy: [tensor(0.7547), tensor(0.6713)]\n"
          ]
        }
      ],
      "source": [
        "# calculate errors\n",
        "suic_causal_erros = []\n",
        "anx_causal_erros = []\n",
        "with torch.no_grad():\n",
        "    for data, y_true in notears_suic_dataset:\n",
        "        y_pred = suic_causal_model(data)\n",
        "        error = torch.abs(y_pred - y_true).item()\n",
        "        suic_causal_erros.append(error)\n",
        "    for data, y_true in notears_anx_dataset:\n",
        "        y_pred = anx_causal_model(data)\n",
        "        error = torch.abs(y_pred - y_true).item()\n",
        "        anx_causal_erros.append(error)\n",
        "\n",
        "suic_causal_erros = np.array(suic_causal_erros)\n",
        "anx_causal_erros = np.array(anx_causal_erros)\n",
        "\n",
        "# add errors to the dataframe\n",
        "df_suic_notears_with_errors = df_suic_notears.copy()\n",
        "df_suic_notears_with_errors[\"Suicidio_error\"] = suic_causal_erros\n",
        "df_suic_notears_with_errors[\"Ansiedade_error\"] = anx_causal_erros\n",
        "\n",
        "# create the causal dataset with the errors\n",
        "targets_idx = [df_suic_notears_with_errors.columns.get_loc(c) for c in targets]\n",
        "notears_causal_dataset_error = CausalDataset(df_suic_notears_with_errors.values, targets_idx)\n",
        "sample_x, sample_y = notears_causal_dataset_error[0]\n",
        "\n",
        "# create the counterfactual model\n",
        "causal_cf_model = CounterfactualModel(sample_x.shape[0], 64, sample_y.shape[0])\n",
        "\n",
        "# train the counterfactual model\n",
        "causal_cf_model, causal_cf_metrics = trainPipeline(notears_causal_dataset_error, causal_cf_model, verbose=False, max_epochs=1000, weight_decay=1e-5)\n"
      ]
    },
    {
      "cell_type": "code",
      "source": [
        "# Load the dataset\n",
        "targets = [\"Suicidio\", \"Ansiedade\"]\n",
        "df = df_suic_notears_with_errors\n",
        "# print available columns\n",
        "# print possible values for each column\n",
        "for col in df.columns:\n",
        "    if \"error\" not in col:\n",
        "        print(f\"{col}: {sorted(df[col].unique())}\")\n",
        "\n",
        "# load models\n",
        "counterfact = causal_cf_model\n",
        "counterfact = counterfact.eval()"
      ],
      "metadata": {
        "id": "6QrdW6pOUzHP",
        "colab": {
          "base_uri": "https://localhost:8080/"
        },
        "outputId": "5612ae2f-c156-43c6-e638-148a3102122f"
      },
      "execution_count": 32,
      "outputs": [
        {
          "output_type": "stream",
          "name": "stdout",
          "text": [
            "Suic_familia: [0.0, 1.0]\n",
            "Drog_familia: [0.0, 1.0]\n",
            "Capaz de tomar decisões importantes: [-1.0, 1.0, 2.0, 3.0, 4.0, 5.0]\n",
            "Estudante: [-1.0, 0.0, 0.5, 1.0]\n",
            "Hipocondriase: [-1.0, 0.0, 1.0, 2.0, 3.0, 4.0]\n",
            "Sentimentos_culpa: [-1.0, 0.0, 1.0, 2.0, 3.0, 4.0]\n",
            "Trabalho e interesses: [-1.0, 0.0, 1.0, 2.0, 3.0, 4.0]\n",
            "Energia: [-1.0, 0.0, 1.0, 2.0]\n",
            "Suicidio: [-1.0, 0.0, 1.0, 2.0, 3.0, 4.0]\n",
            "Ansiedade: [-1.0, 0.0, 1.0, 2.0, 3.0, 4.0]\n"
          ]
        }
      ]
    },
    {
      "cell_type": "markdown",
      "metadata": {
        "id": "TfUh9_BWC9yW"
      },
      "source": [
        "# Initial prediction"
      ]
    },
    {
      "cell_type": "code",
      "source": [
        "def contrafactual(df):\n",
        "  df_suic_notears_with_errors = df\n",
        "  # Select two individuals\n",
        "  dataset = CausalDataset(df_suic_notears_with_errors.values, [df.columns.get_loc(c) for c in targets])\n",
        "\n",
        "  idx = [0,3953]\n",
        "\n",
        "  data1, y1 = dataset[idx[0]]\n",
        "  data2, y2 = dataset[idx[1]]\n",
        "\n",
        "  # predict the counterfactuals for crossed individuals\n",
        "  with torch.no_grad():\n",
        "      i1 = counterfact.individuality(data1.unsqueeze(0))\n",
        "      i2 = counterfact.individuality(data2.unsqueeze(0))\n",
        "\n",
        "      cf11 = counterfact.counterfactual(data1.unsqueeze(0), i1)\n",
        "      cf12 = counterfact.counterfactual(data2.unsqueeze(0), i2)\n",
        "\n",
        "      print(f\"Counterfactual Suicide: {cf12.squeeze(0).round().numpy().tolist()[0]}\")\n",
        "      print()"
      ],
      "metadata": {
        "id": "nOkuKE4OQrcZ"
      },
      "execution_count": 33,
      "outputs": []
    },
    {
      "cell_type": "code",
      "source": [
        "print('Initial prediction')\n",
        "contrafactual(df_suic_notears_with_errors)"
      ],
      "metadata": {
        "id": "ZvL-ZV0DhKFk",
        "colab": {
          "base_uri": "https://localhost:8080/"
        },
        "outputId": "d2754471-b964-4819-b3d4-df181cb7766e"
      },
      "execution_count": 34,
      "outputs": [
        {
          "output_type": "stream",
          "name": "stdout",
          "text": [
            "Initial prediction\n",
            "Counterfactual Suicide: 2.0\n",
            "\n"
          ]
        }
      ]
    },
    {
      "cell_type": "markdown",
      "source": [
        "# Counterfactual simulations"
      ],
      "metadata": {
        "id": "o9T71QJ9igRT"
      }
    },
    {
      "cell_type": "code",
      "source": [
        "print('Enter the value indicated according to the feature you want to modify')"
      ],
      "metadata": {
        "id": "Bo6mVPkRyiqi",
        "colab": {
          "base_uri": "https://localhost:8080/"
        },
        "outputId": "1b84c8ef-c7fb-4229-da36-56897a68d74d"
      },
      "execution_count": 35,
      "outputs": [
        {
          "output_type": "stream",
          "name": "stdout",
          "text": [
            "Enter the value indicated according to the feature you want to modify\n"
          ]
        }
      ]
    },
    {
      "cell_type": "code",
      "source": [
        "def alter_feature(df,Variavel,valor):\n",
        "  df_suic_notears_with_errors = df\n",
        "  if Variavel == '1':\n",
        "    df_suic_notears_with_errors['Suic_familia'].loc[(df_suic_notears_with_errors.index==3953)] = float(Valor)\n",
        "    print('Suicide in the family')\n",
        "  elif Variavel == '2':\n",
        "    df_suic_notears_with_errors['Drog_familia'].loc[(df_suic_notears_with_errors.index==3953)] = float(Valor)\n",
        "    print('Drugs in the family')\n",
        "  elif Variavel == '3':\n",
        "    df_suic_notears_with_errors['Capaz de tomar decisões importantes'].loc[(df_suic_notears_with_errors.index==3953)] = float(Valor)\n",
        "    print('Able to make important decisions')\n",
        "  elif Variavel == '4':\n",
        "    df_suic_notears_with_errors['Estudante'].loc[(df_suic_notears_with_errors.index==3953)] = float(Valor)\n",
        "    print('Student')\n",
        "  elif Variavel == '5':\n",
        "    df_suic_notears_with_errors['Hipocondriase'].loc[(df_suic_notears_with_errors.index==3953)] = float(Valor)\n",
        "    print('Hipocondriase')\n",
        "  elif Variavel == '6':\n",
        "    df_suic_notears_with_errors['Sentimentos_culpa'].loc[(df_suic_notears_with_errors.index==3953)] = float(Valor)\n",
        "    print('Feelings of guilt')\n",
        "  elif Variavel == '7':\n",
        "    df_suic_notears_with_errors['Trabalho e interesses'].loc[(df_suic_notears_with_errors.index==3953)] = float(Valor)\n",
        "    print('Work and interests')\n",
        "  elif Variavel == '8':\n",
        "    df_suic_notears_with_errors['Energia'].loc[(df_suic_notears_with_errors.index==3953)] = float(Valor)\n",
        "    print('Energy')\n",
        "  else:\n",
        "    df_suic_notears_with_errors['Ansiedade'].loc[(df_suic_notears_with_errors.index==3953)] = float(Valor)\n",
        "    print('Anxiety')\n",
        "  return df_suic_notears_with_errors"
      ],
      "metadata": {
        "id": "fFa2P198SfOr"
      },
      "execution_count": 36,
      "outputs": []
    },
    {
      "cell_type": "code",
      "execution_count": 38,
      "outputs": [
        {
          "output_type": "stream",
          "name": "stdout",
          "text": [
            "Enter the value indicated according to the feature you want to modify\n",
            "1 Suicide in the family, 2 Drugs in the family, 3 Able to make important decisions, 4 Student, 5 Hypochondriasis, 6 Feelings of guilt, 7 Work and interests, 8 Energy and 9 Anxiety3\n",
            "Enter the new value0\n",
            "Able to make important decisions\n",
            "Counterfactual Suicide: 2.0\n",
            "\n",
            "Do you want to run a new simulation? Enter 1 for Yes and 0 for No1\n",
            "Enter the value indicated according to the feature you want to modify\n",
            "1 Suicide in the family, 2 Drugs in the family, 3 Able to make important decisions, 4 Student, 5 Hypochondriasis, 6 Feelings of guilt, 7 Work and interests, 8 Energy and 9 Anxiety7\n",
            "Enter the new value0\n",
            "Work and interests\n",
            "Counterfactual Suicide: 2.0\n",
            "\n",
            "Do you want to run a new simulation? Enter 1 for Yes and 0 for No1\n",
            "Enter the value indicated according to the feature you want to modify\n",
            "1 Suicide in the family, 2 Drugs in the family, 3 Able to make important decisions, 4 Student, 5 Hypochondriasis, 6 Feelings of guilt, 7 Work and interests, 8 Energy and 9 Anxiety3\n",
            "Enter the new value5\n",
            "Able to make important decisions\n",
            "Counterfactual Suicide: 3.0\n",
            "\n",
            "Do you want to run a new simulation? Enter 1 for Yes and 0 for No1\n",
            "Enter the value indicated according to the feature you want to modify\n",
            "1 Suicide in the family, 2 Drugs in the family, 3 Able to make important decisions, 4 Student, 5 Hypochondriasis, 6 Feelings of guilt, 7 Work and interests, 8 Energy and 9 Anxiety9\n",
            "Enter the new value4\n",
            "Anxiety\n",
            "Counterfactual Suicide: 2.0\n",
            "\n",
            "Do you want to run a new simulation? Enter 1 for Yes and 0 for No1\n",
            "Enter the value indicated according to the feature you want to modify\n",
            "1 Suicide in the family, 2 Drugs in the family, 3 Able to make important decisions, 4 Student, 5 Hypochondriasis, 6 Feelings of guilt, 7 Work and interests, 8 Energy and 9 Anxiety5\n",
            "Enter the new value4\n",
            "Hipocondriase\n",
            "Counterfactual Suicide: 2.0\n",
            "\n",
            "Do you want to run a new simulation? Enter 1 for Yes and 0 for No1\n",
            "Enter the value indicated according to the feature you want to modify\n",
            "1 Suicide in the family, 2 Drugs in the family, 3 Able to make important decisions, 4 Student, 5 Hypochondriasis, 6 Feelings of guilt, 7 Work and interests, 8 Energy and 9 Anxiety6\n",
            "Enter the new value0\n",
            "Feelings of guilt\n",
            "Counterfactual Suicide: 2.0\n",
            "\n",
            "Do you want to run a new simulation? Enter 1 for Yes and 0 for No1\n",
            "Enter the value indicated according to the feature you want to modify\n",
            "1 Suicide in the family, 2 Drugs in the family, 3 Able to make important decisions, 4 Student, 5 Hypochondriasis, 6 Feelings of guilt, 7 Work and interests, 8 Energy and 9 Anxiety6\n",
            "Enter the new value4\n",
            "Feelings of guilt\n",
            "Counterfactual Suicide: 2.0\n",
            "\n",
            "Do you want to run a new simulation? Enter 1 for Yes and 0 for No1\n",
            "Enter the value indicated according to the feature you want to modify\n",
            "1 Suicide in the family, 2 Drugs in the family, 3 Able to make important decisions, 4 Student, 5 Hypochondriasis, 6 Feelings of guilt, 7 Work and interests, 8 Energy and 9 Anxiety7\n",
            "Enter the new value0\n",
            "Work and interests\n",
            "Counterfactual Suicide: 2.0\n",
            "\n",
            "Enter the value indicated according to the feature you want to modify\n",
            "1 Suicide in the family, 2 Drugs in the family, 3 Able to make important decisions, 4 Student, 5 Hypochondriasis, 6 Feelings of guilt, 7 Work and interests, 8 Energy and 9 Anxiety1\n",
            "Enter the new value1\n",
            "Suicide in the family\n",
            "Counterfactual Suicide: 2.0\n",
            "\n"
          ]
        }
      ],
      "source": [
        "for i in range(0,9):\n",
        "  df_simula = df_suic_notears_with_errors.copy()\n",
        "  print('Enter the value indicated according to the feature you want to modify')\n",
        "  Variavel = input(\"1 Suicide in the family, 2 Drugs in the family, 3 Able to make important decisions, 4 Student, 5 Hypochondriasis, 6 Feelings of guilt, 7 Work and interests, 8 Energy and 9 Anxiety\")\n",
        "  Valor = input(\"Enter the new value\")\n",
        "  df_simula = alter_feature(df_simula, Variavel, Valor)\n",
        "  contrafactual(df_simula)\n",
        "  if i<7:\n",
        "    simulacao = input(\"Do you want to run a new simulation? Enter 1 for Yes and 0 for No\")\n",
        "    if simulacao=='0':\n",
        "      break"
      ],
      "metadata": {
        "is_executing": true,
        "id": "AMweNmwfC9ys",
        "colab": {
          "base_uri": "https://localhost:8080/"
        },
        "outputId": "84bb3e1a-8f40-47e0-8aea-791db7ebac98"
      }
    }
  ],
  "metadata": {
    "kernelspec": {
      "display_name": "cml",
      "language": "python",
      "name": "python3"
    },
    "language_info": {
      "codemirror_mode": {
        "name": "ipython",
        "version": 3
      },
      "file_extension": ".py",
      "mimetype": "text/x-python",
      "name": "python",
      "nbconvert_exporter": "python",
      "pygments_lexer": "ipython3",
      "version": "3.8.13"
    },
    "vscode": {
      "interpreter": {
        "hash": "71f78216db5cb2f09350fda35ad9d9668a66a927586f044b9adeddeb17c1df4d"
      }
    },
    "colab": {
      "provenance": []
    },
    "widgets": {
      "application/vnd.jupyter.widget-state+json": {
        "a4abb75398094393bd945b38155b2ab9": {
          "model_module": "@jupyter-widgets/controls",
          "model_name": "HBoxModel",
          "model_module_version": "1.5.0",
          "state": {
            "_dom_classes": [],
            "_model_module": "@jupyter-widgets/controls",
            "_model_module_version": "1.5.0",
            "_model_name": "HBoxModel",
            "_view_count": null,
            "_view_module": "@jupyter-widgets/controls",
            "_view_module_version": "1.5.0",
            "_view_name": "HBoxView",
            "box_style": "",
            "children": [
              "IPY_MODEL_4ebeab1214c544b78659e8d54a7f0dff",
              "IPY_MODEL_266bee1c40b64d33b6f4df433d77362e",
              "IPY_MODEL_ea65b9e6de2c4fe2b07f1a5b4323a336"
            ],
            "layout": "IPY_MODEL_dde230566e9340e88a75d9a55d186eb9"
          }
        },
        "4ebeab1214c544b78659e8d54a7f0dff": {
          "model_module": "@jupyter-widgets/controls",
          "model_name": "HTMLModel",
          "model_module_version": "1.5.0",
          "state": {
            "_dom_classes": [],
            "_model_module": "@jupyter-widgets/controls",
            "_model_module_version": "1.5.0",
            "_model_name": "HTMLModel",
            "_view_count": null,
            "_view_module": "@jupyter-widgets/controls",
            "_view_module_version": "1.5.0",
            "_view_name": "HTMLView",
            "description": "",
            "description_tooltip": null,
            "layout": "IPY_MODEL_ae5865c85c8e4d2c9fea8c9f12e9f376",
            "placeholder": "​",
            "style": "IPY_MODEL_63ddbcd8bcb4455f8d27c5dbc58fc06f",
            "value": "100%"
          }
        },
        "266bee1c40b64d33b6f4df433d77362e": {
          "model_module": "@jupyter-widgets/controls",
          "model_name": "FloatProgressModel",
          "model_module_version": "1.5.0",
          "state": {
            "_dom_classes": [],
            "_model_module": "@jupyter-widgets/controls",
            "_model_module_version": "1.5.0",
            "_model_name": "FloatProgressModel",
            "_view_count": null,
            "_view_module": "@jupyter-widgets/controls",
            "_view_module_version": "1.5.0",
            "_view_name": "ProgressView",
            "bar_style": "success",
            "description": "",
            "description_tooltip": null,
            "layout": "IPY_MODEL_583a9bdf1fce46138200e8b6bbc164ba",
            "max": 1000,
            "min": 0,
            "orientation": "horizontal",
            "style": "IPY_MODEL_896e3cea462e4f48a85e608ba588d5d6",
            "value": 1000
          }
        },
        "ea65b9e6de2c4fe2b07f1a5b4323a336": {
          "model_module": "@jupyter-widgets/controls",
          "model_name": "HTMLModel",
          "model_module_version": "1.5.0",
          "state": {
            "_dom_classes": [],
            "_model_module": "@jupyter-widgets/controls",
            "_model_module_version": "1.5.0",
            "_model_name": "HTMLModel",
            "_view_count": null,
            "_view_module": "@jupyter-widgets/controls",
            "_view_module_version": "1.5.0",
            "_view_name": "HTMLView",
            "description": "",
            "description_tooltip": null,
            "layout": "IPY_MODEL_2f49937bedf44f4f956967314739eaa2",
            "placeholder": "​",
            "style": "IPY_MODEL_59ba29ceabc74896b04de4845f9e89ff",
            "value": " 1000/1000 [02:53&lt;00:00,  6.15it/s]"
          }
        },
        "dde230566e9340e88a75d9a55d186eb9": {
          "model_module": "@jupyter-widgets/base",
          "model_name": "LayoutModel",
          "model_module_version": "1.2.0",
          "state": {
            "_model_module": "@jupyter-widgets/base",
            "_model_module_version": "1.2.0",
            "_model_name": "LayoutModel",
            "_view_count": null,
            "_view_module": "@jupyter-widgets/base",
            "_view_module_version": "1.2.0",
            "_view_name": "LayoutView",
            "align_content": null,
            "align_items": null,
            "align_self": null,
            "border": null,
            "bottom": null,
            "display": null,
            "flex": null,
            "flex_flow": null,
            "grid_area": null,
            "grid_auto_columns": null,
            "grid_auto_flow": null,
            "grid_auto_rows": null,
            "grid_column": null,
            "grid_gap": null,
            "grid_row": null,
            "grid_template_areas": null,
            "grid_template_columns": null,
            "grid_template_rows": null,
            "height": null,
            "justify_content": null,
            "justify_items": null,
            "left": null,
            "margin": null,
            "max_height": null,
            "max_width": null,
            "min_height": null,
            "min_width": null,
            "object_fit": null,
            "object_position": null,
            "order": null,
            "overflow": null,
            "overflow_x": null,
            "overflow_y": null,
            "padding": null,
            "right": null,
            "top": null,
            "visibility": null,
            "width": null
          }
        },
        "ae5865c85c8e4d2c9fea8c9f12e9f376": {
          "model_module": "@jupyter-widgets/base",
          "model_name": "LayoutModel",
          "model_module_version": "1.2.0",
          "state": {
            "_model_module": "@jupyter-widgets/base",
            "_model_module_version": "1.2.0",
            "_model_name": "LayoutModel",
            "_view_count": null,
            "_view_module": "@jupyter-widgets/base",
            "_view_module_version": "1.2.0",
            "_view_name": "LayoutView",
            "align_content": null,
            "align_items": null,
            "align_self": null,
            "border": null,
            "bottom": null,
            "display": null,
            "flex": null,
            "flex_flow": null,
            "grid_area": null,
            "grid_auto_columns": null,
            "grid_auto_flow": null,
            "grid_auto_rows": null,
            "grid_column": null,
            "grid_gap": null,
            "grid_row": null,
            "grid_template_areas": null,
            "grid_template_columns": null,
            "grid_template_rows": null,
            "height": null,
            "justify_content": null,
            "justify_items": null,
            "left": null,
            "margin": null,
            "max_height": null,
            "max_width": null,
            "min_height": null,
            "min_width": null,
            "object_fit": null,
            "object_position": null,
            "order": null,
            "overflow": null,
            "overflow_x": null,
            "overflow_y": null,
            "padding": null,
            "right": null,
            "top": null,
            "visibility": null,
            "width": null
          }
        },
        "63ddbcd8bcb4455f8d27c5dbc58fc06f": {
          "model_module": "@jupyter-widgets/controls",
          "model_name": "DescriptionStyleModel",
          "model_module_version": "1.5.0",
          "state": {
            "_model_module": "@jupyter-widgets/controls",
            "_model_module_version": "1.5.0",
            "_model_name": "DescriptionStyleModel",
            "_view_count": null,
            "_view_module": "@jupyter-widgets/base",
            "_view_module_version": "1.2.0",
            "_view_name": "StyleView",
            "description_width": ""
          }
        },
        "583a9bdf1fce46138200e8b6bbc164ba": {
          "model_module": "@jupyter-widgets/base",
          "model_name": "LayoutModel",
          "model_module_version": "1.2.0",
          "state": {
            "_model_module": "@jupyter-widgets/base",
            "_model_module_version": "1.2.0",
            "_model_name": "LayoutModel",
            "_view_count": null,
            "_view_module": "@jupyter-widgets/base",
            "_view_module_version": "1.2.0",
            "_view_name": "LayoutView",
            "align_content": null,
            "align_items": null,
            "align_self": null,
            "border": null,
            "bottom": null,
            "display": null,
            "flex": null,
            "flex_flow": null,
            "grid_area": null,
            "grid_auto_columns": null,
            "grid_auto_flow": null,
            "grid_auto_rows": null,
            "grid_column": null,
            "grid_gap": null,
            "grid_row": null,
            "grid_template_areas": null,
            "grid_template_columns": null,
            "grid_template_rows": null,
            "height": null,
            "justify_content": null,
            "justify_items": null,
            "left": null,
            "margin": null,
            "max_height": null,
            "max_width": null,
            "min_height": null,
            "min_width": null,
            "object_fit": null,
            "object_position": null,
            "order": null,
            "overflow": null,
            "overflow_x": null,
            "overflow_y": null,
            "padding": null,
            "right": null,
            "top": null,
            "visibility": null,
            "width": null
          }
        },
        "896e3cea462e4f48a85e608ba588d5d6": {
          "model_module": "@jupyter-widgets/controls",
          "model_name": "ProgressStyleModel",
          "model_module_version": "1.5.0",
          "state": {
            "_model_module": "@jupyter-widgets/controls",
            "_model_module_version": "1.5.0",
            "_model_name": "ProgressStyleModel",
            "_view_count": null,
            "_view_module": "@jupyter-widgets/base",
            "_view_module_version": "1.2.0",
            "_view_name": "StyleView",
            "bar_color": null,
            "description_width": ""
          }
        },
        "2f49937bedf44f4f956967314739eaa2": {
          "model_module": "@jupyter-widgets/base",
          "model_name": "LayoutModel",
          "model_module_version": "1.2.0",
          "state": {
            "_model_module": "@jupyter-widgets/base",
            "_model_module_version": "1.2.0",
            "_model_name": "LayoutModel",
            "_view_count": null,
            "_view_module": "@jupyter-widgets/base",
            "_view_module_version": "1.2.0",
            "_view_name": "LayoutView",
            "align_content": null,
            "align_items": null,
            "align_self": null,
            "border": null,
            "bottom": null,
            "display": null,
            "flex": null,
            "flex_flow": null,
            "grid_area": null,
            "grid_auto_columns": null,
            "grid_auto_flow": null,
            "grid_auto_rows": null,
            "grid_column": null,
            "grid_gap": null,
            "grid_row": null,
            "grid_template_areas": null,
            "grid_template_columns": null,
            "grid_template_rows": null,
            "height": null,
            "justify_content": null,
            "justify_items": null,
            "left": null,
            "margin": null,
            "max_height": null,
            "max_width": null,
            "min_height": null,
            "min_width": null,
            "object_fit": null,
            "object_position": null,
            "order": null,
            "overflow": null,
            "overflow_x": null,
            "overflow_y": null,
            "padding": null,
            "right": null,
            "top": null,
            "visibility": null,
            "width": null
          }
        },
        "59ba29ceabc74896b04de4845f9e89ff": {
          "model_module": "@jupyter-widgets/controls",
          "model_name": "DescriptionStyleModel",
          "model_module_version": "1.5.0",
          "state": {
            "_model_module": "@jupyter-widgets/controls",
            "_model_module_version": "1.5.0",
            "_model_name": "DescriptionStyleModel",
            "_view_count": null,
            "_view_module": "@jupyter-widgets/base",
            "_view_module_version": "1.2.0",
            "_view_name": "StyleView",
            "description_width": ""
          }
        },
        "9ddf4e9c497841dcbaad7d720892a3e4": {
          "model_module": "@jupyter-widgets/controls",
          "model_name": "HBoxModel",
          "model_module_version": "1.5.0",
          "state": {
            "_dom_classes": [],
            "_model_module": "@jupyter-widgets/controls",
            "_model_module_version": "1.5.0",
            "_model_name": "HBoxModel",
            "_view_count": null,
            "_view_module": "@jupyter-widgets/controls",
            "_view_module_version": "1.5.0",
            "_view_name": "HBoxView",
            "box_style": "",
            "children": [
              "IPY_MODEL_0224d9fa6eec4c1a9bff6222859c2dad",
              "IPY_MODEL_81750c43b0524e2b8bc431f867b12fdd",
              "IPY_MODEL_0430caf7ad7a40148672f754a0be3e1f"
            ],
            "layout": "IPY_MODEL_06fdad529cc0415aac910949e8d4adc4"
          }
        },
        "0224d9fa6eec4c1a9bff6222859c2dad": {
          "model_module": "@jupyter-widgets/controls",
          "model_name": "HTMLModel",
          "model_module_version": "1.5.0",
          "state": {
            "_dom_classes": [],
            "_model_module": "@jupyter-widgets/controls",
            "_model_module_version": "1.5.0",
            "_model_name": "HTMLModel",
            "_view_count": null,
            "_view_module": "@jupyter-widgets/controls",
            "_view_module_version": "1.5.0",
            "_view_name": "HTMLView",
            "description": "",
            "description_tooltip": null,
            "layout": "IPY_MODEL_a8fdeba5d0e544ff89c6fb8720379859",
            "placeholder": "​",
            "style": "IPY_MODEL_1af29a386d7a482da4d908aad39c3934",
            "value": "100%"
          }
        },
        "81750c43b0524e2b8bc431f867b12fdd": {
          "model_module": "@jupyter-widgets/controls",
          "model_name": "FloatProgressModel",
          "model_module_version": "1.5.0",
          "state": {
            "_dom_classes": [],
            "_model_module": "@jupyter-widgets/controls",
            "_model_module_version": "1.5.0",
            "_model_name": "FloatProgressModel",
            "_view_count": null,
            "_view_module": "@jupyter-widgets/controls",
            "_view_module_version": "1.5.0",
            "_view_name": "ProgressView",
            "bar_style": "success",
            "description": "",
            "description_tooltip": null,
            "layout": "IPY_MODEL_3ce0affcfd1d40a9851ffafa725d35dc",
            "max": 1000,
            "min": 0,
            "orientation": "horizontal",
            "style": "IPY_MODEL_89bcd99e0598488dac012aa5603a6ea2",
            "value": 1000
          }
        },
        "0430caf7ad7a40148672f754a0be3e1f": {
          "model_module": "@jupyter-widgets/controls",
          "model_name": "HTMLModel",
          "model_module_version": "1.5.0",
          "state": {
            "_dom_classes": [],
            "_model_module": "@jupyter-widgets/controls",
            "_model_module_version": "1.5.0",
            "_model_name": "HTMLModel",
            "_view_count": null,
            "_view_module": "@jupyter-widgets/controls",
            "_view_module_version": "1.5.0",
            "_view_name": "HTMLView",
            "description": "",
            "description_tooltip": null,
            "layout": "IPY_MODEL_4548f015618d49688189ef4fe77c4827",
            "placeholder": "​",
            "style": "IPY_MODEL_10640b77ae4a4e89b89f99f867daa6ae",
            "value": " 1000/1000 [02:51&lt;00:00,  6.21it/s]"
          }
        },
        "06fdad529cc0415aac910949e8d4adc4": {
          "model_module": "@jupyter-widgets/base",
          "model_name": "LayoutModel",
          "model_module_version": "1.2.0",
          "state": {
            "_model_module": "@jupyter-widgets/base",
            "_model_module_version": "1.2.0",
            "_model_name": "LayoutModel",
            "_view_count": null,
            "_view_module": "@jupyter-widgets/base",
            "_view_module_version": "1.2.0",
            "_view_name": "LayoutView",
            "align_content": null,
            "align_items": null,
            "align_self": null,
            "border": null,
            "bottom": null,
            "display": null,
            "flex": null,
            "flex_flow": null,
            "grid_area": null,
            "grid_auto_columns": null,
            "grid_auto_flow": null,
            "grid_auto_rows": null,
            "grid_column": null,
            "grid_gap": null,
            "grid_row": null,
            "grid_template_areas": null,
            "grid_template_columns": null,
            "grid_template_rows": null,
            "height": null,
            "justify_content": null,
            "justify_items": null,
            "left": null,
            "margin": null,
            "max_height": null,
            "max_width": null,
            "min_height": null,
            "min_width": null,
            "object_fit": null,
            "object_position": null,
            "order": null,
            "overflow": null,
            "overflow_x": null,
            "overflow_y": null,
            "padding": null,
            "right": null,
            "top": null,
            "visibility": null,
            "width": null
          }
        },
        "a8fdeba5d0e544ff89c6fb8720379859": {
          "model_module": "@jupyter-widgets/base",
          "model_name": "LayoutModel",
          "model_module_version": "1.2.0",
          "state": {
            "_model_module": "@jupyter-widgets/base",
            "_model_module_version": "1.2.0",
            "_model_name": "LayoutModel",
            "_view_count": null,
            "_view_module": "@jupyter-widgets/base",
            "_view_module_version": "1.2.0",
            "_view_name": "LayoutView",
            "align_content": null,
            "align_items": null,
            "align_self": null,
            "border": null,
            "bottom": null,
            "display": null,
            "flex": null,
            "flex_flow": null,
            "grid_area": null,
            "grid_auto_columns": null,
            "grid_auto_flow": null,
            "grid_auto_rows": null,
            "grid_column": null,
            "grid_gap": null,
            "grid_row": null,
            "grid_template_areas": null,
            "grid_template_columns": null,
            "grid_template_rows": null,
            "height": null,
            "justify_content": null,
            "justify_items": null,
            "left": null,
            "margin": null,
            "max_height": null,
            "max_width": null,
            "min_height": null,
            "min_width": null,
            "object_fit": null,
            "object_position": null,
            "order": null,
            "overflow": null,
            "overflow_x": null,
            "overflow_y": null,
            "padding": null,
            "right": null,
            "top": null,
            "visibility": null,
            "width": null
          }
        },
        "1af29a386d7a482da4d908aad39c3934": {
          "model_module": "@jupyter-widgets/controls",
          "model_name": "DescriptionStyleModel",
          "model_module_version": "1.5.0",
          "state": {
            "_model_module": "@jupyter-widgets/controls",
            "_model_module_version": "1.5.0",
            "_model_name": "DescriptionStyleModel",
            "_view_count": null,
            "_view_module": "@jupyter-widgets/base",
            "_view_module_version": "1.2.0",
            "_view_name": "StyleView",
            "description_width": ""
          }
        },
        "3ce0affcfd1d40a9851ffafa725d35dc": {
          "model_module": "@jupyter-widgets/base",
          "model_name": "LayoutModel",
          "model_module_version": "1.2.0",
          "state": {
            "_model_module": "@jupyter-widgets/base",
            "_model_module_version": "1.2.0",
            "_model_name": "LayoutModel",
            "_view_count": null,
            "_view_module": "@jupyter-widgets/base",
            "_view_module_version": "1.2.0",
            "_view_name": "LayoutView",
            "align_content": null,
            "align_items": null,
            "align_self": null,
            "border": null,
            "bottom": null,
            "display": null,
            "flex": null,
            "flex_flow": null,
            "grid_area": null,
            "grid_auto_columns": null,
            "grid_auto_flow": null,
            "grid_auto_rows": null,
            "grid_column": null,
            "grid_gap": null,
            "grid_row": null,
            "grid_template_areas": null,
            "grid_template_columns": null,
            "grid_template_rows": null,
            "height": null,
            "justify_content": null,
            "justify_items": null,
            "left": null,
            "margin": null,
            "max_height": null,
            "max_width": null,
            "min_height": null,
            "min_width": null,
            "object_fit": null,
            "object_position": null,
            "order": null,
            "overflow": null,
            "overflow_x": null,
            "overflow_y": null,
            "padding": null,
            "right": null,
            "top": null,
            "visibility": null,
            "width": null
          }
        },
        "89bcd99e0598488dac012aa5603a6ea2": {
          "model_module": "@jupyter-widgets/controls",
          "model_name": "ProgressStyleModel",
          "model_module_version": "1.5.0",
          "state": {
            "_model_module": "@jupyter-widgets/controls",
            "_model_module_version": "1.5.0",
            "_model_name": "ProgressStyleModel",
            "_view_count": null,
            "_view_module": "@jupyter-widgets/base",
            "_view_module_version": "1.2.0",
            "_view_name": "StyleView",
            "bar_color": null,
            "description_width": ""
          }
        },
        "4548f015618d49688189ef4fe77c4827": {
          "model_module": "@jupyter-widgets/base",
          "model_name": "LayoutModel",
          "model_module_version": "1.2.0",
          "state": {
            "_model_module": "@jupyter-widgets/base",
            "_model_module_version": "1.2.0",
            "_model_name": "LayoutModel",
            "_view_count": null,
            "_view_module": "@jupyter-widgets/base",
            "_view_module_version": "1.2.0",
            "_view_name": "LayoutView",
            "align_content": null,
            "align_items": null,
            "align_self": null,
            "border": null,
            "bottom": null,
            "display": null,
            "flex": null,
            "flex_flow": null,
            "grid_area": null,
            "grid_auto_columns": null,
            "grid_auto_flow": null,
            "grid_auto_rows": null,
            "grid_column": null,
            "grid_gap": null,
            "grid_row": null,
            "grid_template_areas": null,
            "grid_template_columns": null,
            "grid_template_rows": null,
            "height": null,
            "justify_content": null,
            "justify_items": null,
            "left": null,
            "margin": null,
            "max_height": null,
            "max_width": null,
            "min_height": null,
            "min_width": null,
            "object_fit": null,
            "object_position": null,
            "order": null,
            "overflow": null,
            "overflow_x": null,
            "overflow_y": null,
            "padding": null,
            "right": null,
            "top": null,
            "visibility": null,
            "width": null
          }
        },
        "10640b77ae4a4e89b89f99f867daa6ae": {
          "model_module": "@jupyter-widgets/controls",
          "model_name": "DescriptionStyleModel",
          "model_module_version": "1.5.0",
          "state": {
            "_model_module": "@jupyter-widgets/controls",
            "_model_module_version": "1.5.0",
            "_model_name": "DescriptionStyleModel",
            "_view_count": null,
            "_view_module": "@jupyter-widgets/base",
            "_view_module_version": "1.2.0",
            "_view_name": "StyleView",
            "description_width": ""
          }
        },
        "515532855a6f45239e81e7d9b291e5ac": {
          "model_module": "@jupyter-widgets/controls",
          "model_name": "HBoxModel",
          "model_module_version": "1.5.0",
          "state": {
            "_dom_classes": [],
            "_model_module": "@jupyter-widgets/controls",
            "_model_module_version": "1.5.0",
            "_model_name": "HBoxModel",
            "_view_count": null,
            "_view_module": "@jupyter-widgets/controls",
            "_view_module_version": "1.5.0",
            "_view_name": "HBoxView",
            "box_style": "",
            "children": [
              "IPY_MODEL_615a4b4cdbcb4e88bf2bd2f7d46adfc2",
              "IPY_MODEL_2315616677e341a18e9e177099532204",
              "IPY_MODEL_d81085af7458475f9f34783abb18f805"
            ],
            "layout": "IPY_MODEL_031819be65094f88961bf42532c40c2f"
          }
        },
        "615a4b4cdbcb4e88bf2bd2f7d46adfc2": {
          "model_module": "@jupyter-widgets/controls",
          "model_name": "HTMLModel",
          "model_module_version": "1.5.0",
          "state": {
            "_dom_classes": [],
            "_model_module": "@jupyter-widgets/controls",
            "_model_module_version": "1.5.0",
            "_model_name": "HTMLModel",
            "_view_count": null,
            "_view_module": "@jupyter-widgets/controls",
            "_view_module_version": "1.5.0",
            "_view_name": "HTMLView",
            "description": "",
            "description_tooltip": null,
            "layout": "IPY_MODEL_2963f78ac58c406687bce440883dc047",
            "placeholder": "​",
            "style": "IPY_MODEL_963c174e090644ebb9a836f1d3457e09",
            "value": "100%"
          }
        },
        "2315616677e341a18e9e177099532204": {
          "model_module": "@jupyter-widgets/controls",
          "model_name": "FloatProgressModel",
          "model_module_version": "1.5.0",
          "state": {
            "_dom_classes": [],
            "_model_module": "@jupyter-widgets/controls",
            "_model_module_version": "1.5.0",
            "_model_name": "FloatProgressModel",
            "_view_count": null,
            "_view_module": "@jupyter-widgets/controls",
            "_view_module_version": "1.5.0",
            "_view_name": "ProgressView",
            "bar_style": "success",
            "description": "",
            "description_tooltip": null,
            "layout": "IPY_MODEL_baa222389fc04d7a8e95aa2e80341ac3",
            "max": 1000,
            "min": 0,
            "orientation": "horizontal",
            "style": "IPY_MODEL_4cd0c12b4ac54c7b9bf15df065024abe",
            "value": 1000
          }
        },
        "d81085af7458475f9f34783abb18f805": {
          "model_module": "@jupyter-widgets/controls",
          "model_name": "HTMLModel",
          "model_module_version": "1.5.0",
          "state": {
            "_dom_classes": [],
            "_model_module": "@jupyter-widgets/controls",
            "_model_module_version": "1.5.0",
            "_model_name": "HTMLModel",
            "_view_count": null,
            "_view_module": "@jupyter-widgets/controls",
            "_view_module_version": "1.5.0",
            "_view_name": "HTMLView",
            "description": "",
            "description_tooltip": null,
            "layout": "IPY_MODEL_6629d562c5f04bd7829ca2c3c847be0f",
            "placeholder": "​",
            "style": "IPY_MODEL_6792f057335f4fd8bab3b32e22c8363d",
            "value": " 1000/1000 [04:06&lt;00:00,  4.23it/s]"
          }
        },
        "031819be65094f88961bf42532c40c2f": {
          "model_module": "@jupyter-widgets/base",
          "model_name": "LayoutModel",
          "model_module_version": "1.2.0",
          "state": {
            "_model_module": "@jupyter-widgets/base",
            "_model_module_version": "1.2.0",
            "_model_name": "LayoutModel",
            "_view_count": null,
            "_view_module": "@jupyter-widgets/base",
            "_view_module_version": "1.2.0",
            "_view_name": "LayoutView",
            "align_content": null,
            "align_items": null,
            "align_self": null,
            "border": null,
            "bottom": null,
            "display": null,
            "flex": null,
            "flex_flow": null,
            "grid_area": null,
            "grid_auto_columns": null,
            "grid_auto_flow": null,
            "grid_auto_rows": null,
            "grid_column": null,
            "grid_gap": null,
            "grid_row": null,
            "grid_template_areas": null,
            "grid_template_columns": null,
            "grid_template_rows": null,
            "height": null,
            "justify_content": null,
            "justify_items": null,
            "left": null,
            "margin": null,
            "max_height": null,
            "max_width": null,
            "min_height": null,
            "min_width": null,
            "object_fit": null,
            "object_position": null,
            "order": null,
            "overflow": null,
            "overflow_x": null,
            "overflow_y": null,
            "padding": null,
            "right": null,
            "top": null,
            "visibility": null,
            "width": null
          }
        },
        "2963f78ac58c406687bce440883dc047": {
          "model_module": "@jupyter-widgets/base",
          "model_name": "LayoutModel",
          "model_module_version": "1.2.0",
          "state": {
            "_model_module": "@jupyter-widgets/base",
            "_model_module_version": "1.2.0",
            "_model_name": "LayoutModel",
            "_view_count": null,
            "_view_module": "@jupyter-widgets/base",
            "_view_module_version": "1.2.0",
            "_view_name": "LayoutView",
            "align_content": null,
            "align_items": null,
            "align_self": null,
            "border": null,
            "bottom": null,
            "display": null,
            "flex": null,
            "flex_flow": null,
            "grid_area": null,
            "grid_auto_columns": null,
            "grid_auto_flow": null,
            "grid_auto_rows": null,
            "grid_column": null,
            "grid_gap": null,
            "grid_row": null,
            "grid_template_areas": null,
            "grid_template_columns": null,
            "grid_template_rows": null,
            "height": null,
            "justify_content": null,
            "justify_items": null,
            "left": null,
            "margin": null,
            "max_height": null,
            "max_width": null,
            "min_height": null,
            "min_width": null,
            "object_fit": null,
            "object_position": null,
            "order": null,
            "overflow": null,
            "overflow_x": null,
            "overflow_y": null,
            "padding": null,
            "right": null,
            "top": null,
            "visibility": null,
            "width": null
          }
        },
        "963c174e090644ebb9a836f1d3457e09": {
          "model_module": "@jupyter-widgets/controls",
          "model_name": "DescriptionStyleModel",
          "model_module_version": "1.5.0",
          "state": {
            "_model_module": "@jupyter-widgets/controls",
            "_model_module_version": "1.5.0",
            "_model_name": "DescriptionStyleModel",
            "_view_count": null,
            "_view_module": "@jupyter-widgets/base",
            "_view_module_version": "1.2.0",
            "_view_name": "StyleView",
            "description_width": ""
          }
        },
        "baa222389fc04d7a8e95aa2e80341ac3": {
          "model_module": "@jupyter-widgets/base",
          "model_name": "LayoutModel",
          "model_module_version": "1.2.0",
          "state": {
            "_model_module": "@jupyter-widgets/base",
            "_model_module_version": "1.2.0",
            "_model_name": "LayoutModel",
            "_view_count": null,
            "_view_module": "@jupyter-widgets/base",
            "_view_module_version": "1.2.0",
            "_view_name": "LayoutView",
            "align_content": null,
            "align_items": null,
            "align_self": null,
            "border": null,
            "bottom": null,
            "display": null,
            "flex": null,
            "flex_flow": null,
            "grid_area": null,
            "grid_auto_columns": null,
            "grid_auto_flow": null,
            "grid_auto_rows": null,
            "grid_column": null,
            "grid_gap": null,
            "grid_row": null,
            "grid_template_areas": null,
            "grid_template_columns": null,
            "grid_template_rows": null,
            "height": null,
            "justify_content": null,
            "justify_items": null,
            "left": null,
            "margin": null,
            "max_height": null,
            "max_width": null,
            "min_height": null,
            "min_width": null,
            "object_fit": null,
            "object_position": null,
            "order": null,
            "overflow": null,
            "overflow_x": null,
            "overflow_y": null,
            "padding": null,
            "right": null,
            "top": null,
            "visibility": null,
            "width": null
          }
        },
        "4cd0c12b4ac54c7b9bf15df065024abe": {
          "model_module": "@jupyter-widgets/controls",
          "model_name": "ProgressStyleModel",
          "model_module_version": "1.5.0",
          "state": {
            "_model_module": "@jupyter-widgets/controls",
            "_model_module_version": "1.5.0",
            "_model_name": "ProgressStyleModel",
            "_view_count": null,
            "_view_module": "@jupyter-widgets/base",
            "_view_module_version": "1.2.0",
            "_view_name": "StyleView",
            "bar_color": null,
            "description_width": ""
          }
        },
        "6629d562c5f04bd7829ca2c3c847be0f": {
          "model_module": "@jupyter-widgets/base",
          "model_name": "LayoutModel",
          "model_module_version": "1.2.0",
          "state": {
            "_model_module": "@jupyter-widgets/base",
            "_model_module_version": "1.2.0",
            "_model_name": "LayoutModel",
            "_view_count": null,
            "_view_module": "@jupyter-widgets/base",
            "_view_module_version": "1.2.0",
            "_view_name": "LayoutView",
            "align_content": null,
            "align_items": null,
            "align_self": null,
            "border": null,
            "bottom": null,
            "display": null,
            "flex": null,
            "flex_flow": null,
            "grid_area": null,
            "grid_auto_columns": null,
            "grid_auto_flow": null,
            "grid_auto_rows": null,
            "grid_column": null,
            "grid_gap": null,
            "grid_row": null,
            "grid_template_areas": null,
            "grid_template_columns": null,
            "grid_template_rows": null,
            "height": null,
            "justify_content": null,
            "justify_items": null,
            "left": null,
            "margin": null,
            "max_height": null,
            "max_width": null,
            "min_height": null,
            "min_width": null,
            "object_fit": null,
            "object_position": null,
            "order": null,
            "overflow": null,
            "overflow_x": null,
            "overflow_y": null,
            "padding": null,
            "right": null,
            "top": null,
            "visibility": null,
            "width": null
          }
        },
        "6792f057335f4fd8bab3b32e22c8363d": {
          "model_module": "@jupyter-widgets/controls",
          "model_name": "DescriptionStyleModel",
          "model_module_version": "1.5.0",
          "state": {
            "_model_module": "@jupyter-widgets/controls",
            "_model_module_version": "1.5.0",
            "_model_name": "DescriptionStyleModel",
            "_view_count": null,
            "_view_module": "@jupyter-widgets/base",
            "_view_module_version": "1.2.0",
            "_view_name": "StyleView",
            "description_width": ""
          }
        }
      }
    }
  },
  "nbformat": 4,
  "nbformat_minor": 0
}