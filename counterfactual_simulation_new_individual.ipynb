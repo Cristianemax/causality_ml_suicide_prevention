{
  "cells": [
    {
      "cell_type": "markdown",
      "source": [
        "## Suicide prevention using causality in machine learning\n",
        "\n",
        "The alarming increase in the number of people affected by mental illness has become one of the main public health problems facing governments around the world.\n",
        "Suicide is among the 20 most common causes of death according to an assessment by the World Health Organization (Organization et al., 2019), surpassing malaria, breast cancer or homicide and in the last 20 years, there has been a 24% increase in cases.\n",
        "We used clinical classification data and identified possible causal factors that could establish relationships with suicidal ideation.\n",
        "To this end, we use causal inference and machine learning methods.\n",
        "The factors used for causal inference were: Sex, Marital Status, Type of Residence, Alcoholic, Drugs, Suicide in the Family, Depression in the Family, Alcoholic in the Family, Drugs in the Family, Neuro, Psychiatric, Able to enjoy things, Impact of your Family and friends, Able to make important decisions, Student, Insomnia, Anxiety, Loss of insights, Appetite, Weight loss, Somatic anxiety, Hypochondriasis, Feeling of guilt, Work and interests, Energy, Slow thought and speech, Agitation, Libido, OCD and age.\n",
        "After our research, the factors that emerged as possible causes that lead an individual to have suicidal ideation were: Suicide in the family, Drugs in the family, Able to make important decisions, Student, Hypochondriasis, Feelings of guilt, Work and interests and Energy.\n",
        "The objective of this project is to carry out counterfactual simulations to obtain the possible factors that influence a certain individual to have suicidal ideation.\n",
        "With it, health professionals who care for patients with suicidal ideation will be able to work with them more assertively, aiming to mitigate or even eliminate such ideation.\n",
        "\n",
        "Steps for execution:\n",
        "\n",
        "1) Upload the data.csv file by accessing the Files icon in the left corner menu, navigating to the folder containing the file. Click open and ignore the warning.\n",
        "\n",
        "2) Access the Run environment/Run all menu\n",
        "\n",
        "3) Enter data for each factor relating to the individual in question:\n",
        "   \n",
        "  \t> Suicide in the family: Enter 1 for Yes and 0 for No.\n",
        "   \n",
        "  \t> Able to make important decisions: Enter a number from 1 to 5, where: 1=I completely agree; 2=Agree; 3=Neutral; 4=Disagree;\n",
        "       5=I completely disagree.\n",
        "  \n",
        "  \t> Student: Enter a number from 0 to 2, where: 0=No; 1=Yes; 2=Part-time.\n",
        "  \n",
        "  \t> Hypochondriasis: Enter a number from 0 to 4, where: 0=Absent; 1=Light; 2=Moderate; 3=Moderately severe; 4=Severe.\n",
        "  \n",
        "  \t> Feelings of guilt: nter a number from 0 to 4, where: 0=Absent; 1=Doubtful or trivial: Self-censorship, feels that he has let\n",
        "\t\tpeople down; 2=Mild: Ideas of guilt or rumination about past mistakes or sinful acts; 3=Moderate: Current illness\n",
        "\t\tis a punishment. Delusions of guilt; 4=Severe: Hears accusatory or denunciatory voices and/or experiences threatening\n",
        "\t\tvisual hallucinations.\n",
        "  \n",
        "  \t> Work and interests: Enter a number from 0 to 4, where: 0=Absent: No difficulty; 1=Doubtful or trivial: Thoughts and feelings of\n",
        "\t\tincapacity, tiredness or weakness related to activities; work or hobbies; 2=Mild: Loss of interest in the activity;\n",
        "\t\thobbies or work – reported directly by the patient, or indirectly in apathy, indecision and vacillation (feeling that they\n",
        "\t\tneed to make an effort to work or carry out activities); 3=Moderate: Decrease in real time spent on activities\n",
        "\t\tor decrease in productivity; 4=Serious: Stopped working due to current illness.\n",
        "\n",
        "  \t> Depression in the family: Enter 1 for Yes and 0 for No.\n",
        "   \n",
        "  \t> History of alcohol use in the family: Enter 1 for Yes and 0 for No.\n",
        "   \n",
        "\t  > Able to enjoy things: Enter a number from 1 to 5, where: 1=I completely agree; 2=Agree; 3=Neutral; 4=Disagree;\n",
        "\t\t5=I completely disagree.\n",
        "\n",
        "\t  > Drug use: Enter a number from 0 to 2, where: 0=None verified; 1=Abuse; 2=Dependent.\n",
        "  \n",
        "  \t> Suicide: Enter a number from 0 to 4, where: : 0=Absent; 1=Feels that life is empty; 2=Death wishes; 3=Active suicidal thoughts;\n",
        "\t\t4=Serious suicide attempt.\n",
        "  \n",
        "  \t> Anxiety: Enter a number from 0 to 4, where: 0=Absent: No difficulty; 1=Doubtful or trivial: Subjective tension\n",
        "\t\tand irritability; 2=Mild: Preoccupation with minor matters; 3=Moderate: Apprehensive attitude apparent on face or speech;\n",
        "\t\t4=Severe: Fears expressed without questioning.\n",
        "\n",
        "\n",
        "4) After a few minutes, the value with the level of suicidal ideation predicted for the individual will be displayed\n",
        "\n",
        "5) The last step is to carry out counterfactual** analyzes simulating changes in each of the factors. You can change each of the 10 factors and see if the level of suicidal ideation will be raised with the change.\n",
        "\n",
        "Note: If you need to perform more simulations, run the last cell again by clicking on the icon ![icone.png](data:image/png;base64,iVBORw0KGgoAAAANSUhEUgAAABwAAAAcCAIAAAD9b0jDAAAAAXNSR0IArs4c6QAAAARnQU1BAACxjwv8YQUAAAAJcEhZcwAADsMAAA7DAcdvqGQAAAGxSURBVEhL7ZVLisJAFEV7bR1BiTpSRPCva3CmaBSyBT8z0YETQUFEEEEQcQOuQdRA1tCX5AqpVJWGpnvQ0GeU1LvvJKmkKh/uL/Av/XneSO/3+2q1siyrVqslk8lUKlWv13u93nq9fjweDEm8ku73+3w+/6mhUCgcDgdGRbTS4XDIbj2GYUwmEzYEUEsHgwH7IjCdTtn2RCHd7XaMRwP3ez6f2ewRll6v10wmw3iAcrnMIxWlUin43sLS+XzOoAg+g1arxRMV2+2WClnabDaZEvGri8UikUhwSMS2bT8DwlLlswOWXfdyuRSLRY4GaDQaTMhS3Y2w7KGcinQ6zbIsNU2TKRGWPSDtdrssPMF6Y1mWYp0wJcKy/vHxATAhS9vtNlMifhVLPh6Pc0gE+4OfAWHpcrlkSgSP3O/3eaIC16NClt5ut1wux2CASqXCIxWYNFyVClkKsPcwGw0s09PpxGYPhRSMx2N2RGA2m7HtiVoKRqMRboF9GmKxmLxFAa0UYLvKZrMUSGAej8cjoyKvpADTj99Jp9OpVqv+7wTLEct8s9k4jsOQxBvp9/grUtf9AlexTiLeByS8AAAAAElFTkSuQmCC)\n",
        "\n",
        "A change in the value of the level of suicidal ideation in a simulation may mean that the individual is sensitive to the simulation\n",
        "\tfactor in question.\n",
        "\n",
        "\t** Counterfactual thinking is a type of imaginative thinking characterized by the mental simulation of alternatives to past\n",
        "\tevents with the aim of altering the sequence of events so that a different outcome is reached than the one that actually\n",
        "\toccurred. By carrying out simulations on the factors that presented themselves as possible causes of suicidal ideation,\n",
        "\tit is possible to conclude which factor would be important to work on as a priority in each individual.\n"
      ],
      "metadata": {
        "id": "9xpmDuVK6o9b"
      }
    },
    {
      "cell_type": "code",
      "execution_count": null,
      "outputs": [],
      "source": [
        "#import libraries\n",
        "import torch\n",
        "import pandas as pd\n",
        "import numpy as np\n",
        "\n",
        "# Import dataset utils\n",
        "from torch.utils.data import Dataset, DataLoader\n",
        "from sklearn.model_selection import train_test_split\n",
        "\n",
        "import torch.nn as nn\n",
        "import torch.nn.functional as F\n",
        "\n",
        "import matplotlib.pyplot as plt\n",
        "\n",
        "import importlib\n",
        "if importlib.util.find_spec('ipywidgets') is not None:\n",
        "    from tqdm.auto import tqdm\n",
        "else:\n",
        "    from tqdm import tqdm\n",
        "\n",
        "import networkx as nx\n",
        "\n",
        "from typing import Union"
      ],
      "metadata": {
        "ExecuteTime": {
          "end_time": "2023-10-21T17:42:01.212958800Z",
          "start_time": "2023-10-21T17:41:48.090060400Z"
        },
        "id": "y5oHtJxwC9wG"
      }
    },
    {
      "cell_type": "code",
      "source": [
        "dataframe = pd.read_csv('/content/data.csv', sep=';')\n",
        "\n",
        "dataframe = dataframe.fillna(-1)\n",
        "dataframe['Anos educacao formal'] = dataframe['Anos educacao formal'].replace(-5, -1)\n",
        "dataframe['sexo'].replace({'M': 0, 'F': 1}, inplace=True)\n",
        "df_suic = dataframe.copy()\n",
        "df_suic = df_suic.astype(float)\n",
        "df_suic['Chave'] = df_suic.index\n",
        "df_suic.shape"
      ],
      "metadata": {
        "colab": {
          "base_uri": "https://localhost:8080/"
        },
        "id": "VI7I5bJv_2_q",
        "outputId": "c4bef0e0-66f4-4918-ce76-faeafd1fc2ea"
      },
      "execution_count": null,
      "outputs": [
        {
          "output_type": "execute_result",
          "data": {
            "text/plain": [
              "(3953, 69)"
            ]
          },
          "metadata": {},
          "execution_count": 21
        }
      ]
    },
    {
      "cell_type": "code",
      "source": [
        "notears_selected = [\n",
        "   \"Suic_familia\",\n",
        "    \"Capaz de tomar decisões importantes\",\n",
        "    \"Estudante\",\n",
        "    \"Hipocondriase\",\n",
        "    \"Sentimentos_culpa\",\n",
        "    \"Trabalho e interesses\",\n",
        "    'Dep_familia',\n",
        "    'Alc_familia',\n",
        "    'Capaz de desfrutar das coisas',\n",
        "    'Droga',\n",
        "    'Suicidio',\n",
        "    'Ansiedade'\n",
        "     ]"
      ],
      "metadata": {
        "id": "CYXJO99bCpcb"
      },
      "execution_count": 1,
      "outputs": []
    },
    {
      "cell_type": "markdown",
      "source": [
        "# Read dataset"
      ],
      "metadata": {
        "id": "a2xJfxFDiEC1"
      }
    },
    {
      "cell_type": "code",
      "source": [
        " df_novo = pd.DataFrame(columns = [\"Suic_familia\",\n",
        "    \"Capaz de tomar decisões importantes\",\n",
        "    \"Estudante\",\n",
        "    \"Hipocondriase\",\n",
        "    \"Sentimentos_culpa\",\n",
        "    \"Trabalho e interesses\",\n",
        "    'Dep_familia',\n",
        "    'Alc_familia',\n",
        "    'Capaz de desfrutar das coisas',\n",
        "    'Droga',\n",
        "    \"Suicidio\",\n",
        "    \"Ansiedade\"])"
      ],
      "metadata": {
        "id": "nPY1t7HCHUeU"
      },
      "execution_count": null,
      "outputs": []
    },
    {
      "cell_type": "markdown",
      "source": [
        "# Reading features new individual"
      ],
      "metadata": {
        "id": "fkHj-sWUiBe0"
      }
    },
    {
      "cell_type": "code",
      "source": [
        "Suic_familia = int(input(\"Suicide in the family: Enter 1 for Yes and 0 for No.\") )\n",
        "Capaz_tomar_decisoes = int(input(\"CAble to make important decisions: Enter a number from 1 to 5, with 1 being low capacity and 5 being high capacity.\") )\n",
        "Estudante = int(input(\"Student: Enter 1 for Yes and 0 for No.\") )\n",
        "Hipocondriase = int(input(\"Hypochondriasis: Enter a number from 0 to 4, with 0 being no and 4 being a high level.\") )\n",
        "Sentimento_culpa = int(input(\"Feelings of guilt: Enter a number from 0 to 4, with 0 being no and 4 being high.\") )\n",
        "Trabalho_interesses = int(input(\"Work and interests: Enter a number from 0 to 4, with 0 being no and 4 being high level.\") )\n",
        "Dep_familia = int(input(\"Depression in the family: Enter 1 for Yes and 0 for No.\") )\n",
        "Alc_familia = int(input(\"Histórico de uso de álcool na família: Digite 1 para Sim e 0 para não.\") )\n",
        "Capaz_desfrutar = int(input(\"Able to enjoy things: nter a number from 1 to 5, where: 1=I completely agree; 2=Agree; 3=Neutral; 4=Disagree; 5=I completely disagree.\") )\n",
        "Droga = int(input(\"Drug use: Enter a number from 0 to 2, where: 0=None verified; 1=Abuse; 2=Dependent.\") )\n",
        "Suicidio = int(input(\"Suicide: Enter a number from 0 to 4, where 0 has no ideation and 4 has already made an attempt.\") )\n",
        "Ansiedade = int(input(\"Anxiety: Enter a number from 0 to 4, with 0 being no and 4 being high level.\") )"
      ],
      "metadata": {
        "id": "l0Hhc8vCHoXc",
        "colab": {
          "base_uri": "https://localhost:8080/"
        },
        "outputId": "117446e0-072d-4690-f9fa-62509c93218f"
      },
      "execution_count": null,
      "outputs": [
        {
          "name": "stdout",
          "output_type": "stream",
          "text": [
            "Suicide in the family: Enter 1 for Yes and 0 for No.1\n",
            "Drugs in the family: Enter 1 for Yes and 0 for No.0\n",
            "CAble to make important decisions: Enter a number from 1 to 5, with 1 being low capacity and 5 being high capacity.3\n",
            "Student: Enter 1 for Yes and 0 for No.0\n",
            "Hypochondriasis: Enter a number from 0 to 4, with 0 being no and 4 being a high level.2\n",
            "Feelings of guilt: Enter a number from 0 to 4, with 0 being no and 4 being high.4\n",
            "Work and interests: Enter a number from 0 to 4, with 0 being no and 4 being high level.2\n",
            "Depression in the family: Enter 1 for Yes and 0 for No..1\n",
            "Able to enjoy things: nter a number from 1 to 5, where: 1=I completely agree; 2=Agree; 3=Neutral; 4=Disagree; 5=I completely disagree.0\n",
            "Drug use: Enter a number from 0 to 2, where: 0=None verified; 1=Abuse; 2=Dependent.2\n",
            "Suicide: Enter a number from 0 to 4, where 0 has no ideation and 4 has already made an attempt.1\n",
            "Anxiety: Enter a number from 0 to 4, with 0 being no and 4 being high level.2\n"
          ]
        }
      ]
    },
    {
      "cell_type": "code",
      "source": [
        "df_novo=df_novo.append({'Suic_familia' : float(Suic_familia), 'Capaz de tomar decisões importantes' : float(Capaz_tomar_decisoes), 'Estudante' : float(Estudante),\n",
        "                        'Hipocondriase' : float(Hipocondriase), 'Sentimentos_culpa' : float(Sentimento_culpa), 'Trabalho e interesses' : float(Trabalho_interesses),\n",
        "                        'Dep_familia': float(Dep_familia), 'Alc_familia': float(Alc_familia),\n",
        "                        'Capaz de desfrutar das coisas': float(Capaz_desfrutar), 'Droga' : float(Droga),\n",
        "                        'Suicidio' : float(Suicidio), 'Ansiedade': float(Ansiedade)}, ignore_index = True)"
      ],
      "metadata": {
        "id": "VtWpRYACJNW9",
        "colab": {
          "base_uri": "https://localhost:8080/"
        },
        "outputId": "8c678593-35bd-4293-d06a-e89101416ef9"
      },
      "execution_count": null,
      "outputs": [
        {
          "output_type": "stream",
          "name": "stderr",
          "text": [
            "<ipython-input-25-a9dc77f224a1>:1: FutureWarning: The frame.append method is deprecated and will be removed from pandas in a future version. Use pandas.concat instead.\n",
            "  df_novo=df_novo.append({'Suic_familia' : float(Suic_familia), 'Drog_familia' : float(Drog_familia), 'Capaz de tomar decisões importantes' : float(Capaz_tomar_decisoes), 'Estudante' : float(Estudante),\n"
          ]
        }
      ]
    },
    {
      "cell_type": "code",
      "source": [
        "df_novo['Suic_familia'] = df_novo['Suic_familia'].astype(float)\n",
        "df_novo['Capaz de tomar decisões importantes'] = df_novo['Capaz de tomar decisões importantes'].astype(float)\n",
        "df_novo['Estudante'] = df_novo['Estudante'].astype(float)\n",
        "df_novo['Hipocondriase'] = df_novo['Hipocondriase'].astype(float)\n",
        "df_novo['Sentimentos_culpa'] = df_novo['Sentimentos_culpa'].astype(float)\n",
        "df_novo['Trabalho e interesses'] = df_novo['Trabalho e interesses'].astype(float)\n",
        "df_novo['Dep_familia'] = df_novo['Dep_familia'].astype(float)\n",
        "df_novo['Alc_familia'] = df_novo['Alc_familia'].astype(float)\n",
        "df_novo['Capaz de desfrutar das coisas'] = df_novo['Capaz de desfrutar das coisas'].astype(float)\n",
        "df_novo['Droga'] = df_novo['Droga'].astype(float)\n",
        "df_novo['Suicidio'] = df_novo['Suicidio'].astype(float)\n",
        "df_novo['Ansiedade'] = df_novo['Ansiedade'].astype(float)"
      ],
      "metadata": {
        "id": "FwjXAJ3LhWb0"
      },
      "execution_count": null,
      "outputs": []
    },
    {
      "cell_type": "markdown",
      "source": [
        "# Create causal datasets"
      ],
      "metadata": {
        "id": "A9jdXI0dBXKb"
      }
    },
    {
      "cell_type": "code",
      "source": [
        "# Dataset from X\n",
        "class CausalDataset(Dataset):\n",
        "    def __init__(self, X, target:Union[list, int]):\n",
        "        self.X = torch.tensor(X, dtype=torch.double)\n",
        "        self.target = target\n",
        "        if isinstance(target, int):\n",
        "            self.target = [target]\n",
        "\n",
        "\n",
        "        # X is every variable except the target list\n",
        "        dims = list(range(self.X.shape[1]))\n",
        "        self.x = self.X[:, [i for i in dims if i not in self.target]]\n",
        "        self.y = self.X[:, self.target]\n",
        "\n",
        "    def __len__(self):\n",
        "        return len(self.x)\n",
        "\n",
        "    def __getitem__(self, idx):\n",
        "        return self.x[idx].double(), self.y[idx].double()"
      ],
      "metadata": {
        "id": "N_O7r6rcBUMa"
      },
      "execution_count": null,
      "outputs": []
    },
    {
      "cell_type": "code",
      "execution_count": null,
      "metadata": {
        "ExecuteTime": {
          "end_time": "2023-10-21T17:42:02.441242400Z",
          "start_time": "2023-10-21T17:42:02.241586800Z"
        },
        "id": "l6ndJJD9C9we"
      },
      "outputs": [],
      "source": [
        "class MLP(torch.nn.Module):\n",
        "    def __init__(self, dim_list:list, add_dropout:bool=False):\n",
        "        super(MLP, self).__init__()\n",
        "        torch.manual_seed(3)\n",
        "        self.layers = torch.nn.ModuleList()\n",
        "        for i in range(len(dim_list) - 2):\n",
        "            self.layers.append(torch.nn.Linear(dim_list[i], dim_list[i+1]))\n",
        "            self.layers.append(torch.nn.ReLU())\n",
        "            if add_dropout:\n",
        "                self.layers.append(torch.nn.Dropout(0.3))\n",
        "\n",
        "        self.layers.append(torch.nn.Linear(dim_list[-2], dim_list[-1]))\n",
        "        self.double()\n",
        "\n",
        "    def forward(self, x):\n",
        "        for layer in self.layers:\n",
        "            x = layer(x)\n",
        "        return x"
      ]
    },
    {
      "cell_type": "markdown",
      "metadata": {
        "id": "nPZsZblZC9wf"
      },
      "source": [
        "# Out train pipeline"
      ]
    },
    {
      "cell_type": "code",
      "execution_count": null,
      "metadata": {
        "ExecuteTime": {
          "end_time": "2023-10-21T17:42:02.443249500Z",
          "start_time": "2023-10-21T17:42:02.288585100Z"
        },
        "id": "TEll4p13C9wf"
      },
      "outputs": [],
      "source": [
        "def trainPipeline(dataset, model, batch_size=64, train_split=0.8, verbose=True, max_epochs=100, patience=10, lr=0.001, weight_decay=0.0, loss_fn=nn.MSELoss()):\n",
        "    train_size = int(train_split * len(dataset))\n",
        "    test_size = len(dataset) - train_size\n",
        "    torch.manual_seed(3)\n",
        "    train_dataset, test_dataset = torch.utils.data.random_split(dataset, [train_size, test_size])\n",
        "\n",
        "    train_loader = DataLoader(train_dataset, batch_size=batch_size, shuffle=True)\n",
        "    test_loader = DataLoader(test_dataset, batch_size=batch_size, shuffle=True)\n",
        "\n",
        "    criterion = loss_fn\n",
        "    optimizer = torch.optim.Adam(model.parameters(), lr=lr, weight_decay=weight_decay)\n",
        "\n",
        "    patience = patience\n",
        "\n",
        "    train_losses = []\n",
        "    test_losses = []\n",
        "    for epoch in tqdm(range(max_epochs)):\n",
        "        train_loss = 0\n",
        "        model.train()\n",
        "        for data, target in train_loader:\n",
        "            optimizer.zero_grad()\n",
        "            output = model(data)\n",
        "            loss = criterion(output, target)\n",
        "            loss.backward()\n",
        "            optimizer.step()\n",
        "            train_loss += loss.item()\n",
        "        train_loss /= len(train_loader)\n",
        "        train_losses.append(train_loss)\n",
        "\n",
        "        test_loss = 0\n",
        "        model.eval()\n",
        "        with torch.no_grad():\n",
        "            for data, target in test_loader:\n",
        "                output = model(data)\n",
        "                loss = criterion(output, target)\n",
        "                test_loss += loss.item()\n",
        "        test_loss /= len(test_loader)\n",
        "        test_losses.append(test_loss)\n",
        "\n",
        "        if verbose:\n",
        "            print(f\"Epoch {epoch} - Train loss: {train_loss} - Test loss: {test_loss}\")\n",
        "\n",
        "        # add early stopping with patience variable\n",
        "        if epoch > 10:\n",
        "            all_patience = test_losses[-patience:]\n",
        "            test_loss = test_losses[-1]\n",
        "            if all([test_loss > x for x in all_patience]):\n",
        "                print(\"Early stopping\")\n",
        "                break\n",
        "\n",
        "    # test model on test set and calculate accuracy\n",
        "    model.eval()\n",
        "    with torch.no_grad():\n",
        "        y_pred_test = []\n",
        "        y_true_test = []\n",
        "        y_pred_train = []\n",
        "        y_true_train = []\n",
        "\n",
        "        for data, target in train_loader:\n",
        "            output = model(data)\n",
        "            y_pred_train.append(output)\n",
        "            y_true_train.append(target)\n",
        "        for data, target in test_loader:\n",
        "            output = model(data)\n",
        "            y_pred_test.append(output)\n",
        "            y_true_test.append(target)\n",
        "\n",
        "        y_pred_test = torch.cat(y_pred_test, dim=0)\n",
        "        y_true_test = torch.cat(y_true_test, dim=0)\n",
        "        y_pred_train = torch.cat(y_pred_train, dim=0)\n",
        "        y_true_train = torch.cat(y_true_train, dim=0)\n",
        "\n",
        "        train_error = torch.abs(y_pred_train - y_true_train)\n",
        "        test_error = torch.abs(y_pred_test - y_true_test)\n",
        "\n",
        "        # calculate accuracy for each target\n",
        "        test_accuracy = []\n",
        "        train_accuracy = []\n",
        "        for i in range(len(y_true_test[0])):\n",
        "            test_accuracy.append(torch.sum(test_error[:, i] < 0.5) / len(test_error))\n",
        "            train_accuracy.append(torch.sum(train_error[:, i] < 0.5) / len(train_error))\n",
        "\n",
        "        print(f\"Final Train accuracy: {train_accuracy}\")\n",
        "        print(f\"Final Test accuracy: {test_accuracy}\")\n",
        "\n",
        "    metrics = {\n",
        "        \"train_loss\": train_losses,\n",
        "        \"test_loss\": test_losses,\n",
        "        \"train_error\": train_error,\n",
        "        \"test_error\": test_error,\n",
        "        \"test_accuracy\": test_accuracy\n",
        "    }\n",
        "\n",
        "    return model, metrics\n"
      ]
    },
    {
      "cell_type": "markdown",
      "metadata": {
        "id": "HlcTn2J5C9wh"
      },
      "source": [
        "## First train one model for each target and get errors value"
      ]
    },
    {
      "cell_type": "markdown",
      "metadata": {
        "id": "Tb9OD5fIC9wi"
      },
      "source": [
        "## Now add the errors to the dataset and train the counterfactual model"
      ]
    },
    {
      "cell_type": "code",
      "execution_count": null,
      "metadata": {
        "ExecuteTime": {
          "end_time": "2023-10-21T18:06:50.493294500Z",
          "start_time": "2023-10-21T18:06:50.317633200Z"
        },
        "id": "RBij2m5SC9wj"
      },
      "outputs": [],
      "source": [
        "# Create the counterfactual model\n",
        "\n",
        "class CounterfactualModel(torch.nn.Module):\n",
        "    def __init__(self, input_size, hidden_size, output_size):\n",
        "        super(CounterfactualModel, self).__init__()\n",
        "        self.individuality_model = MLP([input_size, hidden_size, hidden_size, hidden_size, 1], add_dropout=True)\n",
        "        self.counterfactual_model = MLP([input_size+1, hidden_size, hidden_size, hidden_size, output_size], add_dropout=True)\n",
        "\n",
        "    def individuality(self, x):\n",
        "        return self.individuality_model(x)\n",
        "\n",
        "    def counterfactual(self, x, i):\n",
        "        x = torch.cat([x, i], dim=1)\n",
        "        return self.counterfactual_model(x)\n",
        "\n",
        "    def forward(self, x):\n",
        "        i = self.individuality(x)\n",
        "        y = self.counterfactual(x, i)\n",
        "        return y"
      ]
    },
    {
      "cell_type": "markdown",
      "metadata": {
        "id": "hlbIwDzvC9wm"
      },
      "source": [
        "# Now we are going to redo everything, but with the NOTEAR features"
      ]
    },
    {
      "cell_type": "code",
      "execution_count": null,
      "metadata": {
        "ExecuteTime": {
          "end_time": "2023-10-21T19:45:42.670133Z",
          "start_time": "2023-10-21T18:35:14.037112600Z"
        },
        "id": "G3KfWv0WC9wm",
        "colab": {
          "base_uri": "https://localhost:8080/",
          "height": 150,
          "referenced_widgets": [
            "e7f85270de55468b9713e69e02031d86",
            "1862f1b79e3c4c35badba22d3ea459d7",
            "4250dbed41d3472eb41017c11accf594",
            "5b691a53ff7d481cb8284de453f244a7",
            "a8a67593ec254360b5f46fd5a2df540c",
            "c3a505d819264b488daf6524b2c3bc73",
            "ab59f36cb2bc4265a3904d067f26a15e",
            "2a22564cad29434d8cb5e63d7e8aae48",
            "381f50d5ec1f4340ad1444c6025434f7",
            "487c56c2afe240c29e3da0e66fc5fccf",
            "a4cf443ab01e40258a2ff805656a9cbf",
            "0573e19d0c074ebc98db66bf49162fa6",
            "0a6dc7c0317041babee19ec2e552c0c0",
            "4184a244b860468c88d02d7952e6b845",
            "b9300bf813d74590aff85bb726433802",
            "c7d92d06dee147628eeb079d438acef3",
            "b2d7f869cf5a45e9b7b3864da33f3276",
            "682a165323f9467a897ba8061bf895de",
            "78771a34d4734126a239ce94f3fa5547",
            "165b3774a39d49799eb91cb491b3eeac",
            "8dfaefb7140f4bc3abf09ce70e45f866",
            "1773b10d2f7c49b7bec561ff1cf14708"
          ]
        },
        "outputId": "651072cd-3d55-4fb3-f3b5-7ec0a79f15a9"
      },
      "outputs": [
        {
          "output_type": "display_data",
          "data": {
            "text/plain": [
              "  0%|          | 0/1000 [00:00<?, ?it/s]"
            ],
            "application/vnd.jupyter.widget-view+json": {
              "version_major": 2,
              "version_minor": 0,
              "model_id": "e7f85270de55468b9713e69e02031d86"
            }
          },
          "metadata": {}
        },
        {
          "output_type": "stream",
          "name": "stdout",
          "text": [
            "Final Train accuracy: [tensor(0.4938)]\n",
            "Final Test accuracy: [tensor(0.3982)]\n"
          ]
        },
        {
          "output_type": "display_data",
          "data": {
            "text/plain": [
              "  0%|          | 0/1000 [00:00<?, ?it/s]"
            ],
            "application/vnd.jupyter.widget-view+json": {
              "version_major": 2,
              "version_minor": 0,
              "model_id": "0573e19d0c074ebc98db66bf49162fa6"
            }
          },
          "metadata": {}
        },
        {
          "output_type": "stream",
          "name": "stdout",
          "text": [
            "Final Train accuracy: [tensor(0.5267)]\n",
            "Final Test accuracy: [tensor(0.4716)]\n"
          ]
        }
      ],
      "source": [
        "df_suic_notears = df_suic.copy()\n",
        "df_suic_notears = df_suic_notears[notears_selected]\n",
        "df_suic_notears=pd.concat([df_suic_notears,df_novo], ignore_index=True)\n",
        "\n",
        "# Create models for each target\n",
        "targets = [\"Suicidio\", \"Ansiedade\"]\n",
        "targets_idx = [df_suic_notears.columns.get_loc(c) for c in targets]\n",
        "\n",
        "# Create the dataset\n",
        "notears_suic_dataset = CausalDataset(df_suic_notears.values, targets_idx[0])\n",
        "notears_anx_dataset = CausalDataset(df_suic_notears.values, targets_idx[1])\n",
        "sample_x, sample_y = notears_suic_dataset[0]\n",
        "\n",
        "# Now we predict the targets with a MLP\n",
        "suic_causal_model = MLP([sample_x.shape[0], 64, 64, 64, 1], add_dropout=True)\n",
        "anx_causal_model = MLP([sample_x.shape[0], 64, 64, 64, 1], add_dropout=True)\n",
        "\n",
        "suic_causal_model, suic_causal_metrics = trainPipeline(notears_suic_dataset, suic_causal_model, verbose=False, max_epochs=1000, weight_decay=1e-5)\n",
        "anx_causal_model, anx_causal_metrics = trainPipeline(notears_anx_dataset, anx_causal_model, verbose=False, max_epochs=1000, weight_decay=1e-5)\n",
        "\n"
      ]
    },
    {
      "cell_type": "code",
      "execution_count": null,
      "metadata": {
        "ExecuteTime": {
          "end_time": "2023-10-21T20:49:41.814498400Z",
          "start_time": "2023-10-21T19:45:42.701133300Z"
        },
        "id": "-hEM_RE-C9wn",
        "colab": {
          "base_uri": "https://localhost:8080/",
          "height": 84,
          "referenced_widgets": [
            "4ed51f0bba9c4d61bee2f21cd9d0eb68",
            "89195c5d34914512bae39a0a01f38417",
            "406472f877384d65ae844194944c8eb7",
            "1074abb6366f4aa78fd813460f020f83",
            "e0b817ee198e4a09bc1a0fa6be2b464b",
            "7fa069addf834b948254aa3d3fe1b0f5",
            "a1760f838eda4bf78c7b082fa76c1d39",
            "001bc6976b9b48e5b69811ca79d01377",
            "6f47266fff3b416b97ec063347aa3aa5",
            "7b75be77f935456b850b1a123d146a85",
            "3d8c5c40f11b47b4bb908786181da56e"
          ]
        },
        "outputId": "618395b4-95c3-47d7-e9a8-e8610b9559c2"
      },
      "outputs": [
        {
          "output_type": "display_data",
          "data": {
            "text/plain": [
              "  0%|          | 0/1000 [00:00<?, ?it/s]"
            ],
            "application/vnd.jupyter.widget-view+json": {
              "version_major": 2,
              "version_minor": 0,
              "model_id": "4ed51f0bba9c4d61bee2f21cd9d0eb68"
            }
          },
          "metadata": {}
        },
        {
          "output_type": "stream",
          "name": "stdout",
          "text": [
            "Final Train accuracy: [tensor(0.8609), tensor(0.8277)]\n",
            "Final Test accuracy: [tensor(0.7990), tensor(0.7649)]\n"
          ]
        }
      ],
      "source": [
        "# calculate individuality\n",
        "suic_causal_erros = []\n",
        "anx_causal_erros = []\n",
        "with torch.no_grad():\n",
        "    for data, y_true in notears_suic_dataset:\n",
        "        y_pred = suic_causal_model(data)\n",
        "        error = torch.abs(y_pred - y_true).item()\n",
        "        suic_causal_erros.append(error)\n",
        "    for data, y_true in notears_anx_dataset:\n",
        "        y_pred = anx_causal_model(data)\n",
        "        error = torch.abs(y_pred - y_true).item()\n",
        "        anx_causal_erros.append(error)\n",
        "\n",
        "suic_causal_erros = np.array(suic_causal_erros)\n",
        "anx_causal_erros = np.array(anx_causal_erros)\n",
        "\n",
        "# add individuality to the dataframe\n",
        "df_suic_notears_with_errors = df_suic_notears.copy()\n",
        "df_suic_notears_with_errors[\"Suicidio_error\"] = suic_causal_erros\n",
        "df_suic_notears_with_errors[\"Ansiedade_error\"] = anx_causal_erros\n",
        "\n",
        "# create the causal dataset with the individuality\n",
        "targets_idx = [df_suic_notears_with_errors.columns.get_loc(c) for c in targets]\n",
        "notears_causal_dataset_error = CausalDataset(df_suic_notears_with_errors.values, targets_idx)\n",
        "sample_x, sample_y = notears_causal_dataset_error[0]\n",
        "\n",
        "# create the counterfactual model\n",
        "causal_cf_model = CounterfactualModel(sample_x.shape[0], 64, sample_y.shape[0])\n",
        "\n",
        "# train the counterfactual model\n",
        "causal_cf_model, causal_cf_metrics = trainPipeline(notears_causal_dataset_error, causal_cf_model, verbose=False, max_epochs=1000, weight_decay=1e-5)\n"
      ]
    },
    {
      "cell_type": "code",
      "source": [
        "# Load the dataset\n",
        "targets = [\"Suicidio\", \"Ansiedade\"]\n",
        "df = df_suic_notears_with_errors\n",
        "\n",
        "# load models\n",
        "counterfact = causal_cf_model\n",
        "counterfact = counterfact.eval()"
      ],
      "metadata": {
        "id": "6QrdW6pOUzHP"
      },
      "execution_count": null,
      "outputs": []
    },
    {
      "cell_type": "markdown",
      "metadata": {
        "id": "TfUh9_BWC9yW"
      },
      "source": [
        "# Initial prediction"
      ]
    },
    {
      "cell_type": "code",
      "source": [
        "def contrafactual(df):\n",
        "  df_suic_notears_with_errors = df\n",
        "  # Select two individuals\n",
        "  dataset = CausalDataset(df_suic_notears_with_errors.values, [df.columns.get_loc(c) for c in targets])\n",
        "\n",
        "  idx = [0,3953]\n",
        "\n",
        "  data1, y1 = dataset[idx[0]]\n",
        "  data2, y2 = dataset[idx[1]]\n",
        "\n",
        "  # predict the counterfactuals for crossed individuals\n",
        "  with torch.no_grad():\n",
        "      i1 = counterfact.individuality(data1.unsqueeze(0))\n",
        "      i2 = counterfact.individuality(data2.unsqueeze(0))\n",
        "\n",
        "      cf11 = counterfact.counterfactual(data1.unsqueeze(0), i1)\n",
        "      cf12 = counterfact.counterfactual(data2.unsqueeze(0), i2)\n",
        "\n",
        "      print(f\"Counterfactual Suicide: {cf12.squeeze(0).round().numpy().tolist()[0]}\")\n",
        "      print()"
      ],
      "metadata": {
        "id": "nOkuKE4OQrcZ"
      },
      "execution_count": null,
      "outputs": []
    },
    {
      "cell_type": "code",
      "source": [
        "print('Initial prediction')\n",
        "contrafactual(df_suic_notears_with_errors)"
      ],
      "metadata": {
        "id": "ZvL-ZV0DhKFk",
        "colab": {
          "base_uri": "https://localhost:8080/"
        },
        "outputId": "283347cd-8066-4230-8a74-8a13246d072f"
      },
      "execution_count": null,
      "outputs": [
        {
          "output_type": "stream",
          "name": "stdout",
          "text": [
            "Initial prediction\n",
            "Counterfactual Suicide: 3.0\n",
            "\n"
          ]
        }
      ]
    },
    {
      "cell_type": "markdown",
      "source": [
        "# Counterfactual simulations"
      ],
      "metadata": {
        "id": "o9T71QJ9igRT"
      }
    },
    {
      "cell_type": "code",
      "source": [
        "print('Now to carry out the simulations, enter the value indicated according to the feature you want to modify')\n",
        "print('1 - Suicide in the family')\n",
        "print('2 - Able to make important decisions')\n",
        "print('3 - Student')\n",
        "print('4 - Hypochondriasis')\n",
        "print('5 - Feelings of guilt')\n",
        "print('6 - Work and interests')\n",
        "print('7 - Depression in the family')\n",
        "print('8 - History of alcohol use in the family')\n",
        "print('9 - Able to enjoy things')\n",
        "print('10 - Drug use')"
      ],
      "metadata": {
        "id": "Bo6mVPkRyiqi",
        "colab": {
          "base_uri": "https://localhost:8080/"
        },
        "outputId": "f2eafa94-387d-40a8-b4c3-734cdf1671b2"
      },
      "execution_count": null,
      "outputs": [
        {
          "output_type": "stream",
          "name": "stdout",
          "text": [
            "Now to carry out the simulations, enter the value indicated according to the feature you want to modify\n",
            "1 - Suicide in the family\n",
            "2 - Drugs in the family\n",
            "3 - Able to make important decisions\n",
            "4 - Student\n",
            "5 - Hypochondriasis\n",
            "6 - Feelings of guilt\n",
            "7 - Work and interests\n",
            "8 - Depression in the family\n",
            "9 - Able to enjoy things\n",
            "10 - Drug use\n"
          ]
        }
      ]
    },
    {
      "cell_type": "code",
      "source": [
        "def alter_feature(df,Variavel,valor):\n",
        "  df_suic_notears_with_errors = df\n",
        "  if Variavel == '1':\n",
        "    df_suic_notears_with_errors['Suic_familia'].loc[(df_suic_notears_with_errors.index==3953)] = float(Valor)\n",
        "    print('Suicide in the family')\n",
        "  elif Variavel == '2':\n",
        "    df_suic_notears_with_errors['Capaz de tomar decisões importantes'].loc[(df_suic_notears_with_errors.index==3953)] = float(Valor)\n",
        "    print('Able to make important decisions')\n",
        "  elif Variavel == '3':\n",
        "    df_suic_notears_with_errors['Estudante'].loc[(df_suic_notears_with_errors.index==3953)] = float(Valor)\n",
        "    print('Student')\n",
        "  elif Variavel == '4':\n",
        "    df_suic_notears_with_errors['Hipocondriase'].loc[(df_suic_notears_with_errors.index==3953)] = float(Valor)\n",
        "    print('Hipocondriase')\n",
        "  elif Variavel == '5':\n",
        "    df_suic_notears_with_errors['Sentimentos_culpa'].loc[(df_suic_notears_with_errors.index==3953)] = float(Valor)\n",
        "    print('Feelings of guilt')\n",
        "  elif Variavel == '6':\n",
        "    df_suic_notears_with_errors['Trabalho e interesses'].loc[(df_suic_notears_with_errors.index==3953)] = float(Valor)\n",
        "    print('Work and interests')\n",
        "  elif Variavel == '7':\n",
        "    df_suic_notears_with_errors['Dep_familia'].loc[(df_suic_notears_with_errors.index==3953)] = float(Valor)\n",
        "    print('Depression in the family')\n",
        "  elif Variavel == '8':\n",
        "    df_suic_notears_with_errors['Alc_familia'].loc[(df_suic_notears_with_errors.index==3953)] = float(Valor)\n",
        "    print('History of alcohol use in the family')\n",
        "  elif Variavel == '9':\n",
        "    df_suic_notears_with_errors['Capaz de desfrutar das coisas'].loc[(df_suic_notears_with_errors.index==3953)] = float(Valor)\n",
        "    print('Able to enjoy things')\n",
        "  else:\n",
        "    df_suic_notears_with_errors['Droga'].loc[(df_suic_notears_with_errors.index==3953)] = float(Valor)\n",
        "    print('Drug use')\n",
        "  return df_suic_notears_with_errors"
      ],
      "metadata": {
        "id": "fFa2P198SfOr"
      },
      "execution_count": null,
      "outputs": []
    },
    {
      "cell_type": "code",
      "execution_count": null,
      "outputs": [
        {
          "output_type": "stream",
          "name": "stdout",
          "text": [
            "Enter the value indicated according to the feature you want to modify\n"
          ]
        }
      ],
      "source": [
        "for i in range(1,10):\n",
        "  df_simula = df_suic_notears_with_errors.copy()\n",
        "  print('Enter the value indicated according to the feature you want to modify')\n",
        "  Variavel = input(\"1 Suicide in the family, 2 Able to make important decisions, 3 Student, 4 Hypochondriasis, 5 Feelings of guilt, 6 Work and interests, 7 Depression in the family, 8 Alcohol use in the family, 9 Able to enjoy things and 10 Drug use\")\n",
        "  Valor = input(\"Enter the new value\")\n",
        "  df_simula = alter_feature(df_simula, Variavel, Valor)\n",
        "  contrafactual(df_simula)\n",
        "  if i<10:\n",
        "    simulacao = input(\"Do you want to run a new simulation? Enter 1 for Yes and 0 for No\")\n",
        "    if simulacao=='0':\n",
        "      break"
      ],
      "metadata": {
        "is_executing": true,
        "id": "AMweNmwfC9ys",
        "colab": {
          "base_uri": "https://localhost:8080/"
        },
        "outputId": "d221209d-2b3c-4a19-f6ab-9e358a6ef1fe"
      }
    }
  ],
  "metadata": {
    "kernelspec": {
      "display_name": "cml",
      "language": "python",
      "name": "python3"
    },
    "language_info": {
      "codemirror_mode": {
        "name": "ipython",
        "version": 3
      },
      "file_extension": ".py",
      "mimetype": "text/x-python",
      "name": "python",
      "nbconvert_exporter": "python",
      "pygments_lexer": "ipython3",
      "version": "3.8.13"
    },
    "vscode": {
      "interpreter": {
        "hash": "71f78216db5cb2f09350fda35ad9d9668a66a927586f044b9adeddeb17c1df4d"
      }
    },
    "colab": {
      "provenance": []
    },
    "widgets": {
      "application/vnd.jupyter.widget-state+json": {
        "e7f85270de55468b9713e69e02031d86": {
          "model_module": "@jupyter-widgets/controls",
          "model_name": "HBoxModel",
          "model_module_version": "1.5.0",
          "state": {
            "_dom_classes": [],
            "_model_module": "@jupyter-widgets/controls",
            "_model_module_version": "1.5.0",
            "_model_name": "HBoxModel",
            "_view_count": null,
            "_view_module": "@jupyter-widgets/controls",
            "_view_module_version": "1.5.0",
            "_view_name": "HBoxView",
            "box_style": "",
            "children": [
              "IPY_MODEL_1862f1b79e3c4c35badba22d3ea459d7",
              "IPY_MODEL_4250dbed41d3472eb41017c11accf594",
              "IPY_MODEL_5b691a53ff7d481cb8284de453f244a7"
            ],
            "layout": "IPY_MODEL_a8a67593ec254360b5f46fd5a2df540c"
          }
        },
        "1862f1b79e3c4c35badba22d3ea459d7": {
          "model_module": "@jupyter-widgets/controls",
          "model_name": "HTMLModel",
          "model_module_version": "1.5.0",
          "state": {
            "_dom_classes": [],
            "_model_module": "@jupyter-widgets/controls",
            "_model_module_version": "1.5.0",
            "_model_name": "HTMLModel",
            "_view_count": null,
            "_view_module": "@jupyter-widgets/controls",
            "_view_module_version": "1.5.0",
            "_view_name": "HTMLView",
            "description": "",
            "description_tooltip": null,
            "layout": "IPY_MODEL_c3a505d819264b488daf6524b2c3bc73",
            "placeholder": "​",
            "style": "IPY_MODEL_ab59f36cb2bc4265a3904d067f26a15e",
            "value": "100%"
          }
        },
        "4250dbed41d3472eb41017c11accf594": {
          "model_module": "@jupyter-widgets/controls",
          "model_name": "FloatProgressModel",
          "model_module_version": "1.5.0",
          "state": {
            "_dom_classes": [],
            "_model_module": "@jupyter-widgets/controls",
            "_model_module_version": "1.5.0",
            "_model_name": "FloatProgressModel",
            "_view_count": null,
            "_view_module": "@jupyter-widgets/controls",
            "_view_module_version": "1.5.0",
            "_view_name": "ProgressView",
            "bar_style": "success",
            "description": "",
            "description_tooltip": null,
            "layout": "IPY_MODEL_2a22564cad29434d8cb5e63d7e8aae48",
            "max": 1000,
            "min": 0,
            "orientation": "horizontal",
            "style": "IPY_MODEL_381f50d5ec1f4340ad1444c6025434f7",
            "value": 1000
          }
        },
        "5b691a53ff7d481cb8284de453f244a7": {
          "model_module": "@jupyter-widgets/controls",
          "model_name": "HTMLModel",
          "model_module_version": "1.5.0",
          "state": {
            "_dom_classes": [],
            "_model_module": "@jupyter-widgets/controls",
            "_model_module_version": "1.5.0",
            "_model_name": "HTMLModel",
            "_view_count": null,
            "_view_module": "@jupyter-widgets/controls",
            "_view_module_version": "1.5.0",
            "_view_name": "HTMLView",
            "description": "",
            "description_tooltip": null,
            "layout": "IPY_MODEL_487c56c2afe240c29e3da0e66fc5fccf",
            "placeholder": "​",
            "style": "IPY_MODEL_a4cf443ab01e40258a2ff805656a9cbf",
            "value": " 1000/1000 [01:32&lt;00:00, 11.43it/s]"
          }
        },
        "a8a67593ec254360b5f46fd5a2df540c": {
          "model_module": "@jupyter-widgets/base",
          "model_name": "LayoutModel",
          "model_module_version": "1.2.0",
          "state": {
            "_model_module": "@jupyter-widgets/base",
            "_model_module_version": "1.2.0",
            "_model_name": "LayoutModel",
            "_view_count": null,
            "_view_module": "@jupyter-widgets/base",
            "_view_module_version": "1.2.0",
            "_view_name": "LayoutView",
            "align_content": null,
            "align_items": null,
            "align_self": null,
            "border": null,
            "bottom": null,
            "display": null,
            "flex": null,
            "flex_flow": null,
            "grid_area": null,
            "grid_auto_columns": null,
            "grid_auto_flow": null,
            "grid_auto_rows": null,
            "grid_column": null,
            "grid_gap": null,
            "grid_row": null,
            "grid_template_areas": null,
            "grid_template_columns": null,
            "grid_template_rows": null,
            "height": null,
            "justify_content": null,
            "justify_items": null,
            "left": null,
            "margin": null,
            "max_height": null,
            "max_width": null,
            "min_height": null,
            "min_width": null,
            "object_fit": null,
            "object_position": null,
            "order": null,
            "overflow": null,
            "overflow_x": null,
            "overflow_y": null,
            "padding": null,
            "right": null,
            "top": null,
            "visibility": null,
            "width": null
          }
        },
        "c3a505d819264b488daf6524b2c3bc73": {
          "model_module": "@jupyter-widgets/base",
          "model_name": "LayoutModel",
          "model_module_version": "1.2.0",
          "state": {
            "_model_module": "@jupyter-widgets/base",
            "_model_module_version": "1.2.0",
            "_model_name": "LayoutModel",
            "_view_count": null,
            "_view_module": "@jupyter-widgets/base",
            "_view_module_version": "1.2.0",
            "_view_name": "LayoutView",
            "align_content": null,
            "align_items": null,
            "align_self": null,
            "border": null,
            "bottom": null,
            "display": null,
            "flex": null,
            "flex_flow": null,
            "grid_area": null,
            "grid_auto_columns": null,
            "grid_auto_flow": null,
            "grid_auto_rows": null,
            "grid_column": null,
            "grid_gap": null,
            "grid_row": null,
            "grid_template_areas": null,
            "grid_template_columns": null,
            "grid_template_rows": null,
            "height": null,
            "justify_content": null,
            "justify_items": null,
            "left": null,
            "margin": null,
            "max_height": null,
            "max_width": null,
            "min_height": null,
            "min_width": null,
            "object_fit": null,
            "object_position": null,
            "order": null,
            "overflow": null,
            "overflow_x": null,
            "overflow_y": null,
            "padding": null,
            "right": null,
            "top": null,
            "visibility": null,
            "width": null
          }
        },
        "ab59f36cb2bc4265a3904d067f26a15e": {
          "model_module": "@jupyter-widgets/controls",
          "model_name": "DescriptionStyleModel",
          "model_module_version": "1.5.0",
          "state": {
            "_model_module": "@jupyter-widgets/controls",
            "_model_module_version": "1.5.0",
            "_model_name": "DescriptionStyleModel",
            "_view_count": null,
            "_view_module": "@jupyter-widgets/base",
            "_view_module_version": "1.2.0",
            "_view_name": "StyleView",
            "description_width": ""
          }
        },
        "2a22564cad29434d8cb5e63d7e8aae48": {
          "model_module": "@jupyter-widgets/base",
          "model_name": "LayoutModel",
          "model_module_version": "1.2.0",
          "state": {
            "_model_module": "@jupyter-widgets/base",
            "_model_module_version": "1.2.0",
            "_model_name": "LayoutModel",
            "_view_count": null,
            "_view_module": "@jupyter-widgets/base",
            "_view_module_version": "1.2.0",
            "_view_name": "LayoutView",
            "align_content": null,
            "align_items": null,
            "align_self": null,
            "border": null,
            "bottom": null,
            "display": null,
            "flex": null,
            "flex_flow": null,
            "grid_area": null,
            "grid_auto_columns": null,
            "grid_auto_flow": null,
            "grid_auto_rows": null,
            "grid_column": null,
            "grid_gap": null,
            "grid_row": null,
            "grid_template_areas": null,
            "grid_template_columns": null,
            "grid_template_rows": null,
            "height": null,
            "justify_content": null,
            "justify_items": null,
            "left": null,
            "margin": null,
            "max_height": null,
            "max_width": null,
            "min_height": null,
            "min_width": null,
            "object_fit": null,
            "object_position": null,
            "order": null,
            "overflow": null,
            "overflow_x": null,
            "overflow_y": null,
            "padding": null,
            "right": null,
            "top": null,
            "visibility": null,
            "width": null
          }
        },
        "381f50d5ec1f4340ad1444c6025434f7": {
          "model_module": "@jupyter-widgets/controls",
          "model_name": "ProgressStyleModel",
          "model_module_version": "1.5.0",
          "state": {
            "_model_module": "@jupyter-widgets/controls",
            "_model_module_version": "1.5.0",
            "_model_name": "ProgressStyleModel",
            "_view_count": null,
            "_view_module": "@jupyter-widgets/base",
            "_view_module_version": "1.2.0",
            "_view_name": "StyleView",
            "bar_color": null,
            "description_width": ""
          }
        },
        "487c56c2afe240c29e3da0e66fc5fccf": {
          "model_module": "@jupyter-widgets/base",
          "model_name": "LayoutModel",
          "model_module_version": "1.2.0",
          "state": {
            "_model_module": "@jupyter-widgets/base",
            "_model_module_version": "1.2.0",
            "_model_name": "LayoutModel",
            "_view_count": null,
            "_view_module": "@jupyter-widgets/base",
            "_view_module_version": "1.2.0",
            "_view_name": "LayoutView",
            "align_content": null,
            "align_items": null,
            "align_self": null,
            "border": null,
            "bottom": null,
            "display": null,
            "flex": null,
            "flex_flow": null,
            "grid_area": null,
            "grid_auto_columns": null,
            "grid_auto_flow": null,
            "grid_auto_rows": null,
            "grid_column": null,
            "grid_gap": null,
            "grid_row": null,
            "grid_template_areas": null,
            "grid_template_columns": null,
            "grid_template_rows": null,
            "height": null,
            "justify_content": null,
            "justify_items": null,
            "left": null,
            "margin": null,
            "max_height": null,
            "max_width": null,
            "min_height": null,
            "min_width": null,
            "object_fit": null,
            "object_position": null,
            "order": null,
            "overflow": null,
            "overflow_x": null,
            "overflow_y": null,
            "padding": null,
            "right": null,
            "top": null,
            "visibility": null,
            "width": null
          }
        },
        "a4cf443ab01e40258a2ff805656a9cbf": {
          "model_module": "@jupyter-widgets/controls",
          "model_name": "DescriptionStyleModel",
          "model_module_version": "1.5.0",
          "state": {
            "_model_module": "@jupyter-widgets/controls",
            "_model_module_version": "1.5.0",
            "_model_name": "DescriptionStyleModel",
            "_view_count": null,
            "_view_module": "@jupyter-widgets/base",
            "_view_module_version": "1.2.0",
            "_view_name": "StyleView",
            "description_width": ""
          }
        },
        "0573e19d0c074ebc98db66bf49162fa6": {
          "model_module": "@jupyter-widgets/controls",
          "model_name": "HBoxModel",
          "model_module_version": "1.5.0",
          "state": {
            "_dom_classes": [],
            "_model_module": "@jupyter-widgets/controls",
            "_model_module_version": "1.5.0",
            "_model_name": "HBoxModel",
            "_view_count": null,
            "_view_module": "@jupyter-widgets/controls",
            "_view_module_version": "1.5.0",
            "_view_name": "HBoxView",
            "box_style": "",
            "children": [
              "IPY_MODEL_0a6dc7c0317041babee19ec2e552c0c0",
              "IPY_MODEL_4184a244b860468c88d02d7952e6b845",
              "IPY_MODEL_b9300bf813d74590aff85bb726433802"
            ],
            "layout": "IPY_MODEL_c7d92d06dee147628eeb079d438acef3"
          }
        },
        "0a6dc7c0317041babee19ec2e552c0c0": {
          "model_module": "@jupyter-widgets/controls",
          "model_name": "HTMLModel",
          "model_module_version": "1.5.0",
          "state": {
            "_dom_classes": [],
            "_model_module": "@jupyter-widgets/controls",
            "_model_module_version": "1.5.0",
            "_model_name": "HTMLModel",
            "_view_count": null,
            "_view_module": "@jupyter-widgets/controls",
            "_view_module_version": "1.5.0",
            "_view_name": "HTMLView",
            "description": "",
            "description_tooltip": null,
            "layout": "IPY_MODEL_b2d7f869cf5a45e9b7b3864da33f3276",
            "placeholder": "​",
            "style": "IPY_MODEL_682a165323f9467a897ba8061bf895de",
            "value": "100%"
          }
        },
        "4184a244b860468c88d02d7952e6b845": {
          "model_module": "@jupyter-widgets/controls",
          "model_name": "FloatProgressModel",
          "model_module_version": "1.5.0",
          "state": {
            "_dom_classes": [],
            "_model_module": "@jupyter-widgets/controls",
            "_model_module_version": "1.5.0",
            "_model_name": "FloatProgressModel",
            "_view_count": null,
            "_view_module": "@jupyter-widgets/controls",
            "_view_module_version": "1.5.0",
            "_view_name": "ProgressView",
            "bar_style": "success",
            "description": "",
            "description_tooltip": null,
            "layout": "IPY_MODEL_78771a34d4734126a239ce94f3fa5547",
            "max": 1000,
            "min": 0,
            "orientation": "horizontal",
            "style": "IPY_MODEL_165b3774a39d49799eb91cb491b3eeac",
            "value": 1000
          }
        },
        "b9300bf813d74590aff85bb726433802": {
          "model_module": "@jupyter-widgets/controls",
          "model_name": "HTMLModel",
          "model_module_version": "1.5.0",
          "state": {
            "_dom_classes": [],
            "_model_module": "@jupyter-widgets/controls",
            "_model_module_version": "1.5.0",
            "_model_name": "HTMLModel",
            "_view_count": null,
            "_view_module": "@jupyter-widgets/controls",
            "_view_module_version": "1.5.0",
            "_view_name": "HTMLView",
            "description": "",
            "description_tooltip": null,
            "layout": "IPY_MODEL_8dfaefb7140f4bc3abf09ce70e45f866",
            "placeholder": "​",
            "style": "IPY_MODEL_1773b10d2f7c49b7bec561ff1cf14708",
            "value": " 1000/1000 [01:31&lt;00:00, 11.45it/s]"
          }
        },
        "c7d92d06dee147628eeb079d438acef3": {
          "model_module": "@jupyter-widgets/base",
          "model_name": "LayoutModel",
          "model_module_version": "1.2.0",
          "state": {
            "_model_module": "@jupyter-widgets/base",
            "_model_module_version": "1.2.0",
            "_model_name": "LayoutModel",
            "_view_count": null,
            "_view_module": "@jupyter-widgets/base",
            "_view_module_version": "1.2.0",
            "_view_name": "LayoutView",
            "align_content": null,
            "align_items": null,
            "align_self": null,
            "border": null,
            "bottom": null,
            "display": null,
            "flex": null,
            "flex_flow": null,
            "grid_area": null,
            "grid_auto_columns": null,
            "grid_auto_flow": null,
            "grid_auto_rows": null,
            "grid_column": null,
            "grid_gap": null,
            "grid_row": null,
            "grid_template_areas": null,
            "grid_template_columns": null,
            "grid_template_rows": null,
            "height": null,
            "justify_content": null,
            "justify_items": null,
            "left": null,
            "margin": null,
            "max_height": null,
            "max_width": null,
            "min_height": null,
            "min_width": null,
            "object_fit": null,
            "object_position": null,
            "order": null,
            "overflow": null,
            "overflow_x": null,
            "overflow_y": null,
            "padding": null,
            "right": null,
            "top": null,
            "visibility": null,
            "width": null
          }
        },
        "b2d7f869cf5a45e9b7b3864da33f3276": {
          "model_module": "@jupyter-widgets/base",
          "model_name": "LayoutModel",
          "model_module_version": "1.2.0",
          "state": {
            "_model_module": "@jupyter-widgets/base",
            "_model_module_version": "1.2.0",
            "_model_name": "LayoutModel",
            "_view_count": null,
            "_view_module": "@jupyter-widgets/base",
            "_view_module_version": "1.2.0",
            "_view_name": "LayoutView",
            "align_content": null,
            "align_items": null,
            "align_self": null,
            "border": null,
            "bottom": null,
            "display": null,
            "flex": null,
            "flex_flow": null,
            "grid_area": null,
            "grid_auto_columns": null,
            "grid_auto_flow": null,
            "grid_auto_rows": null,
            "grid_column": null,
            "grid_gap": null,
            "grid_row": null,
            "grid_template_areas": null,
            "grid_template_columns": null,
            "grid_template_rows": null,
            "height": null,
            "justify_content": null,
            "justify_items": null,
            "left": null,
            "margin": null,
            "max_height": null,
            "max_width": null,
            "min_height": null,
            "min_width": null,
            "object_fit": null,
            "object_position": null,
            "order": null,
            "overflow": null,
            "overflow_x": null,
            "overflow_y": null,
            "padding": null,
            "right": null,
            "top": null,
            "visibility": null,
            "width": null
          }
        },
        "682a165323f9467a897ba8061bf895de": {
          "model_module": "@jupyter-widgets/controls",
          "model_name": "DescriptionStyleModel",
          "model_module_version": "1.5.0",
          "state": {
            "_model_module": "@jupyter-widgets/controls",
            "_model_module_version": "1.5.0",
            "_model_name": "DescriptionStyleModel",
            "_view_count": null,
            "_view_module": "@jupyter-widgets/base",
            "_view_module_version": "1.2.0",
            "_view_name": "StyleView",
            "description_width": ""
          }
        },
        "78771a34d4734126a239ce94f3fa5547": {
          "model_module": "@jupyter-widgets/base",
          "model_name": "LayoutModel",
          "model_module_version": "1.2.0",
          "state": {
            "_model_module": "@jupyter-widgets/base",
            "_model_module_version": "1.2.0",
            "_model_name": "LayoutModel",
            "_view_count": null,
            "_view_module": "@jupyter-widgets/base",
            "_view_module_version": "1.2.0",
            "_view_name": "LayoutView",
            "align_content": null,
            "align_items": null,
            "align_self": null,
            "border": null,
            "bottom": null,
            "display": null,
            "flex": null,
            "flex_flow": null,
            "grid_area": null,
            "grid_auto_columns": null,
            "grid_auto_flow": null,
            "grid_auto_rows": null,
            "grid_column": null,
            "grid_gap": null,
            "grid_row": null,
            "grid_template_areas": null,
            "grid_template_columns": null,
            "grid_template_rows": null,
            "height": null,
            "justify_content": null,
            "justify_items": null,
            "left": null,
            "margin": null,
            "max_height": null,
            "max_width": null,
            "min_height": null,
            "min_width": null,
            "object_fit": null,
            "object_position": null,
            "order": null,
            "overflow": null,
            "overflow_x": null,
            "overflow_y": null,
            "padding": null,
            "right": null,
            "top": null,
            "visibility": null,
            "width": null
          }
        },
        "165b3774a39d49799eb91cb491b3eeac": {
          "model_module": "@jupyter-widgets/controls",
          "model_name": "ProgressStyleModel",
          "model_module_version": "1.5.0",
          "state": {
            "_model_module": "@jupyter-widgets/controls",
            "_model_module_version": "1.5.0",
            "_model_name": "ProgressStyleModel",
            "_view_count": null,
            "_view_module": "@jupyter-widgets/base",
            "_view_module_version": "1.2.0",
            "_view_name": "StyleView",
            "bar_color": null,
            "description_width": ""
          }
        },
        "8dfaefb7140f4bc3abf09ce70e45f866": {
          "model_module": "@jupyter-widgets/base",
          "model_name": "LayoutModel",
          "model_module_version": "1.2.0",
          "state": {
            "_model_module": "@jupyter-widgets/base",
            "_model_module_version": "1.2.0",
            "_model_name": "LayoutModel",
            "_view_count": null,
            "_view_module": "@jupyter-widgets/base",
            "_view_module_version": "1.2.0",
            "_view_name": "LayoutView",
            "align_content": null,
            "align_items": null,
            "align_self": null,
            "border": null,
            "bottom": null,
            "display": null,
            "flex": null,
            "flex_flow": null,
            "grid_area": null,
            "grid_auto_columns": null,
            "grid_auto_flow": null,
            "grid_auto_rows": null,
            "grid_column": null,
            "grid_gap": null,
            "grid_row": null,
            "grid_template_areas": null,
            "grid_template_columns": null,
            "grid_template_rows": null,
            "height": null,
            "justify_content": null,
            "justify_items": null,
            "left": null,
            "margin": null,
            "max_height": null,
            "max_width": null,
            "min_height": null,
            "min_width": null,
            "object_fit": null,
            "object_position": null,
            "order": null,
            "overflow": null,
            "overflow_x": null,
            "overflow_y": null,
            "padding": null,
            "right": null,
            "top": null,
            "visibility": null,
            "width": null
          }
        },
        "1773b10d2f7c49b7bec561ff1cf14708": {
          "model_module": "@jupyter-widgets/controls",
          "model_name": "DescriptionStyleModel",
          "model_module_version": "1.5.0",
          "state": {
            "_model_module": "@jupyter-widgets/controls",
            "_model_module_version": "1.5.0",
            "_model_name": "DescriptionStyleModel",
            "_view_count": null,
            "_view_module": "@jupyter-widgets/base",
            "_view_module_version": "1.2.0",
            "_view_name": "StyleView",
            "description_width": ""
          }
        },
        "4ed51f0bba9c4d61bee2f21cd9d0eb68": {
          "model_module": "@jupyter-widgets/controls",
          "model_name": "HBoxModel",
          "model_module_version": "1.5.0",
          "state": {
            "_dom_classes": [],
            "_model_module": "@jupyter-widgets/controls",
            "_model_module_version": "1.5.0",
            "_model_name": "HBoxModel",
            "_view_count": null,
            "_view_module": "@jupyter-widgets/controls",
            "_view_module_version": "1.5.0",
            "_view_name": "HBoxView",
            "box_style": "",
            "children": [
              "IPY_MODEL_89195c5d34914512bae39a0a01f38417",
              "IPY_MODEL_406472f877384d65ae844194944c8eb7",
              "IPY_MODEL_1074abb6366f4aa78fd813460f020f83"
            ],
            "layout": "IPY_MODEL_e0b817ee198e4a09bc1a0fa6be2b464b"
          }
        },
        "89195c5d34914512bae39a0a01f38417": {
          "model_module": "@jupyter-widgets/controls",
          "model_name": "HTMLModel",
          "model_module_version": "1.5.0",
          "state": {
            "_dom_classes": [],
            "_model_module": "@jupyter-widgets/controls",
            "_model_module_version": "1.5.0",
            "_model_name": "HTMLModel",
            "_view_count": null,
            "_view_module": "@jupyter-widgets/controls",
            "_view_module_version": "1.5.0",
            "_view_name": "HTMLView",
            "description": "",
            "description_tooltip": null,
            "layout": "IPY_MODEL_7fa069addf834b948254aa3d3fe1b0f5",
            "placeholder": "​",
            "style": "IPY_MODEL_a1760f838eda4bf78c7b082fa76c1d39",
            "value": "100%"
          }
        },
        "406472f877384d65ae844194944c8eb7": {
          "model_module": "@jupyter-widgets/controls",
          "model_name": "FloatProgressModel",
          "model_module_version": "1.5.0",
          "state": {
            "_dom_classes": [],
            "_model_module": "@jupyter-widgets/controls",
            "_model_module_version": "1.5.0",
            "_model_name": "FloatProgressModel",
            "_view_count": null,
            "_view_module": "@jupyter-widgets/controls",
            "_view_module_version": "1.5.0",
            "_view_name": "ProgressView",
            "bar_style": "success",
            "description": "",
            "description_tooltip": null,
            "layout": "IPY_MODEL_001bc6976b9b48e5b69811ca79d01377",
            "max": 1000,
            "min": 0,
            "orientation": "horizontal",
            "style": "IPY_MODEL_6f47266fff3b416b97ec063347aa3aa5",
            "value": 1000
          }
        },
        "1074abb6366f4aa78fd813460f020f83": {
          "model_module": "@jupyter-widgets/controls",
          "model_name": "HTMLModel",
          "model_module_version": "1.5.0",
          "state": {
            "_dom_classes": [],
            "_model_module": "@jupyter-widgets/controls",
            "_model_module_version": "1.5.0",
            "_model_name": "HTMLModel",
            "_view_count": null,
            "_view_module": "@jupyter-widgets/controls",
            "_view_module_version": "1.5.0",
            "_view_name": "HTMLView",
            "description": "",
            "description_tooltip": null,
            "layout": "IPY_MODEL_7b75be77f935456b850b1a123d146a85",
            "placeholder": "​",
            "style": "IPY_MODEL_3d8c5c40f11b47b4bb908786181da56e",
            "value": " 1000/1000 [02:22&lt;00:00,  5.24it/s]"
          }
        },
        "e0b817ee198e4a09bc1a0fa6be2b464b": {
          "model_module": "@jupyter-widgets/base",
          "model_name": "LayoutModel",
          "model_module_version": "1.2.0",
          "state": {
            "_model_module": "@jupyter-widgets/base",
            "_model_module_version": "1.2.0",
            "_model_name": "LayoutModel",
            "_view_count": null,
            "_view_module": "@jupyter-widgets/base",
            "_view_module_version": "1.2.0",
            "_view_name": "LayoutView",
            "align_content": null,
            "align_items": null,
            "align_self": null,
            "border": null,
            "bottom": null,
            "display": null,
            "flex": null,
            "flex_flow": null,
            "grid_area": null,
            "grid_auto_columns": null,
            "grid_auto_flow": null,
            "grid_auto_rows": null,
            "grid_column": null,
            "grid_gap": null,
            "grid_row": null,
            "grid_template_areas": null,
            "grid_template_columns": null,
            "grid_template_rows": null,
            "height": null,
            "justify_content": null,
            "justify_items": null,
            "left": null,
            "margin": null,
            "max_height": null,
            "max_width": null,
            "min_height": null,
            "min_width": null,
            "object_fit": null,
            "object_position": null,
            "order": null,
            "overflow": null,
            "overflow_x": null,
            "overflow_y": null,
            "padding": null,
            "right": null,
            "top": null,
            "visibility": null,
            "width": null
          }
        },
        "7fa069addf834b948254aa3d3fe1b0f5": {
          "model_module": "@jupyter-widgets/base",
          "model_name": "LayoutModel",
          "model_module_version": "1.2.0",
          "state": {
            "_model_module": "@jupyter-widgets/base",
            "_model_module_version": "1.2.0",
            "_model_name": "LayoutModel",
            "_view_count": null,
            "_view_module": "@jupyter-widgets/base",
            "_view_module_version": "1.2.0",
            "_view_name": "LayoutView",
            "align_content": null,
            "align_items": null,
            "align_self": null,
            "border": null,
            "bottom": null,
            "display": null,
            "flex": null,
            "flex_flow": null,
            "grid_area": null,
            "grid_auto_columns": null,
            "grid_auto_flow": null,
            "grid_auto_rows": null,
            "grid_column": null,
            "grid_gap": null,
            "grid_row": null,
            "grid_template_areas": null,
            "grid_template_columns": null,
            "grid_template_rows": null,
            "height": null,
            "justify_content": null,
            "justify_items": null,
            "left": null,
            "margin": null,
            "max_height": null,
            "max_width": null,
            "min_height": null,
            "min_width": null,
            "object_fit": null,
            "object_position": null,
            "order": null,
            "overflow": null,
            "overflow_x": null,
            "overflow_y": null,
            "padding": null,
            "right": null,
            "top": null,
            "visibility": null,
            "width": null
          }
        },
        "a1760f838eda4bf78c7b082fa76c1d39": {
          "model_module": "@jupyter-widgets/controls",
          "model_name": "DescriptionStyleModel",
          "model_module_version": "1.5.0",
          "state": {
            "_model_module": "@jupyter-widgets/controls",
            "_model_module_version": "1.5.0",
            "_model_name": "DescriptionStyleModel",
            "_view_count": null,
            "_view_module": "@jupyter-widgets/base",
            "_view_module_version": "1.2.0",
            "_view_name": "StyleView",
            "description_width": ""
          }
        },
        "001bc6976b9b48e5b69811ca79d01377": {
          "model_module": "@jupyter-widgets/base",
          "model_name": "LayoutModel",
          "model_module_version": "1.2.0",
          "state": {
            "_model_module": "@jupyter-widgets/base",
            "_model_module_version": "1.2.0",
            "_model_name": "LayoutModel",
            "_view_count": null,
            "_view_module": "@jupyter-widgets/base",
            "_view_module_version": "1.2.0",
            "_view_name": "LayoutView",
            "align_content": null,
            "align_items": null,
            "align_self": null,
            "border": null,
            "bottom": null,
            "display": null,
            "flex": null,
            "flex_flow": null,
            "grid_area": null,
            "grid_auto_columns": null,
            "grid_auto_flow": null,
            "grid_auto_rows": null,
            "grid_column": null,
            "grid_gap": null,
            "grid_row": null,
            "grid_template_areas": null,
            "grid_template_columns": null,
            "grid_template_rows": null,
            "height": null,
            "justify_content": null,
            "justify_items": null,
            "left": null,
            "margin": null,
            "max_height": null,
            "max_width": null,
            "min_height": null,
            "min_width": null,
            "object_fit": null,
            "object_position": null,
            "order": null,
            "overflow": null,
            "overflow_x": null,
            "overflow_y": null,
            "padding": null,
            "right": null,
            "top": null,
            "visibility": null,
            "width": null
          }
        },
        "6f47266fff3b416b97ec063347aa3aa5": {
          "model_module": "@jupyter-widgets/controls",
          "model_name": "ProgressStyleModel",
          "model_module_version": "1.5.0",
          "state": {
            "_model_module": "@jupyter-widgets/controls",
            "_model_module_version": "1.5.0",
            "_model_name": "ProgressStyleModel",
            "_view_count": null,
            "_view_module": "@jupyter-widgets/base",
            "_view_module_version": "1.2.0",
            "_view_name": "StyleView",
            "bar_color": null,
            "description_width": ""
          }
        },
        "7b75be77f935456b850b1a123d146a85": {
          "model_module": "@jupyter-widgets/base",
          "model_name": "LayoutModel",
          "model_module_version": "1.2.0",
          "state": {
            "_model_module": "@jupyter-widgets/base",
            "_model_module_version": "1.2.0",
            "_model_name": "LayoutModel",
            "_view_count": null,
            "_view_module": "@jupyter-widgets/base",
            "_view_module_version": "1.2.0",
            "_view_name": "LayoutView",
            "align_content": null,
            "align_items": null,
            "align_self": null,
            "border": null,
            "bottom": null,
            "display": null,
            "flex": null,
            "flex_flow": null,
            "grid_area": null,
            "grid_auto_columns": null,
            "grid_auto_flow": null,
            "grid_auto_rows": null,
            "grid_column": null,
            "grid_gap": null,
            "grid_row": null,
            "grid_template_areas": null,
            "grid_template_columns": null,
            "grid_template_rows": null,
            "height": null,
            "justify_content": null,
            "justify_items": null,
            "left": null,
            "margin": null,
            "max_height": null,
            "max_width": null,
            "min_height": null,
            "min_width": null,
            "object_fit": null,
            "object_position": null,
            "order": null,
            "overflow": null,
            "overflow_x": null,
            "overflow_y": null,
            "padding": null,
            "right": null,
            "top": null,
            "visibility": null,
            "width": null
          }
        },
        "3d8c5c40f11b47b4bb908786181da56e": {
          "model_module": "@jupyter-widgets/controls",
          "model_name": "DescriptionStyleModel",
          "model_module_version": "1.5.0",
          "state": {
            "_model_module": "@jupyter-widgets/controls",
            "_model_module_version": "1.5.0",
            "_model_name": "DescriptionStyleModel",
            "_view_count": null,
            "_view_module": "@jupyter-widgets/base",
            "_view_module_version": "1.2.0",
            "_view_name": "StyleView",
            "description_width": ""
          }
        }
      }
    }
  },
  "nbformat": 4,
  "nbformat_minor": 0
}