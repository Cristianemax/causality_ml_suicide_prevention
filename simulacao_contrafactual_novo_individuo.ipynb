{
  "cells": [
    {
      "cell_type": "markdown",
      "source": [
        "## Prevenção do suicídio usando causalidade em aprendizado de máquina\n",
        "O aumento alarmante do numero de pessoas afetadas por doenças mentais tornou-se um dos principais problemas de saúde pública enfrentado pelos governos em todo o mundo.\n",
        "O suicídio esta entre as 20 causas de morte mais comuns segundo avaliação da Organização Mundial da Saúde (Organization et al., 2019), superando malaria, câncer de mama\n",
        "ou homicídio e nos últimos 20 anos, houve um aumento de 24% dos casos.\n",
        "Utilizamos dados de classificação clínica e identificamos os possíveis fatores causais que possam estabelecer relações com a ideação suicida.\n",
        "Para tanto, utilizamos métodos de inferência causal e aprendizado de maquina.\n",
        "\n",
        "Os fatores utilizados para inferência causal foram: Sexo, Estado Civil, Tipo de Residência, Alcoólatra, Droga, Suicídio na Família, Depressão na Família,\n",
        "Alcoólatra Família, Droga na Família, Neuro, Psiquiátrica, Capaz de desfrutar das coisas, Impacto de sua Família e amigos, Capaz de tomar decisões importantes,\n",
        "Estudante, Insônia, Ansiedade, Perda de insights, Apetite, Perda de Peso, Ansiedade somática, Hipocondriase, Sentimento de Culpa, Trabalho e interesses,\n",
        "Energia, Lentidão pensamento e fala, Agitação, Libido, TOC e idade.\n",
        "\n",
        "Após nossa pesquisa, os fatores que se apresentaram como possíveis causas que levam um indivíduo a ter ideação suicida foram: Suicídio na família, Drogas na família,\n",
        "Capaz de tomar decisões importantes, Estudante, Hipocondriase, Sentimentos de culpa, Trabalho e interesses e Energia.\n",
        "\n",
        "O objetivo desse projeto é fazer simulações contrafctuais para obter os possíveis fatores que influenciam determinado indivíduo a ter ideação suicida.\n",
        "De posse dele, os profissionais da área de saúde que atendem pacientes com ideação suicida, poderão trabalhar com os mesmos de forma mais assertiva objetivando atenuar ou até eliminar\n",
        "tal ideação.\n",
        "\n",
        "Passos para execução:\n",
        "                                                   \n",
        "1) Faça o upload do arquivo data.csv acessando o ícone Arquivos no menu do canto esquerdo, navegando até a pasta que contenha o arquivo. Clique em abrir e ignore o aviso.\n",
        "\n",
        "2) Acesse o menu Ambiente de execução/Executar tudo\n",
        "\n",
        "3) Entre com os dados de cada fator referente ao indivíduo em questão:\n",
        "   \n",
        "\t  > Suicídio na família: Digite 1 para Sim e 0 para não.\n",
        "\t     \n",
        "\t  > Capaz de tomar decisões importantes: Digite um número de 1 a 5, sendo: 1=Concordo totalmente; 2=Concordo; 3=Neutro; 4=Discordo;\n",
        "\t\t5=Discordo totalmente.\n",
        "   \n",
        "\t  > Estudante: Digite um número de 0 a 2, sendo: 0=Não; 1=Sim; 2=Meio período.\n",
        "   \n",
        "\t  > Hipocondriase: Digite um número de 0 a 4, sendo: 0=Ausente; 1=Leve 2=Moderado; 3=Moderadamente grave;\n",
        "\t\t4=Grave.\n",
        "   \n",
        "\t  > Sentimentos de culpa: Digite um número de 0 a 4, sendo: 0=Ausente, 1=Duvidoso ou trivial: Autocensura, sente que decepcionou as pessoas\n",
        "\t\t2=Leve: Idéias de culpa ou ruminação sobre erros passados ou atos pecaminosos; 3=Moderado: A doença atual é uma punição. Delírios de culpa\n",
        "\t\t4=Grave: Ouve vozes acusatórias ou denunciatórias e/ou experimenta alucinações visuais ameaçadoras.\n",
        "   \n",
        "\t  > Trabalho e interesses: Digite um número de 0 a 4, sendo:0=Ausente: Sem dificuldade; 1=Duvidoso ou trivial: Pensamentos entimentos de\n",
        "\t\tincapacidade, cansaço ou fraqueza relacionados às atividades; trabalho ou hobbies; 2=Leve: Perda de interesse pela atividade; hobbies\n",
        "\t\tou trabalho – relatados diretamente pelo paciente, ou indiretos em apatia, indecisão e vacilação (sente que precisa se esforçar para\n",
        "\t\ttrabalhar ou realizar atividades); 3=Moderado: Diminuição do tempo real gasto nas atividades ou diminuição da produtividade; 4=Grave:\n",
        "\t\tDeixou de trabalhar por doença atual.\n",
        "   \n",
        "\t  > Depressão na familia:  Digite 1 para Sim e 0 para não.\n",
        "   \n",
        "      > Histórico de uso de álcool na familia:  Digite 1 para Sim e 0 para não.\n",
        "   \n",
        "      > Capaz de desfrutar das coisas: Digite um número de 1 a 5, sendo: 1=Concordo totalmente; 2=Concordo; 3=Neutro; 4=Discordo;\n",
        "\t\t5=Discordo totalmente.\n",
        "\n",
        "\t  > Uso de drogas: Digite um número de 0 a 2, sendo: 0=Nenhum verificado; 1=Abuso; 2=Dependente.\n",
        "   \n",
        "\t  > Suicidio: Digite um número de 0 a 4, sendo: : 0=Ausente; 1=Sente que a vida está vazia; 2=Desejos de morte;\n",
        "\t\t3=Pensamentos suicidas ativos; 4=Tentativa grave de suicídio.\n",
        "   \n",
        "\t  > Ansiedade: Digite um número de 0 a 4, sendo: 0=Ausente: Sem dificuldade 1=Duvidoso ou trivial: Tensão subjetiva e irritabilidade;\n",
        "\t\t2=Leve: Preocupação com assuntos menores; 3=Moderado: Atitude apreensiva aparente na face ou na fala;\n",
        "\t\t4=Grave: Medos expressos sem questionamento.\n",
        "       \n",
        "\n",
        "4) Após alguns minutos será exibido o valor com o nível de ideação suicida previsto para o indivíduo\n",
        "\n",
        "5) O último passo é fazer as análises contrafactuais**  simulando alterações em cada um dos fatores. Você pode alterar cada um dos 10 fatores e verificar se o nível de ideação suicida será sensibilizado com a mudança.\n",
        "\n",
        "Obs.: Caso necessite efetuar mais simulações, execute a última célula novamente clicando no ícone ![image.png](data:image/png;base64,iVBORw0KGgoAAAANSUhEUgAAABoAAAAeCAYAAAAy2w7YAAAAAXNSR0IArs4c6QAAAARnQU1BAACxjwv8YQUAAAAJcEhZcwAADsMAAA7DAcdvqGQAAAIjSURBVEhL7dW9q0FxGAfwx+tOIjIIi5REJJtV2RSTMiixUf4JLxuRhRGzWRlk8bIaiMRAMSlF3Ps756l7f/e84Hbvne6n5HmenPN1HL/fkRwOhzv8ASm+/7r/oG/7D/q2h+vocrnAcDiE6XQKy+USdrsdSCQS0Gq1YDKZwOVygdfrBblcjkfwEw2aTCZQr9eZk4vR6/WQSCTA4XDghEswqN1uM69nkauMxWIQCoVwQuO9R61W66UQ4n6/Q7PZhG63ixMaJ2g0GkGn08HudY1GA2azGXYfqKDz+QzVahU7LqPRiJUwcmWVSgWu1ytOWFRQv9+H4/GIHVc+nwe/34+dsM1mA+PxGDsWFUR+NjEKhQIymQyk02lQKpU45ScatFgssBIXCASgUCiAwWDACdd8PseKRQWdTiesHiMhxWJR8Kf8uvaoIKmUap8itCPcbjesWNSZVSoVVo9tt1vIZrPMH4iPWq3GikUFmc1mrMQNBgMmhIQJsVqtWLGoILfbjRU/ssGWy2UolUpMLebruaggn88HGo0GO65cLge9Xg87YWST9Xg82LGoILI2UqkUdlzr9RorYWRzJecga+4zKoggW300GsXudfF4HGw2G3YfOEFEOByGSCTCfLtnkaVBQoLBIE5oog8+siXVajV4/wxO+JF7kkwmwW6344Tr6Uc52btWqxXs93vmSnU6HVgsFnA6ncyNl8lkeAS/h0E/hfce/TyAN409wsQE1/WlAAAAAElFTkSuQmCC) . A alteração do valor do nível de ideação suicida em alguma simulação, pode significar que o indíviduo é sensível ao fator da simulação em questão.\n",
        "\n",
        "** O pensamento contrafactual é um tipo de pensamento imaginativo caracterizado pela simulação mental de alternativas para eventos passados visando alterar a sequência de eventos para que se chegue a um desfecho diferente daquele que de fato ocorreu. Efetuando simulações nos fatores que se apresentaram como possíveis causas da ideação suicida, é possível chegar a conclusão de qual fator seria importante trabalhar prioritariamente em cada individuo.\n",
        "\n",
        "\n",
        "\n"
      ],
      "metadata": {
        "id": "lAUt_eSVvihD"
      }
    },
    {
      "cell_type": "code",
      "execution_count": null,
      "outputs": [],
      "source": [
        "#Importando bibliotecas\n",
        "import torch\n",
        "import pandas as pd\n",
        "import numpy as np\n",
        "\n",
        "# Importando dataset utils\n",
        "from torch.utils.data import Dataset, DataLoader\n",
        "from sklearn.model_selection import train_test_split\n",
        "\n",
        "import torch.nn as nn\n",
        "import torch.nn.functional as F\n",
        "\n",
        "import matplotlib.pyplot as plt\n",
        "\n",
        "import importlib\n",
        "if importlib.util.find_spec('ipywidgets') is not None:\n",
        "    from tqdm.auto import tqdm\n",
        "else:\n",
        "    from tqdm import tqdm\n",
        "\n",
        "import networkx as nx\n",
        "\n",
        "from typing import Union"
      ],
      "metadata": {
        "ExecuteTime": {
          "end_time": "2023-10-21T17:42:01.212958800Z",
          "start_time": "2023-10-21T17:41:48.090060400Z"
        },
        "id": "y5oHtJxwC9wG"
      }
    },
    {
      "cell_type": "code",
      "source": [
        "dataframe = pd.read_csv('/content/data.csv', sep=';')\n",
        "\n",
        "dataframe = dataframe.fillna(-1)\n",
        "dataframe['Anos educacao formal'] = dataframe['Anos educacao formal'].replace(-5, -1)\n",
        "dataframe['sexo'].replace({'M': 0, 'F': 1}, inplace=True)\n",
        "df_suic = dataframe.copy()\n",
        "df_suic = df_suic.astype(float)\n",
        "df_suic['Chave'] = df_suic.index\n",
        "df_suic.shape"
      ],
      "metadata": {
        "colab": {
          "base_uri": "https://localhost:8080/"
        },
        "id": "VI7I5bJv_2_q",
        "outputId": "d8b9f783-0587-4136-a926-833013ff9e78"
      },
      "execution_count": null,
      "outputs": [
        {
          "output_type": "execute_result",
          "data": {
            "text/plain": [
              "(3953, 69)"
            ]
          },
          "metadata": {},
          "execution_count": 25
        }
      ]
    },
    {
      "cell_type": "code",
      "source": [
        "notears_selected = [\n",
        "   \"Suic_familia\",\n",
        "    \"Capaz de tomar decisões importantes\",\n",
        "    \"Estudante\",\n",
        "    \"Hipocondriase\",\n",
        "    \"Sentimentos_culpa\",\n",
        "    \"Trabalho e interesses\",\n",
        "    'Dep_familia',\n",
        "    'Alc_familia',\n",
        "    'Capaz de desfrutar das coisas',\n",
        "    'Droga',\n",
        "    'Suicidio',\n",
        "    'Ansiedade'\n",
        "     ]"
      ],
      "metadata": {
        "id": "CYXJO99bCpcb"
      },
      "execution_count": null,
      "outputs": []
    },
    {
      "cell_type": "markdown",
      "source": [
        "# Lendo dados"
      ],
      "metadata": {
        "id": "a2xJfxFDiEC1"
      }
    },
    {
      "cell_type": "code",
      "source": [
        " df_novo = pd.DataFrame(columns = [\"Suic_familia\",\n",
        "    \"Capaz de tomar decisões importantes\",\n",
        "    \"Estudante\",\n",
        "    \"Hipocondriase\",\n",
        "    \"Sentimentos_culpa\",\n",
        "    \"Trabalho e interesses\",\n",
        "    'Dep_familia',\n",
        "    'Alc_familia',\n",
        "    'Capaz de desfrutar das coisas',\n",
        "    'Droga',\n",
        "    \"Suicidio\",\n",
        "    \"Ansiedade\"])"
      ],
      "metadata": {
        "id": "nPY1t7HCHUeU"
      },
      "execution_count": null,
      "outputs": []
    },
    {
      "cell_type": "markdown",
      "source": [
        "# Lendo fatores do novo indivíduo"
      ],
      "metadata": {
        "id": "fkHj-sWUiBe0"
      }
    },
    {
      "cell_type": "code",
      "source": [
        "Suic_familia = int(input(\"Suicidio na família: Digite 1 para Sim e 0 para não.\") )\n",
        "Capaz_tomar_decisoes = int(input(\"Capaz de tomar decisões importantes: Digite um número de 1 a 5, sendo: 1=Concordo totalmente e 5=Discordo totalmente.\") )\n",
        "Estudante = int(input(\"Estudante: Digite um número de 0 a 2, sendo: 0=Não; 1=Sim; 2=Meio período.\") )\n",
        "Hipocondriase = int(input(\"Hipocondriase: Digite um número de 0 a 4, sendo: 0=Ausente e 4=Grave.\") )\n",
        "Sentimento_culpa = int(input(\"Sentimentos de culpa: Digite um número de 0 a 4, sendo: 0=Ausente e 4=Grave.\") )\n",
        "Trabalho_interesses = int(input(\"Trabalho e interesses: Digite um número de 0 a 4, sendo: 0=Ausente e 4=Grave.\") )\n",
        "Dep_familia = int(input(\"Depressão na família: Digite 1 para Sim e 0 para não.\") )\n",
        "Alc_familia = int(input(\"Histórico de uso de álcool na família: Digite 1 para Sim e 0 para não.\") )\n",
        "Capaz_desfrutar = int(input(\"Capaz de desfrutar das coisas: Digite um número de 1 a 5, sendo: 1=Concordo totalmente e 5=Discordo totalmente.\") )\n",
        "Droga = int(input(\"Droga: Digite um número de 0 a 2, sendo: 0=Nenhum verificado; 1=Abuso; 2=Dependente.\") )\n",
        "Suicidio = int(input(\"Suicidio: Digite um número de 0 a 4, sendo 0 não possui ideação e 4 já efetuou alguma tentativa grave.\") )\n",
        "Ansiedade = int(input(\"Ansiedade: Digite um número de 0 a 4, sendo 0 ausente e 4 grave (medos expressos sem questionamento).\") )"
      ],
      "metadata": {
        "id": "l0Hhc8vCHoXc",
        "colab": {
          "base_uri": "https://localhost:8080/"
        },
        "outputId": "b1c20b19-5874-46a2-dec1-855f6a999d88"
      },
      "execution_count": null,
      "outputs": [
        {
          "name": "stdout",
          "output_type": "stream",
          "text": [
            "Suicidio na família: Digite 1 para Sim e 0 para não.1\n",
            "Histórico de uso de drogas na família: Digite 1 para Sim e 0 para não.0\n",
            "Capaz de tomar decisões importantes: Digite um número de 1 a 5, sendo: 1=Concordo totalmente e 5=Discordo totalmente.3\n",
            "Estudante: Digite um número de 0 a 2, sendo: 0=Não; 1=Sim; 2=Meio período.0\n",
            "Hipocondriase: Digite um número de 0 a 4, sendo: 0=Ausente e 4=Grave.2\n",
            "Sentimentos de culpa: Digite um número de 0 a 4, sendo: 0=Ausente e 4=Grave.4\n",
            "Trabalho e interesses: Digite um número de 0 a 4, sendo: 0=Ausente e 4=Grave.2\n",
            "Depressão na família: Digite 1 para Sim e 0 para não.1\n",
            "Capaz de desfrutar das coisas: Digite um número de 1 a 5, sendo: 1=Concordo totalmente e 5=Discordo totalmente.0\n",
            "Droga: Digite um número de 0 a 2, sendo: 0=Nenhum verificado; 1=Abuso; 2=Dependente.2\n",
            "Suicidio: Digite um número de 0 a 4, sendo 0 não possui ideação e 4 já efetuou alguma tentativa grave.1\n",
            "Ansiedade: Digite um número de 0 a 4, sendo 0 ausente e 4 grave (medos expressos sem questionamento).2\n"
          ]
        }
      ]
    },
    {
      "cell_type": "code",
      "source": [
        "df_novo=df_novo.append({'Suic_familia' : float(Suic_familia), 'Capaz de tomar decisões importantes' : float(Capaz_tomar_decisoes), 'Estudante' : float(Estudante),\n",
        "                        'Hipocondriase' : float(Hipocondriase), 'Sentimentos_culpa' : float(Sentimento_culpa), 'Trabalho e interesses' : float(Trabalho_interesses),\n",
        "                        'Dep_familia': float(Dep_familia), 'Alc_familia': float(Alc_familia), 'Capaz de desfrutar das coisas': float(Capaz_desfrutar), 'Droga' : float(Droga),\n",
        "                        'Suicidio' : float(Suicidio), 'Ansiedade': float(Ansiedade)}, ignore_index = True)"
      ],
      "metadata": {
        "id": "VtWpRYACJNW9",
        "colab": {
          "base_uri": "https://localhost:8080/"
        },
        "outputId": "3bf95b25-6734-45df-c553-438401c68dc6"
      },
      "execution_count": null,
      "outputs": [
        {
          "output_type": "stream",
          "name": "stderr",
          "text": [
            "<ipython-input-31-a9dc77f224a1>:1: FutureWarning: The frame.append method is deprecated and will be removed from pandas in a future version. Use pandas.concat instead.\n",
            "  df_novo=df_novo.append({'Suic_familia' : float(Suic_familia), 'Drog_familia' : float(Drog_familia), 'Capaz de tomar decisões importantes' : float(Capaz_tomar_decisoes), 'Estudante' : float(Estudante),\n"
          ]
        }
      ]
    },
    {
      "cell_type": "code",
      "source": [
        "df_novo['Suic_familia'] = df_novo['Suic_familia'].astype(float)\n",
        "df_novo['Capaz de tomar decisões importantes'] = df_novo['Capaz de tomar decisões importantes'].astype(float)\n",
        "df_novo['Estudante'] = df_novo['Estudante'].astype(float)\n",
        "df_novo['Hipocondriase'] = df_novo['Hipocondriase'].astype(float)\n",
        "df_novo['Sentimentos_culpa'] = df_novo['Sentimentos_culpa'].astype(float)\n",
        "df_novo['Trabalho e interesses'] = df_novo['Trabalho e interesses'].astype(float)\n",
        "df_novo['Dep_familia'] = df_novo['Dep_familia'].astype(float)\n",
        "df_novo['Alc_familia'] = df_novo['Alc_familia'].astype(float)\n",
        "df_novo['Capaz de desfrutar das coisas'] = df_novo['Capaz de desfrutar das coisas'].astype(float)\n",
        "df_novo['Droga'] = df_novo['Droga'].astype(float)\n",
        "df_novo['Suicidio'] = df_novo['Suicidio'].astype(float)\n",
        "df_novo['Ansiedade'] = df_novo['Ansiedade'].astype(float)"
      ],
      "metadata": {
        "id": "FwjXAJ3LhWb0"
      },
      "execution_count": null,
      "outputs": []
    },
    {
      "cell_type": "markdown",
      "source": [
        "# Criando conjunto de dados causal"
      ],
      "metadata": {
        "id": "A9jdXI0dBXKb"
      }
    },
    {
      "cell_type": "code",
      "source": [
        "# Conjunto de dados de X\n",
        "class CausalDataset(Dataset):\n",
        "    def __init__(self, X, target:Union[list, int]):\n",
        "        self.X = torch.tensor(X, dtype=torch.double)\n",
        "        self.target = target\n",
        "        if isinstance(target, int):\n",
        "            self.target = [target]\n",
        "\n",
        "\n",
        "        # X é toda variável, exceto a lista de alvos\n",
        "        dims = list(range(self.X.shape[1]))\n",
        "        self.x = self.X[:, [i for i in dims if i not in self.target]]\n",
        "        self.y = self.X[:, self.target]\n",
        "\n",
        "    def __len__(self):\n",
        "        return len(self.x)\n",
        "\n",
        "    def __getitem__(self, idx):\n",
        "        return self.x[idx].double(), self.y[idx].double()"
      ],
      "metadata": {
        "id": "N_O7r6rcBUMa"
      },
      "execution_count": null,
      "outputs": []
    },
    {
      "cell_type": "code",
      "execution_count": null,
      "metadata": {
        "ExecuteTime": {
          "end_time": "2023-10-21T17:42:02.441242400Z",
          "start_time": "2023-10-21T17:42:02.241586800Z"
        },
        "id": "l6ndJJD9C9we"
      },
      "outputs": [],
      "source": [
        "class MLP(torch.nn.Module):\n",
        "    def __init__(self, dim_list:list, add_dropout:bool=False):\n",
        "        super(MLP, self).__init__()\n",
        "        torch.manual_seed(3)\n",
        "        self.layers = torch.nn.ModuleList()\n",
        "        for i in range(len(dim_list) - 2):\n",
        "            self.layers.append(torch.nn.Linear(dim_list[i], dim_list[i+1]))\n",
        "            self.layers.append(torch.nn.ReLU())\n",
        "            if add_dropout:\n",
        "                self.layers.append(torch.nn.Dropout(0.3))\n",
        "\n",
        "        self.layers.append(torch.nn.Linear(dim_list[-2], dim_list[-1]))\n",
        "        self.double()\n",
        "\n",
        "    def forward(self, x):\n",
        "        for layer in self.layers:\n",
        "            x = layer(x)\n",
        "        return x"
      ]
    },
    {
      "cell_type": "markdown",
      "metadata": {
        "id": "nPZsZblZC9wf"
      },
      "source": [
        "# Pipeline de treino do modelo"
      ]
    },
    {
      "cell_type": "code",
      "execution_count": null,
      "metadata": {
        "ExecuteTime": {
          "end_time": "2023-10-21T17:42:02.443249500Z",
          "start_time": "2023-10-21T17:42:02.288585100Z"
        },
        "id": "TEll4p13C9wf"
      },
      "outputs": [],
      "source": [
        "def trainPipeline(dataset, model, batch_size=64, train_split=0.8, verbose=True, max_epochs=100, patience=10, lr=0.001, weight_decay=0.0, loss_fn=nn.MSELoss()):\n",
        "    train_size = int(train_split * len(dataset))\n",
        "    test_size = len(dataset) - train_size\n",
        "    torch.manual_seed(3)\n",
        "    train_dataset, test_dataset = torch.utils.data.random_split(dataset, [train_size, test_size])\n",
        "\n",
        "    train_loader = DataLoader(train_dataset, batch_size=batch_size, shuffle=True)\n",
        "    test_loader = DataLoader(test_dataset, batch_size=batch_size, shuffle=True)\n",
        "\n",
        "    criterion = loss_fn\n",
        "    optimizer = torch.optim.Adam(model.parameters(), lr=lr, weight_decay=weight_decay)\n",
        "\n",
        "    patience = patience\n",
        "\n",
        "    train_losses = []\n",
        "    test_losses = []\n",
        "    for epoch in tqdm(range(max_epochs)):\n",
        "        train_loss = 0\n",
        "        model.train()\n",
        "        for data, target in train_loader:\n",
        "            optimizer.zero_grad()\n",
        "            output = model(data)\n",
        "            loss = criterion(output, target)\n",
        "            loss.backward()\n",
        "            optimizer.step()\n",
        "            train_loss += loss.item()\n",
        "        train_loss /= len(train_loader)\n",
        "        train_losses.append(train_loss)\n",
        "\n",
        "        test_loss = 0\n",
        "        model.eval()\n",
        "        with torch.no_grad():\n",
        "            for data, target in test_loader:\n",
        "                output = model(data)\n",
        "                loss = criterion(output, target)\n",
        "                test_loss += loss.item()\n",
        "        test_loss /= len(test_loader)\n",
        "        test_losses.append(test_loss)\n",
        "\n",
        "        if verbose:\n",
        "            print(f\"Epoch {epoch} - Train loss: {train_loss} - Test loss: {test_loss}\")\n",
        "\n",
        "        if epoch > 10:\n",
        "            all_patience = test_losses[-patience:]\n",
        "            test_loss = test_losses[-1]\n",
        "            if all([test_loss > x for x in all_patience]):\n",
        "                print(\"Early stopping\")\n",
        "                break\n",
        "\n",
        "    # teste do modelo no conjunto de teste e cálculo da precisão\n",
        "    model.eval()\n",
        "    with torch.no_grad():\n",
        "        y_pred_test = []\n",
        "        y_true_test = []\n",
        "        y_pred_train = []\n",
        "        y_true_train = []\n",
        "\n",
        "        for data, target in train_loader:\n",
        "            output = model(data)\n",
        "            y_pred_train.append(output)\n",
        "            y_true_train.append(target)\n",
        "        for data, target in test_loader:\n",
        "            output = model(data)\n",
        "            y_pred_test.append(output)\n",
        "            y_true_test.append(target)\n",
        "\n",
        "        y_pred_test = torch.cat(y_pred_test, dim=0)\n",
        "        y_true_test = torch.cat(y_true_test, dim=0)\n",
        "        y_pred_train = torch.cat(y_pred_train, dim=0)\n",
        "        y_true_train = torch.cat(y_true_train, dim=0)\n",
        "\n",
        "        train_error = torch.abs(y_pred_train - y_true_train)\n",
        "        test_error = torch.abs(y_pred_test - y_true_test)\n",
        "\n",
        "        # calculando acurácia para cada alvo\n",
        "        test_accuracy = []\n",
        "        train_accuracy = []\n",
        "        for i in range(len(y_true_test[0])):\n",
        "            test_accuracy.append(torch.sum(test_error[:, i] < 0.5) / len(test_error))\n",
        "            train_accuracy.append(torch.sum(train_error[:, i] < 0.5) / len(train_error))\n",
        "\n",
        "        print(f\"Final Train accuracy: {train_accuracy}\")\n",
        "        print(f\"Final Test accuracy: {test_accuracy}\")\n",
        "\n",
        "    metrics = {\n",
        "        \"train_loss\": train_losses,\n",
        "        \"test_loss\": test_losses,\n",
        "        \"train_error\": train_error,\n",
        "        \"test_error\": test_error,\n",
        "        \"test_accuracy\": test_accuracy\n",
        "    }\n",
        "\n",
        "    return model, metrics\n"
      ]
    },
    {
      "cell_type": "markdown",
      "metadata": {
        "id": "HlcTn2J5C9wh"
      },
      "source": [
        "\n",
        "## Primeiro treinamos um modelo para cada alvo e obtemos o valor dos erros (individualidade)"
      ]
    },
    {
      "cell_type": "markdown",
      "metadata": {
        "id": "Tb9OD5fIC9wi"
      },
      "source": [
        "\n",
        "## Agora adicionamos os erros ao conjunto de dados e treinamos o modelo contrafactual"
      ]
    },
    {
      "cell_type": "code",
      "execution_count": null,
      "metadata": {
        "ExecuteTime": {
          "end_time": "2023-10-21T18:06:50.493294500Z",
          "start_time": "2023-10-21T18:06:50.317633200Z"
        },
        "id": "RBij2m5SC9wj"
      },
      "outputs": [],
      "source": [
        "# Criando o modelo counterfactual\n",
        "\n",
        "class CounterfactualModel(torch.nn.Module):\n",
        "    def __init__(self, input_size, hidden_size, output_size):\n",
        "        super(CounterfactualModel, self).__init__()\n",
        "        self.individuality_model = MLP([input_size, hidden_size, hidden_size, hidden_size, 1], add_dropout=True)\n",
        "        self.counterfactual_model = MLP([input_size+1, hidden_size, hidden_size, hidden_size, output_size], add_dropout=True)\n",
        "\n",
        "    def individuality(self, x):\n",
        "        return self.individuality_model(x)\n",
        "\n",
        "    def counterfactual(self, x, i):\n",
        "        x = torch.cat([x, i], dim=1)\n",
        "        return self.counterfactual_model(x)\n",
        "\n",
        "    def forward(self, x):\n",
        "        i = self.individuality(x)\n",
        "        y = self.counterfactual(x, i)\n",
        "        return y"
      ]
    },
    {
      "cell_type": "markdown",
      "metadata": {
        "id": "hlbIwDzvC9wm"
      },
      "source": [
        "# Agora vamos refazer tudo, mas com os fatores selecionados na inferência causal"
      ]
    },
    {
      "cell_type": "code",
      "execution_count": null,
      "metadata": {
        "ExecuteTime": {
          "end_time": "2023-10-21T19:45:42.670133Z",
          "start_time": "2023-10-21T18:35:14.037112600Z"
        },
        "id": "G3KfWv0WC9wm",
        "colab": {
          "base_uri": "https://localhost:8080/",
          "height": 150,
          "referenced_widgets": [
            "a87baf91b8e44b5bbbc1315284d03409",
            "62b1406a086943878ae97cd314e8765b",
            "0b0a12df063542e09f3f7a19d7f28733",
            "53ff6aab084b49d58870113329040bdf",
            "4c1454e91a304167926bb8b09c3c032d",
            "42c672e95252451b85c2a5cba130ab45",
            "5d4daa4f0249439985d5cc99d4089013",
            "78b8cc7c56b94bea842c6d82f4d9f63b",
            "86c3c27c0aa445178f4d4e399b9b9a69",
            "80369eb878cc44758b19233c60c52a20",
            "f3f6bf7a5d234c66b2117b25f5992d86",
            "1178c789e64b4ae9a5e39ed422c9e521",
            "b30e9665564f45279cd01f95178b2d7d",
            "4923eb2ffa964c578b11727cb314862b",
            "d934bc1378d047d2a07d8de121ae1b73",
            "e0933f83b7fa49a1b06966cb851f02eb",
            "8703bff435af41b7a52485776b4584c4",
            "dc2a1d1ef3f04c539a6b2f081027d0b0",
            "0ea94277d03c46119bb614bc0b70ee82",
            "2dd72d6e9e954625b5ad173c8884dfc7",
            "e7dd2959423f4a48b8517d1bdda3a213",
            "c97ab8541e4c42719c7fc0338df44240"
          ]
        },
        "outputId": "0208127b-d2f8-4001-e0a6-22d96eeadb80"
      },
      "outputs": [
        {
          "output_type": "display_data",
          "data": {
            "text/plain": [
              "  0%|          | 0/1000 [00:00<?, ?it/s]"
            ],
            "application/vnd.jupyter.widget-view+json": {
              "version_major": 2,
              "version_minor": 0,
              "model_id": "a87baf91b8e44b5bbbc1315284d03409"
            }
          },
          "metadata": {}
        },
        {
          "output_type": "stream",
          "name": "stdout",
          "text": [
            "Final Train accuracy: [tensor(0.5011)]\n",
            "Final Test accuracy: [tensor(0.3932)]\n"
          ]
        },
        {
          "output_type": "display_data",
          "data": {
            "text/plain": [
              "  0%|          | 0/1000 [00:00<?, ?it/s]"
            ],
            "application/vnd.jupyter.widget-view+json": {
              "version_major": 2,
              "version_minor": 0,
              "model_id": "1178c789e64b4ae9a5e39ed422c9e521"
            }
          },
          "metadata": {}
        },
        {
          "output_type": "stream",
          "name": "stdout",
          "text": [
            "Final Train accuracy: [tensor(0.5308)]\n",
            "Final Test accuracy: [tensor(0.4716)]\n"
          ]
        }
      ],
      "source": [
        "df_suic_notears = df_suic.copy()\n",
        "df_suic_notears = df_suic_notears[notears_selected]\n",
        "df_suic_notears=pd.concat([df_suic_notears,df_novo], ignore_index=True)\n",
        "\n",
        "# Criando modelos para cada alvo\n",
        "targets = [\"Suicidio\", \"Ansiedade\"]\n",
        "targets_idx = [df_suic_notears.columns.get_loc(c) for c in targets]\n",
        "\n",
        "# Criando base de dados\n",
        "notears_suic_dataset = CausalDataset(df_suic_notears.values, targets_idx[0])\n",
        "notears_anx_dataset = CausalDataset(df_suic_notears.values, targets_idx[1])\n",
        "sample_x, sample_y = notears_suic_dataset[0]\n",
        "\n",
        "# Agora prevemos os alvos com um MLP (Perceptron multicamadas)\n",
        "suic_causal_model = MLP([sample_x.shape[0], 64, 64, 64, 1], add_dropout=True)\n",
        "anx_causal_model = MLP([sample_x.shape[0], 64, 64, 64, 1], add_dropout=True)\n",
        "\n",
        "suic_causal_model, suic_causal_metrics = trainPipeline(notears_suic_dataset, suic_causal_model, verbose=False, max_epochs=1000, weight_decay=1e-5)\n",
        "anx_causal_model, anx_causal_metrics = trainPipeline(notears_anx_dataset, anx_causal_model, verbose=False, max_epochs=1000, weight_decay=1e-5)\n",
        "\n"
      ]
    },
    {
      "cell_type": "code",
      "execution_count": null,
      "metadata": {
        "ExecuteTime": {
          "end_time": "2023-10-21T20:49:41.814498400Z",
          "start_time": "2023-10-21T19:45:42.701133300Z"
        },
        "id": "-hEM_RE-C9wn",
        "colab": {
          "base_uri": "https://localhost:8080/",
          "height": 84,
          "referenced_widgets": [
            "591edead515a4f2785eb8b7e3c74a9d5",
            "30750c7a940741aea9da416b4403016b",
            "1842c1c3051140f38bb481a67bdad371",
            "22071352f52b44d4ab85d12f72395bbe",
            "d8e0beb771094ff6ba4a8f5c99c90b2b",
            "66afaf1992844d3c970ae36f6cbe5d85",
            "e1c74986628c47db88a47dc67994dc3c",
            "c61462c046cb4611a7b79e1335fa7fca",
            "a60e129db8584ebab0554ac4bdf9b026",
            "e16271bc05404336bb3a81a430b5245d",
            "a7a1de41085d4e47954cfdb475198920"
          ]
        },
        "outputId": "1210f313-0ac1-471f-fa16-5f5b60ad00f3"
      },
      "outputs": [
        {
          "output_type": "display_data",
          "data": {
            "text/plain": [
              "  0%|          | 0/1000 [00:00<?, ?it/s]"
            ],
            "application/vnd.jupyter.widget-view+json": {
              "version_major": 2,
              "version_minor": 0,
              "model_id": "591edead515a4f2785eb8b7e3c74a9d5"
            }
          },
          "metadata": {}
        },
        {
          "output_type": "stream",
          "name": "stdout",
          "text": [
            "Final Train accuracy: [tensor(0.8577), tensor(0.8230)]\n",
            "Final Test accuracy: [tensor(0.8040), tensor(0.7560)]\n"
          ]
        }
      ],
      "source": [
        "# calculando individualidade\n",
        "suic_causal_erros = []\n",
        "anx_causal_erros = []\n",
        "with torch.no_grad():\n",
        "    for data, y_true in notears_suic_dataset:\n",
        "        y_pred = suic_causal_model(data)\n",
        "        error = torch.abs(y_pred - y_true).item()\n",
        "        suic_causal_erros.append(error)\n",
        "    for data, y_true in notears_anx_dataset:\n",
        "        y_pred = anx_causal_model(data)\n",
        "        error = torch.abs(y_pred - y_true).item()\n",
        "        anx_causal_erros.append(error)\n",
        "\n",
        "suic_causal_erros = np.array(suic_causal_erros)\n",
        "anx_causal_erros = np.array(anx_causal_erros)\n",
        "\n",
        "# adicionando individualidade no dataframe\n",
        "df_suic_notears_with_errors = df_suic_notears.copy()\n",
        "df_suic_notears_with_errors[\"Suicidio_error\"] = suic_causal_erros\n",
        "df_suic_notears_with_errors[\"Ansiedade_error\"] = anx_causal_erros\n",
        "\n",
        "# criando dataset causal com individualidade\n",
        "targets_idx = [df_suic_notears_with_errors.columns.get_loc(c) for c in targets]\n",
        "notears_causal_dataset_error = CausalDataset(df_suic_notears_with_errors.values, targets_idx)\n",
        "sample_x, sample_y = notears_causal_dataset_error[0]\n",
        "\n",
        "# criando modelo counterfactual\n",
        "causal_cf_model = CounterfactualModel(sample_x.shape[0], 64, sample_y.shape[0])\n",
        "\n",
        "# treinando modelo counterfactual\n",
        "causal_cf_model, causal_cf_metrics = trainPipeline(notears_causal_dataset_error, causal_cf_model, verbose=False, max_epochs=1000, weight_decay=1e-5)\n"
      ]
    },
    {
      "cell_type": "code",
      "source": [
        "targets = [\"Suicidio\", \"Ansiedade\"]\n",
        "df = df_suic_notears_with_errors\n",
        "\n",
        "# carregando o modelo\n",
        "counterfact = causal_cf_model\n",
        "counterfact = counterfact.eval()"
      ],
      "metadata": {
        "id": "6QrdW6pOUzHP"
      },
      "execution_count": null,
      "outputs": []
    },
    {
      "cell_type": "markdown",
      "metadata": {
        "id": "TfUh9_BWC9yW"
      },
      "source": [
        "# Predição inicial"
      ]
    },
    {
      "cell_type": "code",
      "source": [
        "def contrafactual(df):\n",
        "  df_suic_notears_with_errors = df\n",
        "  dataset = CausalDataset(df_suic_notears_with_errors.values, [df.columns.get_loc(c) for c in targets])\n",
        "\n",
        "  idx = [0,3953]\n",
        "\n",
        "  data1, y1 = dataset[idx[0]]\n",
        "  data2, y2 = dataset[idx[1]]\n",
        "\n",
        "  # prevendo os contrafactuais para o indivíduo\n",
        "  with torch.no_grad():\n",
        "      i1 = counterfact.individuality(data1.unsqueeze(0))\n",
        "      i2 = counterfact.individuality(data2.unsqueeze(0))\n",
        "\n",
        "      cf11 = counterfact.counterfactual(data1.unsqueeze(0), i1)\n",
        "      cf12 = counterfact.counterfactual(data2.unsqueeze(0), i2)\n",
        "\n",
        "      print(f\"Valor previsto para ideação suicída  {cf12.squeeze(0).round().numpy().tolist()[0]}\")\n",
        "      print()"
      ],
      "metadata": {
        "id": "nOkuKE4OQrcZ"
      },
      "execution_count": null,
      "outputs": []
    },
    {
      "cell_type": "markdown",
      "source": [],
      "metadata": {
        "id": "uLGwf3P0smcF"
      }
    },
    {
      "cell_type": "code",
      "source": [
        "print('Predição inicial')\n",
        "contrafactual(df_suic_notears_with_errors)"
      ],
      "metadata": {
        "id": "ZvL-ZV0DhKFk",
        "colab": {
          "base_uri": "https://localhost:8080/"
        },
        "outputId": "3fbb53bd-d810-4cb7-a669-e7e09047cac7"
      },
      "execution_count": null,
      "outputs": [
        {
          "output_type": "stream",
          "name": "stdout",
          "text": [
            "Predição inicial\n",
            "Valor previsto para ideação suicída  2.0\n",
            "\n"
          ]
        }
      ]
    },
    {
      "cell_type": "markdown",
      "source": [
        "# Simulações contrafactuais\n",
        "\n"
      ],
      "metadata": {
        "id": "o9T71QJ9igRT"
      }
    },
    {
      "cell_type": "code",
      "source": [
        "print('Digite o valor indicado de acordo com a feature que deseja modificar')"
      ],
      "metadata": {
        "id": "Bo6mVPkRyiqi",
        "colab": {
          "base_uri": "https://localhost:8080/"
        },
        "outputId": "74d2545c-5185-40a6-86d1-ac0c268fc55c"
      },
      "execution_count": null,
      "outputs": [
        {
          "output_type": "stream",
          "name": "stdout",
          "text": [
            "Digite o valor indicado de acordo com a feature que deseja modificar\n"
          ]
        }
      ]
    },
    {
      "cell_type": "code",
      "source": [
        "def alter_feature(df,Variavel,valor):\n",
        "  df_suic_notears_with_errors = df\n",
        "  if Variavel == '1':\n",
        "    df_suic_notears_with_errors['Suic_familia'].loc[(df_suic_notears_with_errors.index==3953)] = float(Valor)\n",
        "    print('Suicidio na família')\n",
        "  elif Variavel == '2':\n",
        "    df_suic_notears_with_errors['Capaz de tomar decisões importantes'].loc[(df_suic_notears_with_errors.index==3953)] = float(Valor)\n",
        "    print('Capaz de tomar decisões importantes')\n",
        "  elif Variavel == '3':\n",
        "    df_suic_notears_with_errors['Estudante'].loc[(df_suic_notears_with_errors.index==3953)] = float(Valor)\n",
        "    print('Estudante')\n",
        "  elif Variavel == '4':\n",
        "    df_suic_notears_with_errors['Hipocondriase'].loc[(df_suic_notears_with_errors.index==3953)] = float(Valor)\n",
        "    print('Hipocondriase')\n",
        "  elif Variavel == '5':\n",
        "    df_suic_notears_with_errors['Sentimentos_culpa'].loc[(df_suic_notears_with_errors.index==3953)] = float(Valor)\n",
        "    print('Sentimentos de culpa')\n",
        "  elif Variavel == '6':\n",
        "    df_suic_notears_with_errors['Trabalho e interesses'].loc[(df_suic_notears_with_errors.index==3953)] = float(Valor)\n",
        "    print('Trabalho e interesses')\n",
        "  elif Variavel == '7':\n",
        "    df_suic_notears_with_errors['Dep_familia'].loc[(df_suic_notears_with_errors.index==3953)] = float(Valor)\n",
        "    print('Depressão na familia')\n",
        "  elif Variavel == '8':\n",
        "    df_suic_notears_with_errors['Alc_familia'].loc[(df_suic_notears_with_errors.index==3953)] = float(Valor)\n",
        "    print('Álcool na familia')\n",
        "  elif Variavel == '9':\n",
        "    df_suic_notears_with_errors['Capaz de desfrutar das coisas'].loc[(df_suic_notears_with_errors.index==3953)] = float(Valor)\n",
        "    print('Capaz de desfrutar das coisas')\n",
        "  else:\n",
        "    df_suic_notears_with_errors['Droga'].loc[(df_suic_notears_with_errors.index==3953)] = float(Valor)\n",
        "    print('Droga')\n",
        "  return df_suic_notears_with_errors"
      ],
      "metadata": {
        "id": "fFa2P198SfOr"
      },
      "execution_count": null,
      "outputs": []
    },
    {
      "cell_type": "code",
      "source": [
        "print('Agora para efetuar as simulações, digite o valor indicado de acordo com a feature que deseja modificar')\n",
        "print('1 - Suicídio na família')\n",
        "print('2 - Capaz de tomar decisões importantes')\n",
        "print('3 - Estudante')\n",
        "print('4 - Hipocondriase')\n",
        "print('5 - Sentimentos de culpa')\n",
        "print('6 - Trabalho e interesses')\n",
        "print('7 - Depressão na familia')\n",
        "print('8 - Histórico de uso de álcool na familia')\n",
        "print('9 - Capaz de desfrutar das coisas')\n",
        "print('10 - Histórico de uso de drogas na família')"
      ],
      "metadata": {
        "colab": {
          "base_uri": "https://localhost:8080/"
        },
        "id": "_pO0dPd3NzOQ",
        "outputId": "4715d9cd-27c6-4c4d-c289-7ed5348285cb"
      },
      "execution_count": null,
      "outputs": [
        {
          "output_type": "stream",
          "name": "stdout",
          "text": [
            "Agora para efetuar as simulações, digite o valor indicado de acordo com a feature que deseja modificar\n",
            "1 - Suicídio na família\n",
            "2 - Drogas na família\n",
            "3 - Capaz de tomar decisões importantes\n",
            "4 - Estudante\n",
            "5 - Hipocondriase\n",
            "6 - Sentimentos de culpa\n",
            "7 - Trabalho e interesses\n",
            "8 - Depressão na familia\n",
            "9 - Capaz de desfrutar das coisas\n",
            "10 - Histórico de uso de drogas na família\n"
          ]
        }
      ]
    },
    {
      "cell_type": "code",
      "execution_count": 1,
      "outputs": [],
      "source": [
        "for i in range(0,9):\n",
        "  df_simula = df_suic_notears_with_errors.copy()\n",
        "  print('Digite o valor indicado de acordo com a feature que deseja modificar')\n",
        "  Variavel = input(\"1 Suicidio na família, 2 Capaz de tomar decisões importantes, 3 Estudante, 4 Hipocondriase, 5 Sentimentos de culpa, 6 Trabalho e interesses, 7 Depressão na familia, 8 Uso de álcool na familia, 9 Capaz de desfrutar das coisas e 10 uso de drogas\")\n",
        "  Valor = input(\"Digite o novo valor\")\n",
        "  df_simula = alter_feature(df_simula, Variavel, Valor)\n",
        "  contrafactual(df_simula)\n",
        "  if i<9:\n",
        "    simulacao = input(\"Deseja executar nova simulação? Digite 1 para Sim e 0 para Não\")\n",
        "    if simulacao=='0':\n",
        "      break"
      ],
      "metadata": {
        "is_executing": true,
        "id": "AMweNmwfC9ys"
      }
    }
  ],
  "metadata": {
    "kernelspec": {
      "display_name": "cml",
      "language": "python",
      "name": "python3"
    },
    "language_info": {
      "codemirror_mode": {
        "name": "ipython",
        "version": 3
      },
      "file_extension": ".py",
      "mimetype": "text/x-python",
      "name": "python",
      "nbconvert_exporter": "python",
      "pygments_lexer": "ipython3",
      "version": "3.8.13"
    },
    "vscode": {
      "interpreter": {
        "hash": "71f78216db5cb2f09350fda35ad9d9668a66a927586f044b9adeddeb17c1df4d"
      }
    },
    "colab": {
      "provenance": []
    },
    "widgets": {
      "application/vnd.jupyter.widget-state+json": {
        "a87baf91b8e44b5bbbc1315284d03409": {
          "model_module": "@jupyter-widgets/controls",
          "model_name": "HBoxModel",
          "model_module_version": "1.5.0",
          "state": {
            "_dom_classes": [],
            "_model_module": "@jupyter-widgets/controls",
            "_model_module_version": "1.5.0",
            "_model_name": "HBoxModel",
            "_view_count": null,
            "_view_module": "@jupyter-widgets/controls",
            "_view_module_version": "1.5.0",
            "_view_name": "HBoxView",
            "box_style": "",
            "children": [
              "IPY_MODEL_62b1406a086943878ae97cd314e8765b",
              "IPY_MODEL_0b0a12df063542e09f3f7a19d7f28733",
              "IPY_MODEL_53ff6aab084b49d58870113329040bdf"
            ],
            "layout": "IPY_MODEL_4c1454e91a304167926bb8b09c3c032d"
          }
        },
        "62b1406a086943878ae97cd314e8765b": {
          "model_module": "@jupyter-widgets/controls",
          "model_name": "HTMLModel",
          "model_module_version": "1.5.0",
          "state": {
            "_dom_classes": [],
            "_model_module": "@jupyter-widgets/controls",
            "_model_module_version": "1.5.0",
            "_model_name": "HTMLModel",
            "_view_count": null,
            "_view_module": "@jupyter-widgets/controls",
            "_view_module_version": "1.5.0",
            "_view_name": "HTMLView",
            "description": "",
            "description_tooltip": null,
            "layout": "IPY_MODEL_42c672e95252451b85c2a5cba130ab45",
            "placeholder": "​",
            "style": "IPY_MODEL_5d4daa4f0249439985d5cc99d4089013",
            "value": "100%"
          }
        },
        "0b0a12df063542e09f3f7a19d7f28733": {
          "model_module": "@jupyter-widgets/controls",
          "model_name": "FloatProgressModel",
          "model_module_version": "1.5.0",
          "state": {
            "_dom_classes": [],
            "_model_module": "@jupyter-widgets/controls",
            "_model_module_version": "1.5.0",
            "_model_name": "FloatProgressModel",
            "_view_count": null,
            "_view_module": "@jupyter-widgets/controls",
            "_view_module_version": "1.5.0",
            "_view_name": "ProgressView",
            "bar_style": "success",
            "description": "",
            "description_tooltip": null,
            "layout": "IPY_MODEL_78b8cc7c56b94bea842c6d82f4d9f63b",
            "max": 1000,
            "min": 0,
            "orientation": "horizontal",
            "style": "IPY_MODEL_86c3c27c0aa445178f4d4e399b9b9a69",
            "value": 1000
          }
        },
        "53ff6aab084b49d58870113329040bdf": {
          "model_module": "@jupyter-widgets/controls",
          "model_name": "HTMLModel",
          "model_module_version": "1.5.0",
          "state": {
            "_dom_classes": [],
            "_model_module": "@jupyter-widgets/controls",
            "_model_module_version": "1.5.0",
            "_model_name": "HTMLModel",
            "_view_count": null,
            "_view_module": "@jupyter-widgets/controls",
            "_view_module_version": "1.5.0",
            "_view_name": "HTMLView",
            "description": "",
            "description_tooltip": null,
            "layout": "IPY_MODEL_80369eb878cc44758b19233c60c52a20",
            "placeholder": "​",
            "style": "IPY_MODEL_f3f6bf7a5d234c66b2117b25f5992d86",
            "value": " 1000/1000 [02:33&lt;00:00,  6.77it/s]"
          }
        },
        "4c1454e91a304167926bb8b09c3c032d": {
          "model_module": "@jupyter-widgets/base",
          "model_name": "LayoutModel",
          "model_module_version": "1.2.0",
          "state": {
            "_model_module": "@jupyter-widgets/base",
            "_model_module_version": "1.2.0",
            "_model_name": "LayoutModel",
            "_view_count": null,
            "_view_module": "@jupyter-widgets/base",
            "_view_module_version": "1.2.0",
            "_view_name": "LayoutView",
            "align_content": null,
            "align_items": null,
            "align_self": null,
            "border": null,
            "bottom": null,
            "display": null,
            "flex": null,
            "flex_flow": null,
            "grid_area": null,
            "grid_auto_columns": null,
            "grid_auto_flow": null,
            "grid_auto_rows": null,
            "grid_column": null,
            "grid_gap": null,
            "grid_row": null,
            "grid_template_areas": null,
            "grid_template_columns": null,
            "grid_template_rows": null,
            "height": null,
            "justify_content": null,
            "justify_items": null,
            "left": null,
            "margin": null,
            "max_height": null,
            "max_width": null,
            "min_height": null,
            "min_width": null,
            "object_fit": null,
            "object_position": null,
            "order": null,
            "overflow": null,
            "overflow_x": null,
            "overflow_y": null,
            "padding": null,
            "right": null,
            "top": null,
            "visibility": null,
            "width": null
          }
        },
        "42c672e95252451b85c2a5cba130ab45": {
          "model_module": "@jupyter-widgets/base",
          "model_name": "LayoutModel",
          "model_module_version": "1.2.0",
          "state": {
            "_model_module": "@jupyter-widgets/base",
            "_model_module_version": "1.2.0",
            "_model_name": "LayoutModel",
            "_view_count": null,
            "_view_module": "@jupyter-widgets/base",
            "_view_module_version": "1.2.0",
            "_view_name": "LayoutView",
            "align_content": null,
            "align_items": null,
            "align_self": null,
            "border": null,
            "bottom": null,
            "display": null,
            "flex": null,
            "flex_flow": null,
            "grid_area": null,
            "grid_auto_columns": null,
            "grid_auto_flow": null,
            "grid_auto_rows": null,
            "grid_column": null,
            "grid_gap": null,
            "grid_row": null,
            "grid_template_areas": null,
            "grid_template_columns": null,
            "grid_template_rows": null,
            "height": null,
            "justify_content": null,
            "justify_items": null,
            "left": null,
            "margin": null,
            "max_height": null,
            "max_width": null,
            "min_height": null,
            "min_width": null,
            "object_fit": null,
            "object_position": null,
            "order": null,
            "overflow": null,
            "overflow_x": null,
            "overflow_y": null,
            "padding": null,
            "right": null,
            "top": null,
            "visibility": null,
            "width": null
          }
        },
        "5d4daa4f0249439985d5cc99d4089013": {
          "model_module": "@jupyter-widgets/controls",
          "model_name": "DescriptionStyleModel",
          "model_module_version": "1.5.0",
          "state": {
            "_model_module": "@jupyter-widgets/controls",
            "_model_module_version": "1.5.0",
            "_model_name": "DescriptionStyleModel",
            "_view_count": null,
            "_view_module": "@jupyter-widgets/base",
            "_view_module_version": "1.2.0",
            "_view_name": "StyleView",
            "description_width": ""
          }
        },
        "78b8cc7c56b94bea842c6d82f4d9f63b": {
          "model_module": "@jupyter-widgets/base",
          "model_name": "LayoutModel",
          "model_module_version": "1.2.0",
          "state": {
            "_model_module": "@jupyter-widgets/base",
            "_model_module_version": "1.2.0",
            "_model_name": "LayoutModel",
            "_view_count": null,
            "_view_module": "@jupyter-widgets/base",
            "_view_module_version": "1.2.0",
            "_view_name": "LayoutView",
            "align_content": null,
            "align_items": null,
            "align_self": null,
            "border": null,
            "bottom": null,
            "display": null,
            "flex": null,
            "flex_flow": null,
            "grid_area": null,
            "grid_auto_columns": null,
            "grid_auto_flow": null,
            "grid_auto_rows": null,
            "grid_column": null,
            "grid_gap": null,
            "grid_row": null,
            "grid_template_areas": null,
            "grid_template_columns": null,
            "grid_template_rows": null,
            "height": null,
            "justify_content": null,
            "justify_items": null,
            "left": null,
            "margin": null,
            "max_height": null,
            "max_width": null,
            "min_height": null,
            "min_width": null,
            "object_fit": null,
            "object_position": null,
            "order": null,
            "overflow": null,
            "overflow_x": null,
            "overflow_y": null,
            "padding": null,
            "right": null,
            "top": null,
            "visibility": null,
            "width": null
          }
        },
        "86c3c27c0aa445178f4d4e399b9b9a69": {
          "model_module": "@jupyter-widgets/controls",
          "model_name": "ProgressStyleModel",
          "model_module_version": "1.5.0",
          "state": {
            "_model_module": "@jupyter-widgets/controls",
            "_model_module_version": "1.5.0",
            "_model_name": "ProgressStyleModel",
            "_view_count": null,
            "_view_module": "@jupyter-widgets/base",
            "_view_module_version": "1.2.0",
            "_view_name": "StyleView",
            "bar_color": null,
            "description_width": ""
          }
        },
        "80369eb878cc44758b19233c60c52a20": {
          "model_module": "@jupyter-widgets/base",
          "model_name": "LayoutModel",
          "model_module_version": "1.2.0",
          "state": {
            "_model_module": "@jupyter-widgets/base",
            "_model_module_version": "1.2.0",
            "_model_name": "LayoutModel",
            "_view_count": null,
            "_view_module": "@jupyter-widgets/base",
            "_view_module_version": "1.2.0",
            "_view_name": "LayoutView",
            "align_content": null,
            "align_items": null,
            "align_self": null,
            "border": null,
            "bottom": null,
            "display": null,
            "flex": null,
            "flex_flow": null,
            "grid_area": null,
            "grid_auto_columns": null,
            "grid_auto_flow": null,
            "grid_auto_rows": null,
            "grid_column": null,
            "grid_gap": null,
            "grid_row": null,
            "grid_template_areas": null,
            "grid_template_columns": null,
            "grid_template_rows": null,
            "height": null,
            "justify_content": null,
            "justify_items": null,
            "left": null,
            "margin": null,
            "max_height": null,
            "max_width": null,
            "min_height": null,
            "min_width": null,
            "object_fit": null,
            "object_position": null,
            "order": null,
            "overflow": null,
            "overflow_x": null,
            "overflow_y": null,
            "padding": null,
            "right": null,
            "top": null,
            "visibility": null,
            "width": null
          }
        },
        "f3f6bf7a5d234c66b2117b25f5992d86": {
          "model_module": "@jupyter-widgets/controls",
          "model_name": "DescriptionStyleModel",
          "model_module_version": "1.5.0",
          "state": {
            "_model_module": "@jupyter-widgets/controls",
            "_model_module_version": "1.5.0",
            "_model_name": "DescriptionStyleModel",
            "_view_count": null,
            "_view_module": "@jupyter-widgets/base",
            "_view_module_version": "1.2.0",
            "_view_name": "StyleView",
            "description_width": ""
          }
        },
        "1178c789e64b4ae9a5e39ed422c9e521": {
          "model_module": "@jupyter-widgets/controls",
          "model_name": "HBoxModel",
          "model_module_version": "1.5.0",
          "state": {
            "_dom_classes": [],
            "_model_module": "@jupyter-widgets/controls",
            "_model_module_version": "1.5.0",
            "_model_name": "HBoxModel",
            "_view_count": null,
            "_view_module": "@jupyter-widgets/controls",
            "_view_module_version": "1.5.0",
            "_view_name": "HBoxView",
            "box_style": "",
            "children": [
              "IPY_MODEL_b30e9665564f45279cd01f95178b2d7d",
              "IPY_MODEL_4923eb2ffa964c578b11727cb314862b",
              "IPY_MODEL_d934bc1378d047d2a07d8de121ae1b73"
            ],
            "layout": "IPY_MODEL_e0933f83b7fa49a1b06966cb851f02eb"
          }
        },
        "b30e9665564f45279cd01f95178b2d7d": {
          "model_module": "@jupyter-widgets/controls",
          "model_name": "HTMLModel",
          "model_module_version": "1.5.0",
          "state": {
            "_dom_classes": [],
            "_model_module": "@jupyter-widgets/controls",
            "_model_module_version": "1.5.0",
            "_model_name": "HTMLModel",
            "_view_count": null,
            "_view_module": "@jupyter-widgets/controls",
            "_view_module_version": "1.5.0",
            "_view_name": "HTMLView",
            "description": "",
            "description_tooltip": null,
            "layout": "IPY_MODEL_8703bff435af41b7a52485776b4584c4",
            "placeholder": "​",
            "style": "IPY_MODEL_dc2a1d1ef3f04c539a6b2f081027d0b0",
            "value": "100%"
          }
        },
        "4923eb2ffa964c578b11727cb314862b": {
          "model_module": "@jupyter-widgets/controls",
          "model_name": "FloatProgressModel",
          "model_module_version": "1.5.0",
          "state": {
            "_dom_classes": [],
            "_model_module": "@jupyter-widgets/controls",
            "_model_module_version": "1.5.0",
            "_model_name": "FloatProgressModel",
            "_view_count": null,
            "_view_module": "@jupyter-widgets/controls",
            "_view_module_version": "1.5.0",
            "_view_name": "ProgressView",
            "bar_style": "success",
            "description": "",
            "description_tooltip": null,
            "layout": "IPY_MODEL_0ea94277d03c46119bb614bc0b70ee82",
            "max": 1000,
            "min": 0,
            "orientation": "horizontal",
            "style": "IPY_MODEL_2dd72d6e9e954625b5ad173c8884dfc7",
            "value": 1000
          }
        },
        "d934bc1378d047d2a07d8de121ae1b73": {
          "model_module": "@jupyter-widgets/controls",
          "model_name": "HTMLModel",
          "model_module_version": "1.5.0",
          "state": {
            "_dom_classes": [],
            "_model_module": "@jupyter-widgets/controls",
            "_model_module_version": "1.5.0",
            "_model_name": "HTMLModel",
            "_view_count": null,
            "_view_module": "@jupyter-widgets/controls",
            "_view_module_version": "1.5.0",
            "_view_name": "HTMLView",
            "description": "",
            "description_tooltip": null,
            "layout": "IPY_MODEL_e7dd2959423f4a48b8517d1bdda3a213",
            "placeholder": "​",
            "style": "IPY_MODEL_c97ab8541e4c42719c7fc0338df44240",
            "value": " 1000/1000 [02:43&lt;00:00,  6.37it/s]"
          }
        },
        "e0933f83b7fa49a1b06966cb851f02eb": {
          "model_module": "@jupyter-widgets/base",
          "model_name": "LayoutModel",
          "model_module_version": "1.2.0",
          "state": {
            "_model_module": "@jupyter-widgets/base",
            "_model_module_version": "1.2.0",
            "_model_name": "LayoutModel",
            "_view_count": null,
            "_view_module": "@jupyter-widgets/base",
            "_view_module_version": "1.2.0",
            "_view_name": "LayoutView",
            "align_content": null,
            "align_items": null,
            "align_self": null,
            "border": null,
            "bottom": null,
            "display": null,
            "flex": null,
            "flex_flow": null,
            "grid_area": null,
            "grid_auto_columns": null,
            "grid_auto_flow": null,
            "grid_auto_rows": null,
            "grid_column": null,
            "grid_gap": null,
            "grid_row": null,
            "grid_template_areas": null,
            "grid_template_columns": null,
            "grid_template_rows": null,
            "height": null,
            "justify_content": null,
            "justify_items": null,
            "left": null,
            "margin": null,
            "max_height": null,
            "max_width": null,
            "min_height": null,
            "min_width": null,
            "object_fit": null,
            "object_position": null,
            "order": null,
            "overflow": null,
            "overflow_x": null,
            "overflow_y": null,
            "padding": null,
            "right": null,
            "top": null,
            "visibility": null,
            "width": null
          }
        },
        "8703bff435af41b7a52485776b4584c4": {
          "model_module": "@jupyter-widgets/base",
          "model_name": "LayoutModel",
          "model_module_version": "1.2.0",
          "state": {
            "_model_module": "@jupyter-widgets/base",
            "_model_module_version": "1.2.0",
            "_model_name": "LayoutModel",
            "_view_count": null,
            "_view_module": "@jupyter-widgets/base",
            "_view_module_version": "1.2.0",
            "_view_name": "LayoutView",
            "align_content": null,
            "align_items": null,
            "align_self": null,
            "border": null,
            "bottom": null,
            "display": null,
            "flex": null,
            "flex_flow": null,
            "grid_area": null,
            "grid_auto_columns": null,
            "grid_auto_flow": null,
            "grid_auto_rows": null,
            "grid_column": null,
            "grid_gap": null,
            "grid_row": null,
            "grid_template_areas": null,
            "grid_template_columns": null,
            "grid_template_rows": null,
            "height": null,
            "justify_content": null,
            "justify_items": null,
            "left": null,
            "margin": null,
            "max_height": null,
            "max_width": null,
            "min_height": null,
            "min_width": null,
            "object_fit": null,
            "object_position": null,
            "order": null,
            "overflow": null,
            "overflow_x": null,
            "overflow_y": null,
            "padding": null,
            "right": null,
            "top": null,
            "visibility": null,
            "width": null
          }
        },
        "dc2a1d1ef3f04c539a6b2f081027d0b0": {
          "model_module": "@jupyter-widgets/controls",
          "model_name": "DescriptionStyleModel",
          "model_module_version": "1.5.0",
          "state": {
            "_model_module": "@jupyter-widgets/controls",
            "_model_module_version": "1.5.0",
            "_model_name": "DescriptionStyleModel",
            "_view_count": null,
            "_view_module": "@jupyter-widgets/base",
            "_view_module_version": "1.2.0",
            "_view_name": "StyleView",
            "description_width": ""
          }
        },
        "0ea94277d03c46119bb614bc0b70ee82": {
          "model_module": "@jupyter-widgets/base",
          "model_name": "LayoutModel",
          "model_module_version": "1.2.0",
          "state": {
            "_model_module": "@jupyter-widgets/base",
            "_model_module_version": "1.2.0",
            "_model_name": "LayoutModel",
            "_view_count": null,
            "_view_module": "@jupyter-widgets/base",
            "_view_module_version": "1.2.0",
            "_view_name": "LayoutView",
            "align_content": null,
            "align_items": null,
            "align_self": null,
            "border": null,
            "bottom": null,
            "display": null,
            "flex": null,
            "flex_flow": null,
            "grid_area": null,
            "grid_auto_columns": null,
            "grid_auto_flow": null,
            "grid_auto_rows": null,
            "grid_column": null,
            "grid_gap": null,
            "grid_row": null,
            "grid_template_areas": null,
            "grid_template_columns": null,
            "grid_template_rows": null,
            "height": null,
            "justify_content": null,
            "justify_items": null,
            "left": null,
            "margin": null,
            "max_height": null,
            "max_width": null,
            "min_height": null,
            "min_width": null,
            "object_fit": null,
            "object_position": null,
            "order": null,
            "overflow": null,
            "overflow_x": null,
            "overflow_y": null,
            "padding": null,
            "right": null,
            "top": null,
            "visibility": null,
            "width": null
          }
        },
        "2dd72d6e9e954625b5ad173c8884dfc7": {
          "model_module": "@jupyter-widgets/controls",
          "model_name": "ProgressStyleModel",
          "model_module_version": "1.5.0",
          "state": {
            "_model_module": "@jupyter-widgets/controls",
            "_model_module_version": "1.5.0",
            "_model_name": "ProgressStyleModel",
            "_view_count": null,
            "_view_module": "@jupyter-widgets/base",
            "_view_module_version": "1.2.0",
            "_view_name": "StyleView",
            "bar_color": null,
            "description_width": ""
          }
        },
        "e7dd2959423f4a48b8517d1bdda3a213": {
          "model_module": "@jupyter-widgets/base",
          "model_name": "LayoutModel",
          "model_module_version": "1.2.0",
          "state": {
            "_model_module": "@jupyter-widgets/base",
            "_model_module_version": "1.2.0",
            "_model_name": "LayoutModel",
            "_view_count": null,
            "_view_module": "@jupyter-widgets/base",
            "_view_module_version": "1.2.0",
            "_view_name": "LayoutView",
            "align_content": null,
            "align_items": null,
            "align_self": null,
            "border": null,
            "bottom": null,
            "display": null,
            "flex": null,
            "flex_flow": null,
            "grid_area": null,
            "grid_auto_columns": null,
            "grid_auto_flow": null,
            "grid_auto_rows": null,
            "grid_column": null,
            "grid_gap": null,
            "grid_row": null,
            "grid_template_areas": null,
            "grid_template_columns": null,
            "grid_template_rows": null,
            "height": null,
            "justify_content": null,
            "justify_items": null,
            "left": null,
            "margin": null,
            "max_height": null,
            "max_width": null,
            "min_height": null,
            "min_width": null,
            "object_fit": null,
            "object_position": null,
            "order": null,
            "overflow": null,
            "overflow_x": null,
            "overflow_y": null,
            "padding": null,
            "right": null,
            "top": null,
            "visibility": null,
            "width": null
          }
        },
        "c97ab8541e4c42719c7fc0338df44240": {
          "model_module": "@jupyter-widgets/controls",
          "model_name": "DescriptionStyleModel",
          "model_module_version": "1.5.0",
          "state": {
            "_model_module": "@jupyter-widgets/controls",
            "_model_module_version": "1.5.0",
            "_model_name": "DescriptionStyleModel",
            "_view_count": null,
            "_view_module": "@jupyter-widgets/base",
            "_view_module_version": "1.2.0",
            "_view_name": "StyleView",
            "description_width": ""
          }
        },
        "591edead515a4f2785eb8b7e3c74a9d5": {
          "model_module": "@jupyter-widgets/controls",
          "model_name": "HBoxModel",
          "model_module_version": "1.5.0",
          "state": {
            "_dom_classes": [],
            "_model_module": "@jupyter-widgets/controls",
            "_model_module_version": "1.5.0",
            "_model_name": "HBoxModel",
            "_view_count": null,
            "_view_module": "@jupyter-widgets/controls",
            "_view_module_version": "1.5.0",
            "_view_name": "HBoxView",
            "box_style": "",
            "children": [
              "IPY_MODEL_30750c7a940741aea9da416b4403016b",
              "IPY_MODEL_1842c1c3051140f38bb481a67bdad371",
              "IPY_MODEL_22071352f52b44d4ab85d12f72395bbe"
            ],
            "layout": "IPY_MODEL_d8e0beb771094ff6ba4a8f5c99c90b2b"
          }
        },
        "30750c7a940741aea9da416b4403016b": {
          "model_module": "@jupyter-widgets/controls",
          "model_name": "HTMLModel",
          "model_module_version": "1.5.0",
          "state": {
            "_dom_classes": [],
            "_model_module": "@jupyter-widgets/controls",
            "_model_module_version": "1.5.0",
            "_model_name": "HTMLModel",
            "_view_count": null,
            "_view_module": "@jupyter-widgets/controls",
            "_view_module_version": "1.5.0",
            "_view_name": "HTMLView",
            "description": "",
            "description_tooltip": null,
            "layout": "IPY_MODEL_66afaf1992844d3c970ae36f6cbe5d85",
            "placeholder": "​",
            "style": "IPY_MODEL_e1c74986628c47db88a47dc67994dc3c",
            "value": "100%"
          }
        },
        "1842c1c3051140f38bb481a67bdad371": {
          "model_module": "@jupyter-widgets/controls",
          "model_name": "FloatProgressModel",
          "model_module_version": "1.5.0",
          "state": {
            "_dom_classes": [],
            "_model_module": "@jupyter-widgets/controls",
            "_model_module_version": "1.5.0",
            "_model_name": "FloatProgressModel",
            "_view_count": null,
            "_view_module": "@jupyter-widgets/controls",
            "_view_module_version": "1.5.0",
            "_view_name": "ProgressView",
            "bar_style": "success",
            "description": "",
            "description_tooltip": null,
            "layout": "IPY_MODEL_c61462c046cb4611a7b79e1335fa7fca",
            "max": 1000,
            "min": 0,
            "orientation": "horizontal",
            "style": "IPY_MODEL_a60e129db8584ebab0554ac4bdf9b026",
            "value": 1000
          }
        },
        "22071352f52b44d4ab85d12f72395bbe": {
          "model_module": "@jupyter-widgets/controls",
          "model_name": "HTMLModel",
          "model_module_version": "1.5.0",
          "state": {
            "_dom_classes": [],
            "_model_module": "@jupyter-widgets/controls",
            "_model_module_version": "1.5.0",
            "_model_name": "HTMLModel",
            "_view_count": null,
            "_view_module": "@jupyter-widgets/controls",
            "_view_module_version": "1.5.0",
            "_view_name": "HTMLView",
            "description": "",
            "description_tooltip": null,
            "layout": "IPY_MODEL_e16271bc05404336bb3a81a430b5245d",
            "placeholder": "​",
            "style": "IPY_MODEL_a7a1de41085d4e47954cfdb475198920",
            "value": " 1000/1000 [04:02&lt;00:00,  5.01it/s]"
          }
        },
        "d8e0beb771094ff6ba4a8f5c99c90b2b": {
          "model_module": "@jupyter-widgets/base",
          "model_name": "LayoutModel",
          "model_module_version": "1.2.0",
          "state": {
            "_model_module": "@jupyter-widgets/base",
            "_model_module_version": "1.2.0",
            "_model_name": "LayoutModel",
            "_view_count": null,
            "_view_module": "@jupyter-widgets/base",
            "_view_module_version": "1.2.0",
            "_view_name": "LayoutView",
            "align_content": null,
            "align_items": null,
            "align_self": null,
            "border": null,
            "bottom": null,
            "display": null,
            "flex": null,
            "flex_flow": null,
            "grid_area": null,
            "grid_auto_columns": null,
            "grid_auto_flow": null,
            "grid_auto_rows": null,
            "grid_column": null,
            "grid_gap": null,
            "grid_row": null,
            "grid_template_areas": null,
            "grid_template_columns": null,
            "grid_template_rows": null,
            "height": null,
            "justify_content": null,
            "justify_items": null,
            "left": null,
            "margin": null,
            "max_height": null,
            "max_width": null,
            "min_height": null,
            "min_width": null,
            "object_fit": null,
            "object_position": null,
            "order": null,
            "overflow": null,
            "overflow_x": null,
            "overflow_y": null,
            "padding": null,
            "right": null,
            "top": null,
            "visibility": null,
            "width": null
          }
        },
        "66afaf1992844d3c970ae36f6cbe5d85": {
          "model_module": "@jupyter-widgets/base",
          "model_name": "LayoutModel",
          "model_module_version": "1.2.0",
          "state": {
            "_model_module": "@jupyter-widgets/base",
            "_model_module_version": "1.2.0",
            "_model_name": "LayoutModel",
            "_view_count": null,
            "_view_module": "@jupyter-widgets/base",
            "_view_module_version": "1.2.0",
            "_view_name": "LayoutView",
            "align_content": null,
            "align_items": null,
            "align_self": null,
            "border": null,
            "bottom": null,
            "display": null,
            "flex": null,
            "flex_flow": null,
            "grid_area": null,
            "grid_auto_columns": null,
            "grid_auto_flow": null,
            "grid_auto_rows": null,
            "grid_column": null,
            "grid_gap": null,
            "grid_row": null,
            "grid_template_areas": null,
            "grid_template_columns": null,
            "grid_template_rows": null,
            "height": null,
            "justify_content": null,
            "justify_items": null,
            "left": null,
            "margin": null,
            "max_height": null,
            "max_width": null,
            "min_height": null,
            "min_width": null,
            "object_fit": null,
            "object_position": null,
            "order": null,
            "overflow": null,
            "overflow_x": null,
            "overflow_y": null,
            "padding": null,
            "right": null,
            "top": null,
            "visibility": null,
            "width": null
          }
        },
        "e1c74986628c47db88a47dc67994dc3c": {
          "model_module": "@jupyter-widgets/controls",
          "model_name": "DescriptionStyleModel",
          "model_module_version": "1.5.0",
          "state": {
            "_model_module": "@jupyter-widgets/controls",
            "_model_module_version": "1.5.0",
            "_model_name": "DescriptionStyleModel",
            "_view_count": null,
            "_view_module": "@jupyter-widgets/base",
            "_view_module_version": "1.2.0",
            "_view_name": "StyleView",
            "description_width": ""
          }
        },
        "c61462c046cb4611a7b79e1335fa7fca": {
          "model_module": "@jupyter-widgets/base",
          "model_name": "LayoutModel",
          "model_module_version": "1.2.0",
          "state": {
            "_model_module": "@jupyter-widgets/base",
            "_model_module_version": "1.2.0",
            "_model_name": "LayoutModel",
            "_view_count": null,
            "_view_module": "@jupyter-widgets/base",
            "_view_module_version": "1.2.0",
            "_view_name": "LayoutView",
            "align_content": null,
            "align_items": null,
            "align_self": null,
            "border": null,
            "bottom": null,
            "display": null,
            "flex": null,
            "flex_flow": null,
            "grid_area": null,
            "grid_auto_columns": null,
            "grid_auto_flow": null,
            "grid_auto_rows": null,
            "grid_column": null,
            "grid_gap": null,
            "grid_row": null,
            "grid_template_areas": null,
            "grid_template_columns": null,
            "grid_template_rows": null,
            "height": null,
            "justify_content": null,
            "justify_items": null,
            "left": null,
            "margin": null,
            "max_height": null,
            "max_width": null,
            "min_height": null,
            "min_width": null,
            "object_fit": null,
            "object_position": null,
            "order": null,
            "overflow": null,
            "overflow_x": null,
            "overflow_y": null,
            "padding": null,
            "right": null,
            "top": null,
            "visibility": null,
            "width": null
          }
        },
        "a60e129db8584ebab0554ac4bdf9b026": {
          "model_module": "@jupyter-widgets/controls",
          "model_name": "ProgressStyleModel",
          "model_module_version": "1.5.0",
          "state": {
            "_model_module": "@jupyter-widgets/controls",
            "_model_module_version": "1.5.0",
            "_model_name": "ProgressStyleModel",
            "_view_count": null,
            "_view_module": "@jupyter-widgets/base",
            "_view_module_version": "1.2.0",
            "_view_name": "StyleView",
            "bar_color": null,
            "description_width": ""
          }
        },
        "e16271bc05404336bb3a81a430b5245d": {
          "model_module": "@jupyter-widgets/base",
          "model_name": "LayoutModel",
          "model_module_version": "1.2.0",
          "state": {
            "_model_module": "@jupyter-widgets/base",
            "_model_module_version": "1.2.0",
            "_model_name": "LayoutModel",
            "_view_count": null,
            "_view_module": "@jupyter-widgets/base",
            "_view_module_version": "1.2.0",
            "_view_name": "LayoutView",
            "align_content": null,
            "align_items": null,
            "align_self": null,
            "border": null,
            "bottom": null,
            "display": null,
            "flex": null,
            "flex_flow": null,
            "grid_area": null,
            "grid_auto_columns": null,
            "grid_auto_flow": null,
            "grid_auto_rows": null,
            "grid_column": null,
            "grid_gap": null,
            "grid_row": null,
            "grid_template_areas": null,
            "grid_template_columns": null,
            "grid_template_rows": null,
            "height": null,
            "justify_content": null,
            "justify_items": null,
            "left": null,
            "margin": null,
            "max_height": null,
            "max_width": null,
            "min_height": null,
            "min_width": null,
            "object_fit": null,
            "object_position": null,
            "order": null,
            "overflow": null,
            "overflow_x": null,
            "overflow_y": null,
            "padding": null,
            "right": null,
            "top": null,
            "visibility": null,
            "width": null
          }
        },
        "a7a1de41085d4e47954cfdb475198920": {
          "model_module": "@jupyter-widgets/controls",
          "model_name": "DescriptionStyleModel",
          "model_module_version": "1.5.0",
          "state": {
            "_model_module": "@jupyter-widgets/controls",
            "_model_module_version": "1.5.0",
            "_model_name": "DescriptionStyleModel",
            "_view_count": null,
            "_view_module": "@jupyter-widgets/base",
            "_view_module_version": "1.2.0",
            "_view_name": "StyleView",
            "description_width": ""
          }
        }
      }
    }
  },
  "nbformat": 4,
  "nbformat_minor": 0
}