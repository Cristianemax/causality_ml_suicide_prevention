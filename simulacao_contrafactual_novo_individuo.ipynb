{
  "cells": [
    {
      "cell_type": "markdown",
      "source": [
        "## Prevenção do suicídio usando causalidade em aprendizado de máquina\n",
        "O aumento alarmante do numero de pessoas afetadas por doenças mentais tornou-se um dos principais problemas de saúde pública enfrentado pelos governos em todo o mundo.\n",
        "O suicídio esta entre as 20 causas de morte mais comuns segundo avaliação da Organização Mundial da Saúde (Organization et al., 2019), superando malaria, câncer de mama\n",
        "ou homicídio e nos últimos 20 anos, houve um aumento de 24% dos casos.\n",
        "Utilizamos dados de classificação clínica e identificamos os possíveis fatores causais que possam estabelecer relações com a ideação suicida.\n",
        "Para tanto, utilizamos métodos de inferência causal e aprendizado de maquina.\n",
        "\n",
        "Os fatores utilizados para inferência causal foram: Sexo, Estado Civil, Tipo de Residência, Alcoólatra, Droga, Suicídio na Família, Depressão na Família,\n",
        "Alcoólatra Família, Droga na Família, Neuro, Psiquiátrica, Capaz de desfrutar das coisas, Impacto de sua Família e amigos, Capaz de tomar decisões importantes,\n",
        "Estudante, Insônia, Ansiedade, Perda de insights, Apetite, Perda de Peso, Ansiedade somática, Hipocondriase, Sentimento de Culpa, Trabalho e interesses,\n",
        "Energia, Lentidão pensamento e fala, Agitação, Libido, TOC e idade.\n",
        "\n",
        "Após nossa pesquisa, os fatores que se apresentaram como possíveis causas que levam um indivíduo a ter ideação suicida foram: Suicídio na família, Drogas na família,\n",
        "Capaz de tomar decisões importantes, Estudante, Hipocondriase, Sentimentos de culpa, Trabalho e interesses e Energia.\n",
        "\n",
        "O objetivo desse projeto é fazer simulações contrafctuais para obter os possíveis fatores que influenciam determinado indivíduo a ter ideação suicida.\n",
        "De posse dele, os profissionais da área de saúde que atendem pacientes com ideação suicida, poderão trabalhar com os mesmos de forma mais assertiva objetivando atenuar ou até eliminar\n",
        "tal ideação.\n",
        "\n",
        "Passos para execução:\n",
        "                                                   \n",
        "1) Faça o upload do arquivo data.csv acessando o ícone Arquivos no menu do canto esquerdo, navegando até a pasta que contenha o arquivo. Clique em abrir e ignore o aviso.\n",
        "\n",
        "2) Acesse o menu Ambiente de execução/Executar tudo\n",
        "\n",
        "3) Entre com os dados de cada fator referente ao indivíduo em questão:\n",
        "   \n",
        "\t  > Suicídio na família: Digite 1 para Sim e 0 para não.\n",
        "\t     \n",
        "\t  > Capaz de tomar decisões importantes: Digite um número de 1 a 5, sendo: 1=Concordo totalmente; 2=Concordo; 3=Neutro; 4=Discordo;\n",
        "\t\t5=Discordo totalmente.\n",
        "   \n",
        "\t  > Estudante: Digite um número de 0 a 1, sendo: 0=Não; 1=Sim; 0.5=Meio período.\n",
        "   \n",
        "\t  > Hipocondriase: Digite um número de 0 a 4, sendo: 0=Ausente; 1=Leve 2=Moderado; 3=Moderadamente grave;\n",
        "\t\t4=Grave.\n",
        "   \n",
        "\t  > Sentimentos de culpa: Digite um número de 0 a 4, sendo: 0=Ausente, 1=Duvidoso ou trivial: Autocensura, sente que decepcionou as pessoas\n",
        "\t\t2=Leve: Idéias de culpa ou ruminação sobre erros passados ou atos pecaminosos; 3=Moderado: A doença atual é uma punição. Delírios de culpa\n",
        "\t\t4=Grave: Ouve vozes acusatórias ou denunciatórias e/ou experimenta alucinações visuais ameaçadoras.\n",
        "   \n",
        "\t  > Trabalho e interesses: Digite um número de 0 a 4, sendo:0=Ausente: Sem dificuldade; 1=Duvidoso ou trivial: Pensamentos entimentos de\n",
        "\t\tincapacidade, cansaço ou fraqueza relacionados às atividades; trabalho ou hobbies; 2=Leve: Perda de interesse pela atividade; hobbies\n",
        "\t\tou trabalho – relatados diretamente pelo paciente, ou indiretos em apatia, indecisão e vacilação (sente que precisa se esforçar para\n",
        "\t\ttrabalhar ou realizar atividades); 3=Moderado: Diminuição do tempo real gasto nas atividades ou diminuição da produtividade; 4=Grave:\n",
        "\t\tDeixou de trabalhar por doença atual.\n",
        "   \n",
        "\t  > Depressão na familia:  Digite 1 para Sim e 0 para não.\n",
        "   \n",
        "      > Histórico de uso de álcool na familia:  Digite 1 para Sim e 0 para não.\n",
        "   \n",
        "      > Capaz de desfrutar das coisas: Digite um número de 1 a 5, sendo: 1=Concordo totalmente; 2=Concordo; 3=Neutro; 4=Discordo;\n",
        "\t\t5=Discordo totalmente.\n",
        "\n",
        "\t  > Uso de drogas: Digite um número de 0 a 2, sendo: 0=Nenhum verificado; 1=Abuso; 2=Dependente.\n",
        "   \n",
        "\t  > Suicidio: Digite um número de 0 a 4, sendo: : 0=Ausente; 1=Sente que a vida está vazia; 2=Desejos de morte;\n",
        "\t\t3=Pensamentos suicidas ativos; 4=Tentativa grave de suicídio.\n",
        "   \n",
        "\t  > Ansiedade: Digite um número de 0 a 4, sendo: 0=Ausente: Sem dificuldade 1=Duvidoso ou trivial: Tensão subjetiva e irritabilidade;\n",
        "\t\t2=Leve: Preocupação com assuntos menores; 3=Moderado: Atitude apreensiva aparente na face ou na fala;\n",
        "\t\t4=Grave: Medos expressos sem questionamento.\n",
        "       \n",
        "\n",
        "4) Após alguns minutos será exibido o valor com o nível de ideação suicida previsto para o indivíduo\n",
        "\n",
        "5) O último passo é fazer as análises contrafactuais**  simulando alterações em cada um dos fatores. Você pode alterar cada um dos 10 fatores e verificar se o nível de ideação suicida será sensibilizado com a mudança.\n",
        "\n",
        "Obs.: Caso necessite efetuar mais simulações, execute a última célula novamente clicando no ícone ![image.png](data:image/png;base64,iVBORw0KGgoAAAANSUhEUgAAABoAAAAeCAYAAAAy2w7YAAAAAXNSR0IArs4c6QAAAARnQU1BAACxjwv8YQUAAAAJcEhZcwAADsMAAA7DAcdvqGQAAAIjSURBVEhL7dW9q0FxGAfwx+tOIjIIi5REJJtV2RSTMiixUf4JLxuRhRGzWRlk8bIaiMRAMSlF3Ps756l7f/e84Hbvne6n5HmenPN1HL/fkRwOhzv8ASm+/7r/oG/7D/q2h+vocrnAcDiE6XQKy+USdrsdSCQS0Gq1YDKZwOVygdfrBblcjkfwEw2aTCZQr9eZk4vR6/WQSCTA4XDghEswqN1uM69nkauMxWIQCoVwQuO9R61W66UQ4n6/Q7PZhG63ixMaJ2g0GkGn08HudY1GA2azGXYfqKDz+QzVahU7LqPRiJUwcmWVSgWu1ytOWFRQv9+H4/GIHVc+nwe/34+dsM1mA+PxGDsWFUR+NjEKhQIymQyk02lQKpU45ScatFgssBIXCASgUCiAwWDACdd8PseKRQWdTiesHiMhxWJR8Kf8uvaoIKmUap8itCPcbjesWNSZVSoVVo9tt1vIZrPMH4iPWq3GikUFmc1mrMQNBgMmhIQJsVqtWLGoILfbjRU/ssGWy2UolUpMLebruaggn88HGo0GO65cLge9Xg87YWST9Xg82LGoILI2UqkUdlzr9RorYWRzJecga+4zKoggW300GsXudfF4HGw2G3YfOEFEOByGSCTCfLtnkaVBQoLBIE5oog8+siXVajV4/wxO+JF7kkwmwW6344Tr6Uc52btWqxXs93vmSnU6HVgsFnA6ncyNl8lkeAS/h0E/hfce/TyAN409wsQE1/WlAAAAAElFTkSuQmCC) . A alteração do valor do nível de ideação suicida em alguma simulação, pode significar que o indíviduo é sensível ao fator da simulação em questão.\n",
        "\n",
        "** O pensamento contrafactual é um tipo de pensamento imaginativo caracterizado pela simulação mental de alternativas para eventos passados visando alterar a sequência de eventos para que se chegue a um desfecho diferente daquele que de fato ocorreu. Efetuando simulações nos fatores que se apresentaram como possíveis causas da ideação suicida, é possível chegar a conclusão de qual fator seria importante trabalhar prioritariamente em cada individuo.\n",
        "\n",
        "\n",
        "\n"
      ],
      "metadata": {
        "id": "lAUt_eSVvihD"
      }
    },
    {
      "cell_type": "code",
      "execution_count": 3,
      "outputs": [],
      "source": [
        "#Importando bibliotecas\n",
        "import torch\n",
        "import pandas as pd\n",
        "import numpy as np\n",
        "\n",
        "# Importando dataset utils\n",
        "from torch.utils.data import Dataset, DataLoader\n",
        "from sklearn.model_selection import train_test_split\n",
        "\n",
        "import torch.nn as nn\n",
        "import torch.nn.functional as F\n",
        "\n",
        "import matplotlib.pyplot as plt\n",
        "\n",
        "import importlib\n",
        "if importlib.util.find_spec('ipywidgets') is not None:\n",
        "    from tqdm.auto import tqdm\n",
        "else:\n",
        "    from tqdm import tqdm\n",
        "\n",
        "import networkx as nx\n",
        "\n",
        "from typing import Union"
      ],
      "metadata": {
        "ExecuteTime": {
          "end_time": "2023-10-21T17:42:01.212958800Z",
          "start_time": "2023-10-21T17:41:48.090060400Z"
        },
        "id": "y5oHtJxwC9wG"
      }
    },
    {
      "cell_type": "code",
      "source": [
        "dataframe = pd.read_csv('/content/data.csv', sep=';')\n",
        "\n",
        "dataframe = dataframe.fillna(-1)\n",
        "dataframe['Anos educacao formal'] = dataframe['Anos educacao formal'].replace(-5, -1)\n",
        "dataframe['sexo'].replace({'M': 0, 'F': 1}, inplace=True)\n",
        "df_suic = dataframe.copy()\n",
        "df_suic = df_suic.astype(float)\n",
        "df_suic['Chave'] = df_suic.index\n",
        "df_suic.shape"
      ],
      "metadata": {
        "colab": {
          "base_uri": "https://localhost:8080/"
        },
        "id": "VI7I5bJv_2_q",
        "outputId": "455375cb-b4fa-4848-bd5a-abd249c37b57"
      },
      "execution_count": 4,
      "outputs": [
        {
          "output_type": "execute_result",
          "data": {
            "text/plain": [
              "(3953, 69)"
            ]
          },
          "metadata": {},
          "execution_count": 4
        }
      ]
    },
    {
      "cell_type": "code",
      "source": [
        "notears_selected = [\n",
        "   \"Suic_familia\",\n",
        "    \"Capaz de tomar decisões importantes\",\n",
        "    \"Estudante\",\n",
        "    \"Hipocondriase\",\n",
        "    \"Sentimentos_culpa\",\n",
        "    \"Trabalho e interesses\",\n",
        "    'Dep_familia',\n",
        "    'Alc_familia',\n",
        "    'Capaz de desfrutar das coisas',\n",
        "    'Droga',\n",
        "    'Suicidio',\n",
        "    'Ansiedade'\n",
        "     ]"
      ],
      "metadata": {
        "id": "CYXJO99bCpcb"
      },
      "execution_count": 5,
      "outputs": []
    },
    {
      "cell_type": "markdown",
      "source": [
        "# Lendo dados"
      ],
      "metadata": {
        "id": "a2xJfxFDiEC1"
      }
    },
    {
      "cell_type": "code",
      "source": [
        " df_novo = pd.DataFrame(columns = [\"Suic_familia\",\n",
        "    \"Capaz de tomar decisões importantes\",\n",
        "    \"Estudante\",\n",
        "    \"Hipocondriase\",\n",
        "    \"Sentimentos_culpa\",\n",
        "    \"Trabalho e interesses\",\n",
        "    'Dep_familia',\n",
        "    'Alc_familia',\n",
        "    'Capaz de desfrutar das coisas',\n",
        "    'Droga',\n",
        "    \"Suicidio\",\n",
        "    \"Ansiedade\"])"
      ],
      "metadata": {
        "id": "nPY1t7HCHUeU"
      },
      "execution_count": 6,
      "outputs": []
    },
    {
      "cell_type": "markdown",
      "source": [
        "# Lendo fatores do novo indivíduo"
      ],
      "metadata": {
        "id": "fkHj-sWUiBe0"
      }
    },
    {
      "cell_type": "code",
      "source": [
        "Suic_familia = int(input(\"Suicidio na família: Digite 1 para Sim e 0 para não.\") )\n",
        "Capaz_tomar_decisoes = int(input(\"Capaz de tomar decisões importantes: Digite um número de 1 a 5, sendo: 1=Concordo totalmente e 5=Discordo totalmente.\") )\n",
        "Estudante = int(input(\"Estudante: Digite um número de 0 a 2, sendo: 0=Não; 1=Sim; 2=Meio período.\") )\n",
        "Hipocondriase = int(input(\"Hipocondriase: Digite um número de 0 a 4, sendo: 0=Ausente e 4=Grave.\") )\n",
        "Sentimento_culpa = int(input(\"Sentimentos de culpa: Digite um número de 0 a 4, sendo: 0=Ausente e 4=Grave.\") )\n",
        "Trabalho_interesses = int(input(\"Trabalho e interesses: Digite um número de 0 a 4, sendo: 0=Ausente e 4=Grave.\") )\n",
        "Dep_familia = int(input(\"Depressão na família: Digite 1 para Sim e 0 para não.\") )\n",
        "Alc_familia = int(input(\"Histórico de uso de álcool na família: Digite 1 para Sim e 0 para não.\") )\n",
        "Capaz_desfrutar = int(input(\"Capaz de desfrutar das coisas: Digite um número de 1 a 5, sendo: 1=Concordo totalmente e 5=Discordo totalmente.\") )\n",
        "Droga = int(input(\"Droga: Digite um número de 0 a 2, sendo: 0=Nenhum verificado; 1=Abuso; 2=Dependente.\") )\n",
        "Suicidio = int(input(\"Suicidio: Digite um número de 0 a 4, sendo 0 não possui ideação e 4 já efetuou alguma tentativa grave.\") )\n",
        "Ansiedade = int(input(\"Ansiedade: Digite um número de 0 a 4, sendo 0 ausente e 4 grave (medos expressos sem questionamento).\") )"
      ],
      "metadata": {
        "id": "l0Hhc8vCHoXc",
        "colab": {
          "base_uri": "https://localhost:8080/"
        },
        "outputId": "f891c639-3c68-4393-c7ee-80cff0a69033"
      },
      "execution_count": 7,
      "outputs": [
        {
          "name": "stdout",
          "output_type": "stream",
          "text": [
            "Suicidio na família: Digite 1 para Sim e 0 para não.1\n",
            "Capaz de tomar decisões importantes: Digite um número de 1 a 5, sendo: 1=Concordo totalmente e 5=Discordo totalmente.0\n",
            "Estudante: Digite um número de 0 a 2, sendo: 0=Não; 1=Sim; 2=Meio período.3\n",
            "Hipocondriase: Digite um número de 0 a 4, sendo: 0=Ausente e 4=Grave.0\n",
            "Sentimentos de culpa: Digite um número de 0 a 4, sendo: 0=Ausente e 4=Grave.2\n",
            "Trabalho e interesses: Digite um número de 0 a 4, sendo: 0=Ausente e 4=Grave.4\n",
            "Depressão na família: Digite 1 para Sim e 0 para não.1\n",
            "Histórico de uso de álcool na família: Digite 1 para Sim e 0 para não.0\n",
            "Capaz de desfrutar das coisas: Digite um número de 1 a 5, sendo: 1=Concordo totalmente e 5=Discordo totalmente.4\n",
            "Droga: Digite um número de 0 a 2, sendo: 0=Nenhum verificado; 1=Abuso; 2=Dependente.2\n",
            "Suicidio: Digite um número de 0 a 4, sendo 0 não possui ideação e 4 já efetuou alguma tentativa grave.2\n",
            "Ansiedade: Digite um número de 0 a 4, sendo 0 ausente e 4 grave (medos expressos sem questionamento).3\n"
          ]
        }
      ]
    },
    {
      "cell_type": "code",
      "source": [
        "df_novo=df_novo.append({'Suic_familia' : float(Suic_familia), 'Capaz de tomar decisões importantes' : float(Capaz_tomar_decisoes), 'Estudante' : float(Estudante),\n",
        "                        'Hipocondriase' : float(Hipocondriase), 'Sentimentos_culpa' : float(Sentimento_culpa), 'Trabalho e interesses' : float(Trabalho_interesses),\n",
        "                        'Dep_familia': float(Dep_familia), 'Alc_familia': float(Alc_familia), 'Capaz de desfrutar das coisas': float(Capaz_desfrutar), 'Droga' : float(Droga),\n",
        "                        'Suicidio' : float(Suicidio), 'Ansiedade': float(Ansiedade)}, ignore_index = True)"
      ],
      "metadata": {
        "id": "VtWpRYACJNW9",
        "colab": {
          "base_uri": "https://localhost:8080/"
        },
        "outputId": "5887502a-9488-4a9e-a580-c07fd2ec38b7"
      },
      "execution_count": 8,
      "outputs": [
        {
          "output_type": "stream",
          "name": "stderr",
          "text": [
            "<ipython-input-8-251b9ad69070>:1: FutureWarning: The frame.append method is deprecated and will be removed from pandas in a future version. Use pandas.concat instead.\n",
            "  df_novo=df_novo.append({'Suic_familia' : float(Suic_familia), 'Capaz de tomar decisões importantes' : float(Capaz_tomar_decisoes), 'Estudante' : float(Estudante),\n"
          ]
        }
      ]
    },
    {
      "cell_type": "code",
      "source": [
        "df_novo['Suic_familia'] = df_novo['Suic_familia'].astype(float)\n",
        "df_novo['Capaz de tomar decisões importantes'] = df_novo['Capaz de tomar decisões importantes'].astype(float)\n",
        "df_novo['Estudante'] = df_novo['Estudante'].astype(float)\n",
        "df_novo['Hipocondriase'] = df_novo['Hipocondriase'].astype(float)\n",
        "df_novo['Sentimentos_culpa'] = df_novo['Sentimentos_culpa'].astype(float)\n",
        "df_novo['Trabalho e interesses'] = df_novo['Trabalho e interesses'].astype(float)\n",
        "df_novo['Dep_familia'] = df_novo['Dep_familia'].astype(float)\n",
        "df_novo['Alc_familia'] = df_novo['Alc_familia'].astype(float)\n",
        "df_novo['Capaz de desfrutar das coisas'] = df_novo['Capaz de desfrutar das coisas'].astype(float)\n",
        "df_novo['Droga'] = df_novo['Droga'].astype(float)\n",
        "df_novo['Suicidio'] = df_novo['Suicidio'].astype(float)\n",
        "df_novo['Ansiedade'] = df_novo['Ansiedade'].astype(float)"
      ],
      "metadata": {
        "id": "FwjXAJ3LhWb0"
      },
      "execution_count": 9,
      "outputs": []
    },
    {
      "cell_type": "markdown",
      "source": [
        "# Criando conjunto de dados causal"
      ],
      "metadata": {
        "id": "A9jdXI0dBXKb"
      }
    },
    {
      "cell_type": "code",
      "source": [
        "# Conjunto de dados de X\n",
        "class CausalDataset(Dataset):\n",
        "    def __init__(self, X, target:Union[list, int]):\n",
        "        self.X = torch.tensor(X, dtype=torch.double)\n",
        "        self.target = target\n",
        "        if isinstance(target, int):\n",
        "            self.target = [target]\n",
        "\n",
        "\n",
        "        # X é toda variável, exceto a lista de alvos\n",
        "        dims = list(range(self.X.shape[1]))\n",
        "        self.x = self.X[:, [i for i in dims if i not in self.target]]\n",
        "        self.y = self.X[:, self.target]\n",
        "\n",
        "    def __len__(self):\n",
        "        return len(self.x)\n",
        "\n",
        "    def __getitem__(self, idx):\n",
        "        return self.x[idx].double(), self.y[idx].double()"
      ],
      "metadata": {
        "id": "N_O7r6rcBUMa"
      },
      "execution_count": 10,
      "outputs": []
    },
    {
      "cell_type": "code",
      "execution_count": 11,
      "metadata": {
        "ExecuteTime": {
          "end_time": "2023-10-21T17:42:02.441242400Z",
          "start_time": "2023-10-21T17:42:02.241586800Z"
        },
        "id": "l6ndJJD9C9we"
      },
      "outputs": [],
      "source": [
        "class MLP(torch.nn.Module):\n",
        "    def __init__(self, dim_list:list, add_dropout:bool=False):\n",
        "        super(MLP, self).__init__()\n",
        "        torch.manual_seed(3)\n",
        "        self.layers = torch.nn.ModuleList()\n",
        "        for i in range(len(dim_list) - 2):\n",
        "            self.layers.append(torch.nn.Linear(dim_list[i], dim_list[i+1]))\n",
        "            self.layers.append(torch.nn.ReLU())\n",
        "            if add_dropout:\n",
        "                self.layers.append(torch.nn.Dropout(0.3))\n",
        "\n",
        "        self.layers.append(torch.nn.Linear(dim_list[-2], dim_list[-1]))\n",
        "        self.double()\n",
        "\n",
        "    def forward(self, x):\n",
        "        for layer in self.layers:\n",
        "            x = layer(x)\n",
        "        return x"
      ]
    },
    {
      "cell_type": "markdown",
      "metadata": {
        "id": "nPZsZblZC9wf"
      },
      "source": [
        "# Pipeline de treino do modelo"
      ]
    },
    {
      "cell_type": "code",
      "execution_count": 12,
      "metadata": {
        "ExecuteTime": {
          "end_time": "2023-10-21T17:42:02.443249500Z",
          "start_time": "2023-10-21T17:42:02.288585100Z"
        },
        "id": "TEll4p13C9wf"
      },
      "outputs": [],
      "source": [
        "def trainPipeline(dataset, model, batch_size=64, train_split=0.8, verbose=True, max_epochs=100, patience=10, lr=0.001, weight_decay=0.0, loss_fn=nn.MSELoss()):\n",
        "    train_size = int(train_split * len(dataset))\n",
        "    test_size = len(dataset) - train_size\n",
        "    torch.manual_seed(3)\n",
        "    train_dataset, test_dataset = torch.utils.data.random_split(dataset, [train_size, test_size])\n",
        "\n",
        "    train_loader = DataLoader(train_dataset, batch_size=batch_size, shuffle=True)\n",
        "    test_loader = DataLoader(test_dataset, batch_size=batch_size, shuffle=True)\n",
        "\n",
        "    criterion = loss_fn\n",
        "    optimizer = torch.optim.Adam(model.parameters(), lr=lr, weight_decay=weight_decay)\n",
        "\n",
        "    patience = patience\n",
        "\n",
        "    train_losses = []\n",
        "    test_losses = []\n",
        "    for epoch in tqdm(range(max_epochs)):\n",
        "        train_loss = 0\n",
        "        model.train()\n",
        "        for data, target in train_loader:\n",
        "            optimizer.zero_grad()\n",
        "            output = model(data)\n",
        "            loss = criterion(output, target)\n",
        "            loss.backward()\n",
        "            optimizer.step()\n",
        "            train_loss += loss.item()\n",
        "        train_loss /= len(train_loader)\n",
        "        train_losses.append(train_loss)\n",
        "\n",
        "        test_loss = 0\n",
        "        model.eval()\n",
        "        with torch.no_grad():\n",
        "            for data, target in test_loader:\n",
        "                output = model(data)\n",
        "                loss = criterion(output, target)\n",
        "                test_loss += loss.item()\n",
        "        test_loss /= len(test_loader)\n",
        "        test_losses.append(test_loss)\n",
        "\n",
        "        if verbose:\n",
        "            print(f\"Epoch {epoch} - Train loss: {train_loss} - Test loss: {test_loss}\")\n",
        "\n",
        "        if epoch > 10:\n",
        "            all_patience = test_losses[-patience:]\n",
        "            test_loss = test_losses[-1]\n",
        "            if all([test_loss > x for x in all_patience]):\n",
        "                print(\"Early stopping\")\n",
        "                break\n",
        "\n",
        "    # teste do modelo no conjunto de teste e cálculo da precisão\n",
        "    model.eval()\n",
        "    with torch.no_grad():\n",
        "        y_pred_test = []\n",
        "        y_true_test = []\n",
        "        y_pred_train = []\n",
        "        y_true_train = []\n",
        "\n",
        "        for data, target in train_loader:\n",
        "            output = model(data)\n",
        "            y_pred_train.append(output)\n",
        "            y_true_train.append(target)\n",
        "        for data, target in test_loader:\n",
        "            output = model(data)\n",
        "            y_pred_test.append(output)\n",
        "            y_true_test.append(target)\n",
        "\n",
        "        y_pred_test = torch.cat(y_pred_test, dim=0)\n",
        "        y_true_test = torch.cat(y_true_test, dim=0)\n",
        "        y_pred_train = torch.cat(y_pred_train, dim=0)\n",
        "        y_true_train = torch.cat(y_true_train, dim=0)\n",
        "\n",
        "        train_error = torch.abs(y_pred_train - y_true_train)\n",
        "        test_error = torch.abs(y_pred_test - y_true_test)\n",
        "\n",
        "        # calculando acurácia para cada alvo\n",
        "        test_accuracy = []\n",
        "        train_accuracy = []\n",
        "        for i in range(len(y_true_test[0])):\n",
        "            test_accuracy.append(torch.sum(test_error[:, i] < 0.5) / len(test_error))\n",
        "            train_accuracy.append(torch.sum(train_error[:, i] < 0.5) / len(train_error))\n",
        "\n",
        "        print(f\"Final Train accuracy: {train_accuracy}\")\n",
        "        print(f\"Final Test accuracy: {test_accuracy}\")\n",
        "\n",
        "    metrics = {\n",
        "        \"train_loss\": train_losses,\n",
        "        \"test_loss\": test_losses,\n",
        "        \"train_error\": train_error,\n",
        "        \"test_error\": test_error,\n",
        "        \"test_accuracy\": test_accuracy\n",
        "    }\n",
        "\n",
        "    return model, metrics\n"
      ]
    },
    {
      "cell_type": "markdown",
      "metadata": {
        "id": "HlcTn2J5C9wh"
      },
      "source": [
        "\n",
        "## Primeiro treinamos um modelo para cada alvo e obtemos o valor dos erros (individualidade)"
      ]
    },
    {
      "cell_type": "markdown",
      "metadata": {
        "id": "Tb9OD5fIC9wi"
      },
      "source": [
        "\n",
        "## Agora adicionamos os erros ao conjunto de dados e treinamos o modelo contrafactual"
      ]
    },
    {
      "cell_type": "code",
      "execution_count": 13,
      "metadata": {
        "ExecuteTime": {
          "end_time": "2023-10-21T18:06:50.493294500Z",
          "start_time": "2023-10-21T18:06:50.317633200Z"
        },
        "id": "RBij2m5SC9wj"
      },
      "outputs": [],
      "source": [
        "# Criando o modelo counterfactual\n",
        "\n",
        "class CounterfactualModel(torch.nn.Module):\n",
        "    def __init__(self, input_size, hidden_size, output_size):\n",
        "        super(CounterfactualModel, self).__init__()\n",
        "        self.individuality_model = MLP([input_size, hidden_size, hidden_size, hidden_size, 1], add_dropout=True)\n",
        "        self.counterfactual_model = MLP([input_size+1, hidden_size, hidden_size, hidden_size, output_size], add_dropout=True)\n",
        "\n",
        "    def individuality(self, x):\n",
        "        return self.individuality_model(x)\n",
        "\n",
        "    def counterfactual(self, x, i):\n",
        "        x = torch.cat([x, i], dim=1)\n",
        "        return self.counterfactual_model(x)\n",
        "\n",
        "    def forward(self, x):\n",
        "        i = self.individuality(x)\n",
        "        y = self.counterfactual(x, i)\n",
        "        return y"
      ]
    },
    {
      "cell_type": "markdown",
      "metadata": {
        "id": "hlbIwDzvC9wm"
      },
      "source": [
        "# Agora vamos refazer tudo, mas com os fatores selecionados na inferência causal"
      ]
    },
    {
      "cell_type": "code",
      "execution_count": 14,
      "metadata": {
        "ExecuteTime": {
          "end_time": "2023-10-21T19:45:42.670133Z",
          "start_time": "2023-10-21T18:35:14.037112600Z"
        },
        "id": "G3KfWv0WC9wm",
        "colab": {
          "base_uri": "https://localhost:8080/",
          "height": 150,
          "referenced_widgets": [
            "0befc472aeda4dbdb27cd22046ce4800",
            "f8f395c2e09941f080c43c11aa563ecc",
            "e9f0bb6cc44742d192f5907c2622198a",
            "0bbda688f467460abab64073f4b49742",
            "ea9b8eba97f54475908ab34f83e6c72c",
            "e2b1d77cba9b4789b9cd41d7ebb40627",
            "255271a1b8964097a5e6a87819f67f72",
            "2522bbc09d3f4041a126a32cd3b19c26",
            "a2b274ddb30d49d1b999333b5806ea9f",
            "04c4ca634f4b40d292d274cf94ae42bf",
            "85a252916538438184a1c8c9cbc19131",
            "2e7edbd0db9848fd9e4c26b8792ca78e",
            "b258e47f95af494fa78a334f7cc36c71",
            "0ff3735083ef40318b77cbd2410ebf66",
            "512618e977394a78ae6929d70b5a668f",
            "f2a1a568c227440c822984278a99a01b",
            "d6a77dff1a0142d8a7ead862001f7a4e",
            "27a30e57eb334ef98ded2890929aab4f",
            "aa471f17b64744259d689f9db3d3fc3b",
            "bff7f7f3c8cb46d1879358ee3fc67679",
            "e0aa957764d34603a64f5973fab44760",
            "f001022e7785458fbdcc31b471ba63b6"
          ]
        },
        "outputId": "6f15b440-119d-487e-d030-fe1e375f6a71"
      },
      "outputs": [
        {
          "output_type": "display_data",
          "data": {
            "text/plain": [
              "  0%|          | 0/1000 [00:00<?, ?it/s]"
            ],
            "application/vnd.jupyter.widget-view+json": {
              "version_major": 2,
              "version_minor": 0,
              "model_id": "0befc472aeda4dbdb27cd22046ce4800"
            }
          },
          "metadata": {}
        },
        {
          "output_type": "stream",
          "name": "stdout",
          "text": [
            "Final Train accuracy: [tensor(0.5390)]\n",
            "Final Test accuracy: [tensor(0.3919)]\n"
          ]
        },
        {
          "output_type": "display_data",
          "data": {
            "text/plain": [
              "  0%|          | 0/1000 [00:00<?, ?it/s]"
            ],
            "application/vnd.jupyter.widget-view+json": {
              "version_major": 2,
              "version_minor": 0,
              "model_id": "2e7edbd0db9848fd9e4c26b8792ca78e"
            }
          },
          "metadata": {}
        },
        {
          "output_type": "stream",
          "name": "stdout",
          "text": [
            "Final Train accuracy: [tensor(0.5378)]\n",
            "Final Test accuracy: [tensor(0.4703)]\n"
          ]
        }
      ],
      "source": [
        "df_suic_notears = df_suic.copy()\n",
        "df_suic_notears = df_suic_notears[notears_selected]\n",
        "df_suic_notears=pd.concat([df_suic_notears,df_novo], ignore_index=True)\n",
        "\n",
        "# Criando modelos para cada alvo\n",
        "targets = [\"Suicidio\", \"Ansiedade\"]\n",
        "targets_idx = [df_suic_notears.columns.get_loc(c) for c in targets]\n",
        "\n",
        "# Criando base de dados\n",
        "notears_suic_dataset = CausalDataset(df_suic_notears.values, targets_idx[0])\n",
        "notears_anx_dataset = CausalDataset(df_suic_notears.values, targets_idx[1])\n",
        "sample_x, sample_y = notears_suic_dataset[0]\n",
        "\n",
        "# Agora prevemos os alvos com um MLP (Perceptron multicamadas)\n",
        "suic_causal_model = MLP([sample_x.shape[0], 64, 64, 64, 1], add_dropout=True)\n",
        "anx_causal_model = MLP([sample_x.shape[0], 64, 64, 64, 1], add_dropout=True)\n",
        "\n",
        "suic_causal_model, suic_causal_metrics = trainPipeline(notears_suic_dataset, suic_causal_model, verbose=False, max_epochs=1000, weight_decay=1e-5)\n",
        "anx_causal_model, anx_causal_metrics = trainPipeline(notears_anx_dataset, anx_causal_model, verbose=False, max_epochs=1000, weight_decay=1e-5)\n",
        "\n"
      ]
    },
    {
      "cell_type": "code",
      "execution_count": 15,
      "metadata": {
        "ExecuteTime": {
          "end_time": "2023-10-21T20:49:41.814498400Z",
          "start_time": "2023-10-21T19:45:42.701133300Z"
        },
        "id": "-hEM_RE-C9wn",
        "colab": {
          "base_uri": "https://localhost:8080/",
          "height": 84,
          "referenced_widgets": [
            "6cb2e4dad33d4fd6931a7d543918edf1",
            "898e317d07144265a1cfaed06e3eb408",
            "c922fcc0f6884b5398668c63b34b0409",
            "cf0793068fd54e5d9d45ee4564e40b75",
            "5dddf0b4e7804691b55a50ceef50f5ca",
            "4068cf457c2b4a6dbe4b07bc5d908550",
            "38f9580d3ed0411db80d507c7e9eb779",
            "ce09bc27351a451ba9537b9add9e2c39",
            "fdd3846ed9e846b6a7f34ffba42b708f",
            "747177d0867f463e9829b0b40ff554eb",
            "b71846de2fbb4ebab8ce8e6b86760654"
          ]
        },
        "outputId": "865af250-e96a-4d5c-afbe-6d5a42c37f49"
      },
      "outputs": [
        {
          "output_type": "display_data",
          "data": {
            "text/plain": [
              "  0%|          | 0/1000 [00:00<?, ?it/s]"
            ],
            "application/vnd.jupyter.widget-view+json": {
              "version_major": 2,
              "version_minor": 0,
              "model_id": "6cb2e4dad33d4fd6931a7d543918edf1"
            }
          },
          "metadata": {}
        },
        {
          "output_type": "stream",
          "name": "stdout",
          "text": [
            "Final Train accuracy: [tensor(0.8188), tensor(0.7607)]\n",
            "Final Test accuracy: [tensor(0.7193), tensor(0.6839)]\n"
          ]
        }
      ],
      "source": [
        "# calculando individualidade\n",
        "suic_causal_erros = []\n",
        "anx_causal_erros = []\n",
        "with torch.no_grad():\n",
        "    for data, y_true in notears_suic_dataset:\n",
        "        y_pred = suic_causal_model(data)\n",
        "        error = torch.abs(y_pred - y_true).item()\n",
        "        suic_causal_erros.append(error)\n",
        "    for data, y_true in notears_anx_dataset:\n",
        "        y_pred = anx_causal_model(data)\n",
        "        error = torch.abs(y_pred - y_true).item()\n",
        "        anx_causal_erros.append(error)\n",
        "\n",
        "suic_causal_erros = np.array(suic_causal_erros)\n",
        "anx_causal_erros = np.array(anx_causal_erros)\n",
        "\n",
        "# adicionando individualidade no dataframe\n",
        "df_suic_notears_with_errors = df_suic_notears.copy()\n",
        "df_suic_notears_with_errors[\"Suicidio_error\"] = suic_causal_erros\n",
        "df_suic_notears_with_errors[\"Ansiedade_error\"] = anx_causal_erros\n",
        "\n",
        "# criando dataset causal com individualidade\n",
        "targets_idx = [df_suic_notears_with_errors.columns.get_loc(c) for c in targets]\n",
        "notears_causal_dataset_error = CausalDataset(df_suic_notears_with_errors.values, targets_idx)\n",
        "sample_x, sample_y = notears_causal_dataset_error[0]\n",
        "\n",
        "# criando modelo counterfactual\n",
        "causal_cf_model = CounterfactualModel(sample_x.shape[0], 64, sample_y.shape[0])\n",
        "\n",
        "# treinando modelo counterfactual\n",
        "causal_cf_model, causal_cf_metrics = trainPipeline(notears_causal_dataset_error, causal_cf_model, verbose=False, max_epochs=1000, weight_decay=1e-5)\n"
      ]
    },
    {
      "cell_type": "code",
      "source": [
        "targets = [\"Suicidio\", \"Ansiedade\"]\n",
        "df = df_suic_notears_with_errors\n",
        "\n",
        "# carregando o modelo\n",
        "counterfact = causal_cf_model\n",
        "counterfact = counterfact.eval()"
      ],
      "metadata": {
        "id": "6QrdW6pOUzHP"
      },
      "execution_count": 16,
      "outputs": []
    },
    {
      "cell_type": "markdown",
      "metadata": {
        "id": "TfUh9_BWC9yW"
      },
      "source": [
        "# Predição inicial"
      ]
    },
    {
      "cell_type": "code",
      "source": [
        "def contrafactual(df):\n",
        "  df_suic_notears_with_errors = df\n",
        "  dataset = CausalDataset(df_suic_notears_with_errors.values, [df.columns.get_loc(c) for c in targets])\n",
        "\n",
        "  idx = [0,3953]\n",
        "\n",
        "  data1, y1 = dataset[idx[0]]\n",
        "  data2, y2 = dataset[idx[1]]\n",
        "\n",
        "  # prevendo os contrafactuais para o indivíduo\n",
        "  with torch.no_grad():\n",
        "      i1 = counterfact.individuality(data1.unsqueeze(0))\n",
        "      i2 = counterfact.individuality(data2.unsqueeze(0))\n",
        "\n",
        "      cf11 = counterfact.counterfactual(data1.unsqueeze(0), i1)\n",
        "      cf12 = counterfact.counterfactual(data2.unsqueeze(0), i2)\n",
        "\n",
        "      print(f\"Valor previsto para ideação suicída  {cf12.squeeze(0).round().numpy().tolist()[0]}\")\n",
        "      print()"
      ],
      "metadata": {
        "id": "nOkuKE4OQrcZ"
      },
      "execution_count": 17,
      "outputs": []
    },
    {
      "cell_type": "markdown",
      "source": [],
      "metadata": {
        "id": "uLGwf3P0smcF"
      }
    },
    {
      "cell_type": "code",
      "source": [
        "print('Predição inicial')\n",
        "contrafactual(df_suic_notears_with_errors)"
      ],
      "metadata": {
        "id": "ZvL-ZV0DhKFk",
        "colab": {
          "base_uri": "https://localhost:8080/"
        },
        "outputId": "bf159c4d-6f3d-43df-dece-e835a4b3de19"
      },
      "execution_count": 18,
      "outputs": [
        {
          "output_type": "stream",
          "name": "stdout",
          "text": [
            "Predição inicial\n",
            "Valor previsto para ideação suicída  3.0\n",
            "\n"
          ]
        }
      ]
    },
    {
      "cell_type": "markdown",
      "source": [
        "# Simulações contrafactuais\n",
        "\n"
      ],
      "metadata": {
        "id": "o9T71QJ9igRT"
      }
    },
    {
      "cell_type": "code",
      "source": [
        "print('Digite o valor indicado de acordo com a feature que deseja modificar')"
      ],
      "metadata": {
        "id": "Bo6mVPkRyiqi",
        "colab": {
          "base_uri": "https://localhost:8080/"
        },
        "outputId": "1ef8a25e-7a71-4b46-f179-4ef1b78e49f4"
      },
      "execution_count": 19,
      "outputs": [
        {
          "output_type": "stream",
          "name": "stdout",
          "text": [
            "Digite o valor indicado de acordo com a feature que deseja modificar\n"
          ]
        }
      ]
    },
    {
      "cell_type": "code",
      "source": [
        "def alter_feature(df,Variavel,valor):\n",
        "  df_suic_notears_with_errors = df\n",
        "  if Variavel == '1':\n",
        "    df_suic_notears_with_errors['Suic_familia'].loc[(df_suic_notears_with_errors.index==3953)] = float(Valor)\n",
        "    print('Suicidio na família')\n",
        "  elif Variavel == '2':\n",
        "    df_suic_notears_with_errors['Capaz de tomar decisões importantes'].loc[(df_suic_notears_with_errors.index==3953)] = float(Valor)\n",
        "    print('Capaz de tomar decisões importantes')\n",
        "  elif Variavel == '3':\n",
        "    df_suic_notears_with_errors['Estudante'].loc[(df_suic_notears_with_errors.index==3953)] = float(Valor)\n",
        "    print('Estudante')\n",
        "  elif Variavel == '4':\n",
        "    df_suic_notears_with_errors['Hipocondriase'].loc[(df_suic_notears_with_errors.index==3953)] = float(Valor)\n",
        "    print('Hipocondriase')\n",
        "  elif Variavel == '5':\n",
        "    df_suic_notears_with_errors['Sentimentos_culpa'].loc[(df_suic_notears_with_errors.index==3953)] = float(Valor)\n",
        "    print('Sentimentos de culpa')\n",
        "  elif Variavel == '6':\n",
        "    df_suic_notears_with_errors['Trabalho e interesses'].loc[(df_suic_notears_with_errors.index==3953)] = float(Valor)\n",
        "    print('Trabalho e interesses')\n",
        "  elif Variavel == '7':\n",
        "    df_suic_notears_with_errors['Dep_familia'].loc[(df_suic_notears_with_errors.index==3953)] = float(Valor)\n",
        "    print('Depressão na familia')\n",
        "  elif Variavel == '8':\n",
        "    df_suic_notears_with_errors['Alc_familia'].loc[(df_suic_notears_with_errors.index==3953)] = float(Valor)\n",
        "    print('Álcool na familia')\n",
        "  elif Variavel == '9':\n",
        "    df_suic_notears_with_errors['Capaz de desfrutar das coisas'].loc[(df_suic_notears_with_errors.index==3953)] = float(Valor)\n",
        "    print('Capaz de desfrutar das coisas')\n",
        "  else:\n",
        "    df_suic_notears_with_errors['Droga'].loc[(df_suic_notears_with_errors.index==3953)] = float(Valor)\n",
        "    print('Droga')\n",
        "  return df_suic_notears_with_errors"
      ],
      "metadata": {
        "id": "fFa2P198SfOr"
      },
      "execution_count": 20,
      "outputs": []
    },
    {
      "cell_type": "code",
      "source": [
        "print('Agora para efetuar as simulações, digite o valor indicado de acordo com a feature que deseja modificar')\n",
        "print('1 - Suicídio na família')\n",
        "print('2 - Capaz de tomar decisões importantes')\n",
        "print('3 - Estudante')\n",
        "print('4 - Hipocondriase')\n",
        "print('5 - Sentimentos de culpa')\n",
        "print('6 - Trabalho e interesses')\n",
        "print('7 - Depressão na familia')\n",
        "print('8 - Histórico de uso de álcool na familia')\n",
        "print('9 - Capaz de desfrutar das coisas')\n",
        "print('10 - Histórico de uso de drogas na família')"
      ],
      "metadata": {
        "colab": {
          "base_uri": "https://localhost:8080/"
        },
        "id": "_pO0dPd3NzOQ",
        "outputId": "d301b03c-ffc5-46d1-f8ad-b6ad723abd27"
      },
      "execution_count": 21,
      "outputs": [
        {
          "output_type": "stream",
          "name": "stdout",
          "text": [
            "Agora para efetuar as simulações, digite o valor indicado de acordo com a feature que deseja modificar\n",
            "1 - Suicídio na família\n",
            "2 - Capaz de tomar decisões importantes\n",
            "3 - Estudante\n",
            "4 - Hipocondriase\n",
            "5 - Sentimentos de culpa\n",
            "6 - Trabalho e interesses\n",
            "7 - Depressão na familia\n",
            "8 - Histórico de uso de álcool na familia\n",
            "9 - Capaz de desfrutar das coisas\n",
            "10 - Histórico de uso de drogas na família\n"
          ]
        }
      ]
    },
    {
      "cell_type": "code",
      "execution_count": 22,
      "outputs": [
        {
          "name": "stdout",
          "output_type": "stream",
          "text": [
            "Digite o valor indicado de acordo com a feature que deseja modificar\n",
            "1 Suicidio na família, 2 Capaz de tomar decisões importantes, 3 Estudante, 4 Hipocondriase, 5 Sentimentos de culpa, 6 Trabalho e interesses, 7 Depressão na familia, 8 Uso de álcool na familia, 9 Capaz de desfrutar das coisas e 10 uso de drogas1\n",
            "Digite o novo valor0\n",
            "Suicidio na família\n",
            "Valor previsto para ideação suicída  2.0\n",
            "\n",
            "Deseja executar nova simulação? Digite 1 para Sim e 0 para Não1\n",
            "Digite o valor indicado de acordo com a feature que deseja modificar\n",
            "1 Suicidio na família, 2 Capaz de tomar decisões importantes, 3 Estudante, 4 Hipocondriase, 5 Sentimentos de culpa, 6 Trabalho e interesses, 7 Depressão na familia, 8 Uso de álcool na familia, 9 Capaz de desfrutar das coisas e 10 uso de drogas2\n",
            "Digite o novo valor1\n",
            "Capaz de tomar decisões importantes\n",
            "Valor previsto para ideação suicída  3.0\n",
            "\n",
            "Deseja executar nova simulação? Digite 1 para Sim e 0 para Não0\n"
          ]
        }
      ],
      "source": [
        "for i in range(0,9):\n",
        "  df_simula = df_suic_notears_with_errors.copy()\n",
        "  print('Digite o valor indicado de acordo com a feature que deseja modificar')\n",
        "  Variavel = input(\"1 Suicidio na família, 2 Capaz de tomar decisões importantes, 3 Estudante, 4 Hipocondriase, 5 Sentimentos de culpa, 6 Trabalho e interesses, 7 Depressão na familia, 8 Uso de álcool na familia, 9 Capaz de desfrutar das coisas e 10 uso de drogas\")\n",
        "  Valor = input(\"Digite o novo valor\")\n",
        "  df_simula = alter_feature(df_simula, Variavel, Valor)\n",
        "  contrafactual(df_simula)\n",
        "  if i<9:\n",
        "    simulacao = input(\"Deseja executar nova simulação? Digite 1 para Sim e 0 para Não\")\n",
        "    if simulacao=='0':\n",
        "      break"
      ],
      "metadata": {
        "is_executing": true,
        "id": "AMweNmwfC9ys",
        "colab": {
          "base_uri": "https://localhost:8080/"
        },
        "outputId": "879ce728-05a8-45e2-dedb-863aee2f64f9"
      }
    }
  ],
  "metadata": {
    "kernelspec": {
      "display_name": "cml",
      "language": "python",
      "name": "python3"
    },
    "language_info": {
      "codemirror_mode": {
        "name": "ipython",
        "version": 3
      },
      "file_extension": ".py",
      "mimetype": "text/x-python",
      "name": "python",
      "nbconvert_exporter": "python",
      "pygments_lexer": "ipython3",
      "version": "3.8.13"
    },
    "vscode": {
      "interpreter": {
        "hash": "71f78216db5cb2f09350fda35ad9d9668a66a927586f044b9adeddeb17c1df4d"
      }
    },
    "colab": {
      "provenance": []
    },
    "widgets": {
      "application/vnd.jupyter.widget-state+json": {
        "0befc472aeda4dbdb27cd22046ce4800": {
          "model_module": "@jupyter-widgets/controls",
          "model_name": "HBoxModel",
          "model_module_version": "1.5.0",
          "state": {
            "_dom_classes": [],
            "_model_module": "@jupyter-widgets/controls",
            "_model_module_version": "1.5.0",
            "_model_name": "HBoxModel",
            "_view_count": null,
            "_view_module": "@jupyter-widgets/controls",
            "_view_module_version": "1.5.0",
            "_view_name": "HBoxView",
            "box_style": "",
            "children": [
              "IPY_MODEL_f8f395c2e09941f080c43c11aa563ecc",
              "IPY_MODEL_e9f0bb6cc44742d192f5907c2622198a",
              "IPY_MODEL_0bbda688f467460abab64073f4b49742"
            ],
            "layout": "IPY_MODEL_ea9b8eba97f54475908ab34f83e6c72c"
          }
        },
        "f8f395c2e09941f080c43c11aa563ecc": {
          "model_module": "@jupyter-widgets/controls",
          "model_name": "HTMLModel",
          "model_module_version": "1.5.0",
          "state": {
            "_dom_classes": [],
            "_model_module": "@jupyter-widgets/controls",
            "_model_module_version": "1.5.0",
            "_model_name": "HTMLModel",
            "_view_count": null,
            "_view_module": "@jupyter-widgets/controls",
            "_view_module_version": "1.5.0",
            "_view_name": "HTMLView",
            "description": "",
            "description_tooltip": null,
            "layout": "IPY_MODEL_e2b1d77cba9b4789b9cd41d7ebb40627",
            "placeholder": "​",
            "style": "IPY_MODEL_255271a1b8964097a5e6a87819f67f72",
            "value": "100%"
          }
        },
        "e9f0bb6cc44742d192f5907c2622198a": {
          "model_module": "@jupyter-widgets/controls",
          "model_name": "FloatProgressModel",
          "model_module_version": "1.5.0",
          "state": {
            "_dom_classes": [],
            "_model_module": "@jupyter-widgets/controls",
            "_model_module_version": "1.5.0",
            "_model_name": "FloatProgressModel",
            "_view_count": null,
            "_view_module": "@jupyter-widgets/controls",
            "_view_module_version": "1.5.0",
            "_view_name": "ProgressView",
            "bar_style": "success",
            "description": "",
            "description_tooltip": null,
            "layout": "IPY_MODEL_2522bbc09d3f4041a126a32cd3b19c26",
            "max": 1000,
            "min": 0,
            "orientation": "horizontal",
            "style": "IPY_MODEL_a2b274ddb30d49d1b999333b5806ea9f",
            "value": 1000
          }
        },
        "0bbda688f467460abab64073f4b49742": {
          "model_module": "@jupyter-widgets/controls",
          "model_name": "HTMLModel",
          "model_module_version": "1.5.0",
          "state": {
            "_dom_classes": [],
            "_model_module": "@jupyter-widgets/controls",
            "_model_module_version": "1.5.0",
            "_model_name": "HTMLModel",
            "_view_count": null,
            "_view_module": "@jupyter-widgets/controls",
            "_view_module_version": "1.5.0",
            "_view_name": "HTMLView",
            "description": "",
            "description_tooltip": null,
            "layout": "IPY_MODEL_04c4ca634f4b40d292d274cf94ae42bf",
            "placeholder": "​",
            "style": "IPY_MODEL_85a252916538438184a1c8c9cbc19131",
            "value": " 1000/1000 [02:58&lt;00:00,  4.73it/s]"
          }
        },
        "ea9b8eba97f54475908ab34f83e6c72c": {
          "model_module": "@jupyter-widgets/base",
          "model_name": "LayoutModel",
          "model_module_version": "1.2.0",
          "state": {
            "_model_module": "@jupyter-widgets/base",
            "_model_module_version": "1.2.0",
            "_model_name": "LayoutModel",
            "_view_count": null,
            "_view_module": "@jupyter-widgets/base",
            "_view_module_version": "1.2.0",
            "_view_name": "LayoutView",
            "align_content": null,
            "align_items": null,
            "align_self": null,
            "border": null,
            "bottom": null,
            "display": null,
            "flex": null,
            "flex_flow": null,
            "grid_area": null,
            "grid_auto_columns": null,
            "grid_auto_flow": null,
            "grid_auto_rows": null,
            "grid_column": null,
            "grid_gap": null,
            "grid_row": null,
            "grid_template_areas": null,
            "grid_template_columns": null,
            "grid_template_rows": null,
            "height": null,
            "justify_content": null,
            "justify_items": null,
            "left": null,
            "margin": null,
            "max_height": null,
            "max_width": null,
            "min_height": null,
            "min_width": null,
            "object_fit": null,
            "object_position": null,
            "order": null,
            "overflow": null,
            "overflow_x": null,
            "overflow_y": null,
            "padding": null,
            "right": null,
            "top": null,
            "visibility": null,
            "width": null
          }
        },
        "e2b1d77cba9b4789b9cd41d7ebb40627": {
          "model_module": "@jupyter-widgets/base",
          "model_name": "LayoutModel",
          "model_module_version": "1.2.0",
          "state": {
            "_model_module": "@jupyter-widgets/base",
            "_model_module_version": "1.2.0",
            "_model_name": "LayoutModel",
            "_view_count": null,
            "_view_module": "@jupyter-widgets/base",
            "_view_module_version": "1.2.0",
            "_view_name": "LayoutView",
            "align_content": null,
            "align_items": null,
            "align_self": null,
            "border": null,
            "bottom": null,
            "display": null,
            "flex": null,
            "flex_flow": null,
            "grid_area": null,
            "grid_auto_columns": null,
            "grid_auto_flow": null,
            "grid_auto_rows": null,
            "grid_column": null,
            "grid_gap": null,
            "grid_row": null,
            "grid_template_areas": null,
            "grid_template_columns": null,
            "grid_template_rows": null,
            "height": null,
            "justify_content": null,
            "justify_items": null,
            "left": null,
            "margin": null,
            "max_height": null,
            "max_width": null,
            "min_height": null,
            "min_width": null,
            "object_fit": null,
            "object_position": null,
            "order": null,
            "overflow": null,
            "overflow_x": null,
            "overflow_y": null,
            "padding": null,
            "right": null,
            "top": null,
            "visibility": null,
            "width": null
          }
        },
        "255271a1b8964097a5e6a87819f67f72": {
          "model_module": "@jupyter-widgets/controls",
          "model_name": "DescriptionStyleModel",
          "model_module_version": "1.5.0",
          "state": {
            "_model_module": "@jupyter-widgets/controls",
            "_model_module_version": "1.5.0",
            "_model_name": "DescriptionStyleModel",
            "_view_count": null,
            "_view_module": "@jupyter-widgets/base",
            "_view_module_version": "1.2.0",
            "_view_name": "StyleView",
            "description_width": ""
          }
        },
        "2522bbc09d3f4041a126a32cd3b19c26": {
          "model_module": "@jupyter-widgets/base",
          "model_name": "LayoutModel",
          "model_module_version": "1.2.0",
          "state": {
            "_model_module": "@jupyter-widgets/base",
            "_model_module_version": "1.2.0",
            "_model_name": "LayoutModel",
            "_view_count": null,
            "_view_module": "@jupyter-widgets/base",
            "_view_module_version": "1.2.0",
            "_view_name": "LayoutView",
            "align_content": null,
            "align_items": null,
            "align_self": null,
            "border": null,
            "bottom": null,
            "display": null,
            "flex": null,
            "flex_flow": null,
            "grid_area": null,
            "grid_auto_columns": null,
            "grid_auto_flow": null,
            "grid_auto_rows": null,
            "grid_column": null,
            "grid_gap": null,
            "grid_row": null,
            "grid_template_areas": null,
            "grid_template_columns": null,
            "grid_template_rows": null,
            "height": null,
            "justify_content": null,
            "justify_items": null,
            "left": null,
            "margin": null,
            "max_height": null,
            "max_width": null,
            "min_height": null,
            "min_width": null,
            "object_fit": null,
            "object_position": null,
            "order": null,
            "overflow": null,
            "overflow_x": null,
            "overflow_y": null,
            "padding": null,
            "right": null,
            "top": null,
            "visibility": null,
            "width": null
          }
        },
        "a2b274ddb30d49d1b999333b5806ea9f": {
          "model_module": "@jupyter-widgets/controls",
          "model_name": "ProgressStyleModel",
          "model_module_version": "1.5.0",
          "state": {
            "_model_module": "@jupyter-widgets/controls",
            "_model_module_version": "1.5.0",
            "_model_name": "ProgressStyleModel",
            "_view_count": null,
            "_view_module": "@jupyter-widgets/base",
            "_view_module_version": "1.2.0",
            "_view_name": "StyleView",
            "bar_color": null,
            "description_width": ""
          }
        },
        "04c4ca634f4b40d292d274cf94ae42bf": {
          "model_module": "@jupyter-widgets/base",
          "model_name": "LayoutModel",
          "model_module_version": "1.2.0",
          "state": {
            "_model_module": "@jupyter-widgets/base",
            "_model_module_version": "1.2.0",
            "_model_name": "LayoutModel",
            "_view_count": null,
            "_view_module": "@jupyter-widgets/base",
            "_view_module_version": "1.2.0",
            "_view_name": "LayoutView",
            "align_content": null,
            "align_items": null,
            "align_self": null,
            "border": null,
            "bottom": null,
            "display": null,
            "flex": null,
            "flex_flow": null,
            "grid_area": null,
            "grid_auto_columns": null,
            "grid_auto_flow": null,
            "grid_auto_rows": null,
            "grid_column": null,
            "grid_gap": null,
            "grid_row": null,
            "grid_template_areas": null,
            "grid_template_columns": null,
            "grid_template_rows": null,
            "height": null,
            "justify_content": null,
            "justify_items": null,
            "left": null,
            "margin": null,
            "max_height": null,
            "max_width": null,
            "min_height": null,
            "min_width": null,
            "object_fit": null,
            "object_position": null,
            "order": null,
            "overflow": null,
            "overflow_x": null,
            "overflow_y": null,
            "padding": null,
            "right": null,
            "top": null,
            "visibility": null,
            "width": null
          }
        },
        "85a252916538438184a1c8c9cbc19131": {
          "model_module": "@jupyter-widgets/controls",
          "model_name": "DescriptionStyleModel",
          "model_module_version": "1.5.0",
          "state": {
            "_model_module": "@jupyter-widgets/controls",
            "_model_module_version": "1.5.0",
            "_model_name": "DescriptionStyleModel",
            "_view_count": null,
            "_view_module": "@jupyter-widgets/base",
            "_view_module_version": "1.2.0",
            "_view_name": "StyleView",
            "description_width": ""
          }
        },
        "2e7edbd0db9848fd9e4c26b8792ca78e": {
          "model_module": "@jupyter-widgets/controls",
          "model_name": "HBoxModel",
          "model_module_version": "1.5.0",
          "state": {
            "_dom_classes": [],
            "_model_module": "@jupyter-widgets/controls",
            "_model_module_version": "1.5.0",
            "_model_name": "HBoxModel",
            "_view_count": null,
            "_view_module": "@jupyter-widgets/controls",
            "_view_module_version": "1.5.0",
            "_view_name": "HBoxView",
            "box_style": "",
            "children": [
              "IPY_MODEL_b258e47f95af494fa78a334f7cc36c71",
              "IPY_MODEL_0ff3735083ef40318b77cbd2410ebf66",
              "IPY_MODEL_512618e977394a78ae6929d70b5a668f"
            ],
            "layout": "IPY_MODEL_f2a1a568c227440c822984278a99a01b"
          }
        },
        "b258e47f95af494fa78a334f7cc36c71": {
          "model_module": "@jupyter-widgets/controls",
          "model_name": "HTMLModel",
          "model_module_version": "1.5.0",
          "state": {
            "_dom_classes": [],
            "_model_module": "@jupyter-widgets/controls",
            "_model_module_version": "1.5.0",
            "_model_name": "HTMLModel",
            "_view_count": null,
            "_view_module": "@jupyter-widgets/controls",
            "_view_module_version": "1.5.0",
            "_view_name": "HTMLView",
            "description": "",
            "description_tooltip": null,
            "layout": "IPY_MODEL_d6a77dff1a0142d8a7ead862001f7a4e",
            "placeholder": "​",
            "style": "IPY_MODEL_27a30e57eb334ef98ded2890929aab4f",
            "value": "100%"
          }
        },
        "0ff3735083ef40318b77cbd2410ebf66": {
          "model_module": "@jupyter-widgets/controls",
          "model_name": "FloatProgressModel",
          "model_module_version": "1.5.0",
          "state": {
            "_dom_classes": [],
            "_model_module": "@jupyter-widgets/controls",
            "_model_module_version": "1.5.0",
            "_model_name": "FloatProgressModel",
            "_view_count": null,
            "_view_module": "@jupyter-widgets/controls",
            "_view_module_version": "1.5.0",
            "_view_name": "ProgressView",
            "bar_style": "success",
            "description": "",
            "description_tooltip": null,
            "layout": "IPY_MODEL_aa471f17b64744259d689f9db3d3fc3b",
            "max": 1000,
            "min": 0,
            "orientation": "horizontal",
            "style": "IPY_MODEL_bff7f7f3c8cb46d1879358ee3fc67679",
            "value": 1000
          }
        },
        "512618e977394a78ae6929d70b5a668f": {
          "model_module": "@jupyter-widgets/controls",
          "model_name": "HTMLModel",
          "model_module_version": "1.5.0",
          "state": {
            "_dom_classes": [],
            "_model_module": "@jupyter-widgets/controls",
            "_model_module_version": "1.5.0",
            "_model_name": "HTMLModel",
            "_view_count": null,
            "_view_module": "@jupyter-widgets/controls",
            "_view_module_version": "1.5.0",
            "_view_name": "HTMLView",
            "description": "",
            "description_tooltip": null,
            "layout": "IPY_MODEL_e0aa957764d34603a64f5973fab44760",
            "placeholder": "​",
            "style": "IPY_MODEL_f001022e7785458fbdcc31b471ba63b6",
            "value": " 1000/1000 [03:01&lt;00:00,  6.29it/s]"
          }
        },
        "f2a1a568c227440c822984278a99a01b": {
          "model_module": "@jupyter-widgets/base",
          "model_name": "LayoutModel",
          "model_module_version": "1.2.0",
          "state": {
            "_model_module": "@jupyter-widgets/base",
            "_model_module_version": "1.2.0",
            "_model_name": "LayoutModel",
            "_view_count": null,
            "_view_module": "@jupyter-widgets/base",
            "_view_module_version": "1.2.0",
            "_view_name": "LayoutView",
            "align_content": null,
            "align_items": null,
            "align_self": null,
            "border": null,
            "bottom": null,
            "display": null,
            "flex": null,
            "flex_flow": null,
            "grid_area": null,
            "grid_auto_columns": null,
            "grid_auto_flow": null,
            "grid_auto_rows": null,
            "grid_column": null,
            "grid_gap": null,
            "grid_row": null,
            "grid_template_areas": null,
            "grid_template_columns": null,
            "grid_template_rows": null,
            "height": null,
            "justify_content": null,
            "justify_items": null,
            "left": null,
            "margin": null,
            "max_height": null,
            "max_width": null,
            "min_height": null,
            "min_width": null,
            "object_fit": null,
            "object_position": null,
            "order": null,
            "overflow": null,
            "overflow_x": null,
            "overflow_y": null,
            "padding": null,
            "right": null,
            "top": null,
            "visibility": null,
            "width": null
          }
        },
        "d6a77dff1a0142d8a7ead862001f7a4e": {
          "model_module": "@jupyter-widgets/base",
          "model_name": "LayoutModel",
          "model_module_version": "1.2.0",
          "state": {
            "_model_module": "@jupyter-widgets/base",
            "_model_module_version": "1.2.0",
            "_model_name": "LayoutModel",
            "_view_count": null,
            "_view_module": "@jupyter-widgets/base",
            "_view_module_version": "1.2.0",
            "_view_name": "LayoutView",
            "align_content": null,
            "align_items": null,
            "align_self": null,
            "border": null,
            "bottom": null,
            "display": null,
            "flex": null,
            "flex_flow": null,
            "grid_area": null,
            "grid_auto_columns": null,
            "grid_auto_flow": null,
            "grid_auto_rows": null,
            "grid_column": null,
            "grid_gap": null,
            "grid_row": null,
            "grid_template_areas": null,
            "grid_template_columns": null,
            "grid_template_rows": null,
            "height": null,
            "justify_content": null,
            "justify_items": null,
            "left": null,
            "margin": null,
            "max_height": null,
            "max_width": null,
            "min_height": null,
            "min_width": null,
            "object_fit": null,
            "object_position": null,
            "order": null,
            "overflow": null,
            "overflow_x": null,
            "overflow_y": null,
            "padding": null,
            "right": null,
            "top": null,
            "visibility": null,
            "width": null
          }
        },
        "27a30e57eb334ef98ded2890929aab4f": {
          "model_module": "@jupyter-widgets/controls",
          "model_name": "DescriptionStyleModel",
          "model_module_version": "1.5.0",
          "state": {
            "_model_module": "@jupyter-widgets/controls",
            "_model_module_version": "1.5.0",
            "_model_name": "DescriptionStyleModel",
            "_view_count": null,
            "_view_module": "@jupyter-widgets/base",
            "_view_module_version": "1.2.0",
            "_view_name": "StyleView",
            "description_width": ""
          }
        },
        "aa471f17b64744259d689f9db3d3fc3b": {
          "model_module": "@jupyter-widgets/base",
          "model_name": "LayoutModel",
          "model_module_version": "1.2.0",
          "state": {
            "_model_module": "@jupyter-widgets/base",
            "_model_module_version": "1.2.0",
            "_model_name": "LayoutModel",
            "_view_count": null,
            "_view_module": "@jupyter-widgets/base",
            "_view_module_version": "1.2.0",
            "_view_name": "LayoutView",
            "align_content": null,
            "align_items": null,
            "align_self": null,
            "border": null,
            "bottom": null,
            "display": null,
            "flex": null,
            "flex_flow": null,
            "grid_area": null,
            "grid_auto_columns": null,
            "grid_auto_flow": null,
            "grid_auto_rows": null,
            "grid_column": null,
            "grid_gap": null,
            "grid_row": null,
            "grid_template_areas": null,
            "grid_template_columns": null,
            "grid_template_rows": null,
            "height": null,
            "justify_content": null,
            "justify_items": null,
            "left": null,
            "margin": null,
            "max_height": null,
            "max_width": null,
            "min_height": null,
            "min_width": null,
            "object_fit": null,
            "object_position": null,
            "order": null,
            "overflow": null,
            "overflow_x": null,
            "overflow_y": null,
            "padding": null,
            "right": null,
            "top": null,
            "visibility": null,
            "width": null
          }
        },
        "bff7f7f3c8cb46d1879358ee3fc67679": {
          "model_module": "@jupyter-widgets/controls",
          "model_name": "ProgressStyleModel",
          "model_module_version": "1.5.0",
          "state": {
            "_model_module": "@jupyter-widgets/controls",
            "_model_module_version": "1.5.0",
            "_model_name": "ProgressStyleModel",
            "_view_count": null,
            "_view_module": "@jupyter-widgets/base",
            "_view_module_version": "1.2.0",
            "_view_name": "StyleView",
            "bar_color": null,
            "description_width": ""
          }
        },
        "e0aa957764d34603a64f5973fab44760": {
          "model_module": "@jupyter-widgets/base",
          "model_name": "LayoutModel",
          "model_module_version": "1.2.0",
          "state": {
            "_model_module": "@jupyter-widgets/base",
            "_model_module_version": "1.2.0",
            "_model_name": "LayoutModel",
            "_view_count": null,
            "_view_module": "@jupyter-widgets/base",
            "_view_module_version": "1.2.0",
            "_view_name": "LayoutView",
            "align_content": null,
            "align_items": null,
            "align_self": null,
            "border": null,
            "bottom": null,
            "display": null,
            "flex": null,
            "flex_flow": null,
            "grid_area": null,
            "grid_auto_columns": null,
            "grid_auto_flow": null,
            "grid_auto_rows": null,
            "grid_column": null,
            "grid_gap": null,
            "grid_row": null,
            "grid_template_areas": null,
            "grid_template_columns": null,
            "grid_template_rows": null,
            "height": null,
            "justify_content": null,
            "justify_items": null,
            "left": null,
            "margin": null,
            "max_height": null,
            "max_width": null,
            "min_height": null,
            "min_width": null,
            "object_fit": null,
            "object_position": null,
            "order": null,
            "overflow": null,
            "overflow_x": null,
            "overflow_y": null,
            "padding": null,
            "right": null,
            "top": null,
            "visibility": null,
            "width": null
          }
        },
        "f001022e7785458fbdcc31b471ba63b6": {
          "model_module": "@jupyter-widgets/controls",
          "model_name": "DescriptionStyleModel",
          "model_module_version": "1.5.0",
          "state": {
            "_model_module": "@jupyter-widgets/controls",
            "_model_module_version": "1.5.0",
            "_model_name": "DescriptionStyleModel",
            "_view_count": null,
            "_view_module": "@jupyter-widgets/base",
            "_view_module_version": "1.2.0",
            "_view_name": "StyleView",
            "description_width": ""
          }
        },
        "6cb2e4dad33d4fd6931a7d543918edf1": {
          "model_module": "@jupyter-widgets/controls",
          "model_name": "HBoxModel",
          "model_module_version": "1.5.0",
          "state": {
            "_dom_classes": [],
            "_model_module": "@jupyter-widgets/controls",
            "_model_module_version": "1.5.0",
            "_model_name": "HBoxModel",
            "_view_count": null,
            "_view_module": "@jupyter-widgets/controls",
            "_view_module_version": "1.5.0",
            "_view_name": "HBoxView",
            "box_style": "",
            "children": [
              "IPY_MODEL_898e317d07144265a1cfaed06e3eb408",
              "IPY_MODEL_c922fcc0f6884b5398668c63b34b0409",
              "IPY_MODEL_cf0793068fd54e5d9d45ee4564e40b75"
            ],
            "layout": "IPY_MODEL_5dddf0b4e7804691b55a50ceef50f5ca"
          }
        },
        "898e317d07144265a1cfaed06e3eb408": {
          "model_module": "@jupyter-widgets/controls",
          "model_name": "HTMLModel",
          "model_module_version": "1.5.0",
          "state": {
            "_dom_classes": [],
            "_model_module": "@jupyter-widgets/controls",
            "_model_module_version": "1.5.0",
            "_model_name": "HTMLModel",
            "_view_count": null,
            "_view_module": "@jupyter-widgets/controls",
            "_view_module_version": "1.5.0",
            "_view_name": "HTMLView",
            "description": "",
            "description_tooltip": null,
            "layout": "IPY_MODEL_4068cf457c2b4a6dbe4b07bc5d908550",
            "placeholder": "​",
            "style": "IPY_MODEL_38f9580d3ed0411db80d507c7e9eb779",
            "value": "100%"
          }
        },
        "c922fcc0f6884b5398668c63b34b0409": {
          "model_module": "@jupyter-widgets/controls",
          "model_name": "FloatProgressModel",
          "model_module_version": "1.5.0",
          "state": {
            "_dom_classes": [],
            "_model_module": "@jupyter-widgets/controls",
            "_model_module_version": "1.5.0",
            "_model_name": "FloatProgressModel",
            "_view_count": null,
            "_view_module": "@jupyter-widgets/controls",
            "_view_module_version": "1.5.0",
            "_view_name": "ProgressView",
            "bar_style": "success",
            "description": "",
            "description_tooltip": null,
            "layout": "IPY_MODEL_ce09bc27351a451ba9537b9add9e2c39",
            "max": 1000,
            "min": 0,
            "orientation": "horizontal",
            "style": "IPY_MODEL_fdd3846ed9e846b6a7f34ffba42b708f",
            "value": 1000
          }
        },
        "cf0793068fd54e5d9d45ee4564e40b75": {
          "model_module": "@jupyter-widgets/controls",
          "model_name": "HTMLModel",
          "model_module_version": "1.5.0",
          "state": {
            "_dom_classes": [],
            "_model_module": "@jupyter-widgets/controls",
            "_model_module_version": "1.5.0",
            "_model_name": "HTMLModel",
            "_view_count": null,
            "_view_module": "@jupyter-widgets/controls",
            "_view_module_version": "1.5.0",
            "_view_name": "HTMLView",
            "description": "",
            "description_tooltip": null,
            "layout": "IPY_MODEL_747177d0867f463e9829b0b40ff554eb",
            "placeholder": "​",
            "style": "IPY_MODEL_b71846de2fbb4ebab8ce8e6b86760654",
            "value": " 1000/1000 [04:27&lt;00:00,  2.96it/s]"
          }
        },
        "5dddf0b4e7804691b55a50ceef50f5ca": {
          "model_module": "@jupyter-widgets/base",
          "model_name": "LayoutModel",
          "model_module_version": "1.2.0",
          "state": {
            "_model_module": "@jupyter-widgets/base",
            "_model_module_version": "1.2.0",
            "_model_name": "LayoutModel",
            "_view_count": null,
            "_view_module": "@jupyter-widgets/base",
            "_view_module_version": "1.2.0",
            "_view_name": "LayoutView",
            "align_content": null,
            "align_items": null,
            "align_self": null,
            "border": null,
            "bottom": null,
            "display": null,
            "flex": null,
            "flex_flow": null,
            "grid_area": null,
            "grid_auto_columns": null,
            "grid_auto_flow": null,
            "grid_auto_rows": null,
            "grid_column": null,
            "grid_gap": null,
            "grid_row": null,
            "grid_template_areas": null,
            "grid_template_columns": null,
            "grid_template_rows": null,
            "height": null,
            "justify_content": null,
            "justify_items": null,
            "left": null,
            "margin": null,
            "max_height": null,
            "max_width": null,
            "min_height": null,
            "min_width": null,
            "object_fit": null,
            "object_position": null,
            "order": null,
            "overflow": null,
            "overflow_x": null,
            "overflow_y": null,
            "padding": null,
            "right": null,
            "top": null,
            "visibility": null,
            "width": null
          }
        },
        "4068cf457c2b4a6dbe4b07bc5d908550": {
          "model_module": "@jupyter-widgets/base",
          "model_name": "LayoutModel",
          "model_module_version": "1.2.0",
          "state": {
            "_model_module": "@jupyter-widgets/base",
            "_model_module_version": "1.2.0",
            "_model_name": "LayoutModel",
            "_view_count": null,
            "_view_module": "@jupyter-widgets/base",
            "_view_module_version": "1.2.0",
            "_view_name": "LayoutView",
            "align_content": null,
            "align_items": null,
            "align_self": null,
            "border": null,
            "bottom": null,
            "display": null,
            "flex": null,
            "flex_flow": null,
            "grid_area": null,
            "grid_auto_columns": null,
            "grid_auto_flow": null,
            "grid_auto_rows": null,
            "grid_column": null,
            "grid_gap": null,
            "grid_row": null,
            "grid_template_areas": null,
            "grid_template_columns": null,
            "grid_template_rows": null,
            "height": null,
            "justify_content": null,
            "justify_items": null,
            "left": null,
            "margin": null,
            "max_height": null,
            "max_width": null,
            "min_height": null,
            "min_width": null,
            "object_fit": null,
            "object_position": null,
            "order": null,
            "overflow": null,
            "overflow_x": null,
            "overflow_y": null,
            "padding": null,
            "right": null,
            "top": null,
            "visibility": null,
            "width": null
          }
        },
        "38f9580d3ed0411db80d507c7e9eb779": {
          "model_module": "@jupyter-widgets/controls",
          "model_name": "DescriptionStyleModel",
          "model_module_version": "1.5.0",
          "state": {
            "_model_module": "@jupyter-widgets/controls",
            "_model_module_version": "1.5.0",
            "_model_name": "DescriptionStyleModel",
            "_view_count": null,
            "_view_module": "@jupyter-widgets/base",
            "_view_module_version": "1.2.0",
            "_view_name": "StyleView",
            "description_width": ""
          }
        },
        "ce09bc27351a451ba9537b9add9e2c39": {
          "model_module": "@jupyter-widgets/base",
          "model_name": "LayoutModel",
          "model_module_version": "1.2.0",
          "state": {
            "_model_module": "@jupyter-widgets/base",
            "_model_module_version": "1.2.0",
            "_model_name": "LayoutModel",
            "_view_count": null,
            "_view_module": "@jupyter-widgets/base",
            "_view_module_version": "1.2.0",
            "_view_name": "LayoutView",
            "align_content": null,
            "align_items": null,
            "align_self": null,
            "border": null,
            "bottom": null,
            "display": null,
            "flex": null,
            "flex_flow": null,
            "grid_area": null,
            "grid_auto_columns": null,
            "grid_auto_flow": null,
            "grid_auto_rows": null,
            "grid_column": null,
            "grid_gap": null,
            "grid_row": null,
            "grid_template_areas": null,
            "grid_template_columns": null,
            "grid_template_rows": null,
            "height": null,
            "justify_content": null,
            "justify_items": null,
            "left": null,
            "margin": null,
            "max_height": null,
            "max_width": null,
            "min_height": null,
            "min_width": null,
            "object_fit": null,
            "object_position": null,
            "order": null,
            "overflow": null,
            "overflow_x": null,
            "overflow_y": null,
            "padding": null,
            "right": null,
            "top": null,
            "visibility": null,
            "width": null
          }
        },
        "fdd3846ed9e846b6a7f34ffba42b708f": {
          "model_module": "@jupyter-widgets/controls",
          "model_name": "ProgressStyleModel",
          "model_module_version": "1.5.0",
          "state": {
            "_model_module": "@jupyter-widgets/controls",
            "_model_module_version": "1.5.0",
            "_model_name": "ProgressStyleModel",
            "_view_count": null,
            "_view_module": "@jupyter-widgets/base",
            "_view_module_version": "1.2.0",
            "_view_name": "StyleView",
            "bar_color": null,
            "description_width": ""
          }
        },
        "747177d0867f463e9829b0b40ff554eb": {
          "model_module": "@jupyter-widgets/base",
          "model_name": "LayoutModel",
          "model_module_version": "1.2.0",
          "state": {
            "_model_module": "@jupyter-widgets/base",
            "_model_module_version": "1.2.0",
            "_model_name": "LayoutModel",
            "_view_count": null,
            "_view_module": "@jupyter-widgets/base",
            "_view_module_version": "1.2.0",
            "_view_name": "LayoutView",
            "align_content": null,
            "align_items": null,
            "align_self": null,
            "border": null,
            "bottom": null,
            "display": null,
            "flex": null,
            "flex_flow": null,
            "grid_area": null,
            "grid_auto_columns": null,
            "grid_auto_flow": null,
            "grid_auto_rows": null,
            "grid_column": null,
            "grid_gap": null,
            "grid_row": null,
            "grid_template_areas": null,
            "grid_template_columns": null,
            "grid_template_rows": null,
            "height": null,
            "justify_content": null,
            "justify_items": null,
            "left": null,
            "margin": null,
            "max_height": null,
            "max_width": null,
            "min_height": null,
            "min_width": null,
            "object_fit": null,
            "object_position": null,
            "order": null,
            "overflow": null,
            "overflow_x": null,
            "overflow_y": null,
            "padding": null,
            "right": null,
            "top": null,
            "visibility": null,
            "width": null
          }
        },
        "b71846de2fbb4ebab8ce8e6b86760654": {
          "model_module": "@jupyter-widgets/controls",
          "model_name": "DescriptionStyleModel",
          "model_module_version": "1.5.0",
          "state": {
            "_model_module": "@jupyter-widgets/controls",
            "_model_module_version": "1.5.0",
            "_model_name": "DescriptionStyleModel",
            "_view_count": null,
            "_view_module": "@jupyter-widgets/base",
            "_view_module_version": "1.2.0",
            "_view_name": "StyleView",
            "description_width": ""
          }
        }
      }
    }
  },
  "nbformat": 4,
  "nbformat_minor": 0
}
