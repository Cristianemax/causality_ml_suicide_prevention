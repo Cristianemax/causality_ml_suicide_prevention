{
  "cells": [
    {
      "cell_type": "markdown",
      "source": [
        "## Prevenção do suicídio usando causalidade em aprendizado de máquina\n",
        "O aumento alarmante do numero de pessoas afetadas por doenças mentais tornou-se um dos principais problemas de saúde pública enfrentado pelos governos em todo o mundo.\n",
        "O suicídio esta entre as 20 causas de morte mais comuns segundo avaliação da Organização Mundial da Saúde (Organization et al., 2019), superando malaria, câncer de mama\n",
        "ou homicídio e nos últimos 20 anos, houve um aumento de 24% dos casos.\n",
        "Utilizamos dados de classificação clínica e identificamos os possíveis fatores causais que possam estabelecer relações com a ideação suicida.\n",
        "Para tanto, utilizamos métodos de inferência causal e aprendizado de maquina.\n",
        "\n",
        "Os fatores utilizados para inferência causal foram: Sexo, Estado Civil, Tipo de Residência, Alcoólatra, Droga, Suicídio na Família, Depressão na Família,\n",
        "Alcoólatra Família, Droga na Família, Neuro, Psiquiátrica, Capaz de desfrutar das coisas, Impacto de sua Família e amigos, Capaz de tomar decisões importantes,\n",
        "Estudante, Insônia, Ansiedade, Perda de insights, Apetite, Perda de Peso, Ansiedade somática, Hipocondriase, Sentimento de Culpa, Trabalho e interesses,\n",
        "Energia, Lentidão pensamento e fala, Agitação, Libido, TOC e idade.\n",
        "\n",
        "Após nossa pesquisa, os fatores que se apresentaram como possíveis causas que levam um indivíduo a ter ideação suicida foram: Suicídio na família, Drogas na família,\n",
        "Capaz de tomar decisões importantes, Estudante, Hipocondriase, Sentimentos de culpa, Trabalho e interesses e Energia.\n",
        "\n",
        "O objetivo desse projeto é fazer simulações contrafctuais para obter os possíveis fatores que influenciam determinado indivíduo a ter ideação suicida.\n",
        "De posse dele, os profissionais da área de saúde que atendem pacientes com ideação suicida, poderão trabalhar com os mesmos de forma mais assertiva objetivando atenuar ou até eliminar\n",
        "tal ideação.\n",
        "\n",
        "Passos para execução:\n",
        "                                                   \n",
        "1) Preencha a planilha data_base.csv com os dados dos pacientes de acordo com os parâmetros:\n",
        "   \n",
        "\t  > Suicídio na família: Entre com 1 para Sim e 0 para não.\n",
        "\t     \n",
        "\t  > Capaz de tomar decisões importantes: Entre com um número de 1 a 5, sendo: 1=Concordo totalmente; 2=Concordo; 3=Neutro; 4=Discordo;\n",
        "\t\t5=Discordo totalmente.\n",
        "   \n",
        "\t  > Estudante: Entre com um número de 0 a 1, sendo: 0=Não; 1=Sim; 0.5=Meio período.\n",
        "   \n",
        "\t  > Hipocondriase: Entre com um número de 0 a 4, sendo: 0=Ausente; 1=Leve 2=Moderado; 3=Moderadamente grave;\n",
        "\t\t4=Grave.\n",
        "   \n",
        "\t  > Sentimentos de culpa: Entre com um número de 0 a 4, sendo: 0=Ausente, 1=Duvidoso ou trivial: Autocensura, sente que decepcionou as\n",
        "\t\tpessoas\t2=Leve: Idéias de culpa ou ruminação sobre erros passados ou atos pecaminosos; 3=Moderado: A doença atual é uma punição.\n",
        "\t\tDelírios de culpa\t4=Grave: Ouve vozes acusatórias ou denunciatórias e/ou experimenta alucinações visuais ameaçadoras.\n",
        "   \n",
        "\t  > Trabalho e interesses: Entre com um número de 0 a 4, sendo:0=Ausente: Sem dificuldade; 1=Duvidoso ou trivial: Pensamentos e\n",
        "\t\tsentimentos de incapacidade, cansaço ou fraqueza relacionados às atividades; trabalho ou hobbies; 2=Leve: Perda de interesse pela\n",
        "\t\tatividade; hobbies\tou trabalho – relatados diretamente pelo paciente, ou indiretos em apatia, indecisão e vacilação\n",
        "\t\t(sente que precisa se esforçar para\n",
        "\t\ttrabalhar ou realizar atividades); 3=Moderado: Diminuição do tempo real gasto nas atividades ou diminuição da produtividade; 4=Grave:\n",
        "\t\tDeixou de trabalhar por doença atual.\n",
        "   \n",
        "\t  > Depressão na familia:  Entre com 1 para Sim e 0 para não.\n",
        "   \n",
        "      > Histórico de uso de álcool na familia:  Entre com 1 para Sim e 0 para não.\n",
        "   \n",
        "      > Capaz de desfrutar das coisas: Entre com um número de 1 a 5, sendo: 1=Concordo totalmente; 2=Concordo; 3=Neutro; 4=Discordo;\n",
        "\t\t5=Discordo totalmente.\n",
        "\n",
        "\t  > Uso de drogas: Entre com um número de 0 a 2, sendo: 0=Nenhum verificado; 1=Abuso; 2=Dependente.\n",
        "   \n",
        "\t  > Suicidio: Entre com um número de 0 a 4, sendo: : 0=Ausente; 1=Sente que a vida está vazia; 2=Desejos de morte;\n",
        "\t\t3=Pensamentos suicidas ativos; 4=Tentativa grave de suicídio.\n",
        "   \n",
        "\t  > Ansiedade: Entre com um número de 0 a 4, sendo: 0=Ausente: Sem dificuldade 1=Duvidoso ou trivial:\n",
        "\t\tTensão subjetiva e irritabilidade;\n",
        "\t\t2=Leve: Preocupação com assuntos menores; 3=Moderado: Atitude apreensiva aparente na face ou na fala;\n",
        "\t\t4=Grave: Medos expressos sem questionamento.\n",
        "\n",
        "2) Faça o upload dos arquivos data.csv e data_base.csv acessando o ícone Arquivos no menu do canto esquerdo, navegando até a pasta que contenha os arquivos. Selecione ambos e clique em abrir ignorando o aviso.\n",
        "\n",
        "3) Acesse o menu Ambiente de execução/Executar tudo\n",
        "\n",
        "4) Após alguns minutos será gerado o arquivo data_final com o nível de ideação suicida predito e com os fatores que refletiram alterações no nível de ideação suicida após alguma mudança. Acesse o ícone Arquivos no menu do canto esquerdo, clique com o botão direito no arquivo data_final e selecione Fazer download. O arquivo será salvo na pasta download do seu computador.\n",
        "\n",
        "Obs: A alteração do valor do nível de ideação suicida em alguma simulação, pode significar que o indíviduo é sensível ao fator da simulação em questão.\n",
        "O valor da coluna ID da planilha data_final corresponde ao número da linha que determinado indíviduo está localizado no arquivo data_base.\n"
      ],
      "metadata": {
        "id": "lAUt_eSVvihD"
      }
    },
    {
      "cell_type": "code",
      "execution_count": 1,
      "outputs": [],
      "source": [
        "#Importando bibliotecas\n",
        "import torch\n",
        "import pandas as pd\n",
        "import numpy as np\n",
        "\n",
        "# Importando dataset utils\n",
        "from torch.utils.data import Dataset, DataLoader\n",
        "from sklearn.model_selection import train_test_split\n",
        "\n",
        "import torch.nn as nn\n",
        "import torch.nn.functional as F\n",
        "\n",
        "import matplotlib.pyplot as plt\n",
        "\n",
        "import importlib\n",
        "if importlib.util.find_spec('ipywidgets') is not None:\n",
        "    from tqdm.auto import tqdm\n",
        "else:\n",
        "    from tqdm import tqdm\n",
        "\n",
        "import networkx as nx\n",
        "\n",
        "from typing import Union"
      ],
      "metadata": {
        "ExecuteTime": {
          "end_time": "2023-10-21T17:42:01.212958800Z",
          "start_time": "2023-10-21T17:41:48.090060400Z"
        },
        "id": "y5oHtJxwC9wG"
      }
    },
    {
      "cell_type": "code",
      "source": [
        "dataframe = pd.read_csv('/content/data.csv', sep=';')\n",
        "\n",
        "dataframe = dataframe.fillna(-1)\n",
        "df_suic = dataframe.copy()\n",
        "df_suic = df_suic.astype(float)"
      ],
      "metadata": {
        "id": "VI7I5bJv_2_q"
      },
      "execution_count": 2,
      "outputs": []
    },
    {
      "cell_type": "code",
      "source": [
        "df_base = pd.read_csv('/content/data_base.csv', sep=';',decimal=',',encoding='unicode_escape')\n",
        "df_base = df_base.astype(float)"
      ],
      "metadata": {
        "id": "H8LwwEzVo-8N"
      },
      "execution_count": 3,
      "outputs": []
    },
    {
      "cell_type": "code",
      "source": [
        "notears_selected = [\n",
        "   \"Suic_familia\",\n",
        "    \"Capaz de tomar decisões importantes\",\n",
        "    \"Estudante\",\n",
        "    \"Hipocondriase\",\n",
        "    \"Sentimentos_culpa\",\n",
        "    \"Trabalho e interesses\",\n",
        "    'Dep_familia',\n",
        "    'Alc_familia',\n",
        "    'Capaz de desfrutar das coisas',\n",
        "    'Droga',\n",
        "    'Suicidio',\n",
        "    'Ansiedade'\n",
        "     ]"
      ],
      "metadata": {
        "id": "CYXJO99bCpcb"
      },
      "execution_count": 4,
      "outputs": []
    },
    {
      "cell_type": "markdown",
      "source": [
        "# Lendo dados"
      ],
      "metadata": {
        "id": "a2xJfxFDiEC1"
      }
    },
    {
      "cell_type": "code",
      "source": [
        "df_novo = df_base.copy()\n",
        "df_novo['Id'] = df_novo.index+2"
      ],
      "metadata": {
        "id": "nPY1t7HCHUeU"
      },
      "execution_count": 5,
      "outputs": []
    },
    {
      "cell_type": "code",
      "source": [
        "df_suic['Id'] = range(df_novo['Id'].max()+1, (df_suic.shape[0]+df_novo.shape[0])+2)"
      ],
      "metadata": {
        "id": "GN3OiPEdcRF0"
      },
      "execution_count": 6,
      "outputs": []
    },
    {
      "cell_type": "markdown",
      "source": [
        "# Criando conjunto de dados causal"
      ],
      "metadata": {
        "id": "A9jdXI0dBXKb"
      }
    },
    {
      "cell_type": "code",
      "source": [
        "# Conjunto de dados de X\n",
        "class CausalDataset(Dataset):\n",
        "    def __init__(self, X, target:Union[list, int]):\n",
        "        torch.manual_seed(3)\n",
        "        self.X = torch.tensor(X, dtype=torch.double)\n",
        "        self.target = target\n",
        "        if isinstance(target, int):\n",
        "            self.target = [target]\n",
        "\n",
        "        # X é toda variável, exceto a lista de alvos\n",
        "        dims = list(range(self.X.shape[1]))\n",
        "        self.x = self.X[:, [i for i in dims if i not in self.target]]\n",
        "        self.y = self.X[:, self.target]\n",
        "\n",
        "    def __len__(self):\n",
        "        return len(self.x)\n",
        "\n",
        "    def __getitem__(self, idx):\n",
        "        return self.x[idx].double(), self.y[idx].double()"
      ],
      "metadata": {
        "id": "N_O7r6rcBUMa"
      },
      "execution_count": 7,
      "outputs": []
    },
    {
      "cell_type": "code",
      "execution_count": 8,
      "metadata": {
        "ExecuteTime": {
          "end_time": "2023-10-21T17:42:02.441242400Z",
          "start_time": "2023-10-21T17:42:02.241586800Z"
        },
        "id": "l6ndJJD9C9we"
      },
      "outputs": [],
      "source": [
        "class MLP(torch.nn.Module):\n",
        "    def __init__(self, dim_list:list, add_dropout:bool=False):\n",
        "        super(MLP, self).__init__()\n",
        "        torch.manual_seed(3)\n",
        "        self.layers = torch.nn.ModuleList()\n",
        "        for i in range(len(dim_list) - 2):\n",
        "            self.layers.append(torch.nn.Linear(dim_list[i], dim_list[i+1]))\n",
        "            self.layers.append(torch.nn.ReLU())\n",
        "            if add_dropout:\n",
        "                self.layers.append(torch.nn.Dropout(0.3))\n",
        "\n",
        "        self.layers.append(torch.nn.Linear(dim_list[-2], dim_list[-1]))\n",
        "        self.double()\n",
        "\n",
        "    def forward(self, x):\n",
        "        for layer in self.layers:\n",
        "            x = layer(x)\n",
        "        return x"
      ]
    },
    {
      "cell_type": "markdown",
      "metadata": {
        "id": "nPZsZblZC9wf"
      },
      "source": [
        "# Pipeline de treino do modelo"
      ]
    },
    {
      "cell_type": "code",
      "execution_count": 9,
      "metadata": {
        "ExecuteTime": {
          "end_time": "2023-10-21T17:42:02.443249500Z",
          "start_time": "2023-10-21T17:42:02.288585100Z"
        },
        "id": "TEll4p13C9wf"
      },
      "outputs": [],
      "source": [
        "def trainPipeline(dataset, model, batch_size=64, train_split=0.8, verbose=True, max_epochs=100, patience=10, lr=0.001, weight_decay=0.0, loss_fn=nn.MSELoss()):\n",
        "    torch.manual_seed(3)\n",
        "    train_size = int(train_split * len(dataset))\n",
        "    test_size = len(dataset) - train_size\n",
        "    train_dataset, test_dataset = torch.utils.data.random_split(dataset, [train_size, test_size])\n",
        "\n",
        "    train_loader = DataLoader(train_dataset, batch_size=batch_size, shuffle=True)\n",
        "    test_loader = DataLoader(test_dataset, batch_size=batch_size, shuffle=True)\n",
        "\n",
        "    criterion = loss_fn\n",
        "    optimizer = torch.optim.Adam(model.parameters(), lr=lr, weight_decay=weight_decay)\n",
        "\n",
        "    patience = patience\n",
        "\n",
        "    train_losses = []\n",
        "    test_losses = []\n",
        "    for epoch in tqdm(range(max_epochs)):\n",
        "        train_loss = 0\n",
        "        model.train()\n",
        "        for data, target in train_loader:\n",
        "            optimizer.zero_grad()\n",
        "            output = model(data)\n",
        "            loss = criterion(output, target)\n",
        "            loss.backward()\n",
        "            optimizer.step()\n",
        "            train_loss += loss.item()\n",
        "        train_loss /= len(train_loader)\n",
        "        train_losses.append(train_loss)\n",
        "\n",
        "        test_loss = 0\n",
        "        model.eval()\n",
        "        with torch.no_grad():\n",
        "            for data, target in test_loader:\n",
        "                output = model(data)\n",
        "                loss = criterion(output, target)\n",
        "                test_loss += loss.item()\n",
        "        test_loss /= len(test_loader)\n",
        "        test_losses.append(test_loss)\n",
        "\n",
        "        if verbose:\n",
        "            print(f\"Epoch {epoch} - Train loss: {train_loss} - Test loss: {test_loss}\")\n",
        "\n",
        "        if epoch > 10:\n",
        "            all_patience = test_losses[-patience:]\n",
        "            test_loss = test_losses[-1]\n",
        "            if all([test_loss > x for x in all_patience]):\n",
        "                print(\"Early stopping\")\n",
        "                break\n",
        "\n",
        "    # teste do modelo no conjunto de teste e cálculo da precisão\n",
        "    model.eval()\n",
        "    with torch.no_grad():\n",
        "        y_pred_test = []\n",
        "        y_true_test = []\n",
        "        y_pred_train = []\n",
        "        y_true_train = []\n",
        "\n",
        "        for data, target in train_loader:\n",
        "            output = model(data)\n",
        "            y_pred_train.append(output)\n",
        "            y_true_train.append(target)\n",
        "        for data, target in test_loader:\n",
        "            output = model(data)\n",
        "            y_pred_test.append(output)\n",
        "            y_true_test.append(target)\n",
        "\n",
        "        y_pred_test = torch.cat(y_pred_test, dim=0)\n",
        "        y_true_test = torch.cat(y_true_test, dim=0)\n",
        "        y_pred_train = torch.cat(y_pred_train, dim=0)\n",
        "        y_true_train = torch.cat(y_true_train, dim=0)\n",
        "\n",
        "        train_error = torch.abs(y_pred_train - y_true_train)\n",
        "        test_error = torch.abs(y_pred_test - y_true_test)\n",
        "\n",
        "        # calculando acurácia para cada alvo\n",
        "        test_accuracy = []\n",
        "        train_accuracy = []\n",
        "        for i in range(len(y_true_test[0])):\n",
        "            test_accuracy.append(torch.sum(test_error[:, i] < 0.5) / len(test_error))\n",
        "            train_accuracy.append(torch.sum(train_error[:, i] < 0.5) / len(train_error))\n",
        "\n",
        "        print(f\"Final Train accuracy: {train_accuracy}\")\n",
        "        print(f\"Final Test accuracy: {test_accuracy}\")\n",
        "\n",
        "    metrics = {\n",
        "        \"train_loss\": train_losses,\n",
        "        \"test_loss\": test_losses,\n",
        "        \"train_error\": train_error,\n",
        "        \"test_error\": test_error,\n",
        "        \"test_accuracy\": test_accuracy\n",
        "    }\n",
        "\n",
        "    return model, metrics\n"
      ]
    },
    {
      "cell_type": "markdown",
      "metadata": {
        "id": "HlcTn2J5C9wh"
      },
      "source": [
        "\n",
        "## Primeiro treinamos um modelo para cada alvo e obtemos o valor dos erros (individualidade)"
      ]
    },
    {
      "cell_type": "markdown",
      "metadata": {
        "id": "Tb9OD5fIC9wi"
      },
      "source": [
        "## Agora adicionamos os erros ao conjunto de dados e treinamos o modelo contrafactual"
      ]
    },
    {
      "cell_type": "code",
      "execution_count": 10,
      "metadata": {
        "ExecuteTime": {
          "end_time": "2023-10-21T18:06:50.493294500Z",
          "start_time": "2023-10-21T18:06:50.317633200Z"
        },
        "id": "RBij2m5SC9wj"
      },
      "outputs": [],
      "source": [
        "# Criando o modelo counterfactual\n",
        "\n",
        "class CounterfactualModel(torch.nn.Module):\n",
        "    def __init__(self, input_size, hidden_size, output_size):\n",
        "        super(CounterfactualModel, self).__init__()\n",
        "        self.individuality_model = MLP([input_size, hidden_size, hidden_size, hidden_size, 1], add_dropout=True)\n",
        "        self.counterfactual_model = MLP([input_size+1, hidden_size, hidden_size, hidden_size, output_size], add_dropout=True)\n",
        "\n",
        "    def individuality(self, x):\n",
        "        return self.individuality_model(x)\n",
        "\n",
        "    def counterfactual(self, x, i):\n",
        "        x = torch.cat([x, i], dim=1)\n",
        "        return self.counterfactual_model(x)\n",
        "\n",
        "    def forward(self, x):\n",
        "        i = self.individuality(x)\n",
        "        y = self.counterfactual(x, i)\n",
        "        return y"
      ]
    },
    {
      "cell_type": "markdown",
      "metadata": {
        "id": "hlbIwDzvC9wm"
      },
      "source": [
        "# Treinando o modelo com fatores selecionados na inferência causal"
      ]
    },
    {
      "cell_type": "code",
      "execution_count": 11,
      "metadata": {
        "ExecuteTime": {
          "end_time": "2023-10-21T19:45:42.670133Z",
          "start_time": "2023-10-21T18:35:14.037112600Z"
        },
        "id": "G3KfWv0WC9wm",
        "colab": {
          "base_uri": "https://localhost:8080/",
          "height": 150,
          "referenced_widgets": [
            "676fd2a89c714ea38b19327550e9e922",
            "30fc301f31784703967af947df7afe36",
            "623c7d34456545b0940f5b92707b56c7",
            "163caf08a8d043f5b1569bd7a508c3ac",
            "99caf825a8f6441b9c418f6b2c3907db",
            "3842749baed54d9fb44edc5f008ff10a",
            "8b51d42ae0994896a9616357eaf4a6f3",
            "26df800e0a824b6984ca15529c36047e",
            "a212c5a525c34596babb13a223c5e0f6",
            "94226a075a344b51ad48a639c9fc602e",
            "fa15d8d5e7a34072b338c47630f08e93",
            "052edb9e30d442b987ec522a95f3e143",
            "356c2e02b6da4c31bb1ed461410d0998",
            "eab760bf0b56446db50f6327045d78d6",
            "fdbffc40533848e095c3f7a88eaa0d37",
            "8790dee73cc04143a22e92eaf45477d3",
            "867ab5ce9ded429c9cae6960c90168d9",
            "88d37082559f43ea9b9970344231ddc9",
            "b9ee63cacd98483ba0b05ab3ec178a8c",
            "cda24340890a4e4baef038c0d76b5524",
            "e5c1513ccad4470e8b26e1f9db38272b",
            "41d14e191b304537b0557deed268e5be"
          ]
        },
        "outputId": "96805474-2126-4686-84a9-7e770dc87621"
      },
      "outputs": [
        {
          "output_type": "display_data",
          "data": {
            "text/plain": [
              "  0%|          | 0/1000 [00:00<?, ?it/s]"
            ],
            "application/vnd.jupyter.widget-view+json": {
              "version_major": 2,
              "version_minor": 0,
              "model_id": "676fd2a89c714ea38b19327550e9e922"
            }
          },
          "metadata": {}
        },
        {
          "output_type": "stream",
          "name": "stdout",
          "text": [
            "Final Train accuracy: [tensor(0.4818)]\n",
            "Final Test accuracy: [tensor(0.4020)]\n"
          ]
        },
        {
          "output_type": "display_data",
          "data": {
            "text/plain": [
              "  0%|          | 0/1000 [00:00<?, ?it/s]"
            ],
            "application/vnd.jupyter.widget-view+json": {
              "version_major": 2,
              "version_minor": 0,
              "model_id": "052edb9e30d442b987ec522a95f3e143"
            }
          },
          "metadata": {}
        },
        {
          "output_type": "stream",
          "name": "stdout",
          "text": [
            "Final Train accuracy: [tensor(0.5361)]\n",
            "Final Test accuracy: [tensor(0.4735)]\n"
          ]
        }
      ],
      "source": [
        "df_suic_notears = df_suic.copy()\n",
        "df_suic_notears=pd.concat([df_novo,df_suic_notears], ignore_index=True)\n",
        "df_suic_notears = df_suic_notears[notears_selected]\n",
        "\n",
        "# Criando modelos para cada alvo\n",
        "targets = [\"Suicidio\", \"Ansiedade\"]\n",
        "targets_idx = [df_suic_notears.columns.get_loc(c) for c in targets]\n",
        "\n",
        "# Criando base de dados\n",
        "notears_suic_dataset = CausalDataset(df_suic_notears.values, targets_idx[0])\n",
        "notears_anx_dataset = CausalDataset(df_suic_notears.values, targets_idx[1])\n",
        "sample_x, sample_y = notears_suic_dataset[0]\n",
        "\n",
        "# Agora prevemos os alvos com um MLP (Perceptron multicamadas)\n",
        "suic_causal_model = MLP([sample_x.shape[0], 64, 64, 64, 1], add_dropout=True)\n",
        "anx_causal_model = MLP([sample_x.shape[0], 64, 64, 64, 1], add_dropout=True)\n",
        "\n",
        "suic_causal_model, suic_causal_metrics = trainPipeline(notears_suic_dataset, suic_causal_model, verbose=False, max_epochs=1000, weight_decay=1e-5)\n",
        "anx_causal_model, anx_causal_metrics = trainPipeline(notears_anx_dataset, anx_causal_model, verbose=False, max_epochs=1000, weight_decay=1e-5)\n",
        "\n"
      ]
    },
    {
      "cell_type": "code",
      "execution_count": 12,
      "metadata": {
        "ExecuteTime": {
          "end_time": "2023-10-21T20:49:41.814498400Z",
          "start_time": "2023-10-21T19:45:42.701133300Z"
        },
        "id": "-hEM_RE-C9wn",
        "colab": {
          "base_uri": "https://localhost:8080/",
          "height": 84,
          "referenced_widgets": [
            "7b082fb99be948dcbacef37dbcd296f9",
            "eb4b8c0b65b84f0db4e1bb2947601350",
            "162893415edb4c588191bfb3f0f8cfd4",
            "5bed6ca5a4304518977e77f010eaa80d",
            "b903b37a736346378af5dc74baa1f4ab",
            "0e84abc77faa48aa889eee8d1e1166c5",
            "abfbdc9e02a040789820fa1b636a16e7",
            "f0fa085c95db4b56adeb7208a296c7c6",
            "c80264cfc5144862bb45d4278967f7dc",
            "d551961d629c4600a3dcc023813479ce",
            "9efc0c9466f04b1490bbebff5759f5ba"
          ]
        },
        "outputId": "cb2fa367-0746-4449-ef70-652a5502b679"
      },
      "outputs": [
        {
          "output_type": "display_data",
          "data": {
            "text/plain": [
              "  0%|          | 0/1000 [00:00<?, ?it/s]"
            ],
            "application/vnd.jupyter.widget-view+json": {
              "version_major": 2,
              "version_minor": 0,
              "model_id": "7b082fb99be948dcbacef37dbcd296f9"
            }
          },
          "metadata": {}
        },
        {
          "output_type": "stream",
          "name": "stdout",
          "text": [
            "Final Train accuracy: [tensor(0.8461), tensor(0.8229)]\n",
            "Final Test accuracy: [tensor(0.7768), tensor(0.7571)]\n"
          ]
        }
      ],
      "source": [
        "# calculando individualidade\n",
        "suic_causal_erros = []\n",
        "anx_causal_erros = []\n",
        "with torch.no_grad():\n",
        "    for data, y_true in notears_suic_dataset:\n",
        "        y_pred = suic_causal_model(data)\n",
        "        error = torch.abs(y_pred - y_true).item()\n",
        "        suic_causal_erros.append(error)\n",
        "    for data, y_true in notears_anx_dataset:\n",
        "        y_pred = anx_causal_model(data)\n",
        "        error = torch.abs(y_pred - y_true).item()\n",
        "        anx_causal_erros.append(error)\n",
        "\n",
        "suic_causal_erros = np.array(suic_causal_erros)\n",
        "anx_causal_erros = np.array(anx_causal_erros)\n",
        "\n",
        "# adicionando individualidade no dataframe\n",
        "df_suic_notears_with_errors = df_suic_notears.copy()\n",
        "df_suic_notears_with_errors[\"Suicidio_error\"] = suic_causal_erros\n",
        "df_suic_notears_with_errors[\"Ansiedade_error\"] = anx_causal_erros\n",
        "\n",
        "# criando dataset causal com individualidade\n",
        "targets_idx = [df_suic_notears_with_errors.columns.get_loc(c) for c in targets]\n",
        "notears_causal_dataset_error = CausalDataset(df_suic_notears_with_errors.values, targets_idx)\n",
        "sample_x, sample_y = notears_causal_dataset_error[0]\n",
        "\n",
        "# criando modelo counterfactual\n",
        "causal_cf_model = CounterfactualModel(sample_x.shape[0], 64, sample_y.shape[0])\n",
        "\n",
        "# treinando modelo counterfactual\n",
        "causal_cf_model, causal_cf_metrics = trainPipeline(notears_causal_dataset_error, causal_cf_model, verbose=False, max_epochs=1000, weight_decay=1e-5)\n"
      ]
    },
    {
      "cell_type": "code",
      "source": [
        "targets = [\"Suicidio\", \"Ansiedade\"]\n",
        "df = df_suic_notears_with_errors\n",
        "\n",
        "# carregando o modelo\n",
        "counterfact = causal_cf_model\n",
        "counterfact = counterfact.eval()"
      ],
      "metadata": {
        "id": "6QrdW6pOUzHP"
      },
      "execution_count": 13,
      "outputs": []
    },
    {
      "cell_type": "markdown",
      "source": [
        "# Simulações contrafactuais\n",
        "\n"
      ],
      "metadata": {
        "id": "o9T71QJ9igRT"
      }
    },
    {
      "cell_type": "code",
      "source": [
        "def contrafact(df,coluna,i,len):\n",
        "    df_1 = pd.DataFrame(columns = ['Id', 'Feature', 'Suicidio', 'Suicidio_cf'])\n",
        "    df_2 = pd.DataFrame(columns = ['Id', 'Feature', 'Suicidio', 'Suicidio_cf'])\n",
        "    dataset = CausalDataset(df.values, [df.columns.get_loc(c) for c in targets])\n",
        "\n",
        "    if i >= len:\n",
        "     idx=[i,0]\n",
        "    else: idx=[i,i+1]\n",
        "\n",
        "    data1, y1 = dataset[idx[0]]\n",
        "    data2, y2 = dataset[idx[1]]\n",
        "\n",
        "    # predict the counterfactuals for crossed individuals\n",
        "    with torch.no_grad():\n",
        "        i1 = counterfact.individuality(data1.unsqueeze(0))\n",
        "        i2 = counterfact.individuality(data2.unsqueeze(0))\n",
        "\n",
        "        cf11 = counterfact.counterfactual(data1.unsqueeze(0), i1)\n",
        "        cf3 = cf11.squeeze(0).round().numpy().tolist()\n",
        "        suic = cf3[0]\n",
        "\n",
        "        if suic != df[\"Suicidio\"][idx[0]]:\n",
        "            df1_tmp = pd.DataFrame({'Id' : [idx[0]], 'Feature' : [coluna], 'Suicidio' : [df[\"Suicidio\"][idx[0]]], 'Suicidio_cf' : [suic]})\n",
        "            df_1=pd.concat([df_1, df1_tmp])\n",
        "\n",
        "        else:\n",
        "            df_2_tmp=pd.DataFrame({'Id' : [idx[0]], 'Feature' : [coluna], 'Suicidio' : [df[\"Suicidio\"][idx[0]]], 'Suicidio_cf' : [suic]})\n",
        "            df_2=pd.concat([df_2, df_2_tmp])\n",
        "\n",
        "    return df_1, df_2"
      ],
      "metadata": {
        "id": "xxSs1sxH5HUe"
      },
      "execution_count": 14,
      "outputs": []
    },
    {
      "cell_type": "code",
      "source": [
        "df_sim = pd.DataFrame(columns = ['Id', 'Feature', 'Suicidio', 'Suicidio_cf'])\n",
        "df_nao = pd.DataFrame(columns = ['Id', 'Feature', 'Suicidio', 'Suicidio_cf'])\n",
        "df1 = pd.DataFrame(columns = ['Id', 'Feature', 'Suicidio', 'Suicidio_cf'])\n",
        "df2 = pd.DataFrame(columns = ['Id', 'Feature', 'Suicidio', 'Suicidio_cf'])\n",
        "features = [\"Suic_familia\",\n",
        "    \"Capaz de tomar decisões importantes\",\n",
        "    \"Estudante\",\n",
        "    \"Hipocondriase\",\n",
        "    \"Sentimentos_culpa\",\n",
        "    \"Trabalho e interesses\",\n",
        "    'Dep_familia',\n",
        "    'Alc_familia',\n",
        "    'Capaz de desfrutar das coisas',\n",
        "    'Droga']\n",
        "\n",
        "feature1 = ['Suic_familia','Droga','Dep_familia', 'Alc_familia']\n",
        "feature2 = ['Capaz de tomar decisões importantes','Capaz de desfrutar das coisas']\n",
        "feature3 = ['Hipocondriase','Sentimentos_culpa', 'Trabalho e interesses']\n",
        "feature4 = ['Estudante']\n",
        "len = (df_suic.shape[0]+df_novo.shape[0])-1\n",
        "df=df_suic_notears_with_errors"
      ],
      "metadata": {
        "id": "hEu5tRpH6RwM"
      },
      "execution_count": 15,
      "outputs": []
    },
    {
      "cell_type": "code",
      "source": [
        "for index in df.index:\n",
        " for c in df[features]:\n",
        "  if c in feature1:\n",
        "   if df[c][index] == 0.0:\n",
        "    df[c][index] = 1.0\n",
        "   else:\n",
        "    df[c][index] = 0.0\n",
        "   df1,df2 = contrafact(df,c,index,len)\n",
        "   if not df1.empty:\n",
        "    df_sim = pd.concat([df_sim,df1])\n",
        "   if not df2.empty:\n",
        "    df_nao = pd.concat([df_nao,df2])\n",
        "\n",
        "  if c in feature2:\n",
        "   if np.any(df[c][index]==[-1.0,1.0,2.0,3.0]):\n",
        "    df[c][index] = df[c][index] + 2\n",
        "   else: df[c][index] = df[c][index] -2\n",
        "   df1,df2 = contrafact(df,c,index,len)\n",
        "\n",
        "   if not df1.empty:\n",
        "    df_sim = pd.concat([df_sim,df1])\n",
        "   if not df2.empty:\n",
        "    df_nao = pd.concat([df_nao,df2])\n",
        "\n",
        "  if c in feature3:\n",
        "   if np.any(df[c][index]==[-1.0,1.0,2.0]):\n",
        "    df[c][index] = df[c][index] + 2\n",
        "   else: df[c][index] = df[c][index] -2\n",
        "   df1,df2 = contrafact(df,c,index,len)\n",
        "\n",
        "   if not df1.empty:\n",
        "    df_sim = pd.concat([df_sim,df1])\n",
        "   if not df2.empty:\n",
        "    df_nao = pd.concat([df_nao,df2])\n",
        "\n",
        "  if c in feature4:\n",
        "   if df[c][index] == 0.0:\n",
        "    df[c][index] = 1.0\n",
        "   else:\n",
        "    df[c][index] = 0.0\n",
        "   df1,df2 = contrafact(df,c,index,len)\n",
        "\n",
        "   if not df1.empty:\n",
        "    df_sim = pd.concat([df_sim,df1])\n",
        "   if not df2.empty:\n",
        "    df_nao = pd.concat([df_nao,df2])"
      ],
      "metadata": {
        "id": "vmvGhORu6yjR"
      },
      "execution_count": 16,
      "outputs": []
    },
    {
      "cell_type": "code",
      "source": [
        "df_final = pd.merge(df_novo, df_sim, how = 'inner', on = 'Id')"
      ],
      "metadata": {
        "id": "7A-hQrFOOf4g"
      },
      "execution_count": 17,
      "outputs": []
    },
    {
      "cell_type": "code",
      "source": [
        "df_final.rename(columns={'Suicidio_x': 'Suicidio'}, inplace=True)"
      ],
      "metadata": {
        "id": "Tt4vm7COM7X3"
      },
      "execution_count": 18,
      "outputs": []
    },
    {
      "cell_type": "code",
      "source": [
        "df_final=df_final[['Id', 'Feature']]\n",
        "df_final.to_excel('data_final.xlsx')"
      ],
      "metadata": {
        "id": "IMgL_ObAnO8l"
      },
      "execution_count": 19,
      "outputs": []
    },
    {
      "cell_type": "code",
      "source": [
        "# Quantidade de pacientes que foram sensibilizados por cada fator\n",
        "df_groups = df_final.groupby(['Feature'])['Id'].count()\n",
        "\n",
        "df_groups.plot(kind='bar')"
      ],
      "metadata": {
        "colab": {
          "base_uri": "https://localhost:8080/",
          "height": 717
        },
        "id": "iZlvdtMbkhCh",
        "outputId": "6430f6a5-6b60-44d0-d087-04ca1190b0f3"
      },
      "execution_count": 20,
      "outputs": [
        {
          "output_type": "execute_result",
          "data": {
            "text/plain": [
              "<Axes: xlabel='Feature'>"
            ]
          },
          "metadata": {},
          "execution_count": 20
        },
        {
          "output_type": "display_data",
          "data": {
            "text/plain": [
              "<Figure size 640x480 with 1 Axes>"
            ],
            "image/png": "[encoded data removed]"
          },
          "metadata": {}
        }
      ]
    }
  ],
  "metadata": {
    "kernelspec": {
      "display_name": "cml",
      "language": "python",
      "name": "python3"
    },
    "language_info": {
      "codemirror_mode": {
        "name": "ipython",
        "version": 3
      },
      "file_extension": ".py",
      "mimetype": "text/x-python",
      "name": "python",
      "nbconvert_exporter": "python",
      "pygments_lexer": "ipython3",
      "version": "3.8.13"
    },
    "vscode": {
      "interpreter": {
        "hash": "71f78216db5cb2f09350fda35ad9d9668a66a927586f044b9adeddeb17c1df4d"
      }
    },
    "colab": {
      "provenance": []
    },
    "widgets": {
      "application/vnd.jupyter.widget-state+json": {
        "676fd2a89c714ea38b19327550e9e922": {
          "model_module": "@jupyter-widgets/controls",
          "model_name": "HBoxModel",
          "model_module_version": "1.5.0",
          "state": {
            "_dom_classes": [],
            "_model_module": "@jupyter-widgets/controls",
            "_model_module_version": "1.5.0",
            "_model_name": "HBoxModel",
            "_view_count": null,
            "_view_module": "@jupyter-widgets/controls",
            "_view_module_version": "1.5.0",
            "_view_name": "HBoxView",
            "box_style": "",
            "children": [
              "IPY_MODEL_30fc301f31784703967af947df7afe36",
              "IPY_MODEL_623c7d34456545b0940f5b92707b56c7",
              "IPY_MODEL_163caf08a8d043f5b1569bd7a508c3ac"
            ],
            "layout": "IPY_MODEL_99caf825a8f6441b9c418f6b2c3907db"
          }
        },
        "30fc301f31784703967af947df7afe36": {
          "model_module": "@jupyter-widgets/controls",
          "model_name": "HTMLModel",
          "model_module_version": "1.5.0",
          "state": {
            "_dom_classes": [],
            "_model_module": "@jupyter-widgets/controls",
            "_model_module_version": "1.5.0",
            "_model_name": "HTMLModel",
            "_view_count": null,
            "_view_module": "@jupyter-widgets/controls",
            "_view_module_version": "1.5.0",
            "_view_name": "HTMLView",
            "description": "",
            "description_tooltip": null,
            "layout": "IPY_MODEL_3842749baed54d9fb44edc5f008ff10a",
            "placeholder": "​",
            "style": "IPY_MODEL_8b51d42ae0994896a9616357eaf4a6f3",
            "value": "100%"
          }
        },
        "623c7d34456545b0940f5b92707b56c7": {
          "model_module": "@jupyter-widgets/controls",
          "model_name": "FloatProgressModel",
          "model_module_version": "1.5.0",
          "state": {
            "_dom_classes": [],
            "_model_module": "@jupyter-widgets/controls",
            "_model_module_version": "1.5.0",
            "_model_name": "FloatProgressModel",
            "_view_count": null,
            "_view_module": "@jupyter-widgets/controls",
            "_view_module_version": "1.5.0",
            "_view_name": "ProgressView",
            "bar_style": "success",
            "description": "",
            "description_tooltip": null,
            "layout": "IPY_MODEL_26df800e0a824b6984ca15529c36047e",
            "max": 1000,
            "min": 0,
            "orientation": "horizontal",
            "style": "IPY_MODEL_a212c5a525c34596babb13a223c5e0f6",
            "value": 1000
          }
        },
        "163caf08a8d043f5b1569bd7a508c3ac": {
          "model_module": "@jupyter-widgets/controls",
          "model_name": "HTMLModel",
          "model_module_version": "1.5.0",
          "state": {
            "_dom_classes": [],
            "_model_module": "@jupyter-widgets/controls",
            "_model_module_version": "1.5.0",
            "_model_name": "HTMLModel",
            "_view_count": null,
            "_view_module": "@jupyter-widgets/controls",
            "_view_module_version": "1.5.0",
            "_view_name": "HTMLView",
            "description": "",
            "description_tooltip": null,
            "layout": "IPY_MODEL_94226a075a344b51ad48a639c9fc602e",
            "placeholder": "​",
            "style": "IPY_MODEL_fa15d8d5e7a34072b338c47630f08e93",
            "value": " 1000/1000 [03:15&lt;00:00,  5.76it/s]"
          }
        },
        "99caf825a8f6441b9c418f6b2c3907db": {
          "model_module": "@jupyter-widgets/base",
          "model_name": "LayoutModel",
          "model_module_version": "1.2.0",
          "state": {
            "_model_module": "@jupyter-widgets/base",
            "_model_module_version": "1.2.0",
            "_model_name": "LayoutModel",
            "_view_count": null,
            "_view_module": "@jupyter-widgets/base",
            "_view_module_version": "1.2.0",
            "_view_name": "LayoutView",
            "align_content": null,
            "align_items": null,
            "align_self": null,
            "border": null,
            "bottom": null,
            "display": null,
            "flex": null,
            "flex_flow": null,
            "grid_area": null,
            "grid_auto_columns": null,
            "grid_auto_flow": null,
            "grid_auto_rows": null,
            "grid_column": null,
            "grid_gap": null,
            "grid_row": null,
            "grid_template_areas": null,
            "grid_template_columns": null,
            "grid_template_rows": null,
            "height": null,
            "justify_content": null,
            "justify_items": null,
            "left": null,
            "margin": null,
            "max_height": null,
            "max_width": null,
            "min_height": null,
            "min_width": null,
            "object_fit": null,
            "object_position": null,
            "order": null,
            "overflow": null,
            "overflow_x": null,
            "overflow_y": null,
            "padding": null,
            "right": null,
            "top": null,
            "visibility": null,
            "width": null
          }
        },
        "3842749baed54d9fb44edc5f008ff10a": {
          "model_module": "@jupyter-widgets/base",
          "model_name": "LayoutModel",
          "model_module_version": "1.2.0",
          "state": {
            "_model_module": "@jupyter-widgets/base",
            "_model_module_version": "1.2.0",
            "_model_name": "LayoutModel",
            "_view_count": null,
            "_view_module": "@jupyter-widgets/base",
            "_view_module_version": "1.2.0",
            "_view_name": "LayoutView",
            "align_content": null,
            "align_items": null,
            "align_self": null,
            "border": null,
            "bottom": null,
            "display": null,
            "flex": null,
            "flex_flow": null,
            "grid_area": null,
            "grid_auto_columns": null,
            "grid_auto_flow": null,
            "grid_auto_rows": null,
            "grid_column": null,
            "grid_gap": null,
            "grid_row": null,
            "grid_template_areas": null,
            "grid_template_columns": null,
            "grid_template_rows": null,
            "height": null,
            "justify_content": null,
            "justify_items": null,
            "left": null,
            "margin": null,
            "max_height": null,
            "max_width": null,
            "min_height": null,
            "min_width": null,
            "object_fit": null,
            "object_position": null,
            "order": null,
            "overflow": null,
            "overflow_x": null,
            "overflow_y": null,
            "padding": null,
            "right": null,
            "top": null,
            "visibility": null,
            "width": null
          }
        },
        "8b51d42ae0994896a9616357eaf4a6f3": {
          "model_module": "@jupyter-widgets/controls",
          "model_name": "DescriptionStyleModel",
          "model_module_version": "1.5.0",
          "state": {
            "_model_module": "@jupyter-widgets/controls",
            "_model_module_version": "1.5.0",
            "_model_name": "DescriptionStyleModel",
            "_view_count": null,
            "_view_module": "@jupyter-widgets/base",
            "_view_module_version": "1.2.0",
            "_view_name": "StyleView",
            "description_width": ""
          }
        },
        "26df800e0a824b6984ca15529c36047e": {
          "model_module": "@jupyter-widgets/base",
          "model_name": "LayoutModel",
          "model_module_version": "1.2.0",
          "state": {
            "_model_module": "@jupyter-widgets/base",
            "_model_module_version": "1.2.0",
            "_model_name": "LayoutModel",
            "_view_count": null,
            "_view_module": "@jupyter-widgets/base",
            "_view_module_version": "1.2.0",
            "_view_name": "LayoutView",
            "align_content": null,
            "align_items": null,
            "align_self": null,
            "border": null,
            "bottom": null,
            "display": null,
            "flex": null,
            "flex_flow": null,
            "grid_area": null,
            "grid_auto_columns": null,
            "grid_auto_flow": null,
            "grid_auto_rows": null,
            "grid_column": null,
            "grid_gap": null,
            "grid_row": null,
            "grid_template_areas": null,
            "grid_template_columns": null,
            "grid_template_rows": null,
            "height": null,
            "justify_content": null,
            "justify_items": null,
            "left": null,
            "margin": null,
            "max_height": null,
            "max_width": null,
            "min_height": null,
            "min_width": null,
            "object_fit": null,
            "object_position": null,
            "order": null,
            "overflow": null,
            "overflow_x": null,
            "overflow_y": null,
            "padding": null,
            "right": null,
            "top": null,
            "visibility": null,
            "width": null
          }
        },
        "a212c5a525c34596babb13a223c5e0f6": {
          "model_module": "@jupyter-widgets/controls",
          "model_name": "ProgressStyleModel",
          "model_module_version": "1.5.0",
          "state": {
            "_model_module": "@jupyter-widgets/controls",
            "_model_module_version": "1.5.0",
            "_model_name": "ProgressStyleModel",
            "_view_count": null,
            "_view_module": "@jupyter-widgets/base",
            "_view_module_version": "1.2.0",
            "_view_name": "StyleView",
            "bar_color": null,
            "description_width": ""
          }
        },
        "94226a075a344b51ad48a639c9fc602e": {
          "model_module": "@jupyter-widgets/base",
          "model_name": "LayoutModel",
          "model_module_version": "1.2.0",
          "state": {
            "_model_module": "@jupyter-widgets/base",
            "_model_module_version": "1.2.0",
            "_model_name": "LayoutModel",
            "_view_count": null,
            "_view_module": "@jupyter-widgets/base",
            "_view_module_version": "1.2.0",
            "_view_name": "LayoutView",
            "align_content": null,
            "align_items": null,
            "align_self": null,
            "border": null,
            "bottom": null,
            "display": null,
            "flex": null,
            "flex_flow": null,
            "grid_area": null,
            "grid_auto_columns": null,
            "grid_auto_flow": null,
            "grid_auto_rows": null,
            "grid_column": null,
            "grid_gap": null,
            "grid_row": null,
            "grid_template_areas": null,
            "grid_template_columns": null,
            "grid_template_rows": null,
            "height": null,
            "justify_content": null,
            "justify_items": null,
            "left": null,
            "margin": null,
            "max_height": null,
            "max_width": null,
            "min_height": null,
            "min_width": null,
            "object_fit": null,
            "object_position": null,
            "order": null,
            "overflow": null,
            "overflow_x": null,
            "overflow_y": null,
            "padding": null,
            "right": null,
            "top": null,
            "visibility": null,
            "width": null
          }
        },
        "fa15d8d5e7a34072b338c47630f08e93": {
          "model_module": "@jupyter-widgets/controls",
          "model_name": "DescriptionStyleModel",
          "model_module_version": "1.5.0",
          "state": {
            "_model_module": "@jupyter-widgets/controls",
            "_model_module_version": "1.5.0",
            "_model_name": "DescriptionStyleModel",
            "_view_count": null,
            "_view_module": "@jupyter-widgets/base",
            "_view_module_version": "1.2.0",
            "_view_name": "StyleView",
            "description_width": ""
          }
        },
        "052edb9e30d442b987ec522a95f3e143": {
          "model_module": "@jupyter-widgets/controls",
          "model_name": "HBoxModel",
          "model_module_version": "1.5.0",
          "state": {
            "_dom_classes": [],
            "_model_module": "@jupyter-widgets/controls",
            "_model_module_version": "1.5.0",
            "_model_name": "HBoxModel",
            "_view_count": null,
            "_view_module": "@jupyter-widgets/controls",
            "_view_module_version": "1.5.0",
            "_view_name": "HBoxView",
            "box_style": "",
            "children": [
              "IPY_MODEL_356c2e02b6da4c31bb1ed461410d0998",
              "IPY_MODEL_eab760bf0b56446db50f6327045d78d6",
              "IPY_MODEL_fdbffc40533848e095c3f7a88eaa0d37"
            ],
            "layout": "IPY_MODEL_8790dee73cc04143a22e92eaf45477d3"
          }
        },
        "356c2e02b6da4c31bb1ed461410d0998": {
          "model_module": "@jupyter-widgets/controls",
          "model_name": "HTMLModel",
          "model_module_version": "1.5.0",
          "state": {
            "_dom_classes": [],
            "_model_module": "@jupyter-widgets/controls",
            "_model_module_version": "1.5.0",
            "_model_name": "HTMLModel",
            "_view_count": null,
            "_view_module": "@jupyter-widgets/controls",
            "_view_module_version": "1.5.0",
            "_view_name": "HTMLView",
            "description": "",
            "description_tooltip": null,
            "layout": "IPY_MODEL_867ab5ce9ded429c9cae6960c90168d9",
            "placeholder": "​",
            "style": "IPY_MODEL_88d37082559f43ea9b9970344231ddc9",
            "value": "100%"
          }
        },
        "eab760bf0b56446db50f6327045d78d6": {
          "model_module": "@jupyter-widgets/controls",
          "model_name": "FloatProgressModel",
          "model_module_version": "1.5.0",
          "state": {
            "_dom_classes": [],
            "_model_module": "@jupyter-widgets/controls",
            "_model_module_version": "1.5.0",
            "_model_name": "FloatProgressModel",
            "_view_count": null,
            "_view_module": "@jupyter-widgets/controls",
            "_view_module_version": "1.5.0",
            "_view_name": "ProgressView",
            "bar_style": "success",
            "description": "",
            "description_tooltip": null,
            "layout": "IPY_MODEL_b9ee63cacd98483ba0b05ab3ec178a8c",
            "max": 1000,
            "min": 0,
            "orientation": "horizontal",
            "style": "IPY_MODEL_cda24340890a4e4baef038c0d76b5524",
            "value": 1000
          }
        },
        "fdbffc40533848e095c3f7a88eaa0d37": {
          "model_module": "@jupyter-widgets/controls",
          "model_name": "HTMLModel",
          "model_module_version": "1.5.0",
          "state": {
            "_dom_classes": [],
            "_model_module": "@jupyter-widgets/controls",
            "_model_module_version": "1.5.0",
            "_model_name": "HTMLModel",
            "_view_count": null,
            "_view_module": "@jupyter-widgets/controls",
            "_view_module_version": "1.5.0",
            "_view_name": "HTMLView",
            "description": "",
            "description_tooltip": null,
            "layout": "IPY_MODEL_e5c1513ccad4470e8b26e1f9db38272b",
            "placeholder": "​",
            "style": "IPY_MODEL_41d14e191b304537b0557deed268e5be",
            "value": " 1000/1000 [03:02&lt;00:00,  5.66it/s]"
          }
        },
        "8790dee73cc04143a22e92eaf45477d3": {
          "model_module": "@jupyter-widgets/base",
          "model_name": "LayoutModel",
          "model_module_version": "1.2.0",
          "state": {
            "_model_module": "@jupyter-widgets/base",
            "_model_module_version": "1.2.0",
            "_model_name": "LayoutModel",
            "_view_count": null,
            "_view_module": "@jupyter-widgets/base",
            "_view_module_version": "1.2.0",
            "_view_name": "LayoutView",
            "align_content": null,
            "align_items": null,
            "align_self": null,
            "border": null,
            "bottom": null,
            "display": null,
            "flex": null,
            "flex_flow": null,
            "grid_area": null,
            "grid_auto_columns": null,
            "grid_auto_flow": null,
            "grid_auto_rows": null,
            "grid_column": null,
            "grid_gap": null,
            "grid_row": null,
            "grid_template_areas": null,
            "grid_template_columns": null,
            "grid_template_rows": null,
            "height": null,
            "justify_content": null,
            "justify_items": null,
            "left": null,
            "margin": null,
            "max_height": null,
            "max_width": null,
            "min_height": null,
            "min_width": null,
            "object_fit": null,
            "object_position": null,
            "order": null,
            "overflow": null,
            "overflow_x": null,
            "overflow_y": null,
            "padding": null,
            "right": null,
            "top": null,
            "visibility": null,
            "width": null
          }
        },
        "867ab5ce9ded429c9cae6960c90168d9": {
          "model_module": "@jupyter-widgets/base",
          "model_name": "LayoutModel",
          "model_module_version": "1.2.0",
          "state": {
            "_model_module": "@jupyter-widgets/base",
            "_model_module_version": "1.2.0",
            "_model_name": "LayoutModel",
            "_view_count": null,
            "_view_module": "@jupyter-widgets/base",
            "_view_module_version": "1.2.0",
            "_view_name": "LayoutView",
            "align_content": null,
            "align_items": null,
            "align_self": null,
            "border": null,
            "bottom": null,
            "display": null,
            "flex": null,
            "flex_flow": null,
            "grid_area": null,
            "grid_auto_columns": null,
            "grid_auto_flow": null,
            "grid_auto_rows": null,
            "grid_column": null,
            "grid_gap": null,
            "grid_row": null,
            "grid_template_areas": null,
            "grid_template_columns": null,
            "grid_template_rows": null,
            "height": null,
            "justify_content": null,
            "justify_items": null,
            "left": null,
            "margin": null,
            "max_height": null,
            "max_width": null,
            "min_height": null,
            "min_width": null,
            "object_fit": null,
            "object_position": null,
            "order": null,
            "overflow": null,
            "overflow_x": null,
            "overflow_y": null,
            "padding": null,
            "right": null,
            "top": null,
            "visibility": null,
            "width": null
          }
        },
        "88d37082559f43ea9b9970344231ddc9": {
          "model_module": "@jupyter-widgets/controls",
          "model_name": "DescriptionStyleModel",
          "model_module_version": "1.5.0",
          "state": {
            "_model_module": "@jupyter-widgets/controls",
            "_model_module_version": "1.5.0",
            "_model_name": "DescriptionStyleModel",
            "_view_count": null,
            "_view_module": "@jupyter-widgets/base",
            "_view_module_version": "1.2.0",
            "_view_name": "StyleView",
            "description_width": ""
          }
        },
        "b9ee63cacd98483ba0b05ab3ec178a8c": {
          "model_module": "@jupyter-widgets/base",
          "model_name": "LayoutModel",
          "model_module_version": "1.2.0",
          "state": {
            "_model_module": "@jupyter-widgets/base",
            "_model_module_version": "1.2.0",
            "_model_name": "LayoutModel",
            "_view_count": null,
            "_view_module": "@jupyter-widgets/base",
            "_view_module_version": "1.2.0",
            "_view_name": "LayoutView",
            "align_content": null,
            "align_items": null,
            "align_self": null,
            "border": null,
            "bottom": null,
            "display": null,
            "flex": null,
            "flex_flow": null,
            "grid_area": null,
            "grid_auto_columns": null,
            "grid_auto_flow": null,
            "grid_auto_rows": null,
            "grid_column": null,
            "grid_gap": null,
            "grid_row": null,
            "grid_template_areas": null,
            "grid_template_columns": null,
            "grid_template_rows": null,
            "height": null,
            "justify_content": null,
            "justify_items": null,
            "left": null,
            "margin": null,
            "max_height": null,
            "max_width": null,
            "min_height": null,
            "min_width": null,
            "object_fit": null,
            "object_position": null,
            "order": null,
            "overflow": null,
            "overflow_x": null,
            "overflow_y": null,
            "padding": null,
            "right": null,
            "top": null,
            "visibility": null,
            "width": null
          }
        },
        "cda24340890a4e4baef038c0d76b5524": {
          "model_module": "@jupyter-widgets/controls",
          "model_name": "ProgressStyleModel",
          "model_module_version": "1.5.0",
          "state": {
            "_model_module": "@jupyter-widgets/controls",
            "_model_module_version": "1.5.0",
            "_model_name": "ProgressStyleModel",
            "_view_count": null,
            "_view_module": "@jupyter-widgets/base",
            "_view_module_version": "1.2.0",
            "_view_name": "StyleView",
            "bar_color": null,
            "description_width": ""
          }
        },
        "e5c1513ccad4470e8b26e1f9db38272b": {
          "model_module": "@jupyter-widgets/base",
          "model_name": "LayoutModel",
          "model_module_version": "1.2.0",
          "state": {
            "_model_module": "@jupyter-widgets/base",
            "_model_module_version": "1.2.0",
            "_model_name": "LayoutModel",
            "_view_count": null,
            "_view_module": "@jupyter-widgets/base",
            "_view_module_version": "1.2.0",
            "_view_name": "LayoutView",
            "align_content": null,
            "align_items": null,
            "align_self": null,
            "border": null,
            "bottom": null,
            "display": null,
            "flex": null,
            "flex_flow": null,
            "grid_area": null,
            "grid_auto_columns": null,
            "grid_auto_flow": null,
            "grid_auto_rows": null,
            "grid_column": null,
            "grid_gap": null,
            "grid_row": null,
            "grid_template_areas": null,
            "grid_template_columns": null,
            "grid_template_rows": null,
            "height": null,
            "justify_content": null,
            "justify_items": null,
            "left": null,
            "margin": null,
            "max_height": null,
            "max_width": null,
            "min_height": null,
            "min_width": null,
            "object_fit": null,
            "object_position": null,
            "order": null,
            "overflow": null,
            "overflow_x": null,
            "overflow_y": null,
            "padding": null,
            "right": null,
            "top": null,
            "visibility": null,
            "width": null
          }
        },
        "41d14e191b304537b0557deed268e5be": {
          "model_module": "@jupyter-widgets/controls",
          "model_name": "DescriptionStyleModel",
          "model_module_version": "1.5.0",
          "state": {
            "_model_module": "@jupyter-widgets/controls",
            "_model_module_version": "1.5.0",
            "_model_name": "DescriptionStyleModel",
            "_view_count": null,
            "_view_module": "@jupyter-widgets/base",
            "_view_module_version": "1.2.0",
            "_view_name": "StyleView",
            "description_width": ""
          }
        },
        "7b082fb99be948dcbacef37dbcd296f9": {
          "model_module": "@jupyter-widgets/controls",
          "model_name": "HBoxModel",
          "model_module_version": "1.5.0",
          "state": {
            "_dom_classes": [],
            "_model_module": "@jupyter-widgets/controls",
            "_model_module_version": "1.5.0",
            "_model_name": "HBoxModel",
            "_view_count": null,
            "_view_module": "@jupyter-widgets/controls",
            "_view_module_version": "1.5.0",
            "_view_name": "HBoxView",
            "box_style": "",
            "children": [
              "IPY_MODEL_eb4b8c0b65b84f0db4e1bb2947601350",
              "IPY_MODEL_162893415edb4c588191bfb3f0f8cfd4",
              "IPY_MODEL_5bed6ca5a4304518977e77f010eaa80d"
            ],
            "layout": "IPY_MODEL_b903b37a736346378af5dc74baa1f4ab"
          }
        },
        "eb4b8c0b65b84f0db4e1bb2947601350": {
          "model_module": "@jupyter-widgets/controls",
          "model_name": "HTMLModel",
          "model_module_version": "1.5.0",
          "state": {
            "_dom_classes": [],
            "_model_module": "@jupyter-widgets/controls",
            "_model_module_version": "1.5.0",
            "_model_name": "HTMLModel",
            "_view_count": null,
            "_view_module": "@jupyter-widgets/controls",
            "_view_module_version": "1.5.0",
            "_view_name": "HTMLView",
            "description": "",
            "description_tooltip": null,
            "layout": "IPY_MODEL_0e84abc77faa48aa889eee8d1e1166c5",
            "placeholder": "​",
            "style": "IPY_MODEL_abfbdc9e02a040789820fa1b636a16e7",
            "value": "100%"
          }
        },
        "162893415edb4c588191bfb3f0f8cfd4": {
          "model_module": "@jupyter-widgets/controls",
          "model_name": "FloatProgressModel",
          "model_module_version": "1.5.0",
          "state": {
            "_dom_classes": [],
            "_model_module": "@jupyter-widgets/controls",
            "_model_module_version": "1.5.0",
            "_model_name": "FloatProgressModel",
            "_view_count": null,
            "_view_module": "@jupyter-widgets/controls",
            "_view_module_version": "1.5.0",
            "_view_name": "ProgressView",
            "bar_style": "success",
            "description": "",
            "description_tooltip": null,
            "layout": "IPY_MODEL_f0fa085c95db4b56adeb7208a296c7c6",
            "max": 1000,
            "min": 0,
            "orientation": "horizontal",
            "style": "IPY_MODEL_c80264cfc5144862bb45d4278967f7dc",
            "value": 1000
          }
        },
        "5bed6ca5a4304518977e77f010eaa80d": {
          "model_module": "@jupyter-widgets/controls",
          "model_name": "HTMLModel",
          "model_module_version": "1.5.0",
          "state": {
            "_dom_classes": [],
            "_model_module": "@jupyter-widgets/controls",
            "_model_module_version": "1.5.0",
            "_model_name": "HTMLModel",
            "_view_count": null,
            "_view_module": "@jupyter-widgets/controls",
            "_view_module_version": "1.5.0",
            "_view_name": "HTMLView",
            "description": "",
            "description_tooltip": null,
            "layout": "IPY_MODEL_d551961d629c4600a3dcc023813479ce",
            "placeholder": "​",
            "style": "IPY_MODEL_9efc0c9466f04b1490bbebff5759f5ba",
            "value": " 1000/1000 [04:38&lt;00:00,  4.00it/s]"
          }
        },
        "b903b37a736346378af5dc74baa1f4ab": {
          "model_module": "@jupyter-widgets/base",
          "model_name": "LayoutModel",
          "model_module_version": "1.2.0",
          "state": {
            "_model_module": "@jupyter-widgets/base",
            "_model_module_version": "1.2.0",
            "_model_name": "LayoutModel",
            "_view_count": null,
            "_view_module": "@jupyter-widgets/base",
            "_view_module_version": "1.2.0",
            "_view_name": "LayoutView",
            "align_content": null,
            "align_items": null,
            "align_self": null,
            "border": null,
            "bottom": null,
            "display": null,
            "flex": null,
            "flex_flow": null,
            "grid_area": null,
            "grid_auto_columns": null,
            "grid_auto_flow": null,
            "grid_auto_rows": null,
            "grid_column": null,
            "grid_gap": null,
            "grid_row": null,
            "grid_template_areas": null,
            "grid_template_columns": null,
            "grid_template_rows": null,
            "height": null,
            "justify_content": null,
            "justify_items": null,
            "left": null,
            "margin": null,
            "max_height": null,
            "max_width": null,
            "min_height": null,
            "min_width": null,
            "object_fit": null,
            "object_position": null,
            "order": null,
            "overflow": null,
            "overflow_x": null,
            "overflow_y": null,
            "padding": null,
            "right": null,
            "top": null,
            "visibility": null,
            "width": null
          }
        },
        "0e84abc77faa48aa889eee8d1e1166c5": {
          "model_module": "@jupyter-widgets/base",
          "model_name": "LayoutModel",
          "model_module_version": "1.2.0",
          "state": {
            "_model_module": "@jupyter-widgets/base",
            "_model_module_version": "1.2.0",
            "_model_name": "LayoutModel",
            "_view_count": null,
            "_view_module": "@jupyter-widgets/base",
            "_view_module_version": "1.2.0",
            "_view_name": "LayoutView",
            "align_content": null,
            "align_items": null,
            "align_self": null,
            "border": null,
            "bottom": null,
            "display": null,
            "flex": null,
            "flex_flow": null,
            "grid_area": null,
            "grid_auto_columns": null,
            "grid_auto_flow": null,
            "grid_auto_rows": null,
            "grid_column": null,
            "grid_gap": null,
            "grid_row": null,
            "grid_template_areas": null,
            "grid_template_columns": null,
            "grid_template_rows": null,
            "height": null,
            "justify_content": null,
            "justify_items": null,
            "left": null,
            "margin": null,
            "max_height": null,
            "max_width": null,
            "min_height": null,
            "min_width": null,
            "object_fit": null,
            "object_position": null,
            "order": null,
            "overflow": null,
            "overflow_x": null,
            "overflow_y": null,
            "padding": null,
            "right": null,
            "top": null,
            "visibility": null,
            "width": null
          }
        },
        "abfbdc9e02a040789820fa1b636a16e7": {
          "model_module": "@jupyter-widgets/controls",
          "model_name": "DescriptionStyleModel",
          "model_module_version": "1.5.0",
          "state": {
            "_model_module": "@jupyter-widgets/controls",
            "_model_module_version": "1.5.0",
            "_model_name": "DescriptionStyleModel",
            "_view_count": null,
            "_view_module": "@jupyter-widgets/base",
            "_view_module_version": "1.2.0",
            "_view_name": "StyleView",
            "description_width": ""
          }
        },
        "f0fa085c95db4b56adeb7208a296c7c6": {
          "model_module": "@jupyter-widgets/base",
          "model_name": "LayoutModel",
          "model_module_version": "1.2.0",
          "state": {
            "_model_module": "@jupyter-widgets/base",
            "_model_module_version": "1.2.0",
            "_model_name": "LayoutModel",
            "_view_count": null,
            "_view_module": "@jupyter-widgets/base",
            "_view_module_version": "1.2.0",
            "_view_name": "LayoutView",
            "align_content": null,
            "align_items": null,
            "align_self": null,
            "border": null,
            "bottom": null,
            "display": null,
            "flex": null,
            "flex_flow": null,
            "grid_area": null,
            "grid_auto_columns": null,
            "grid_auto_flow": null,
            "grid_auto_rows": null,
            "grid_column": null,
            "grid_gap": null,
            "grid_row": null,
            "grid_template_areas": null,
            "grid_template_columns": null,
            "grid_template_rows": null,
            "height": null,
            "justify_content": null,
            "justify_items": null,
            "left": null,
            "margin": null,
            "max_height": null,
            "max_width": null,
            "min_height": null,
            "min_width": null,
            "object_fit": null,
            "object_position": null,
            "order": null,
            "overflow": null,
            "overflow_x": null,
            "overflow_y": null,
            "padding": null,
            "right": null,
            "top": null,
            "visibility": null,
            "width": null
          }
        },
        "c80264cfc5144862bb45d4278967f7dc": {
          "model_module": "@jupyter-widgets/controls",
          "model_name": "ProgressStyleModel",
          "model_module_version": "1.5.0",
          "state": {
            "_model_module": "@jupyter-widgets/controls",
            "_model_module_version": "1.5.0",
            "_model_name": "ProgressStyleModel",
            "_view_count": null,
            "_view_module": "@jupyter-widgets/base",
            "_view_module_version": "1.2.0",
            "_view_name": "StyleView",
            "bar_color": null,
            "description_width": ""
          }
        },
        "d551961d629c4600a3dcc023813479ce": {
          "model_module": "@jupyter-widgets/base",
          "model_name": "LayoutModel",
          "model_module_version": "1.2.0",
          "state": {
            "_model_module": "@jupyter-widgets/base",
            "_model_module_version": "1.2.0",
            "_model_name": "LayoutModel",
            "_view_count": null,
            "_view_module": "@jupyter-widgets/base",
            "_view_module_version": "1.2.0",
            "_view_name": "LayoutView",
            "align_content": null,
            "align_items": null,
            "align_self": null,
            "border": null,
            "bottom": null,
            "display": null,
            "flex": null,
            "flex_flow": null,
            "grid_area": null,
            "grid_auto_columns": null,
            "grid_auto_flow": null,
            "grid_auto_rows": null,
            "grid_column": null,
            "grid_gap": null,
            "grid_row": null,
            "grid_template_areas": null,
            "grid_template_columns": null,
            "grid_template_rows": null,
            "height": null,
            "justify_content": null,
            "justify_items": null,
            "left": null,
            "margin": null,
            "max_height": null,
            "max_width": null,
            "min_height": null,
            "min_width": null,
            "object_fit": null,
            "object_position": null,
            "order": null,
            "overflow": null,
            "overflow_x": null,
            "overflow_y": null,
            "padding": null,
            "right": null,
            "top": null,
            "visibility": null,
            "width": null
          }
        },
        "9efc0c9466f04b1490bbebff5759f5ba": {
          "model_module": "@jupyter-widgets/controls",
          "model_name": "DescriptionStyleModel",
          "model_module_version": "1.5.0",
          "state": {
            "_model_module": "@jupyter-widgets/controls",
            "_model_module_version": "1.5.0",
            "_model_name": "DescriptionStyleModel",
            "_view_count": null,
            "_view_module": "@jupyter-widgets/base",
            "_view_module_version": "1.2.0",
            "_view_name": "StyleView",
            "description_width": ""
          }
        }
      }
    }
  },
  "nbformat": 4,
  "nbformat_minor": 0
}