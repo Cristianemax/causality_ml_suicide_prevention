{
  "cells": [
    {
      "cell_type": "code",
      "execution_count": null,
      "outputs": [],
      "source": [
        "#Importando bibliotecas\n",
        "import torch\n",
        "import pandas as pd\n",
        "import numpy as np\n",
        "\n",
        "# Importando dataset utils\n",
        "from torch.utils.data import Dataset, DataLoader\n",
        "from sklearn.model_selection import train_test_split\n",
        "\n",
        "import torch.nn as nn\n",
        "import torch.nn.functional as F\n",
        "\n",
        "import matplotlib.pyplot as plt\n",
        "\n",
        "import importlib\n",
        "if importlib.util.find_spec('ipywidgets') is not None:\n",
        "    from tqdm.auto import tqdm\n",
        "else:\n",
        "    from tqdm import tqdm\n",
        "\n",
        "import networkx as nx\n",
        "\n",
        "from typing import Union"
      ],
      "metadata": {
        "ExecuteTime": {
          "end_time": "2023-10-21T17:42:01.212958800Z",
          "start_time": "2023-10-21T17:41:48.090060400Z"
        },
        "id": "y5oHtJxwC9wG"
      }
    },
    {
      "cell_type": "code",
      "source": [
        "dataframe = pd.read_csv('/content/data.csv', sep=';')\n",
        "\n",
        "dataframe = dataframe.fillna(-1)\n",
        "dataframe['Anos educacao formal'] = dataframe['Anos educacao formal'].replace(-5, -1)\n",
        "dataframe['sexo'].replace({'M': 0, 'F': 1}, inplace=True)\n",
        "df_suic = dataframe.copy()\n",
        "df_suic = df_suic.astype(float)\n",
        "df_suic['Chave'] = df_suic.index\n",
        "df_suic.shape"
      ],
      "metadata": {
        "colab": {
          "base_uri": "https://localhost:8080/"
        },
        "id": "VI7I5bJv_2_q",
        "outputId": "848178f4-5fe1-497a-a840-be00d96b50b3"
      },
      "execution_count": null,
      "outputs": [
        {
          "output_type": "execute_result",
          "data": {
            "text/plain": [
              "(3953, 69)"
            ]
          },
          "metadata": {},
          "execution_count": 48
        }
      ]
    },
    {
      "cell_type": "code",
      "source": [
        "notears_selected = [\n",
        "    \"Suic_familia\",\n",
        "    \"Drog_familia\",\n",
        "    \"Capaz de tomar decisões importantes\",\n",
        "    \"Estudante\",\n",
        "    \"Hipocondriase\",\n",
        "    \"Sentimentos_culpa\",\n",
        "    \"Trabalho e interesses\",\n",
        "    \"Energia\",\n",
        "    \"Suicidio\",\n",
        "    \"Ansiedade\"]"
      ],
      "metadata": {
        "id": "CYXJO99bCpcb"
      },
      "execution_count": null,
      "outputs": []
    },
    {
      "cell_type": "markdown",
      "source": [
        "# Lendo dados"
      ],
      "metadata": {
        "id": "a2xJfxFDiEC1"
      }
    },
    {
      "cell_type": "code",
      "source": [
        " df_novo = pd.DataFrame(columns = [\"Suic_familia\",\n",
        "    \"Drog_familia\",\n",
        "    \"Capaz de tomar decisões importantes\",\n",
        "    \"Estudante\",\n",
        "    \"Hipocondriase\",\n",
        "    \"Sentimentos_culpa\",\n",
        "    \"Trabalho e interesses\",\n",
        "    \"Energia\",\n",
        "    \"Suicidio\",\n",
        "    \"Ansiedade\"])"
      ],
      "metadata": {
        "id": "nPY1t7HCHUeU"
      },
      "execution_count": null,
      "outputs": []
    },
    {
      "cell_type": "markdown",
      "source": [
        "# Lendo fatores do novo indivíduo"
      ],
      "metadata": {
        "id": "fkHj-sWUiBe0"
      }
    },
    {
      "cell_type": "code",
      "source": [
        "Suic_familia = int(input(\"Suicidio na família: Digite 1 para Sim e 0 para não.\") )\n",
        "Drog_familia = int(input(\"Drogas na família: Digite 1 para Sim e 0 para não.\") )\n",
        "Capaz_tomar_decisoes = int(input(\"Capaz de tomar decisões importantes: Digite um número de 1 a 5, sendo 1 pouca capacidade e 5 muita capacidade.\") )\n",
        "Estudante = int(input(\"Estudante: Digite 1 para Sim e 0 para não.\") )\n",
        "Hipocondriase = int(input(\"Hipocondriase: Digite um número de 0 a 4, sendo 0 não e 4 nível elevado.\") )\n",
        "Sentimento_culpa = int(input(\"Sentimentos de culpa: Digite um número de 0 a 4, sendo 0 não e 4 nível elevado.\") )\n",
        "Trabalho_interesses = int(input(\"Trabalho e interesses: Digite um número de 0 a 4, sendo 0 não e 4 nível elevado.\") )\n",
        "Energia = int(input(\"Energia: Digite um número de 0 a 2, sendo 0 não e 2 nível elevado.\") )\n",
        "Suicidio = int(input(\"Suicidio: Digite um número de 0 a 4, sendo 0 não possui ideação e 4 já efetuou alguma tentativa.\") )\n",
        "Ansiedade = int(input(\"Ansiedade: Digite um número de 0 a 4, sendo 1 pouca anciedade e 4 muita anciedade.\") )"
      ],
      "metadata": {
        "id": "l0Hhc8vCHoXc",
        "colab": {
          "base_uri": "https://localhost:8080/"
        },
        "outputId": "c1e076a8-0dcb-4626-9951-7c0760b0a5e8"
      },
      "execution_count": null,
      "outputs": [
        {
          "name": "stdout",
          "output_type": "stream",
          "text": [
            "Suicidio na família: Digite 1 para Sim e 0 para não.0\n",
            "Drogas na família: Digite 1 para Sim e 0 para não.1\n",
            "Capaz de tomar decisões importantes: Digite um número de 1 a 5, sendo 1 pouca capacidade e 5 muita capacidade.3\n",
            "Estudante: Digite 1 para Sim e 0 para não.0\n",
            "Hipocondriase: Digite um número de 0 a 4, sendo 0 não e 4 nível elevado.2\n",
            "Sentimentos de culpa: Digite um número de 0 a 4, sendo 0 não e 4 nível elevado.3\n",
            "Trabalho e interesses: Digite um número de 0 a 4, sendo 0 não e 4 nível elevado.2\n",
            "Energia: Digite um número de 0 a 2, sendo 0 não e 2 nível elevado.1\n",
            "Suicidio: Digite um número de 0 a 4, sendo 0 não possui ideação e 4 já efetuou alguma tentativa.3\n",
            "Ansiedade: Digite um número de 0 a 4, sendo 1 pouca anciedade e 4 muita anciedade.2\n"
          ]
        }
      ]
    },
    {
      "cell_type": "code",
      "source": [
        "df_novo=df_novo.append({'Suic_familia' : float(Suic_familia), 'Drog_familia' : float(Drog_familia), 'Capaz de tomar decisões importantes' : float(Capaz_tomar_decisoes), 'Estudante' : float(Estudante),\n",
        "                        'Hipocondriase' : float(Hipocondriase), 'Sentimentos_culpa' : float(Sentimento_culpa), 'Trabalho e interesses' : float(Trabalho_interesses), 'Energia' : float(Energia),\n",
        "                        'Suicidio' : float(Suicidio), 'Ansiedade': float(Ansiedade)}, ignore_index = True)"
      ],
      "metadata": {
        "id": "VtWpRYACJNW9",
        "colab": {
          "base_uri": "https://localhost:8080/"
        },
        "outputId": "28cfb552-157c-4d02-dbed-907479353d38"
      },
      "execution_count": null,
      "outputs": [
        {
          "output_type": "stream",
          "name": "stderr",
          "text": [
            "<ipython-input-52-a47f35c673b8>:1: FutureWarning: The frame.append method is deprecated and will be removed from pandas in a future version. Use pandas.concat instead.\n",
            "  df_novo=df_novo.append({'Suic_familia' : float(Suic_familia), 'Drog_familia' : float(Drog_familia), 'Capaz de tomar decisões importantes' : float(Capaz_tomar_decisoes), 'Estudante' : float(Estudante),\n"
          ]
        }
      ]
    },
    {
      "cell_type": "code",
      "source": [
        "df_novo['Suic_familia'] = df_novo['Suic_familia'].astype(float)\n",
        "df_novo['Drog_familia'] = df_novo['Drog_familia'].astype(float)\n",
        "df_novo['Capaz de tomar decisões importantes'] = df_novo['Capaz de tomar decisões importantes'].astype(float)\n",
        "df_novo['Estudante'] = df_novo['Estudante'].astype(float)\n",
        "df_novo['Hipocondriase'] = df_novo['Hipocondriase'].astype(float)\n",
        "df_novo['Sentimentos_culpa'] = df_novo['Sentimentos_culpa'].astype(float)\n",
        "df_novo['Trabalho e interesses'] = df_novo['Trabalho e interesses'].astype(float)\n",
        "df_novo['Energia'] = df_novo['Energia'].astype(float)\n",
        "df_novo['Suicidio'] = df_novo['Suicidio'].astype(float)\n",
        "df_novo['Ansiedade'] = df_novo['Ansiedade'].astype(float)"
      ],
      "metadata": {
        "id": "FwjXAJ3LhWb0"
      },
      "execution_count": null,
      "outputs": []
    },
    {
      "cell_type": "markdown",
      "source": [
        "# Criando conjunto de dados causal"
      ],
      "metadata": {
        "id": "A9jdXI0dBXKb"
      }
    },
    {
      "cell_type": "code",
      "source": [
        "# Conjunto de dados de X\n",
        "class CausalDataset(Dataset):\n",
        "    def __init__(self, X, target:Union[list, int]):\n",
        "        self.X = torch.tensor(X, dtype=torch.double)\n",
        "        self.target = target\n",
        "        if isinstance(target, int):\n",
        "            self.target = [target]\n",
        "\n",
        "\n",
        "        # X é toda variável, exceto a lista de alvos\n",
        "        dims = list(range(self.X.shape[1]))\n",
        "        self.x = self.X[:, [i for i in dims if i not in self.target]]\n",
        "        self.y = self.X[:, self.target]\n",
        "\n",
        "    def __len__(self):\n",
        "        return len(self.x)\n",
        "\n",
        "    def __getitem__(self, idx):\n",
        "        return self.x[idx].double(), self.y[idx].double()"
      ],
      "metadata": {
        "id": "N_O7r6rcBUMa"
      },
      "execution_count": null,
      "outputs": []
    },
    {
      "cell_type": "code",
      "execution_count": null,
      "metadata": {
        "ExecuteTime": {
          "end_time": "2023-10-21T17:42:02.441242400Z",
          "start_time": "2023-10-21T17:42:02.241586800Z"
        },
        "id": "l6ndJJD9C9we"
      },
      "outputs": [],
      "source": [
        "class MLP(torch.nn.Module):\n",
        "    def __init__(self, dim_list:list, add_dropout:bool=False):\n",
        "        super(MLP, self).__init__()\n",
        "        torch.manual_seed(3)\n",
        "        self.layers = torch.nn.ModuleList()\n",
        "        for i in range(len(dim_list) - 2):\n",
        "            self.layers.append(torch.nn.Linear(dim_list[i], dim_list[i+1]))\n",
        "            self.layers.append(torch.nn.ReLU())\n",
        "            if add_dropout:\n",
        "                self.layers.append(torch.nn.Dropout(0.3))\n",
        "\n",
        "        self.layers.append(torch.nn.Linear(dim_list[-2], dim_list[-1]))\n",
        "        self.double()\n",
        "\n",
        "    def forward(self, x):\n",
        "        for layer in self.layers:\n",
        "            x = layer(x)\n",
        "        return x"
      ]
    },
    {
      "cell_type": "markdown",
      "metadata": {
        "id": "nPZsZblZC9wf"
      },
      "source": [
        "# Pipeline de treino do modelo"
      ]
    },
    {
      "cell_type": "code",
      "execution_count": null,
      "metadata": {
        "ExecuteTime": {
          "end_time": "2023-10-21T17:42:02.443249500Z",
          "start_time": "2023-10-21T17:42:02.288585100Z"
        },
        "id": "TEll4p13C9wf"
      },
      "outputs": [],
      "source": [
        "def trainPipeline(dataset, model, batch_size=64, train_split=0.8, verbose=True, max_epochs=100, patience=10, lr=0.001, weight_decay=0.0, loss_fn=nn.MSELoss()):\n",
        "    train_size = int(train_split * len(dataset))\n",
        "    test_size = len(dataset) - train_size\n",
        "    torch.manual_seed(3)\n",
        "    train_dataset, test_dataset = torch.utils.data.random_split(dataset, [train_size, test_size])\n",
        "\n",
        "    train_loader = DataLoader(train_dataset, batch_size=batch_size, shuffle=True)\n",
        "    test_loader = DataLoader(test_dataset, batch_size=batch_size, shuffle=True)\n",
        "\n",
        "    criterion = loss_fn\n",
        "    optimizer = torch.optim.Adam(model.parameters(), lr=lr, weight_decay=weight_decay)\n",
        "\n",
        "    patience = patience\n",
        "\n",
        "    train_losses = []\n",
        "    test_losses = []\n",
        "    for epoch in tqdm(range(max_epochs)):\n",
        "        train_loss = 0\n",
        "        model.train()\n",
        "        for data, target in train_loader:\n",
        "            optimizer.zero_grad()\n",
        "            output = model(data)\n",
        "            loss = criterion(output, target)\n",
        "            loss.backward()\n",
        "            optimizer.step()\n",
        "            train_loss += loss.item()\n",
        "        train_loss /= len(train_loader)\n",
        "        train_losses.append(train_loss)\n",
        "\n",
        "        test_loss = 0\n",
        "        model.eval()\n",
        "        with torch.no_grad():\n",
        "            for data, target in test_loader:\n",
        "                output = model(data)\n",
        "                loss = criterion(output, target)\n",
        "                test_loss += loss.item()\n",
        "        test_loss /= len(test_loader)\n",
        "        test_losses.append(test_loss)\n",
        "\n",
        "        if verbose:\n",
        "            print(f\"Epoch {epoch} - Train loss: {train_loss} - Test loss: {test_loss}\")\n",
        "\n",
        "        if epoch > 10:\n",
        "            all_patience = test_losses[-patience:]\n",
        "            test_loss = test_losses[-1]\n",
        "            if all([test_loss > x for x in all_patience]):\n",
        "                print(\"Early stopping\")\n",
        "                break\n",
        "\n",
        "    # teste do modelo no conjunto de teste e cálculo da precisão\n",
        "    model.eval()\n",
        "    with torch.no_grad():\n",
        "        y_pred_test = []\n",
        "        y_true_test = []\n",
        "        y_pred_train = []\n",
        "        y_true_train = []\n",
        "\n",
        "        for data, target in train_loader:\n",
        "            output = model(data)\n",
        "            y_pred_train.append(output)\n",
        "            y_true_train.append(target)\n",
        "        for data, target in test_loader:\n",
        "            output = model(data)\n",
        "            y_pred_test.append(output)\n",
        "            y_true_test.append(target)\n",
        "\n",
        "        y_pred_test = torch.cat(y_pred_test, dim=0)\n",
        "        y_true_test = torch.cat(y_true_test, dim=0)\n",
        "        y_pred_train = torch.cat(y_pred_train, dim=0)\n",
        "        y_true_train = torch.cat(y_true_train, dim=0)\n",
        "\n",
        "        train_error = torch.abs(y_pred_train - y_true_train)\n",
        "        test_error = torch.abs(y_pred_test - y_true_test)\n",
        "\n",
        "        # calculando acurácia para cada alvo\n",
        "        test_accuracy = []\n",
        "        train_accuracy = []\n",
        "        for i in range(len(y_true_test[0])):\n",
        "            test_accuracy.append(torch.sum(test_error[:, i] < 0.5) / len(test_error))\n",
        "            train_accuracy.append(torch.sum(train_error[:, i] < 0.5) / len(train_error))\n",
        "\n",
        "        print(f\"Final Train accuracy: {train_accuracy}\")\n",
        "        print(f\"Final Test accuracy: {test_accuracy}\")\n",
        "\n",
        "    metrics = {\n",
        "        \"train_loss\": train_losses,\n",
        "        \"test_loss\": test_losses,\n",
        "        \"train_error\": train_error,\n",
        "        \"test_error\": test_error,\n",
        "        \"test_accuracy\": test_accuracy\n",
        "    }\n",
        "\n",
        "    return model, metrics\n"
      ]
    },
    {
      "cell_type": "markdown",
      "metadata": {
        "id": "HlcTn2J5C9wh"
      },
      "source": [
        "\n",
        "## Primeiro treinamos um modelo para cada alvo e obtemos o valor dos erros (individualidade)"
      ]
    },
    {
      "cell_type": "markdown",
      "metadata": {
        "id": "Tb9OD5fIC9wi"
      },
      "source": [
        "\n",
        "## Agora adicionamos os erros ao conjunto de dados e treinamos o modelo contrafactual"
      ]
    },
    {
      "cell_type": "code",
      "execution_count": null,
      "metadata": {
        "ExecuteTime": {
          "end_time": "2023-10-21T18:06:50.493294500Z",
          "start_time": "2023-10-21T18:06:50.317633200Z"
        },
        "id": "RBij2m5SC9wj"
      },
      "outputs": [],
      "source": [
        "# Criando o modelo counterfactual\n",
        "\n",
        "class CounterfactualModel(torch.nn.Module):\n",
        "    def __init__(self, input_size, hidden_size, output_size):\n",
        "        super(CounterfactualModel, self).__init__()\n",
        "        self.individuality_model = MLP([input_size, hidden_size, hidden_size, hidden_size, 1], add_dropout=True)\n",
        "        self.counterfactual_model = MLP([input_size+1, hidden_size, hidden_size, hidden_size, output_size], add_dropout=True)\n",
        "\n",
        "    def individuality(self, x):\n",
        "        return self.individuality_model(x)\n",
        "\n",
        "    def counterfactual(self, x, i):\n",
        "        x = torch.cat([x, i], dim=1)\n",
        "        return self.counterfactual_model(x)\n",
        "\n",
        "    def forward(self, x):\n",
        "        i = self.individuality(x)\n",
        "        y = self.counterfactual(x, i)\n",
        "        return y"
      ]
    },
    {
      "cell_type": "markdown",
      "metadata": {
        "id": "hlbIwDzvC9wm"
      },
      "source": [
        "# Agora vamos refazer tudo, mas com os fatores selecionados na inferência causal"
      ]
    },
    {
      "cell_type": "code",
      "execution_count": null,
      "metadata": {
        "ExecuteTime": {
          "end_time": "2023-10-21T19:45:42.670133Z",
          "start_time": "2023-10-21T18:35:14.037112600Z"
        },
        "id": "G3KfWv0WC9wm",
        "colab": {
          "base_uri": "https://localhost:8080/",
          "height": 150,
          "referenced_widgets": [
            "ac35111b6a6340e18daaa412d6503107",
            "83e1fadfe2274b35936522820f038692",
            "00e3bcc2908e4ceb98c513b9d0cac0e8",
            "1b92d1bc8bc04a768f88eea6fb785f4b",
            "762f66939b404bb891b116257bdef403",
            "e87dc2d3844b44e7aac0cacdc76d6e48",
            "eb5c2cdeca42472583999c96652cc912",
            "ad68076d711e42fb8e9053fc298e1840",
            "b0c3e24479794589b6dea4fe845c1aff",
            "a7a5b152fa86458cbe94cadd1c6acbcd",
            "c5b5ab3412a24f1e96c2dbd3707c1275",
            "b146e750972848ee87f65dd34f8f57c7",
            "13f7d0a54a1e46c5916a6ed0527189e8",
            "0a0b2a67d1bc4f0a82c3ca72aaf72fec",
            "61353823e39949afba99a8400fb30caa",
            "061e70451e4f46caa7b40e1af11d8500",
            "136a290d2ca6434988373d0c8061f180",
            "f5eb5dd03285446d89fbcd6b97fec04e",
            "c9ce4bedd9054a028385a2808d952145",
            "e7beb7d702b14190a9ee09a102692682",
            "92e72f7a970b40888c77b1ed6167a909",
            "ae015ac8a89c4a4e9087e5b7afb6637e"
          ]
        },
        "outputId": "45d3ee39-4ae5-43eb-b6e0-054ece387a2b"
      },
      "outputs": [
        {
          "output_type": "display_data",
          "data": {
            "text/plain": [
              "  0%|          | 0/1000 [00:00<?, ?it/s]"
            ],
            "application/vnd.jupyter.widget-view+json": {
              "version_major": 2,
              "version_minor": 0,
              "model_id": "ac35111b6a6340e18daaa412d6503107"
            }
          },
          "metadata": {}
        },
        {
          "output_type": "stream",
          "name": "stdout",
          "text": [
            "Final Train accuracy: [tensor(0.5191)]\n",
            "Final Test accuracy: [tensor(0.3995)]\n"
          ]
        },
        {
          "output_type": "display_data",
          "data": {
            "text/plain": [
              "  0%|          | 0/1000 [00:00<?, ?it/s]"
            ],
            "application/vnd.jupyter.widget-view+json": {
              "version_major": 2,
              "version_minor": 0,
              "model_id": "b146e750972848ee87f65dd34f8f57c7"
            }
          },
          "metadata": {}
        },
        {
          "output_type": "stream",
          "name": "stdout",
          "text": [
            "Final Train accuracy: [tensor(0.5296)]\n",
            "Final Test accuracy: [tensor(0.4817)]\n"
          ]
        }
      ],
      "source": [
        "df_suic_notears = df_suic.copy()\n",
        "df_suic_notears = df_suic_notears[notears_selected]\n",
        "df_suic_notears=pd.concat([df_suic_notears,df_novo], ignore_index=True)\n",
        "\n",
        "# Criando modelos para cada alvo\n",
        "targets = [\"Suicidio\", \"Ansiedade\"]\n",
        "targets_idx = [df_suic_notears.columns.get_loc(c) for c in targets]\n",
        "\n",
        "# Criando base de dados\n",
        "notears_suic_dataset = CausalDataset(df_suic_notears.values, targets_idx[0])\n",
        "notears_anx_dataset = CausalDataset(df_suic_notears.values, targets_idx[1])\n",
        "sample_x, sample_y = notears_suic_dataset[0]\n",
        "\n",
        "# Agora prevemos os alvos com um MLP (Perceptron multicamadas)\n",
        "suic_causal_model = MLP([sample_x.shape[0], 64, 64, 64, 1], add_dropout=True)\n",
        "anx_causal_model = MLP([sample_x.shape[0], 64, 64, 64, 1], add_dropout=True)\n",
        "\n",
        "suic_causal_model, suic_causal_metrics = trainPipeline(notears_suic_dataset, suic_causal_model, verbose=False, max_epochs=1000, weight_decay=1e-5)\n",
        "anx_causal_model, anx_causal_metrics = trainPipeline(notears_anx_dataset, anx_causal_model, verbose=False, max_epochs=1000, weight_decay=1e-5)\n",
        "\n"
      ]
    },
    {
      "cell_type": "code",
      "execution_count": null,
      "metadata": {
        "ExecuteTime": {
          "end_time": "2023-10-21T20:49:41.814498400Z",
          "start_time": "2023-10-21T19:45:42.701133300Z"
        },
        "id": "-hEM_RE-C9wn",
        "colab": {
          "base_uri": "https://localhost:8080/",
          "height": 84,
          "referenced_widgets": [
            "63bb268244d74ece897f3dfc68eb30da",
            "9e98f974e7a84319a60095569d9cc7bf",
            "3b7de44d1d3e4e3a9d1fe949e91fed18",
            "084b7e50a45949aeba76ca2453790d28",
            "e3b0efba31e6446fb7e0635114d7b5c0",
            "228fa8a54e7d4e779b194c31a45e4f4c",
            "3c27bbcd349a4ed6ba9d8fd97741f0c7",
            "72ea299d28a24779a1f3e69718c44392",
            "2d4c8d1e1a774eebba718d778f1a2e91",
            "26921cabbc02435494d06d62b6d7eebb",
            "3d0d72232a994166bda0b150304cf21e"
          ]
        },
        "outputId": "e5b1f16a-5b4f-4070-e2c3-4d6b74d3fdd1"
      },
      "outputs": [
        {
          "output_type": "display_data",
          "data": {
            "text/plain": [
              "  0%|          | 0/1000 [00:00<?, ?it/s]"
            ],
            "application/vnd.jupyter.widget-view+json": {
              "version_major": 2,
              "version_minor": 0,
              "model_id": "63bb268244d74ece897f3dfc68eb30da"
            }
          },
          "metadata": {}
        },
        {
          "output_type": "stream",
          "name": "stdout",
          "text": [
            "Final Train accuracy: [tensor(0.7970), tensor(0.8068)]\n",
            "Final Test accuracy: [tensor(0.7155), tensor(0.7206)]\n"
          ]
        }
      ],
      "source": [
        "# calculando erros\n",
        "suic_causal_erros = []\n",
        "anx_causal_erros = []\n",
        "with torch.no_grad():\n",
        "    for data, y_true in notears_suic_dataset:\n",
        "        y_pred = suic_causal_model(data)\n",
        "        error = torch.abs(y_pred - y_true).item()\n",
        "        suic_causal_erros.append(error)\n",
        "    for data, y_true in notears_anx_dataset:\n",
        "        y_pred = anx_causal_model(data)\n",
        "        error = torch.abs(y_pred - y_true).item()\n",
        "        anx_causal_erros.append(error)\n",
        "\n",
        "suic_causal_erros = np.array(suic_causal_erros)\n",
        "anx_causal_erros = np.array(anx_causal_erros)\n",
        "\n",
        "# adicionando erros no dataframe\n",
        "df_suic_notears_with_errors = df_suic_notears.copy()\n",
        "df_suic_notears_with_errors[\"Suicidio_error\"] = suic_causal_erros\n",
        "df_suic_notears_with_errors[\"Ansiedade_error\"] = anx_causal_erros\n",
        "\n",
        "# crando dataset causal com os erros\n",
        "targets_idx = [df_suic_notears_with_errors.columns.get_loc(c) for c in targets]\n",
        "notears_causal_dataset_error = CausalDataset(df_suic_notears_with_errors.values, targets_idx)\n",
        "sample_x, sample_y = notears_causal_dataset_error[0]\n",
        "\n",
        "# criando modelo counterfactual\n",
        "causal_cf_model = CounterfactualModel(sample_x.shape[0], 64, sample_y.shape[0])\n",
        "\n",
        "# treinando o modelo counterfactual\n",
        "causal_cf_model, causal_cf_metrics = trainPipeline(notears_causal_dataset_error, causal_cf_model, verbose=False, max_epochs=1000, weight_decay=1e-5)\n"
      ]
    },
    {
      "cell_type": "code",
      "source": [
        "df_suic_notears_with_errors.to_csv('/content/df_suic_notears_with_errors.csv', index=False)"
      ],
      "metadata": {
        "id": "1oyRCe2wlgT_"
      },
      "execution_count": null,
      "outputs": []
    },
    {
      "cell_type": "code",
      "source": [
        "targets = [\"Suicidio\", \"Ansiedade\"]\n",
        "df = df_suic_notears_with_errors\n",
        "\n",
        "# caregando o modelo\n",
        "counterfact = causal_cf_model\n",
        "counterfact = counterfact.eval()"
      ],
      "metadata": {
        "id": "6QrdW6pOUzHP",
        "colab": {
          "base_uri": "https://localhost:8080/"
        },
        "outputId": "b33f0e75-bdea-4620-864a-e734374f8622"
      },
      "execution_count": null,
      "outputs": [
        {
          "output_type": "stream",
          "name": "stdout",
          "text": [
            "Suic_familia: [0.0, 1.0]\n",
            "Drog_familia: [0.0, 1.0]\n",
            "Capaz de tomar decisões importantes: [-1.0, 1.0, 2.0, 3.0, 4.0, 5.0]\n",
            "Estudante: [-1.0, 0.0, 0.5, 1.0]\n",
            "Hipocondriase: [-1.0, 0.0, 1.0, 2.0, 3.0, 4.0]\n",
            "Sentimentos_culpa: [-1.0, 0.0, 1.0, 2.0, 3.0, 4.0]\n",
            "Trabalho e interesses: [-1.0, 0.0, 1.0, 2.0, 3.0, 4.0]\n",
            "Energia: [-1.0, 0.0, 1.0, 2.0]\n",
            "Suicidio: [-1.0, 0.0, 1.0, 2.0, 3.0, 4.0]\n",
            "Ansiedade: [-1.0, 0.0, 1.0, 2.0, 3.0, 4.0]\n"
          ]
        }
      ]
    },
    {
      "cell_type": "markdown",
      "metadata": {
        "id": "TfUh9_BWC9yW"
      },
      "source": [
        "# Predição inicial"
      ]
    },
    {
      "cell_type": "code",
      "source": [
        "def contrafactual(df):\n",
        "  df_suic_notears_with_errors = df\n",
        "  dataset = CausalDataset(df_suic_notears_with_errors.values, [df.columns.get_loc(c) for c in targets])\n",
        "\n",
        "  idx = [0,3953]\n",
        "\n",
        "  data1, y1 = dataset[idx[0]]\n",
        "  data2, y2 = dataset[idx[1]]\n",
        "\n",
        "  # prever os contrafactuais para o indivíduo\n",
        "  with torch.no_grad():\n",
        "      i1 = counterfact.individuality(data1.unsqueeze(0))\n",
        "      i2 = counterfact.individuality(data2.unsqueeze(0))\n",
        "\n",
        "      cf11 = counterfact.counterfactual(data1.unsqueeze(0), i1)\n",
        "      cf12 = counterfact.counterfactual(data2.unsqueeze(0), i2)\n",
        "\n",
        "      print(f\"Valor previsto para ideação suicída  {cf12.squeeze(0).round().numpy().tolist()[0]}\")\n",
        "      print()"
      ],
      "metadata": {
        "id": "nOkuKE4OQrcZ"
      },
      "execution_count": null,
      "outputs": []
    },
    {
      "cell_type": "code",
      "source": [
        "print('Predição inicial')\n",
        "contrafactual(df_suic_notears_with_errors)"
      ],
      "metadata": {
        "id": "ZvL-ZV0DhKFk",
        "colab": {
          "base_uri": "https://localhost:8080/"
        },
        "outputId": "2894e6b8-93ec-4f24-89fd-78e1ea3a4970"
      },
      "execution_count": null,
      "outputs": [
        {
          "output_type": "stream",
          "name": "stdout",
          "text": [
            "Initial prediction\n",
            "Counterfactual Suicide: 2.0\n",
            "\n"
          ]
        }
      ]
    },
    {
      "cell_type": "markdown",
      "source": [
        "# Simulações contrafactuais\n",
        "\n"
      ],
      "metadata": {
        "id": "o9T71QJ9igRT"
      }
    },
    {
      "cell_type": "code",
      "source": [
        "print('Digite o valor indicado de acordo com a feature que deseja modificar')"
      ],
      "metadata": {
        "id": "Bo6mVPkRyiqi",
        "colab": {
          "base_uri": "https://localhost:8080/"
        },
        "outputId": "6e8850b6-1958-43aa-9a6a-944de9b81522"
      },
      "execution_count": null,
      "outputs": [
        {
          "output_type": "stream",
          "name": "stdout",
          "text": [
            "Digite o valor indicado de acordo com a feature que deseja modificar\n"
          ]
        }
      ]
    },
    {
      "cell_type": "code",
      "source": [
        "def alter_feature(df,Variavel,valor):\n",
        "  df_suic_notears_with_errors = df\n",
        "  if Variavel == '1':\n",
        "    df_suic_notears_with_errors['Suic_familia'].loc[(df_suic_notears_with_errors.index==3953)] = float(Valor)\n",
        "    print('Suicidio na família')\n",
        "  elif Variavel == '2':\n",
        "    df_suic_notears_with_errors['Drog_familia'].loc[(df_suic_notears_with_errors.index==3953)] = float(Valor)\n",
        "    print('Drogas na família')\n",
        "  elif Variavel == '3':\n",
        "    df_suic_notears_with_errors['Capaz de tomar decisões importantes'].loc[(df_suic_notears_with_errors.index==3953)] = float(Valor)\n",
        "    print('Capaz de tomar decisões importantes')\n",
        "  elif Variavel == '4':\n",
        "    df_suic_notears_with_errors['Estudante'].loc[(df_suic_notears_with_errors.index==3953)] = float(Valor)\n",
        "    print('Estudante')\n",
        "  elif Variavel == '5':\n",
        "    df_suic_notears_with_errors['Hipocondriase'].loc[(df_suic_notears_with_errors.index==3953)] = float(Valor)\n",
        "    print('Hipocondriase')\n",
        "  elif Variavel == '6':\n",
        "    df_suic_notears_with_errors['Sentimentos_culpa'].loc[(df_suic_notears_with_errors.index==3953)] = float(Valor)\n",
        "    print('Sentimentos de culpa')\n",
        "  elif Variavel == '7':\n",
        "    df_suic_notears_with_errors['Trabalho e interesses'].loc[(df_suic_notears_with_errors.index==3953)] = float(Valor)\n",
        "    print('Trabalho e interesses')\n",
        "  else:\n",
        "    df_suic_notears_with_errors['Energia'].loc[(df_suic_notears_with_errors.index==3953)] = float(Valor)\n",
        "    print('Energia')\n",
        "  return df_suic_notears_with_errors"
      ],
      "metadata": {
        "id": "fFa2P198SfOr"
      },
      "execution_count": null,
      "outputs": []
    },
    {
      "cell_type": "code",
      "execution_count": null,
      "outputs": [
        {
          "name": "stdout",
          "output_type": "stream",
          "text": [
            "Digite o valor indicado de acordo com a feature que deseja modificar\n",
            "1 Suicidio na família, 2 Drogas na família, 3 Capaz de tomar decisões importantes, 4 Estudante, 5 Hipocondriase, 6 Sentimentos de culpa, 7 Trabalho e interesses e 8 Energia1\n",
            "Digite o novo valor0\n",
            "Suicidio na família\n",
            "Counterfactual Suicide: 2.0\n",
            "\n",
            "Deseja executar nova simulação? Digite 1 para Sim e 0 para Não\n",
            "Digite o valor indicado de acordo com a feature que deseja modificar\n",
            "1 Suicidio na família, 2 Drogas na família, 3 Capaz de tomar decisões importantes, 4 Estudante, 5 Hipocondriase, 6 Sentimentos de culpa, 7 Trabalho e interesses e 8 Energia1\n",
            "Digite o novo valor1\n",
            "Suicidio na família\n",
            "Counterfactual Suicide: 3.0\n",
            "\n",
            "Deseja executar nova simulação? Digite 1 para Sim e 0 para Não0\n"
          ]
        }
      ],
      "source": [
        "for i in range(0,8):\n",
        "  df_simula = df_suic_notears_with_errors.copy()\n",
        "  print('Digite o valor indicado de acordo com a feature que deseja modificar')\n",
        "  Variavel = input(\"1 Suicidio na família, 2 Drogas na família, 3 Capaz de tomar decisões importantes, 4 Estudante, 5 Hipocondriase, 6 Sentimentos de culpa, 7 Trabalho e interesses e 8 Energia\")\n",
        "  Valor = input(\"Digite o novo valor\")\n",
        "  df_simula = alter_feature(df_simula, Variavel, Valor)\n",
        "  contrafactual(df_simula)\n",
        "  if i<7:\n",
        "    simulacao = input(\"Deseja executar nova simulação? Digite 1 para Sim e 0 para Não\")\n",
        "    if simulacao=='0':\n",
        "      break"
      ],
      "metadata": {
        "is_executing": true,
        "id": "AMweNmwfC9ys",
        "colab": {
          "base_uri": "https://localhost:8080/"
        },
        "outputId": "a29eb89f-d729-4f54-edfe-e1763e4f67e9"
      }
    }
  ],
  "metadata": {
    "kernelspec": {
      "display_name": "cml",
      "language": "python",
      "name": "python3"
    },
    "language_info": {
      "codemirror_mode": {
        "name": "ipython",
        "version": 3
      },
      "file_extension": ".py",
      "mimetype": "text/x-python",
      "name": "python",
      "nbconvert_exporter": "python",
      "pygments_lexer": "ipython3",
      "version": "3.8.13"
    },
    "vscode": {
      "interpreter": {
        "hash": "71f78216db5cb2f09350fda35ad9d9668a66a927586f044b9adeddeb17c1df4d"
      }
    },
    "colab": {
      "provenance": []
    },
    "widgets": {
      "application/vnd.jupyter.widget-state+json": {
        "ac35111b6a6340e18daaa412d6503107": {
          "model_module": "@jupyter-widgets/controls",
          "model_name": "HBoxModel",
          "model_module_version": "1.5.0",
          "state": {
            "_dom_classes": [],
            "_model_module": "@jupyter-widgets/controls",
            "_model_module_version": "1.5.0",
            "_model_name": "HBoxModel",
            "_view_count": null,
            "_view_module": "@jupyter-widgets/controls",
            "_view_module_version": "1.5.0",
            "_view_name": "HBoxView",
            "box_style": "",
            "children": [
              "IPY_MODEL_83e1fadfe2274b35936522820f038692",
              "IPY_MODEL_00e3bcc2908e4ceb98c513b9d0cac0e8",
              "IPY_MODEL_1b92d1bc8bc04a768f88eea6fb785f4b"
            ],
            "layout": "IPY_MODEL_762f66939b404bb891b116257bdef403"
          }
        },
        "83e1fadfe2274b35936522820f038692": {
          "model_module": "@jupyter-widgets/controls",
          "model_name": "HTMLModel",
          "model_module_version": "1.5.0",
          "state": {
            "_dom_classes": [],
            "_model_module": "@jupyter-widgets/controls",
            "_model_module_version": "1.5.0",
            "_model_name": "HTMLModel",
            "_view_count": null,
            "_view_module": "@jupyter-widgets/controls",
            "_view_module_version": "1.5.0",
            "_view_name": "HTMLView",
            "description": "",
            "description_tooltip": null,
            "layout": "IPY_MODEL_e87dc2d3844b44e7aac0cacdc76d6e48",
            "placeholder": "​",
            "style": "IPY_MODEL_eb5c2cdeca42472583999c96652cc912",
            "value": "100%"
          }
        },
        "00e3bcc2908e4ceb98c513b9d0cac0e8": {
          "model_module": "@jupyter-widgets/controls",
          "model_name": "FloatProgressModel",
          "model_module_version": "1.5.0",
          "state": {
            "_dom_classes": [],
            "_model_module": "@jupyter-widgets/controls",
            "_model_module_version": "1.5.0",
            "_model_name": "FloatProgressModel",
            "_view_count": null,
            "_view_module": "@jupyter-widgets/controls",
            "_view_module_version": "1.5.0",
            "_view_name": "ProgressView",
            "bar_style": "success",
            "description": "",
            "description_tooltip": null,
            "layout": "IPY_MODEL_ad68076d711e42fb8e9053fc298e1840",
            "max": 1000,
            "min": 0,
            "orientation": "horizontal",
            "style": "IPY_MODEL_b0c3e24479794589b6dea4fe845c1aff",
            "value": 1000
          }
        },
        "1b92d1bc8bc04a768f88eea6fb785f4b": {
          "model_module": "@jupyter-widgets/controls",
          "model_name": "HTMLModel",
          "model_module_version": "1.5.0",
          "state": {
            "_dom_classes": [],
            "_model_module": "@jupyter-widgets/controls",
            "_model_module_version": "1.5.0",
            "_model_name": "HTMLModel",
            "_view_count": null,
            "_view_module": "@jupyter-widgets/controls",
            "_view_module_version": "1.5.0",
            "_view_name": "HTMLView",
            "description": "",
            "description_tooltip": null,
            "layout": "IPY_MODEL_a7a5b152fa86458cbe94cadd1c6acbcd",
            "placeholder": "​",
            "style": "IPY_MODEL_c5b5ab3412a24f1e96c2dbd3707c1275",
            "value": " 1000/1000 [03:41&lt;00:00,  3.41it/s]"
          }
        },
        "762f66939b404bb891b116257bdef403": {
          "model_module": "@jupyter-widgets/base",
          "model_name": "LayoutModel",
          "model_module_version": "1.2.0",
          "state": {
            "_model_module": "@jupyter-widgets/base",
            "_model_module_version": "1.2.0",
            "_model_name": "LayoutModel",
            "_view_count": null,
            "_view_module": "@jupyter-widgets/base",
            "_view_module_version": "1.2.0",
            "_view_name": "LayoutView",
            "align_content": null,
            "align_items": null,
            "align_self": null,
            "border": null,
            "bottom": null,
            "display": null,
            "flex": null,
            "flex_flow": null,
            "grid_area": null,
            "grid_auto_columns": null,
            "grid_auto_flow": null,
            "grid_auto_rows": null,
            "grid_column": null,
            "grid_gap": null,
            "grid_row": null,
            "grid_template_areas": null,
            "grid_template_columns": null,
            "grid_template_rows": null,
            "height": null,
            "justify_content": null,
            "justify_items": null,
            "left": null,
            "margin": null,
            "max_height": null,
            "max_width": null,
            "min_height": null,
            "min_width": null,
            "object_fit": null,
            "object_position": null,
            "order": null,
            "overflow": null,
            "overflow_x": null,
            "overflow_y": null,
            "padding": null,
            "right": null,
            "top": null,
            "visibility": null,
            "width": null
          }
        },
        "e87dc2d3844b44e7aac0cacdc76d6e48": {
          "model_module": "@jupyter-widgets/base",
          "model_name": "LayoutModel",
          "model_module_version": "1.2.0",
          "state": {
            "_model_module": "@jupyter-widgets/base",
            "_model_module_version": "1.2.0",
            "_model_name": "LayoutModel",
            "_view_count": null,
            "_view_module": "@jupyter-widgets/base",
            "_view_module_version": "1.2.0",
            "_view_name": "LayoutView",
            "align_content": null,
            "align_items": null,
            "align_self": null,
            "border": null,
            "bottom": null,
            "display": null,
            "flex": null,
            "flex_flow": null,
            "grid_area": null,
            "grid_auto_columns": null,
            "grid_auto_flow": null,
            "grid_auto_rows": null,
            "grid_column": null,
            "grid_gap": null,
            "grid_row": null,
            "grid_template_areas": null,
            "grid_template_columns": null,
            "grid_template_rows": null,
            "height": null,
            "justify_content": null,
            "justify_items": null,
            "left": null,
            "margin": null,
            "max_height": null,
            "max_width": null,
            "min_height": null,
            "min_width": null,
            "object_fit": null,
            "object_position": null,
            "order": null,
            "overflow": null,
            "overflow_x": null,
            "overflow_y": null,
            "padding": null,
            "right": null,
            "top": null,
            "visibility": null,
            "width": null
          }
        },
        "eb5c2cdeca42472583999c96652cc912": {
          "model_module": "@jupyter-widgets/controls",
          "model_name": "DescriptionStyleModel",
          "model_module_version": "1.5.0",
          "state": {
            "_model_module": "@jupyter-widgets/controls",
            "_model_module_version": "1.5.0",
            "_model_name": "DescriptionStyleModel",
            "_view_count": null,
            "_view_module": "@jupyter-widgets/base",
            "_view_module_version": "1.2.0",
            "_view_name": "StyleView",
            "description_width": ""
          }
        },
        "ad68076d711e42fb8e9053fc298e1840": {
          "model_module": "@jupyter-widgets/base",
          "model_name": "LayoutModel",
          "model_module_version": "1.2.0",
          "state": {
            "_model_module": "@jupyter-widgets/base",
            "_model_module_version": "1.2.0",
            "_model_name": "LayoutModel",
            "_view_count": null,
            "_view_module": "@jupyter-widgets/base",
            "_view_module_version": "1.2.0",
            "_view_name": "LayoutView",
            "align_content": null,
            "align_items": null,
            "align_self": null,
            "border": null,
            "bottom": null,
            "display": null,
            "flex": null,
            "flex_flow": null,
            "grid_area": null,
            "grid_auto_columns": null,
            "grid_auto_flow": null,
            "grid_auto_rows": null,
            "grid_column": null,
            "grid_gap": null,
            "grid_row": null,
            "grid_template_areas": null,
            "grid_template_columns": null,
            "grid_template_rows": null,
            "height": null,
            "justify_content": null,
            "justify_items": null,
            "left": null,
            "margin": null,
            "max_height": null,
            "max_width": null,
            "min_height": null,
            "min_width": null,
            "object_fit": null,
            "object_position": null,
            "order": null,
            "overflow": null,
            "overflow_x": null,
            "overflow_y": null,
            "padding": null,
            "right": null,
            "top": null,
            "visibility": null,
            "width": null
          }
        },
        "b0c3e24479794589b6dea4fe845c1aff": {
          "model_module": "@jupyter-widgets/controls",
          "model_name": "ProgressStyleModel",
          "model_module_version": "1.5.0",
          "state": {
            "_model_module": "@jupyter-widgets/controls",
            "_model_module_version": "1.5.0",
            "_model_name": "ProgressStyleModel",
            "_view_count": null,
            "_view_module": "@jupyter-widgets/base",
            "_view_module_version": "1.2.0",
            "_view_name": "StyleView",
            "bar_color": null,
            "description_width": ""
          }
        },
        "a7a5b152fa86458cbe94cadd1c6acbcd": {
          "model_module": "@jupyter-widgets/base",
          "model_name": "LayoutModel",
          "model_module_version": "1.2.0",
          "state": {
            "_model_module": "@jupyter-widgets/base",
            "_model_module_version": "1.2.0",
            "_model_name": "LayoutModel",
            "_view_count": null,
            "_view_module": "@jupyter-widgets/base",
            "_view_module_version": "1.2.0",
            "_view_name": "LayoutView",
            "align_content": null,
            "align_items": null,
            "align_self": null,
            "border": null,
            "bottom": null,
            "display": null,
            "flex": null,
            "flex_flow": null,
            "grid_area": null,
            "grid_auto_columns": null,
            "grid_auto_flow": null,
            "grid_auto_rows": null,
            "grid_column": null,
            "grid_gap": null,
            "grid_row": null,
            "grid_template_areas": null,
            "grid_template_columns": null,
            "grid_template_rows": null,
            "height": null,
            "justify_content": null,
            "justify_items": null,
            "left": null,
            "margin": null,
            "max_height": null,
            "max_width": null,
            "min_height": null,
            "min_width": null,
            "object_fit": null,
            "object_position": null,
            "order": null,
            "overflow": null,
            "overflow_x": null,
            "overflow_y": null,
            "padding": null,
            "right": null,
            "top": null,
            "visibility": null,
            "width": null
          }
        },
        "c5b5ab3412a24f1e96c2dbd3707c1275": {
          "model_module": "@jupyter-widgets/controls",
          "model_name": "DescriptionStyleModel",
          "model_module_version": "1.5.0",
          "state": {
            "_model_module": "@jupyter-widgets/controls",
            "_model_module_version": "1.5.0",
            "_model_name": "DescriptionStyleModel",
            "_view_count": null,
            "_view_module": "@jupyter-widgets/base",
            "_view_module_version": "1.2.0",
            "_view_name": "StyleView",
            "description_width": ""
          }
        },
        "b146e750972848ee87f65dd34f8f57c7": {
          "model_module": "@jupyter-widgets/controls",
          "model_name": "HBoxModel",
          "model_module_version": "1.5.0",
          "state": {
            "_dom_classes": [],
            "_model_module": "@jupyter-widgets/controls",
            "_model_module_version": "1.5.0",
            "_model_name": "HBoxModel",
            "_view_count": null,
            "_view_module": "@jupyter-widgets/controls",
            "_view_module_version": "1.5.0",
            "_view_name": "HBoxView",
            "box_style": "",
            "children": [
              "IPY_MODEL_13f7d0a54a1e46c5916a6ed0527189e8",
              "IPY_MODEL_0a0b2a67d1bc4f0a82c3ca72aaf72fec",
              "IPY_MODEL_61353823e39949afba99a8400fb30caa"
            ],
            "layout": "IPY_MODEL_061e70451e4f46caa7b40e1af11d8500"
          }
        },
        "13f7d0a54a1e46c5916a6ed0527189e8": {
          "model_module": "@jupyter-widgets/controls",
          "model_name": "HTMLModel",
          "model_module_version": "1.5.0",
          "state": {
            "_dom_classes": [],
            "_model_module": "@jupyter-widgets/controls",
            "_model_module_version": "1.5.0",
            "_model_name": "HTMLModel",
            "_view_count": null,
            "_view_module": "@jupyter-widgets/controls",
            "_view_module_version": "1.5.0",
            "_view_name": "HTMLView",
            "description": "",
            "description_tooltip": null,
            "layout": "IPY_MODEL_136a290d2ca6434988373d0c8061f180",
            "placeholder": "​",
            "style": "IPY_MODEL_f5eb5dd03285446d89fbcd6b97fec04e",
            "value": "100%"
          }
        },
        "0a0b2a67d1bc4f0a82c3ca72aaf72fec": {
          "model_module": "@jupyter-widgets/controls",
          "model_name": "FloatProgressModel",
          "model_module_version": "1.5.0",
          "state": {
            "_dom_classes": [],
            "_model_module": "@jupyter-widgets/controls",
            "_model_module_version": "1.5.0",
            "_model_name": "FloatProgressModel",
            "_view_count": null,
            "_view_module": "@jupyter-widgets/controls",
            "_view_module_version": "1.5.0",
            "_view_name": "ProgressView",
            "bar_style": "success",
            "description": "",
            "description_tooltip": null,
            "layout": "IPY_MODEL_c9ce4bedd9054a028385a2808d952145",
            "max": 1000,
            "min": 0,
            "orientation": "horizontal",
            "style": "IPY_MODEL_e7beb7d702b14190a9ee09a102692682",
            "value": 1000
          }
        },
        "61353823e39949afba99a8400fb30caa": {
          "model_module": "@jupyter-widgets/controls",
          "model_name": "HTMLModel",
          "model_module_version": "1.5.0",
          "state": {
            "_dom_classes": [],
            "_model_module": "@jupyter-widgets/controls",
            "_model_module_version": "1.5.0",
            "_model_name": "HTMLModel",
            "_view_count": null,
            "_view_module": "@jupyter-widgets/controls",
            "_view_module_version": "1.5.0",
            "_view_name": "HTMLView",
            "description": "",
            "description_tooltip": null,
            "layout": "IPY_MODEL_92e72f7a970b40888c77b1ed6167a909",
            "placeholder": "​",
            "style": "IPY_MODEL_ae015ac8a89c4a4e9087e5b7afb6637e",
            "value": " 1000/1000 [03:43&lt;00:00,  4.30it/s]"
          }
        },
        "061e70451e4f46caa7b40e1af11d8500": {
          "model_module": "@jupyter-widgets/base",
          "model_name": "LayoutModel",
          "model_module_version": "1.2.0",
          "state": {
            "_model_module": "@jupyter-widgets/base",
            "_model_module_version": "1.2.0",
            "_model_name": "LayoutModel",
            "_view_count": null,
            "_view_module": "@jupyter-widgets/base",
            "_view_module_version": "1.2.0",
            "_view_name": "LayoutView",
            "align_content": null,
            "align_items": null,
            "align_self": null,
            "border": null,
            "bottom": null,
            "display": null,
            "flex": null,
            "flex_flow": null,
            "grid_area": null,
            "grid_auto_columns": null,
            "grid_auto_flow": null,
            "grid_auto_rows": null,
            "grid_column": null,
            "grid_gap": null,
            "grid_row": null,
            "grid_template_areas": null,
            "grid_template_columns": null,
            "grid_template_rows": null,
            "height": null,
            "justify_content": null,
            "justify_items": null,
            "left": null,
            "margin": null,
            "max_height": null,
            "max_width": null,
            "min_height": null,
            "min_width": null,
            "object_fit": null,
            "object_position": null,
            "order": null,
            "overflow": null,
            "overflow_x": null,
            "overflow_y": null,
            "padding": null,
            "right": null,
            "top": null,
            "visibility": null,
            "width": null
          }
        },
        "136a290d2ca6434988373d0c8061f180": {
          "model_module": "@jupyter-widgets/base",
          "model_name": "LayoutModel",
          "model_module_version": "1.2.0",
          "state": {
            "_model_module": "@jupyter-widgets/base",
            "_model_module_version": "1.2.0",
            "_model_name": "LayoutModel",
            "_view_count": null,
            "_view_module": "@jupyter-widgets/base",
            "_view_module_version": "1.2.0",
            "_view_name": "LayoutView",
            "align_content": null,
            "align_items": null,
            "align_self": null,
            "border": null,
            "bottom": null,
            "display": null,
            "flex": null,
            "flex_flow": null,
            "grid_area": null,
            "grid_auto_columns": null,
            "grid_auto_flow": null,
            "grid_auto_rows": null,
            "grid_column": null,
            "grid_gap": null,
            "grid_row": null,
            "grid_template_areas": null,
            "grid_template_columns": null,
            "grid_template_rows": null,
            "height": null,
            "justify_content": null,
            "justify_items": null,
            "left": null,
            "margin": null,
            "max_height": null,
            "max_width": null,
            "min_height": null,
            "min_width": null,
            "object_fit": null,
            "object_position": null,
            "order": null,
            "overflow": null,
            "overflow_x": null,
            "overflow_y": null,
            "padding": null,
            "right": null,
            "top": null,
            "visibility": null,
            "width": null
          }
        },
        "f5eb5dd03285446d89fbcd6b97fec04e": {
          "model_module": "@jupyter-widgets/controls",
          "model_name": "DescriptionStyleModel",
          "model_module_version": "1.5.0",
          "state": {
            "_model_module": "@jupyter-widgets/controls",
            "_model_module_version": "1.5.0",
            "_model_name": "DescriptionStyleModel",
            "_view_count": null,
            "_view_module": "@jupyter-widgets/base",
            "_view_module_version": "1.2.0",
            "_view_name": "StyleView",
            "description_width": ""
          }
        },
        "c9ce4bedd9054a028385a2808d952145": {
          "model_module": "@jupyter-widgets/base",
          "model_name": "LayoutModel",
          "model_module_version": "1.2.0",
          "state": {
            "_model_module": "@jupyter-widgets/base",
            "_model_module_version": "1.2.0",
            "_model_name": "LayoutModel",
            "_view_count": null,
            "_view_module": "@jupyter-widgets/base",
            "_view_module_version": "1.2.0",
            "_view_name": "LayoutView",
            "align_content": null,
            "align_items": null,
            "align_self": null,
            "border": null,
            "bottom": null,
            "display": null,
            "flex": null,
            "flex_flow": null,
            "grid_area": null,
            "grid_auto_columns": null,
            "grid_auto_flow": null,
            "grid_auto_rows": null,
            "grid_column": null,
            "grid_gap": null,
            "grid_row": null,
            "grid_template_areas": null,
            "grid_template_columns": null,
            "grid_template_rows": null,
            "height": null,
            "justify_content": null,
            "justify_items": null,
            "left": null,
            "margin": null,
            "max_height": null,
            "max_width": null,
            "min_height": null,
            "min_width": null,
            "object_fit": null,
            "object_position": null,
            "order": null,
            "overflow": null,
            "overflow_x": null,
            "overflow_y": null,
            "padding": null,
            "right": null,
            "top": null,
            "visibility": null,
            "width": null
          }
        },
        "e7beb7d702b14190a9ee09a102692682": {
          "model_module": "@jupyter-widgets/controls",
          "model_name": "ProgressStyleModel",
          "model_module_version": "1.5.0",
          "state": {
            "_model_module": "@jupyter-widgets/controls",
            "_model_module_version": "1.5.0",
            "_model_name": "ProgressStyleModel",
            "_view_count": null,
            "_view_module": "@jupyter-widgets/base",
            "_view_module_version": "1.2.0",
            "_view_name": "StyleView",
            "bar_color": null,
            "description_width": ""
          }
        },
        "92e72f7a970b40888c77b1ed6167a909": {
          "model_module": "@jupyter-widgets/base",
          "model_name": "LayoutModel",
          "model_module_version": "1.2.0",
          "state": {
            "_model_module": "@jupyter-widgets/base",
            "_model_module_version": "1.2.0",
            "_model_name": "LayoutModel",
            "_view_count": null,
            "_view_module": "@jupyter-widgets/base",
            "_view_module_version": "1.2.0",
            "_view_name": "LayoutView",
            "align_content": null,
            "align_items": null,
            "align_self": null,
            "border": null,
            "bottom": null,
            "display": null,
            "flex": null,
            "flex_flow": null,
            "grid_area": null,
            "grid_auto_columns": null,
            "grid_auto_flow": null,
            "grid_auto_rows": null,
            "grid_column": null,
            "grid_gap": null,
            "grid_row": null,
            "grid_template_areas": null,
            "grid_template_columns": null,
            "grid_template_rows": null,
            "height": null,
            "justify_content": null,
            "justify_items": null,
            "left": null,
            "margin": null,
            "max_height": null,
            "max_width": null,
            "min_height": null,
            "min_width": null,
            "object_fit": null,
            "object_position": null,
            "order": null,
            "overflow": null,
            "overflow_x": null,
            "overflow_y": null,
            "padding": null,
            "right": null,
            "top": null,
            "visibility": null,
            "width": null
          }
        },
        "ae015ac8a89c4a4e9087e5b7afb6637e": {
          "model_module": "@jupyter-widgets/controls",
          "model_name": "DescriptionStyleModel",
          "model_module_version": "1.5.0",
          "state": {
            "_model_module": "@jupyter-widgets/controls",
            "_model_module_version": "1.5.0",
            "_model_name": "DescriptionStyleModel",
            "_view_count": null,
            "_view_module": "@jupyter-widgets/base",
            "_view_module_version": "1.2.0",
            "_view_name": "StyleView",
            "description_width": ""
          }
        },
        "63bb268244d74ece897f3dfc68eb30da": {
          "model_module": "@jupyter-widgets/controls",
          "model_name": "HBoxModel",
          "model_module_version": "1.5.0",
          "state": {
            "_dom_classes": [],
            "_model_module": "@jupyter-widgets/controls",
            "_model_module_version": "1.5.0",
            "_model_name": "HBoxModel",
            "_view_count": null,
            "_view_module": "@jupyter-widgets/controls",
            "_view_module_version": "1.5.0",
            "_view_name": "HBoxView",
            "box_style": "",
            "children": [
              "IPY_MODEL_9e98f974e7a84319a60095569d9cc7bf",
              "IPY_MODEL_3b7de44d1d3e4e3a9d1fe949e91fed18",
              "IPY_MODEL_084b7e50a45949aeba76ca2453790d28"
            ],
            "layout": "IPY_MODEL_e3b0efba31e6446fb7e0635114d7b5c0"
          }
        },
        "9e98f974e7a84319a60095569d9cc7bf": {
          "model_module": "@jupyter-widgets/controls",
          "model_name": "HTMLModel",
          "model_module_version": "1.5.0",
          "state": {
            "_dom_classes": [],
            "_model_module": "@jupyter-widgets/controls",
            "_model_module_version": "1.5.0",
            "_model_name": "HTMLModel",
            "_view_count": null,
            "_view_module": "@jupyter-widgets/controls",
            "_view_module_version": "1.5.0",
            "_view_name": "HTMLView",
            "description": "",
            "description_tooltip": null,
            "layout": "IPY_MODEL_228fa8a54e7d4e779b194c31a45e4f4c",
            "placeholder": "​",
            "style": "IPY_MODEL_3c27bbcd349a4ed6ba9d8fd97741f0c7",
            "value": "100%"
          }
        },
        "3b7de44d1d3e4e3a9d1fe949e91fed18": {
          "model_module": "@jupyter-widgets/controls",
          "model_name": "FloatProgressModel",
          "model_module_version": "1.5.0",
          "state": {
            "_dom_classes": [],
            "_model_module": "@jupyter-widgets/controls",
            "_model_module_version": "1.5.0",
            "_model_name": "FloatProgressModel",
            "_view_count": null,
            "_view_module": "@jupyter-widgets/controls",
            "_view_module_version": "1.5.0",
            "_view_name": "ProgressView",
            "bar_style": "success",
            "description": "",
            "description_tooltip": null,
            "layout": "IPY_MODEL_72ea299d28a24779a1f3e69718c44392",
            "max": 1000,
            "min": 0,
            "orientation": "horizontal",
            "style": "IPY_MODEL_2d4c8d1e1a774eebba718d778f1a2e91",
            "value": 1000
          }
        },
        "084b7e50a45949aeba76ca2453790d28": {
          "model_module": "@jupyter-widgets/controls",
          "model_name": "HTMLModel",
          "model_module_version": "1.5.0",
          "state": {
            "_dom_classes": [],
            "_model_module": "@jupyter-widgets/controls",
            "_model_module_version": "1.5.0",
            "_model_name": "HTMLModel",
            "_view_count": null,
            "_view_module": "@jupyter-widgets/controls",
            "_view_module_version": "1.5.0",
            "_view_name": "HTMLView",
            "description": "",
            "description_tooltip": null,
            "layout": "IPY_MODEL_26921cabbc02435494d06d62b6d7eebb",
            "placeholder": "​",
            "style": "IPY_MODEL_3d0d72232a994166bda0b150304cf21e",
            "value": " 1000/1000 [05:30&lt;00:00,  3.19it/s]"
          }
        },
        "e3b0efba31e6446fb7e0635114d7b5c0": {
          "model_module": "@jupyter-widgets/base",
          "model_name": "LayoutModel",
          "model_module_version": "1.2.0",
          "state": {
            "_model_module": "@jupyter-widgets/base",
            "_model_module_version": "1.2.0",
            "_model_name": "LayoutModel",
            "_view_count": null,
            "_view_module": "@jupyter-widgets/base",
            "_view_module_version": "1.2.0",
            "_view_name": "LayoutView",
            "align_content": null,
            "align_items": null,
            "align_self": null,
            "border": null,
            "bottom": null,
            "display": null,
            "flex": null,
            "flex_flow": null,
            "grid_area": null,
            "grid_auto_columns": null,
            "grid_auto_flow": null,
            "grid_auto_rows": null,
            "grid_column": null,
            "grid_gap": null,
            "grid_row": null,
            "grid_template_areas": null,
            "grid_template_columns": null,
            "grid_template_rows": null,
            "height": null,
            "justify_content": null,
            "justify_items": null,
            "left": null,
            "margin": null,
            "max_height": null,
            "max_width": null,
            "min_height": null,
            "min_width": null,
            "object_fit": null,
            "object_position": null,
            "order": null,
            "overflow": null,
            "overflow_x": null,
            "overflow_y": null,
            "padding": null,
            "right": null,
            "top": null,
            "visibility": null,
            "width": null
          }
        },
        "228fa8a54e7d4e779b194c31a45e4f4c": {
          "model_module": "@jupyter-widgets/base",
          "model_name": "LayoutModel",
          "model_module_version": "1.2.0",
          "state": {
            "_model_module": "@jupyter-widgets/base",
            "_model_module_version": "1.2.0",
            "_model_name": "LayoutModel",
            "_view_count": null,
            "_view_module": "@jupyter-widgets/base",
            "_view_module_version": "1.2.0",
            "_view_name": "LayoutView",
            "align_content": null,
            "align_items": null,
            "align_self": null,
            "border": null,
            "bottom": null,
            "display": null,
            "flex": null,
            "flex_flow": null,
            "grid_area": null,
            "grid_auto_columns": null,
            "grid_auto_flow": null,
            "grid_auto_rows": null,
            "grid_column": null,
            "grid_gap": null,
            "grid_row": null,
            "grid_template_areas": null,
            "grid_template_columns": null,
            "grid_template_rows": null,
            "height": null,
            "justify_content": null,
            "justify_items": null,
            "left": null,
            "margin": null,
            "max_height": null,
            "max_width": null,
            "min_height": null,
            "min_width": null,
            "object_fit": null,
            "object_position": null,
            "order": null,
            "overflow": null,
            "overflow_x": null,
            "overflow_y": null,
            "padding": null,
            "right": null,
            "top": null,
            "visibility": null,
            "width": null
          }
        },
        "3c27bbcd349a4ed6ba9d8fd97741f0c7": {
          "model_module": "@jupyter-widgets/controls",
          "model_name": "DescriptionStyleModel",
          "model_module_version": "1.5.0",
          "state": {
            "_model_module": "@jupyter-widgets/controls",
            "_model_module_version": "1.5.0",
            "_model_name": "DescriptionStyleModel",
            "_view_count": null,
            "_view_module": "@jupyter-widgets/base",
            "_view_module_version": "1.2.0",
            "_view_name": "StyleView",
            "description_width": ""
          }
        },
        "72ea299d28a24779a1f3e69718c44392": {
          "model_module": "@jupyter-widgets/base",
          "model_name": "LayoutModel",
          "model_module_version": "1.2.0",
          "state": {
            "_model_module": "@jupyter-widgets/base",
            "_model_module_version": "1.2.0",
            "_model_name": "LayoutModel",
            "_view_count": null,
            "_view_module": "@jupyter-widgets/base",
            "_view_module_version": "1.2.0",
            "_view_name": "LayoutView",
            "align_content": null,
            "align_items": null,
            "align_self": null,
            "border": null,
            "bottom": null,
            "display": null,
            "flex": null,
            "flex_flow": null,
            "grid_area": null,
            "grid_auto_columns": null,
            "grid_auto_flow": null,
            "grid_auto_rows": null,
            "grid_column": null,
            "grid_gap": null,
            "grid_row": null,
            "grid_template_areas": null,
            "grid_template_columns": null,
            "grid_template_rows": null,
            "height": null,
            "justify_content": null,
            "justify_items": null,
            "left": null,
            "margin": null,
            "max_height": null,
            "max_width": null,
            "min_height": null,
            "min_width": null,
            "object_fit": null,
            "object_position": null,
            "order": null,
            "overflow": null,
            "overflow_x": null,
            "overflow_y": null,
            "padding": null,
            "right": null,
            "top": null,
            "visibility": null,
            "width": null
          }
        },
        "2d4c8d1e1a774eebba718d778f1a2e91": {
          "model_module": "@jupyter-widgets/controls",
          "model_name": "ProgressStyleModel",
          "model_module_version": "1.5.0",
          "state": {
            "_model_module": "@jupyter-widgets/controls",
            "_model_module_version": "1.5.0",
            "_model_name": "ProgressStyleModel",
            "_view_count": null,
            "_view_module": "@jupyter-widgets/base",
            "_view_module_version": "1.2.0",
            "_view_name": "StyleView",
            "bar_color": null,
            "description_width": ""
          }
        },
        "26921cabbc02435494d06d62b6d7eebb": {
          "model_module": "@jupyter-widgets/base",
          "model_name": "LayoutModel",
          "model_module_version": "1.2.0",
          "state": {
            "_model_module": "@jupyter-widgets/base",
            "_model_module_version": "1.2.0",
            "_model_name": "LayoutModel",
            "_view_count": null,
            "_view_module": "@jupyter-widgets/base",
            "_view_module_version": "1.2.0",
            "_view_name": "LayoutView",
            "align_content": null,
            "align_items": null,
            "align_self": null,
            "border": null,
            "bottom": null,
            "display": null,
            "flex": null,
            "flex_flow": null,
            "grid_area": null,
            "grid_auto_columns": null,
            "grid_auto_flow": null,
            "grid_auto_rows": null,
            "grid_column": null,
            "grid_gap": null,
            "grid_row": null,
            "grid_template_areas": null,
            "grid_template_columns": null,
            "grid_template_rows": null,
            "height": null,
            "justify_content": null,
            "justify_items": null,
            "left": null,
            "margin": null,
            "max_height": null,
            "max_width": null,
            "min_height": null,
            "min_width": null,
            "object_fit": null,
            "object_position": null,
            "order": null,
            "overflow": null,
            "overflow_x": null,
            "overflow_y": null,
            "padding": null,
            "right": null,
            "top": null,
            "visibility": null,
            "width": null
          }
        },
        "3d0d72232a994166bda0b150304cf21e": {
          "model_module": "@jupyter-widgets/controls",
          "model_name": "DescriptionStyleModel",
          "model_module_version": "1.5.0",
          "state": {
            "_model_module": "@jupyter-widgets/controls",
            "_model_module_version": "1.5.0",
            "_model_name": "DescriptionStyleModel",
            "_view_count": null,
            "_view_module": "@jupyter-widgets/base",
            "_view_module_version": "1.2.0",
            "_view_name": "StyleView",
            "description_width": ""
          }
        }
      }
    }
  },
  "nbformat": 4,
  "nbformat_minor": 0
}